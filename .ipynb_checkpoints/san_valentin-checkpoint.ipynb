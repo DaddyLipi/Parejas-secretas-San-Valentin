{
 "cells": [
  {
   "cell_type": "code",
   "execution_count": 1,
   "metadata": {
    "id": "ytI9n-CGyytL"
   },
   "outputs": [],
   "source": [
    "import pandas as pd\n",
    "import json\n",
    "from pandas.compat import numpy"
   ]
  },
  {
   "cell_type": "code",
   "execution_count": 2,
   "metadata": {
    "id": "U6hxUcA0y5Hj"
   },
   "outputs": [],
   "source": [
    "out_colnames = [\n",
    "    \"orientacion\",\n",
    "    \"genero\",\n",
    "    \"telefono\",\n",
    "    \"mascota\",\n",
    "    \"signo\",\n",
    "    \"entretenimiento\",\n",
    "    \"pasatiempo\",\n",
    "    \"personalidad\",\n",
    "    \"peliculas\",\n",
    "    \"comida\",\n",
    "    \"loteria\",\n",
    "    \"bebida\",\n",
    "    \"b_alcoholica\",\n",
    "    \"viaje\",\n",
    "    \"musica\",\n",
    "    \"prioridad_pareja\",\n",
    "    \"terapia\",\n",
    "    \"nombre\",\n",
    "]"
   ]
  },
  {
   "cell_type": "code",
   "execution_count": 3,
   "metadata": {
    "colab": {
     "base_uri": "https://localhost:8080/"
    },
    "id": "_tO8QfSRzEVU",
    "outputId": "1d008c7b-be85-4fee-d7f2-d8527f239e15"
   },
   "outputs": [
    {
     "name": "stdout",
     "output_type": "stream",
     "text": [
      "18\n"
     ]
    }
   ],
   "source": [
    "print(len(out_colnames))"
   ]
  },
  {
   "cell_type": "code",
   "execution_count": 4,
   "metadata": {
    "id": "ciNvPENZzFlL"
   },
   "outputs": [],
   "source": [
    "# extract pais users\n",
    "def extract_tokens(df):\n",
    "    out = df.dropna()\n",
    "    return out"
   ]
  },
  {
   "cell_type": "code",
   "execution_count": 5,
   "metadata": {
    "id": "OTrWuyu1zFtX"
   },
   "outputs": [],
   "source": [
    "# remove unused columns\n",
    "\n",
    "\n",
    "def clean_df(df):\n",
    "    del df[\"Marca temporal\"]\n",
    "    del df[\"Token\"]\n",
    "    return df\n"
   ]
  },
  {
   "cell_type": "code",
   "execution_count": 7,
   "metadata": {
    "id": "2sQNLwPozFxf"
   },
   "outputs": [],
   "source": [
    "# rename columns\n",
    "def rename_columns(df, in_colnames, out_colnames):\n",
    "    n = len(in_colnames)\n",
    "    for i in range(n):\n",
    "        df.rename(columns={in_colnames[i]: out_colnames[i]}, inplace=True)"
   ]
  },
  {
   "cell_type": "code",
   "execution_count": 9,
   "metadata": {
    "colab": {
     "base_uri": "https://localhost:8080/",
     "height": 1000
    },
    "id": "LUDqoGElzFz1",
    "outputId": "50ca4862-515f-48e1-89d8-ddcb88015636"
   },
   "outputs": [
    {
     "data": {
      "text/html": [
       "<div>\n",
       "<style scoped>\n",
       "    .dataframe tbody tr th:only-of-type {\n",
       "        vertical-align: middle;\n",
       "    }\n",
       "\n",
       "    .dataframe tbody tr th {\n",
       "        vertical-align: top;\n",
       "    }\n",
       "\n",
       "    .dataframe thead th {\n",
       "        text-align: right;\n",
       "    }\n",
       "</style>\n",
       "<table border=\"1\" class=\"dataframe\">\n",
       "  <thead>\n",
       "    <tr style=\"text-align: right;\">\n",
       "      <th></th>\n",
       "      <th>Orientación Sexual</th>\n",
       "      <th>Genero</th>\n",
       "      <th>Teléfono para contacto</th>\n",
       "      <th>¿Qué mascota prefieres?</th>\n",
       "      <th>¿Qué signo del horóscopo eres?</th>\n",
       "      <th>¿Mejor forma de entretenimiento?</th>\n",
       "      <th>¿Dónde prefieres pasar el tiempo?</th>\n",
       "      <th>¿Cómo defines tu personalidad?</th>\n",
       "      <th>¿Mejor franquicia?</th>\n",
       "      <th>¿Preferencia de comida?</th>\n",
       "      <th>¿Qué harías si ganas la lotería?</th>\n",
       "      <th>Bebida preferida</th>\n",
       "      <th>Bebida alcohólica preferida</th>\n",
       "      <th>¿Dónde prefieres viajar?</th>\n",
       "      <th>¿Qué estilo de musical escuchas?</th>\n",
       "      <th>¿Qué es lo mas importante en una persona?</th>\n",
       "      <th>¿Qué haces si estas triste?</th>\n",
       "      <th>Nombre y apellido completo</th>\n",
       "    </tr>\n",
       "  </thead>\n",
       "  <tbody>\n",
       "    <tr>\n",
       "      <th>0</th>\n",
       "      <td>Heterosexual</td>\n",
       "      <td>Hombre</td>\n",
       "      <td>314159265357278</td>\n",
       "      <td>Perros</td>\n",
       "      <td>Virgo</td>\n",
       "      <td>Videojuegos</td>\n",
       "      <td>Interior(Cines, en casa, etc.)</td>\n",
       "      <td>Introvertido</td>\n",
       "      <td>MCU(Marvel)</td>\n",
       "      <td>Dulces</td>\n",
       "      <td>Invertirlo</td>\n",
       "      <td>Soda</td>\n",
       "      <td>(Ron, vodka, Tequila, singani) y sus cocteles</td>\n",
       "      <td>Asia</td>\n",
       "      <td>Rock español/ingles</td>\n",
       "      <td>Dinero/estatus social</td>\n",
       "      <td>Entretenimiento(Peliculas, series, musica)</td>\n",
       "      <td>gigachad</td>\n",
       "    </tr>\n",
       "    <tr>\n",
       "      <th>1</th>\n",
       "      <td>Heterosexual</td>\n",
       "      <td>Hombre</td>\n",
       "      <td>68969696</td>\n",
       "      <td>Perros</td>\n",
       "      <td>Libra</td>\n",
       "      <td>Videojuegos</td>\n",
       "      <td>Interior(Cines, en casa, etc.)</td>\n",
       "      <td>Extrovertido pero timido</td>\n",
       "      <td>MCU(Marvel)</td>\n",
       "      <td>Dulces</td>\n",
       "      <td>Gastarlo en familia y en ti</td>\n",
       "      <td>Soda</td>\n",
       "      <td>Cerveza</td>\n",
       "      <td>Asia</td>\n",
       "      <td>Pop en ingles</td>\n",
       "      <td>Sentido del humor</td>\n",
       "      <td>Entretenimiento(Peliculas, series, musica)</td>\n",
       "      <td>Nicolas Cari</td>\n",
       "    </tr>\n",
       "    <tr>\n",
       "      <th>2</th>\n",
       "      <td>Heterosexual</td>\n",
       "      <td>Hombre</td>\n",
       "      <td>72849649</td>\n",
       "      <td>Perros</td>\n",
       "      <td>Geminis</td>\n",
       "      <td>Peliculas</td>\n",
       "      <td>Interior(Cines, en casa, etc.)</td>\n",
       "      <td>Introvertido pero abierto a nuevas experiencias</td>\n",
       "      <td>MCU(Marvel)</td>\n",
       "      <td>Salado</td>\n",
       "      <td>Gastarlo en familia y en ti</td>\n",
       "      <td>Cafe</td>\n",
       "      <td>Licores dulces(Jagger, 3 plumas, goss cake, etc)</td>\n",
       "      <td>Asia</td>\n",
       "      <td>Pop latino/reguetón</td>\n",
       "      <td>Limpieza</td>\n",
       "      <td>Ejercicio</td>\n",
       "      <td>gabriel balderrama</td>\n",
       "    </tr>\n",
       "    <tr>\n",
       "      <th>3</th>\n",
       "      <td>Homosexual</td>\n",
       "      <td>Hombre</td>\n",
       "      <td>1</td>\n",
       "      <td>Reptiles</td>\n",
       "      <td>Aries</td>\n",
       "      <td>Series</td>\n",
       "      <td>Exterior(Parques, restaurantes, etc.)</td>\n",
       "      <td>Introvertido</td>\n",
       "      <td>Distopica juvenil(Juegos del hambre, maze runn...</td>\n",
       "      <td>No tengo preferencia</td>\n",
       "      <td>Gastarlo en familia y en ti</td>\n",
       "      <td>Soda</td>\n",
       "      <td>Guarapo</td>\n",
       "      <td>Europa</td>\n",
       "      <td>Rock español/ingles</td>\n",
       "      <td>Sentido del humor</td>\n",
       "      <td>Busco alguien para desahogarme</td>\n",
       "      <td>1</td>\n",
       "    </tr>\n",
       "    <tr>\n",
       "      <th>4</th>\n",
       "      <td>Heterosexual</td>\n",
       "      <td>Hombre</td>\n",
       "      <td>1</td>\n",
       "      <td>Gatos</td>\n",
       "      <td>Aries</td>\n",
       "      <td>Series</td>\n",
       "      <td>Exterior(Parques, restaurantes, etc.)</td>\n",
       "      <td>Introvertido</td>\n",
       "      <td>Piratas del caribe</td>\n",
       "      <td>Dulces</td>\n",
       "      <td>Viajar por el mundo</td>\n",
       "      <td>Cafe</td>\n",
       "      <td>Guarapo</td>\n",
       "      <td>Europa</td>\n",
       "      <td>Pop latino/reguetón</td>\n",
       "      <td>Limpieza</td>\n",
       "      <td>Entretenimiento(Peliculas, series, musica)</td>\n",
       "      <td>2</td>\n",
       "    </tr>\n",
       "    <tr>\n",
       "      <th>...</th>\n",
       "      <td>...</td>\n",
       "      <td>...</td>\n",
       "      <td>...</td>\n",
       "      <td>...</td>\n",
       "      <td>...</td>\n",
       "      <td>...</td>\n",
       "      <td>...</td>\n",
       "      <td>...</td>\n",
       "      <td>...</td>\n",
       "      <td>...</td>\n",
       "      <td>...</td>\n",
       "      <td>...</td>\n",
       "      <td>...</td>\n",
       "      <td>...</td>\n",
       "      <td>...</td>\n",
       "      <td>...</td>\n",
       "      <td>...</td>\n",
       "      <td>...</td>\n",
       "    </tr>\n",
       "    <tr>\n",
       "      <th>94</th>\n",
       "      <td>Heterosexual</td>\n",
       "      <td>Mujer</td>\n",
       "      <td>1</td>\n",
       "      <td>Aves</td>\n",
       "      <td>Capricornio</td>\n",
       "      <td>Peliculas</td>\n",
       "      <td>Interior(Cines, en casa, etc.)</td>\n",
       "      <td>Introvertido pero abierto a nuevas experiencias</td>\n",
       "      <td>MCU(Marvel)</td>\n",
       "      <td>Ambos juntos</td>\n",
       "      <td>Hacer caridad</td>\n",
       "      <td>Agua</td>\n",
       "      <td>No tomo</td>\n",
       "      <td>Asia</td>\n",
       "      <td>Cumbiones/Nacional</td>\n",
       "      <td>Madurez</td>\n",
       "      <td>Busco alguien para desahogarme</td>\n",
       "      <td>92</td>\n",
       "    </tr>\n",
       "    <tr>\n",
       "      <th>95</th>\n",
       "      <td>Homosexual</td>\n",
       "      <td>Hombre</td>\n",
       "      <td>1</td>\n",
       "      <td>Mucha responsabilidad</td>\n",
       "      <td>Virgo</td>\n",
       "      <td>Peliculas</td>\n",
       "      <td>Exterior(Parques, restaurantes, etc.)</td>\n",
       "      <td>Extrovertido pero timido</td>\n",
       "      <td>Star wars</td>\n",
       "      <td>No tengo preferencia</td>\n",
       "      <td>Invertirlo</td>\n",
       "      <td>Jugos de fruta</td>\n",
       "      <td>Cerveza</td>\n",
       "      <td>Estados unidos</td>\n",
       "      <td>Pop latino/reguetón</td>\n",
       "      <td>Dinero/estatus social</td>\n",
       "      <td>Como mis penas</td>\n",
       "      <td>93</td>\n",
       "    </tr>\n",
       "    <tr>\n",
       "      <th>96</th>\n",
       "      <td>Heterosexual</td>\n",
       "      <td>Mujer</td>\n",
       "      <td>1</td>\n",
       "      <td>Perros</td>\n",
       "      <td>Escorpio</td>\n",
       "      <td>Videojuegos</td>\n",
       "      <td>Interior(Cines, en casa, etc.)</td>\n",
       "      <td>Introvertido pero abierto a nuevas experiencias</td>\n",
       "      <td>Harry potter</td>\n",
       "      <td>Dulces</td>\n",
       "      <td>Hacer caridad</td>\n",
       "      <td>Te</td>\n",
       "      <td>Licores dulces(Jagger, 3 plumas, goss cake, etc)</td>\n",
       "      <td>El caribe</td>\n",
       "      <td>Cumbiones/Nacional</td>\n",
       "      <td>Madurez</td>\n",
       "      <td>Ejercicio</td>\n",
       "      <td>94</td>\n",
       "    </tr>\n",
       "    <tr>\n",
       "      <th>97</th>\n",
       "      <td>Heterosexual</td>\n",
       "      <td>Hombre</td>\n",
       "      <td>1</td>\n",
       "      <td>Gatos</td>\n",
       "      <td>Capricornio</td>\n",
       "      <td>Videojuegos</td>\n",
       "      <td>Exterior(Parques, restaurantes, etc.)</td>\n",
       "      <td>Introvertido pero abierto a nuevas experiencias</td>\n",
       "      <td>Piratas del caribe</td>\n",
       "      <td>Dulces</td>\n",
       "      <td>Hacer caridad</td>\n",
       "      <td>Cafe</td>\n",
       "      <td>No tomo</td>\n",
       "      <td>Asia</td>\n",
       "      <td>Pop en ingles</td>\n",
       "      <td>Madurez</td>\n",
       "      <td>Vivo con el dolor</td>\n",
       "      <td>95</td>\n",
       "    </tr>\n",
       "    <tr>\n",
       "      <th>98</th>\n",
       "      <td>Heterosexual</td>\n",
       "      <td>Hombre</td>\n",
       "      <td>1</td>\n",
       "      <td>Perros</td>\n",
       "      <td>Tauro</td>\n",
       "      <td>Peliculas</td>\n",
       "      <td>Exterior(Parques, restaurantes, etc.)</td>\n",
       "      <td>Extrovertido</td>\n",
       "      <td>Harry potter</td>\n",
       "      <td>Dulces</td>\n",
       "      <td>Viajar por el mundo</td>\n",
       "      <td>Te</td>\n",
       "      <td>Guarapo</td>\n",
       "      <td>Asia</td>\n",
       "      <td>Rock español/ingles</td>\n",
       "      <td>Limpieza</td>\n",
       "      <td>Vivo con el dolor</td>\n",
       "      <td>96</td>\n",
       "    </tr>\n",
       "  </tbody>\n",
       "</table>\n",
       "<p>99 rows × 18 columns</p>\n",
       "</div>"
      ],
      "text/plain": [
       "   Orientación Sexual  Genero  Teléfono para contacto  \\\n",
       "0        Heterosexual  Hombre         314159265357278   \n",
       "1        Heterosexual  Hombre                68969696   \n",
       "2        Heterosexual  Hombre                72849649   \n",
       "3          Homosexual  Hombre                       1   \n",
       "4        Heterosexual  Hombre                       1   \n",
       "..                ...     ...                     ...   \n",
       "94       Heterosexual   Mujer                       1   \n",
       "95         Homosexual  Hombre                       1   \n",
       "96       Heterosexual   Mujer                       1   \n",
       "97       Heterosexual  Hombre                       1   \n",
       "98       Heterosexual  Hombre                       1   \n",
       "\n",
       "   ¿Qué mascota prefieres?  ¿Qué signo del horóscopo eres?  \\\n",
       "0                    Perros                          Virgo   \n",
       "1                    Perros                          Libra   \n",
       "2                    Perros                        Geminis   \n",
       "3                  Reptiles                          Aries   \n",
       "4                     Gatos                          Aries   \n",
       "..                      ...                            ...   \n",
       "94                     Aves                    Capricornio   \n",
       "95    Mucha responsabilidad                          Virgo   \n",
       "96                   Perros                       Escorpio   \n",
       "97                    Gatos                    Capricornio   \n",
       "98                   Perros                          Tauro   \n",
       "\n",
       "   ¿Mejor forma de entretenimiento?      ¿Dónde prefieres pasar el tiempo?  \\\n",
       "0                       Videojuegos         Interior(Cines, en casa, etc.)   \n",
       "1                       Videojuegos         Interior(Cines, en casa, etc.)   \n",
       "2                         Peliculas         Interior(Cines, en casa, etc.)   \n",
       "3                            Series  Exterior(Parques, restaurantes, etc.)   \n",
       "4                            Series  Exterior(Parques, restaurantes, etc.)   \n",
       "..                              ...                                    ...   \n",
       "94                        Peliculas         Interior(Cines, en casa, etc.)   \n",
       "95                        Peliculas  Exterior(Parques, restaurantes, etc.)   \n",
       "96                      Videojuegos         Interior(Cines, en casa, etc.)   \n",
       "97                      Videojuegos  Exterior(Parques, restaurantes, etc.)   \n",
       "98                        Peliculas  Exterior(Parques, restaurantes, etc.)   \n",
       "\n",
       "                     ¿Cómo defines tu personalidad?  \\\n",
       "0                                      Introvertido   \n",
       "1                          Extrovertido pero timido   \n",
       "2   Introvertido pero abierto a nuevas experiencias   \n",
       "3                                      Introvertido   \n",
       "4                                      Introvertido   \n",
       "..                                              ...   \n",
       "94  Introvertido pero abierto a nuevas experiencias   \n",
       "95                         Extrovertido pero timido   \n",
       "96  Introvertido pero abierto a nuevas experiencias   \n",
       "97  Introvertido pero abierto a nuevas experiencias   \n",
       "98                                     Extrovertido   \n",
       "\n",
       "                                  ¿Mejor franquicia?  ¿Preferencia de comida?  \\\n",
       "0                                         MCU(Marvel)                  Dulces   \n",
       "1                                         MCU(Marvel)                  Dulces   \n",
       "2                                         MCU(Marvel)                  Salado   \n",
       "3   Distopica juvenil(Juegos del hambre, maze runn...    No tengo preferencia   \n",
       "4                                  Piratas del caribe                  Dulces   \n",
       "..                                                ...                     ...   \n",
       "94                                        MCU(Marvel)            Ambos juntos   \n",
       "95                                          Star wars    No tengo preferencia   \n",
       "96                                       Harry potter                  Dulces   \n",
       "97                                 Piratas del caribe                  Dulces   \n",
       "98                                       Harry potter                  Dulces   \n",
       "\n",
       "   ¿Qué harías si ganas la lotería? Bebida preferida  \\\n",
       "0                        Invertirlo             Soda   \n",
       "1       Gastarlo en familia y en ti             Soda   \n",
       "2       Gastarlo en familia y en ti             Cafe   \n",
       "3       Gastarlo en familia y en ti             Soda   \n",
       "4               Viajar por el mundo             Cafe   \n",
       "..                              ...              ...   \n",
       "94                    Hacer caridad             Agua   \n",
       "95                       Invertirlo   Jugos de fruta   \n",
       "96                    Hacer caridad               Te   \n",
       "97                    Hacer caridad             Cafe   \n",
       "98              Viajar por el mundo               Te   \n",
       "\n",
       "                         Bebida alcohólica preferida ¿Dónde prefieres viajar?  \\\n",
       "0      (Ron, vodka, Tequila, singani) y sus cocteles                     Asia   \n",
       "1                                            Cerveza                     Asia   \n",
       "2   Licores dulces(Jagger, 3 plumas, goss cake, etc)                     Asia   \n",
       "3                                            Guarapo                   Europa   \n",
       "4                                            Guarapo                   Europa   \n",
       "..                                               ...                      ...   \n",
       "94                                           No tomo                     Asia   \n",
       "95                                           Cerveza           Estados unidos   \n",
       "96  Licores dulces(Jagger, 3 plumas, goss cake, etc)                El caribe   \n",
       "97                                           No tomo                     Asia   \n",
       "98                                           Guarapo                     Asia   \n",
       "\n",
       "   ¿Qué estilo de musical escuchas? ¿Qué es lo mas importante en una persona?  \\\n",
       "0               Rock español/ingles                     Dinero/estatus social   \n",
       "1                     Pop en ingles                         Sentido del humor   \n",
       "2               Pop latino/reguetón                                  Limpieza   \n",
       "3               Rock español/ingles                         Sentido del humor   \n",
       "4               Pop latino/reguetón                                  Limpieza   \n",
       "..                              ...                                       ...   \n",
       "94               Cumbiones/Nacional                                   Madurez   \n",
       "95              Pop latino/reguetón                     Dinero/estatus social   \n",
       "96               Cumbiones/Nacional                                   Madurez   \n",
       "97                    Pop en ingles                                   Madurez   \n",
       "98              Rock español/ingles                                  Limpieza   \n",
       "\n",
       "                   ¿Qué haces si estas triste? Nombre y apellido completo  \n",
       "0   Entretenimiento(Peliculas, series, musica)                   gigachad  \n",
       "1   Entretenimiento(Peliculas, series, musica)               Nicolas Cari  \n",
       "2                                    Ejercicio         gabriel balderrama  \n",
       "3               Busco alguien para desahogarme                          1  \n",
       "4   Entretenimiento(Peliculas, series, musica)                          2  \n",
       "..                                         ...                        ...  \n",
       "94              Busco alguien para desahogarme                         92  \n",
       "95                              Como mis penas                         93  \n",
       "96                                   Ejercicio                         94  \n",
       "97                           Vivo con el dolor                         95  \n",
       "98                           Vivo con el dolor                         96  \n",
       "\n",
       "[99 rows x 18 columns]"
      ]
     },
     "execution_count": 9,
     "metadata": {},
     "output_type": "execute_result"
    }
   ],
   "source": [
    "df = pd.read_csv(\"respuestas_tokens.tsv\", sep=\"\\t\")\n",
    "paid_users = extract_tokens(df)\n",
    "clean_df(paid_users)"
   ]
  },
  {
   "cell_type": "code",
   "execution_count": 10,
   "metadata": {
    "colab": {
     "base_uri": "https://localhost:8080/"
    },
    "id": "KWBH6VROzF12",
    "outputId": "9fcd064b-317e-4ec7-f22d-db4f79089696"
   },
   "outputs": [
    {
     "name": "stdout",
     "output_type": "stream",
     "text": [
      "18\n"
     ]
    }
   ],
   "source": [
    "in_colnames = list(paid_users.columns)\n",
    "print(len(in_colnames))"
   ]
  },
  {
   "cell_type": "code",
   "execution_count": 11,
   "metadata": {
    "id": "RWNT9dbszXGf"
   },
   "outputs": [],
   "source": [
    "rename_columns(paid_users, in_colnames, out_colnames)"
   ]
  },
  {
   "cell_type": "code",
   "execution_count": 12,
   "metadata": {
    "id": "gXVkLCEMzX_6"
   },
   "outputs": [],
   "source": [
    "myjson = paid_users.to_json(orient=\"records\")"
   ]
  },
  {
   "cell_type": "code",
   "execution_count": null,
   "metadata": {
    "id": "8H-rFUnPzZYo"
   },
   "outputs": [],
   "source": [
    "#hacer correr solo 1 vez cada vez que se entra al google colab\n",
    "#with open(\"users.json\", \"w\", encoding=\"utf-8\") as output_file: \n",
    "    #output_file.write(myjson)"
   ]
  },
  {
   "cell_type": "code",
   "execution_count": 13,
   "metadata": {
    "colab": {
     "base_uri": "https://localhost:8080/",
     "height": 174
    },
    "id": "hIKsFD8M1iXL",
    "outputId": "b6ac39b0-94a4-44b0-b581-24dac23c2429"
   },
   "outputs": [
    {
     "data": {
      "text/plain": [
       "'[{\"orientacion\":\"Heterosexual\",\"genero\":\"Hombre\",\"telefono\":314159265357278,\"mascota\":\"Perros\",\"signo\":\"Virgo\",\"entretenimiento\":\"Videojuegos\",\"pasatiempo\":\"Interior(Cines, en casa, etc.)\",\"personalidad\":\"Introvertido\",\"peliculas\":\"MCU(Marvel)\",\"comida\":\"Dulces\",\"loteria\":\"Invertirlo\",\"bebida\":\"Soda\",\"b_alcoholica\":\"(Ron, vodka, Tequila, singani) y sus cocteles\",\"viaje\":\"Asia\",\"musica\":\"Rock espa\\\\u00f1ol\\\\/ingles\",\"prioridad_pareja\":\"Dinero\\\\/estatus social\",\"terapia\":\"Entretenimiento(Peliculas, series, musica)\",\"nombre\":\"gigachad\"},{\"orientacion\":\"Heterosexual\",\"genero\":\"Hombre\",\"telefono\":68969696,\"mascota\":\"Perros\",\"signo\":\"Libra\",\"entretenimiento\":\"Videojuegos\",\"pasatiempo\":\"Interior(Cines, en casa, etc.)\",\"personalidad\":\"Extrovertido pero timido\",\"peliculas\":\"MCU(Marvel)\",\"comida\":\"Dulces\",\"loteria\":\"Gastarlo en familia y en ti\",\"bebida\":\"Soda\",\"b_alcoholica\":\"Cerveza\",\"viaje\":\"Asia\",\"musica\":\"Pop en ingles\",\"prioridad_pareja\":\"Sentido del humor\",\"terapia\":\"Entretenimiento(Peliculas, series, musica)\",\"nombre\":\"Nicolas Cari\"},{\"orientacion\":\"Heterosexual\",\"genero\":\"Hombre\",\"telefono\":72849649,\"mascota\":\"Perros\",\"signo\":\"Geminis\",\"entretenimiento\":\"Peliculas\",\"pasatiempo\":\"Interior(Cines, en casa, etc.)\",\"personalidad\":\"Introvertido pero abierto a nuevas experiencias\",\"peliculas\":\"MCU(Marvel)\",\"comida\":\"Salado\",\"loteria\":\"Gastarlo en familia y en ti\",\"bebida\":\"Cafe\",\"b_alcoholica\":\"Licores dulces(Jagger, 3 plumas, goss cake, etc)\",\"viaje\":\"Asia\",\"musica\":\"Pop latino\\\\/reguet\\\\u00f3n\",\"prioridad_pareja\":\"Limpieza\",\"terapia\":\"Ejercicio\",\"nombre\":\"gabriel balderrama\"},{\"orientacion\":\"Homosexual\",\"genero\":\"Hombre\",\"telefono\":1,\"mascota\":\"Reptiles\",\"signo\":\"Aries\",\"entretenimiento\":\"Series\",\"pasatiempo\":\"Exterior(Parques, restaurantes, etc.)\",\"personalidad\":\"Introvertido\",\"peliculas\":\"Distopica juvenil(Juegos del hambre, maze runner, etc)\",\"comida\":\"No tengo preferencia\",\"loteria\":\"Gastarlo en familia y en ti\",\"bebida\":\"Soda\",\"b_alcoholica\":\"Guarapo\",\"viaje\":\"Europa\",\"musica\":\"Rock espa\\\\u00f1ol\\\\/ingles\",\"prioridad_pareja\":\"Sentido del humor\",\"terapia\":\"Busco alguien para desahogarme\",\"nombre\":\"1\"},{\"orientacion\":\"Heterosexual\",\"genero\":\"Hombre\",\"telefono\":1,\"mascota\":\"Gatos\",\"signo\":\"Aries\",\"entretenimiento\":\"Series\",\"pasatiempo\":\"Exterior(Parques, restaurantes, etc.)\",\"personalidad\":\"Introvertido\",\"peliculas\":\"Piratas del caribe\",\"comida\":\"Dulces\",\"loteria\":\"Viajar por el mundo\",\"bebida\":\"Cafe\",\"b_alcoholica\":\"Guarapo\",\"viaje\":\"Europa\",\"musica\":\"Pop latino\\\\/reguet\\\\u00f3n\",\"prioridad_pareja\":\"Limpieza\",\"terapia\":\"Entretenimiento(Peliculas, series, musica)\",\"nombre\":\"2\"},{\"orientacion\":\"Heterosexual\",\"genero\":\"Mujer\",\"telefono\":1,\"mascota\":\"Aves\",\"signo\":\"Libra\",\"entretenimiento\":\"Peliculas\",\"pasatiempo\":\"Interior(Cines, en casa, etc.)\",\"personalidad\":\"Extrovertido pero timido\",\"peliculas\":\"MCU(Marvel)\",\"comida\":\"Salado\",\"loteria\":\"Invertirlo\",\"bebida\":\"Agua\",\"b_alcoholica\":\"Licores dulces(Jagger, 3 plumas, goss cake, etc)\",\"viaje\":\"Europa\",\"musica\":\"Alternativa\\\\/Indie\",\"prioridad_pareja\":\"Dinero\\\\/estatus social\",\"terapia\":\"Entretenimiento(Peliculas, series, musica)\",\"nombre\":\"3\"},{\"orientacion\":\"Heterosexual\",\"genero\":\"Mujer\",\"telefono\":1,\"mascota\":\"Gatos\",\"signo\":\"Acuario\",\"entretenimiento\":\"Series\",\"pasatiempo\":\"Interior(Cines, en casa, etc.)\",\"personalidad\":\"Introvertido\",\"peliculas\":\"Piratas del caribe\",\"comida\":\"Dulces\",\"loteria\":\"Gastarlo en familia y en ti\",\"bebida\":\"Cafe\",\"b_alcoholica\":\"(Ron, vodka, Tequila, singani) y sus cocteles\",\"viaje\":\"Estados unidos\",\"musica\":\"Alternativa\\\\/Indie\",\"prioridad_pareja\":\"Sentido del humor\",\"terapia\":\"Como mis penas\",\"nombre\":\"4\"},{\"orientacion\":\"Heterosexual\",\"genero\":\"Mujer\",\"telefono\":1,\"mascota\":\"Gatos\",\"signo\":\"Cancer\",\"entretenimiento\":\"Series\",\"pasatiempo\":\"Interior(Cines, en casa, etc.)\",\"personalidad\":\"Extrovertido\",\"peliculas\":\"Piratas del caribe\",\"comida\":\"Dulces\",\"loteria\":\"Hacer fiestas grandes\",\"bebida\":\"Cafe\",\"b_alcoholica\":\"Vino\",\"viaje\":\"Europa\",\"musica\":\"Cumbiones\\\\/Nacional\",\"prioridad_pareja\":\"Fisico\",\"terapia\":\"Busco alguien para desahogarme\",\"nombre\":\"5\"},{\"orientacion\":\"Homosexual\",\"genero\":\"Hombre\",\"telefono\":1,\"mascota\":\"Mucha responsabilidad\",\"signo\":\"Escorpio\",\"entretenimiento\":\"Series\",\"pasatiempo\":\"Exterior(Parques, restaurantes, etc.)\",\"personalidad\":\"Introvertido pero abierto a nuevas experiencias\",\"peliculas\":\"Star wars\",\"comida\":\"No tengo preferencia\",\"loteria\":\"Invertirlo\",\"bebida\":\"Jugos de fruta\",\"b_alcoholica\":\"Licores dulces(Jagger, 3 plumas, goss cake, etc)\",\"viaje\":\"Europa\",\"musica\":\"Pop latino\\\\/reguet\\\\u00f3n\",\"prioridad_pareja\":\"Dinero\\\\/estatus social\",\"terapia\":\"Busco alguien para desahogarme\",\"nombre\":\"6\"},{\"orientacion\":\"Heterosexual\",\"genero\":\"Hombre\",\"telefono\":1,\"mascota\":\"Aves\",\"signo\":\"Capricornio\",\"entretenimiento\":\"Videojuegos\",\"pasatiempo\":\"Exterior(Parques, restaurantes, etc.)\",\"personalidad\":\"Introvertido pero abierto a nuevas experiencias\",\"peliculas\":\"MCU(Marvel)\",\"comida\":\"Salado\",\"loteria\":\"Hacer caridad\",\"bebida\":\"Agua\",\"b_alcoholica\":\"No tomo\",\"viaje\":\"Europa\",\"musica\":\"Pop latino\\\\/reguet\\\\u00f3n\",\"prioridad_pareja\":\"Madurez\",\"terapia\":\"Vivo con el dolor\",\"nombre\":\"7\"},{\"orientacion\":\"Heterosexual\",\"genero\":\"Hombre\",\"telefono\":1,\"mascota\":\"Perros\",\"signo\":\"Virgo\",\"entretenimiento\":\"Series\",\"pasatiempo\":\"Exterior(Parques, restaurantes, etc.)\",\"personalidad\":\"Extrovertido pero timido\",\"peliculas\":\"Harry potter\",\"comida\":\"Salado\",\"loteria\":\"Hacer fiestas grandes\",\"bebida\":\"Te\",\"b_alcoholica\":\"Cerveza\",\"viaje\":\"Asia\",\"musica\":\"Rock espa\\\\u00f1ol\\\\/ingles\",\"prioridad_pareja\":\"Fisico\",\"terapia\":\"Como mis penas\",\"nombre\":\"8\"},{\"orientacion\":\"Homosexual\",\"genero\":\"Mujer\",\"telefono\":1,\"mascota\":\"Mucha responsabilidad\",\"signo\":\"Escorpio\",\"entretenimiento\":\"Libros\",\"pasatiempo\":\"Interior(Cines, en casa, etc.)\",\"personalidad\":\"Introvertido pero abierto a nuevas experiencias\",\"peliculas\":\"Star wars\",\"comida\":\"No tengo preferencia\",\"loteria\":\"Invertirlo\",\"bebida\":\"Jugos de fruta\",\"b_alcoholica\":\"Licores dulces(Jagger, 3 plumas, goss cake, etc)\",\"viaje\":\"Europa\",\"musica\":\"Cumbiones\\\\/Nacional\",\"prioridad_pareja\":\"Dinero\\\\/estatus social\",\"terapia\":\"Como mis penas\",\"nombre\":\"9\"},{\"orientacion\":\"Homosexual\",\"genero\":\"Mujer\",\"telefono\":1,\"mascota\":\"Mucha responsabilidad\",\"signo\":\"Capricornio\",\"entretenimiento\":\"Series\",\"pasatiempo\":\"Interior(Cines, en casa, etc.)\",\"personalidad\":\"Introvertido pero abierto a nuevas experiencias\",\"peliculas\":\"Star wars\",\"comida\":\"No tengo preferencia\",\"loteria\":\"Hacer caridad\",\"bebida\":\"Jugos de fruta\",\"b_alcoholica\":\"No tomo\",\"viaje\":\"Africa\",\"musica\":\"Cumbiones\\\\/Nacional\",\"prioridad_pareja\":\"Madurez\",\"terapia\":\"Entretenimiento(Peliculas, series, musica)\",\"nombre\":\"10\"},{\"orientacion\":\"Heterosexual\",\"genero\":\"Mujer\",\"telefono\":1,\"mascota\":\"Gatos\",\"signo\":\"Leo\",\"entretenimiento\":\"Peliculas\",\"pasatiempo\":\"Interior(Cines, en casa, etc.)\",\"personalidad\":\"Extrovertido pero timido\",\"peliculas\":\"Piratas del caribe\",\"comida\":\"Dulces\",\"loteria\":\"Hacer fiestas grandes\",\"bebida\":\"Cafe\",\"b_alcoholica\":\"Cerveza\",\"viaje\":\"El caribe\",\"musica\":\"Alternativa\\\\/Indie\",\"prioridad_pareja\":\"Fisico\",\"terapia\":\"Entretenimiento(Peliculas, series, musica)\",\"nombre\":\"11\"},{\"orientacion\":\"Homosexual\",\"genero\":\"Mujer\",\"telefono\":1,\"mascota\":\"Mucha responsabilidad\",\"signo\":\"Acuario\",\"entretenimiento\":\"Libros\",\"pasatiempo\":\"Interior(Cines, en casa, etc.)\",\"personalidad\":\"Introvertido\",\"peliculas\":\"Star wars\",\"comida\":\"No tengo preferencia\",\"loteria\":\"Gastarlo en familia y en ti\",\"bebida\":\"Jugos de fruta\",\"b_alcoholica\":\"(Ron, vodka, Tequila, singani) y sus cocteles\",\"viaje\":\"Estados unidos\",\"musica\":\"Alternativa\\\\/Indie\",\"prioridad_pareja\":\"Sentido del humor\",\"terapia\":\"Entretenimiento(Peliculas, series, musica)\",\"nombre\":\"12\"},{\"orientacion\":\"Heterosexual\",\"genero\":\"Mujer\",\"telefono\":1,\"mascota\":\"Perros\",\"signo\":\"Virgo\",\"entretenimiento\":\"Peliculas\",\"pasatiempo\":\"Interior(Cines, en casa, etc.)\",\"personalidad\":\"Extrovertido pero timido\",\"peliculas\":\"Harry potter\",\"comida\":\"Salado\",\"loteria\":\"Invertirlo\",\"bebida\":\"Te\",\"b_alcoholica\":\"Cerveza\",\"viaje\":\"Africa\",\"musica\":\"Alternativa\\\\/Indie\",\"prioridad_pareja\":\"Dinero\\\\/estatus social\",\"terapia\":\"Vivo con el dolor\",\"nombre\":\"13\"},{\"orientacion\":\"Heterosexual\",\"genero\":\"Hombre\",\"telefono\":1,\"mascota\":\"Gatos\",\"signo\":\"Geminis\",\"entretenimiento\":\"Videojuegos\",\"pasatiempo\":\"Exterior(Parques, restaurantes, etc.)\",\"personalidad\":\"Extrovertido\",\"peliculas\":\"Piratas del caribe\",\"comida\":\"Dulces\",\"loteria\":\"Viajar por el mundo\",\"bebida\":\"Cafe\",\"b_alcoholica\":\"Vino\",\"viaje\":\"Estados unidos\",\"musica\":\"Rock espa\\\\u00f1ol\\\\/ingles\",\"prioridad_pareja\":\"Limpieza\",\"terapia\":\"Ejercicio\",\"nombre\":\"14\"},{\"orientacion\":\"Homosexual\",\"genero\":\"Mujer\",\"telefono\":1,\"mascota\":\"Mucha responsabilidad\",\"signo\":\"Geminis\",\"entretenimiento\":\"Peliculas\",\"pasatiempo\":\"Interior(Cines, en casa, etc.)\",\"personalidad\":\"Extrovertido\",\"peliculas\":\"Star wars\",\"comida\":\"No tengo preferencia\",\"loteria\":\"Viajar por el mundo\",\"bebida\":\"Jugos de fruta\",\"b_alcoholica\":\"Vino\",\"viaje\":\"Asia\",\"musica\":\"Pop en ingles\",\"prioridad_pareja\":\"Limpieza\",\"terapia\":\"Busco alguien para desahogarme\",\"nombre\":\"15\"},{\"orientacion\":\"Homosexual\",\"genero\":\"Hombre\",\"telefono\":1,\"mascota\":\"Mucha responsabilidad\",\"signo\":\"Piscis\",\"entretenimiento\":\"Series\",\"pasatiempo\":\"Exterior(Parques, restaurantes, etc.)\",\"personalidad\":\"Introvertido\",\"peliculas\":\"Star wars\",\"comida\":\"No tengo preferencia\",\"loteria\":\"Gastarlo en familia y en ti\",\"bebida\":\"Jugos de fruta\",\"b_alcoholica\":\"(Ron, vodka, Tequila, singani) y sus cocteles\",\"viaje\":\"El caribe\",\"musica\":\"Pop latino\\\\/reguet\\\\u00f3n\",\"prioridad_pareja\":\"Sentido del humor\",\"terapia\":\"Vivo con el dolor\",\"nombre\":\"16\"},{\"orientacion\":\"Heterosexual\",\"genero\":\"Hombre\",\"telefono\":1,\"mascota\":\"Perros\",\"signo\":\"Piscis\",\"entretenimiento\":\"Peliculas\",\"pasatiempo\":\"Exterior(Parques, restaurantes, etc.)\",\"personalidad\":\"Introvertido\",\"peliculas\":\"Harry potter\",\"comida\":\"Salado\",\"loteria\":\"Gastarlo en familia y en ti\",\"bebida\":\"Te\",\"b_alcoholica\":\"(Ron, vodka, Tequila, singani) y sus cocteles\",\"viaje\":\"El caribe\",\"musica\":\"Rock espa\\\\u00f1ol\\\\/ingles\",\"prioridad_pareja\":\"Sentido del humor\",\"terapia\":\"Ejercicio\",\"nombre\":\"17\"},{\"orientacion\":\"Heterosexual\",\"genero\":\"Hombre\",\"telefono\":1,\"mascota\":\"Perros\",\"signo\":\"Tauro\",\"entretenimiento\":\"Libros\",\"pasatiempo\":\"Exterior(Parques, restaurantes, etc.)\",\"personalidad\":\"Extrovertido\",\"peliculas\":\"Harry potter\",\"comida\":\"Salado\",\"loteria\":\"Viajar por el mundo\",\"bebida\":\"Te\",\"b_alcoholica\":\"Guarapo\",\"viaje\":\"Estados unidos\",\"musica\":\"Pop en ingles\",\"prioridad_pareja\":\"Limpieza\",\"terapia\":\"Ejercicio\",\"nombre\":\"18\"},{\"orientacion\":\"Bisexual\",\"genero\":\"Hombre\",\"telefono\":1,\"mascota\":\"Reptiles\",\"signo\":\"Sagitario\",\"entretenimiento\":\"Series\",\"pasatiempo\":\"Exterior(Parques, restaurantes, etc.)\",\"personalidad\":\"Introvertido pero abierto a nuevas experiencias\",\"peliculas\":\"Distopica juvenil(Juegos del hambre, maze runner, etc)\",\"comida\":\"Ambos juntos\",\"loteria\":\"Hacer caridad\",\"bebida\":\"Soda\",\"b_alcoholica\":\"No tomo\",\"viaje\":\"Africa\",\"musica\":\"Pop en ingles\",\"prioridad_pareja\":\"Madurez\",\"terapia\":\"Vivo con el dolor\",\"nombre\":\"19\"},{\"orientacion\":\"Heterosexual\",\"genero\":\"Hombre\",\"telefono\":1,\"mascota\":\"Gatos\",\"signo\":\"Acuario\",\"entretenimiento\":\"Videojuegos\",\"pasatiempo\":\"Exterior(Parques, restaurantes, etc.)\",\"personalidad\":\"Introvertido\",\"peliculas\":\"Piratas del caribe\",\"comida\":\"Dulces\",\"loteria\":\"Gastarlo en familia y en ti\",\"bebida\":\"Cafe\",\"b_alcoholica\":\"(Ron, vodka, Tequila, singani) y sus cocteles\",\"viaje\":\"Europa\",\"musica\":\"Rock espa\\\\u00f1ol\\\\/ingles\",\"prioridad_pareja\":\"Sentido del humor\",\"terapia\":\"Ejercicio\",\"nombre\":\"20\"},{\"orientacion\":\"Homosexual\",\"genero\":\"Mujer\",\"telefono\":1,\"mascota\":\"Mucha responsabilidad\",\"signo\":\"Capricornio\",\"entretenimiento\":\"Libros\",\"pasatiempo\":\"Interior(Cines, en casa, etc.)\",\"personalidad\":\"Introvertido pero abierto a nuevas experiencias\",\"peliculas\":\"Star wars\",\"comida\":\"No tengo preferencia\",\"loteria\":\"Hacer caridad\",\"bebida\":\"Jugos de fruta\",\"b_alcoholica\":\"No tomo\",\"viaje\":\"Asia\",\"musica\":\"Pop en ingles\",\"prioridad_pareja\":\"Madurez\",\"terapia\":\"Ejercicio\",\"nombre\":\"21\"},{\"orientacion\":\"Heterosexual\",\"genero\":\"Mujer\",\"telefono\":1,\"mascota\":\"Perros\",\"signo\":\"Capricornio\",\"entretenimiento\":\"Series\",\"pasatiempo\":\"Interior(Cines, en casa, etc.)\",\"personalidad\":\"Introvertido pero abierto a nuevas experiencias\",\"peliculas\":\"Harry potter\",\"comida\":\"Salado\",\"loteria\":\"Hacer caridad\",\"bebida\":\"Te\",\"b_alcoholica\":\"No tomo\",\"viaje\":\"Africa\",\"musica\":\"Pop en ingles\",\"prioridad_pareja\":\"Madurez\",\"terapia\":\"Ejercicio\",\"nombre\":\"22\"},{\"orientacion\":\"Heterosexual\",\"genero\":\"Mujer\",\"telefono\":1,\"mascota\":\"Gatos\",\"signo\":\"Virgo\",\"entretenimiento\":\"Videojuegos\",\"pasatiempo\":\"Interior(Cines, en casa, etc.)\",\"personalidad\":\"Extrovertido pero timido\",\"peliculas\":\"Piratas del caribe\",\"comida\":\"Dulces\",\"loteria\":\"Invertirlo\",\"bebida\":\"Cafe\",\"b_alcoholica\":\"Cerveza\",\"viaje\":\"Europa\",\"musica\":\"Pop en ingles\",\"prioridad_pareja\":\"Dinero\\\\/estatus social\",\"terapia\":\"Ejercicio\",\"nombre\":\"23\"},{\"orientacion\":\"Heterosexual\",\"genero\":\"Hombre\",\"telefono\":1,\"mascota\":\"Perros\",\"signo\":\"Virgo\",\"entretenimiento\":\"Videojuegos\",\"pasatiempo\":\"Exterior(Parques, restaurantes, etc.)\",\"personalidad\":\"Extrovertido pero timido\",\"peliculas\":\"Harry potter\",\"comida\":\"Salado\",\"loteria\":\"Invertirlo\",\"bebida\":\"Te\",\"b_alcoholica\":\"Cerveza\",\"viaje\":\"Asia\",\"musica\":\"Pop en ingles\",\"prioridad_pareja\":\"Dinero\\\\/estatus social\",\"terapia\":\"Vivo con el dolor\",\"nombre\":\"24\"},{\"orientacion\":\"Homosexual\",\"genero\":\"Hombre\",\"telefono\":1,\"mascota\":\"Mucha responsabilidad\",\"signo\":\"Piscis\",\"entretenimiento\":\"Series\",\"pasatiempo\":\"Exterior(Parques, restaurantes, etc.)\",\"personalidad\":\"Introvertido\",\"peliculas\":\"Star wars\",\"comida\":\"No tengo preferencia\",\"loteria\":\"Gastarlo en familia y en ti\",\"bebida\":\"Jugos de fruta\",\"b_alcoholica\":\"(Ron, vodka, Tequila, singani) y sus cocteles\",\"viaje\":\"Africa\",\"musica\":\"Rock espa\\\\u00f1ol\\\\/ingles\",\"prioridad_pareja\":\"Sentido del humor\",\"terapia\":\"Vivo con el dolor\",\"nombre\":\"25\"},{\"orientacion\":\"Heterosexual\",\"genero\":\"Hombre\",\"telefono\":1,\"mascota\":\"Gatos\",\"signo\":\"Acuario\",\"entretenimiento\":\"Videojuegos\",\"pasatiempo\":\"Exterior(Parques, restaurantes, etc.)\",\"personalidad\":\"Introvertido\",\"peliculas\":\"Piratas del caribe\",\"comida\":\"Dulces\",\"loteria\":\"Gastarlo en familia y en ti\",\"bebida\":\"Cafe\",\"b_alcoholica\":\"(Ron, vodka, Tequila, singani) y sus cocteles\",\"viaje\":\"El caribe\",\"musica\":\"Rock espa\\\\u00f1ol\\\\/ingles\",\"prioridad_pareja\":\"Sentido del humor\",\"terapia\":\"Busco alguien para desahogarme\",\"nombre\":\"26\"},{\"orientacion\":\"Bisexual\",\"genero\":\"Hombre\",\"telefono\":1,\"mascota\":\"Reptiles\",\"signo\":\"Tauro\",\"entretenimiento\":\"Series\",\"pasatiempo\":\"Exterior(Parques, restaurantes, etc.)\",\"personalidad\":\"Extrovertido\",\"peliculas\":\"Distopica juvenil(Juegos del hambre, maze runner, etc)\",\"comida\":\"Ambos juntos\",\"loteria\":\"Viajar por el mundo\",\"bebida\":\"Soda\",\"b_alcoholica\":\"Guarapo\",\"viaje\":\"Africa\",\"musica\":\"Pop latino\\\\/reguet\\\\u00f3n\",\"prioridad_pareja\":\"Limpieza\",\"terapia\":\"Como mis penas\",\"nombre\":\"27\"},{\"orientacion\":\"Heterosexual\",\"genero\":\"Mujer\",\"telefono\":1,\"mascota\":\"Aves\",\"signo\":\"Aries\",\"entretenimiento\":\"Series\",\"pasatiempo\":\"Interior(Cines, en casa, etc.)\",\"personalidad\":\"Introvertido\",\"peliculas\":\"MCU(Marvel)\",\"comida\":\"Salado\",\"loteria\":\"Viajar por el mundo\",\"bebida\":\"Agua\",\"b_alcoholica\":\"Guarapo\",\"viaje\":\"Europa\",\"musica\":\"Cumbiones\\\\/Nacional\",\"prioridad_pareja\":\"Limpieza\",\"terapia\":\"Busco alguien para desahogarme\",\"nombre\":\"28\"},{\"orientacion\":\"Homosexual\",\"genero\":\"Hombre\",\"telefono\":1,\"mascota\":\"Mucha responsabilidad\",\"signo\":\"Cancer\",\"entretenimiento\":\"Peliculas\",\"pasatiempo\":\"Exterior(Parques, restaurantes, etc.)\",\"personalidad\":\"Extrovertido\",\"peliculas\":\"Star wars\",\"comida\":\"No tengo preferencia\",\"loteria\":\"Hacer fiestas grandes\",\"bebida\":\"Jugos de fruta\",\"b_alcoholica\":\"Vino\",\"viaje\":\"El caribe\",\"musica\":\"Pop latino\\\\/reguet\\\\u00f3n\",\"prioridad_pareja\":\"Fisico\",\"terapia\":\"Ejercicio\",\"nombre\":\"29\"},{\"orientacion\":\"Heterosexual\",\"genero\":\"Mujer\",\"telefono\":1,\"mascota\":\"Aves\",\"signo\":\"Escorpio\",\"entretenimiento\":\"Libros\",\"pasatiempo\":\"Interior(Cines, en casa, etc.)\",\"personalidad\":\"Introvertido pero abierto a nuevas experiencias\",\"peliculas\":\"MCU(Marvel)\",\"comida\":\"Ambos juntos\",\"loteria\":\"Hacer caridad\",\"bebida\":\"Agua\",\"b_alcoholica\":\"Licores dulces(Jagger, 3 plumas, goss cake, etc)\",\"viaje\":\"Estados unidos\",\"musica\":\"Pop en ingles\",\"prioridad_pareja\":\"Madurez\",\"terapia\":\"Busco alguien para desahogarme\",\"nombre\":\"30\"},{\"orientacion\":\"Bisexual\",\"genero\":\"Hombre\",\"telefono\":1,\"mascota\":\"Reptiles\",\"signo\":\"Acuario\",\"entretenimiento\":\"Series\",\"pasatiempo\":\"Exterior(Parques, restaurantes, etc.)\",\"personalidad\":\"Introvertido\",\"peliculas\":\"Distopica juvenil(Juegos del hambre, maze runner, etc)\",\"comida\":\"Ambos juntos\",\"loteria\":\"Gastarlo en familia y en ti\",\"bebida\":\"Soda\",\"b_alcoholica\":\"(Ron, vodka, Tequila, singani) y sus cocteles\",\"viaje\":\"Europa\",\"musica\":\"Pop latino\\\\/reguet\\\\u00f3n\",\"prioridad_pareja\":\"Sentido del humor\",\"terapia\":\"Entretenimiento(Peliculas, series, musica)\",\"nombre\":\"31\"},{\"orientacion\":\"Homosexual\",\"genero\":\"Mujer\",\"telefono\":1,\"mascota\":\"Reptiles\",\"signo\":\"Aries\",\"entretenimiento\":\"Libros\",\"pasatiempo\":\"Interior(Cines, en casa, etc.)\",\"personalidad\":\"Introvertido\",\"peliculas\":\"Distopica juvenil(Juegos del hambre, maze runner, etc)\",\"comida\":\"No tengo preferencia\",\"loteria\":\"Viajar por el mundo\",\"bebida\":\"Soda\",\"b_alcoholica\":\"Guarapo\",\"viaje\":\"Europa\",\"musica\":\"Alternativa\\\\/Indie\",\"prioridad_pareja\":\"Limpieza\",\"terapia\":\"Busco alguien para desahogarme\",\"nombre\":\"32\"},{\"orientacion\":\"Heterosexual\",\"genero\":\"Hombre\",\"telefono\":1,\"mascota\":\"Perros\",\"signo\":\"Piscis\",\"entretenimiento\":\"Peliculas\",\"pasatiempo\":\"Exterior(Parques, restaurantes, etc.)\",\"personalidad\":\"Introvertido\",\"peliculas\":\"Harry potter\",\"comida\":\"Salado\",\"loteria\":\"Gastarlo en familia y en ti\",\"bebida\":\"Te\",\"b_alcoholica\":\"(Ron, vodka, Tequila, singani) y sus cocteles\",\"viaje\":\"Africa\",\"musica\":\"Pop latino\\\\/reguet\\\\u00f3n\",\"prioridad_pareja\":\"Sentido del humor\",\"terapia\":\"Ejercicio\",\"nombre\":\"33\"},{\"orientacion\":\"Heterosexual\",\"genero\":\"Mujer\",\"telefono\":1,\"mascota\":\"Aves\",\"signo\":\"Capricornio\",\"entretenimiento\":\"Peliculas\",\"pasatiempo\":\"Interior(Cines, en casa, etc.)\",\"personalidad\":\"Introvertido pero abierto a nuevas experiencias\",\"peliculas\":\"MCU(Marvel)\",\"comida\":\"Salado\",\"loteria\":\"Hacer caridad\",\"bebida\":\"Agua\",\"b_alcoholica\":\"No tomo\",\"viaje\":\"Estados unidos\",\"musica\":\"Pop en ingles\",\"prioridad_pareja\":\"Madurez\",\"terapia\":\"Vivo con el dolor\",\"nombre\":\"34\"},{\"orientacion\":\"Heterosexual\",\"genero\":\"Hombre\",\"telefono\":1,\"mascota\":\"Perros\",\"signo\":\"Cancer\",\"entretenimiento\":\"Videojuegos\",\"pasatiempo\":\"Exterior(Parques, restaurantes, etc.)\",\"personalidad\":\"Extrovertido\",\"peliculas\":\"Harry potter\",\"comida\":\"Salado\",\"loteria\":\"Hacer fiestas grandes\",\"bebida\":\"Te\",\"b_alcoholica\":\"Vino\",\"viaje\":\"Estados unidos\",\"musica\":\"Rock espa\\\\u00f1ol\\\\/ingles\",\"prioridad_pareja\":\"Fisico\",\"terapia\":\"Como mis penas\",\"nombre\":\"35\"},{\"orientacion\":\"Homosexual\",\"genero\":\"Mujer\",\"telefono\":1,\"mascota\":\"Reptiles\",\"signo\":\"Virgo\",\"entretenimiento\":\"Libros\",\"pasatiempo\":\"Interior(Cines, en casa, etc.)\",\"personalidad\":\"Extrovertido pero timido\",\"peliculas\":\"Distopica juvenil(Juegos del hambre, maze runner, etc)\",\"comida\":\"No tengo preferencia\",\"loteria\":\"Invertirlo\",\"bebida\":\"Soda\",\"b_alcoholica\":\"Cerveza\",\"viaje\":\"Africa\",\"musica\":\"Cumbiones\\\\/Nacional\",\"prioridad_pareja\":\"Dinero\\\\/estatus social\",\"terapia\":\"Entretenimiento(Peliculas, series, musica)\",\"nombre\":\"36\"},{\"orientacion\":\"Heterosexual\",\"genero\":\"Mujer\",\"telefono\":1,\"mascota\":\"Perros\",\"signo\":\"Leo\",\"entretenimiento\":\"Series\",\"pasatiempo\":\"Interior(Cines, en casa, etc.)\",\"personalidad\":\"Extrovertido pero timido\",\"peliculas\":\"Harry potter\",\"comida\":\"Dulces\",\"loteria\":\"Hacer fiestas grandes\",\"bebida\":\"Te\",\"b_alcoholica\":\"Cerveza\",\"viaje\":\"Africa\",\"musica\":\"Alternativa\\\\/Indie\",\"prioridad_pareja\":\"Fisico\",\"terapia\":\"Como mis penas\",\"nombre\":\"37\"},{\"orientacion\":\"Homosexual\",\"genero\":\"Mujer\",\"telefono\":1,\"mascota\":\"Mucha responsabilidad\",\"signo\":\"Cancer\",\"entretenimiento\":\"Peliculas\",\"pasatiempo\":\"Interior(Cines, en casa, etc.)\",\"personalidad\":\"Extrovertido\",\"peliculas\":\"Star wars\",\"comida\":\"No tengo preferencia\",\"loteria\":\"Hacer fiestas grandes\",\"bebida\":\"Jugos de fruta\",\"b_alcoholica\":\"Vino\",\"viaje\":\"El caribe\",\"musica\":\"Cumbiones\\\\/Nacional\",\"prioridad_pareja\":\"Fisico\",\"terapia\":\"Entretenimiento(Peliculas, series, musica)\",\"nombre\":\"38\"},{\"orientacion\":\"Homosexual\",\"genero\":\"Mujer\",\"telefono\":1,\"mascota\":\"Mucha responsabilidad\",\"signo\":\"Geminis\",\"entretenimiento\":\"Videojuegos\",\"pasatiempo\":\"Interior(Cines, en casa, etc.)\",\"personalidad\":\"Extrovertido\",\"peliculas\":\"Star wars\",\"comida\":\"No tengo preferencia\",\"loteria\":\"Viajar por el mundo\",\"bebida\":\"Jugos de fruta\",\"b_alcoholica\":\"Vino\",\"viaje\":\"Estados unidos\",\"musica\":\"Alternativa\\\\/Indie\",\"prioridad_pareja\":\"Limpieza\",\"terapia\":\"Vivo con el dolor\",\"nombre\":\"39\"},{\"orientacion\":\"Heterosexual\",\"genero\":\"Hombre\",\"telefono\":1,\"mascota\":\"Aves\",\"signo\":\"Geminis\",\"entretenimiento\":\"Videojuegos\",\"pasatiempo\":\"Exterior(Parques, restaurantes, etc.)\",\"personalidad\":\"Extrovertido\",\"peliculas\":\"MCU(Marvel)\",\"comida\":\"Salado\",\"loteria\":\"Viajar por el mundo\",\"bebida\":\"Agua\",\"b_alcoholica\":\"Vino\",\"viaje\":\"Asia\",\"musica\":\"Rock espa\\\\u00f1ol\\\\/ingles\",\"prioridad_pareja\":\"Limpieza\",\"terapia\":\"Como mis penas\",\"nombre\":\"40\"},{\"orientacion\":\"Heterosexual\",\"genero\":\"Mujer\",\"telefono\":1,\"mascota\":\"Perros\",\"signo\":\"Libra\",\"entretenimiento\":\"Videojuegos\",\"pasatiempo\":\"Interior(Cines, en casa, etc.)\",\"personalidad\":\"Extrovertido pero timido\",\"peliculas\":\"Harry potter\",\"comida\":\"Dulces\",\"loteria\":\"Invertirlo\",\"bebida\":\"Te\",\"b_alcoholica\":\"Licores dulces(Jagger, 3 plumas, goss cake, etc)\",\"viaje\":\"Africa\",\"musica\":\"Cumbiones\\\\/Nacional\",\"prioridad_pareja\":\"Dinero\\\\/estatus social\",\"terapia\":\"Entretenimiento(Peliculas, series, musica)\",\"nombre\":\"41\"},{\"orientacion\":\"Heterosexual\",\"genero\":\"Mujer\",\"telefono\":1,\"mascota\":\"Perros\",\"signo\":\"Tauro\",\"entretenimiento\":\"Libros\",\"pasatiempo\":\"Interior(Cines, en casa, etc.)\",\"personalidad\":\"Extrovertido\",\"peliculas\":\"Harry potter\",\"comida\":\"Salado\",\"loteria\":\"Viajar por el mundo\",\"bebida\":\"Te\",\"b_alcoholica\":\"Guarapo\",\"viaje\":\"Asia\",\"musica\":\"Alternativa\\\\/Indie\",\"prioridad_pareja\":\"Limpieza\",\"terapia\":\"Como mis penas\",\"nombre\":\"42\"},{\"orientacion\":\"Homosexual\",\"genero\":\"Mujer\",\"telefono\":1,\"mascota\":\"Reptiles\",\"signo\":\"Aries\",\"entretenimiento\":\"Videojuegos\",\"pasatiempo\":\"Interior(Cines, en casa, etc.)\",\"personalidad\":\"Introvertido\",\"peliculas\":\"Distopica juvenil(Juegos del hambre, maze runner, etc)\",\"comida\":\"No tengo preferencia\",\"loteria\":\"Viajar por el mundo\",\"bebida\":\"Soda\",\"b_alcoholica\":\"Guarapo\",\"viaje\":\"Africa\",\"musica\":\"Cumbiones\\\\/Nacional\",\"prioridad_pareja\":\"Limpieza\",\"terapia\":\"Vivo con el dolor\",\"nombre\":\"43\"},{\"orientacion\":\"Heterosexual\",\"genero\":\"Hombre\",\"telefono\":1,\"mascota\":\"Aves\",\"signo\":\"Cancer\",\"entretenimiento\":\"Libros\",\"pasatiempo\":\"Exterior(Parques, restaurantes, etc.)\",\"personalidad\":\"Extrovertido\",\"peliculas\":\"MCU(Marvel)\",\"comida\":\"Salado\",\"loteria\":\"Hacer fiestas grandes\",\"bebida\":\"Agua\",\"b_alcoholica\":\"Vino\",\"viaje\":\"Asia\",\"musica\":\"Rock espa\\\\u00f1ol\\\\/ingles\",\"prioridad_pareja\":\"Fisico\",\"terapia\":\"Vivo con el dolor\",\"nombre\":\"44\"},{\"orientacion\":\"Heterosexual\",\"genero\":\"Hombre\",\"telefono\":1,\"mascota\":\"Perros\",\"signo\":\"Capricornio\",\"entretenimiento\":\"Peliculas\",\"pasatiempo\":\"Exterior(Parques, restaurantes, etc.)\",\"personalidad\":\"Introvertido pero abierto a nuevas experiencias\",\"peliculas\":\"Harry potter\",\"comida\":\"Salado\",\"loteria\":\"Hacer caridad\",\"bebida\":\"Te\",\"b_alcoholica\":\"No tomo\",\"viaje\":\"Africa\",\"musica\":\"Rock espa\\\\u00f1ol\\\\/ingles\",\"prioridad_pareja\":\"Madurez\",\"terapia\":\"Busco alguien para desahogarme\",\"nombre\":\"45\"},{\"orientacion\":\"Heterosexual\",\"genero\":\"Hombre\",\"telefono\":1,\"mascota\":\"Gatos\",\"signo\":\"Escorpio\",\"entretenimiento\":\"Peliculas\",\"pasatiempo\":\"Exterior(Parques, restaurantes, etc.)\",\"personalidad\":\"Introvertido pero abierto a nuevas experiencias\",\"peliculas\":\"Piratas del caribe\",\"comida\":\"Dulces\",\"loteria\":\"Invertirlo\",\"bebida\":\"Cafe\",\"b_alcoholica\":\"Licores dulces(Jagger, 3 plumas, goss cake, etc)\",\"viaje\":\"Estados unidos\",\"musica\":\"Pop latino\\\\/reguet\\\\u00f3n\",\"prioridad_pareja\":\"Dinero\\\\/estatus social\",\"terapia\":\"Entretenimiento(Peliculas, series, musica)\",\"nombre\":\"46\"},{\"orientacion\":\"Heterosexual\",\"genero\":\"Mujer\",\"telefono\":1,\"mascota\":\"Aves\",\"signo\":\"Leo\",\"entretenimiento\":\"Peliculas\",\"pasatiempo\":\"Interior(Cines, en casa, etc.)\",\"personalidad\":\"Extrovertido pero timido\",\"peliculas\":\"MCU(Marvel)\",\"comida\":\"Ambos juntos\",\"loteria\":\"Hacer fiestas grandes\",\"bebida\":\"Agua\",\"b_alcoholica\":\"Cerveza\",\"viaje\":\"Estados unidos\",\"musica\":\"Alternativa\\\\/Indie\",\"prioridad_pareja\":\"Fisico\",\"terapia\":\"Ejercicio\",\"nombre\":\"47\"},{\"orientacion\":\"Heterosexual\",\"genero\":\"Mujer\",\"telefono\":1,\"mascota\":\"Gatos\",\"signo\":\"Escorpio\",\"entretenimiento\":\"Series\",\"pasatiempo\":\"Interior(Cines, en casa, etc.)\",\"personalidad\":\"Introvertido pero abierto a nuevas experiencias\",\"peliculas\":\"Piratas del caribe\",\"comida\":\"Dulces\",\"loteria\":\"Invertirlo\",\"bebida\":\"Cafe\",\"b_alcoholica\":\"Licores dulces(Jagger, 3 plumas, goss cake, etc)\",\"viaje\":\"Estados unidos\",\"musica\":\"Pop en ingles\",\"prioridad_pareja\":\"Dinero\\\\/estatus social\",\"terapia\":\"Entretenimiento(Peliculas, series, musica)\",\"nombre\":\"48\"},{\"orientacion\":\"Heterosexual\",\"genero\":\"Mujer\",\"telefono\":1,\"mascota\":\"Aves\",\"signo\":\"Acuario\",\"entretenimiento\":\"Series\",\"pasatiempo\":\"Interior(Cines, en casa, etc.)\",\"personalidad\":\"Introvertido\",\"peliculas\":\"MCU(Marvel)\",\"comida\":\"Salado\",\"loteria\":\"Gastarlo en familia y en ti\",\"bebida\":\"Agua\",\"b_alcoholica\":\"(Ron, vodka, Tequila, singani) y sus cocteles\",\"viaje\":\"Europa\",\"musica\":\"Alternativa\\\\/Indie\",\"prioridad_pareja\":\"Sentido del humor\",\"terapia\":\"Entretenimiento(Peliculas, series, musica)\",\"nombre\":\"49\"},{\"orientacion\":\"Heterosexual\",\"genero\":\"Mujer\",\"telefono\":1,\"mascota\":\"Aves\",\"signo\":\"Capricornio\",\"entretenimiento\":\"Peliculas\",\"pasatiempo\":\"Interior(Cines, en casa, etc.)\",\"personalidad\":\"Introvertido pero abierto a nuevas experiencias\",\"peliculas\":\"MCU(Marvel)\",\"comida\":\"Ambos juntos\",\"loteria\":\"Hacer caridad\",\"bebida\":\"Agua\",\"b_alcoholica\":\"No tomo\",\"viaje\":\"Europa\",\"musica\":\"Alternativa\\\\/Indie\",\"prioridad_pareja\":\"Madurez\",\"terapia\":\"Busco alguien para desahogarme\",\"nombre\":\"50\"},{\"orientacion\":\"Heterosexual\",\"genero\":\"Hombre\",\"telefono\":1,\"mascota\":\"Gatos\",\"signo\":\"Leo\",\"entretenimiento\":\"Libros\",\"pasatiempo\":\"Exterior(Parques, restaurantes, etc.)\",\"personalidad\":\"Extrovertido pero timido\",\"peliculas\":\"Piratas del caribe\",\"comida\":\"Dulces\",\"loteria\":\"Hacer fiestas grandes\",\"bebida\":\"Cafe\",\"b_alcoholica\":\"Cerveza\",\"viaje\":\"Estados unidos\",\"musica\":\"Pop latino\\\\/reguet\\\\u00f3n\",\"prioridad_pareja\":\"Fisico\",\"terapia\":\"Ejercicio\",\"nombre\":\"51\"},{\"orientacion\":\"Homosexual\",\"genero\":\"Mujer\",\"telefono\":1,\"mascota\":\"Mucha responsabilidad\",\"signo\":\"Libra\",\"entretenimiento\":\"Peliculas\",\"pasatiempo\":\"Interior(Cines, en casa, etc.)\",\"personalidad\":\"Extrovertido pero timido\",\"peliculas\":\"Star wars\",\"comida\":\"No tengo preferencia\",\"loteria\":\"Invertirlo\",\"bebida\":\"Jugos de fruta\",\"b_alcoholica\":\"Licores dulces(Jagger, 3 plumas, goss cake, etc)\",\"viaje\":\"Africa\",\"musica\":\"Pop en ingles\",\"prioridad_pareja\":\"Dinero\\\\/estatus social\",\"terapia\":\"Busco alguien para desahogarme\",\"nombre\":\"52\"},{\"orientacion\":\"Bisexual\",\"genero\":\"Hombre\",\"telefono\":1,\"mascota\":\"Reptiles\",\"signo\":\"Piscis\",\"entretenimiento\":\"Videojuegos\",\"pasatiempo\":\"Exterior(Parques, restaurantes, etc.)\",\"personalidad\":\"Introvertido\",\"peliculas\":\"Distopica juvenil(Juegos del hambre, maze runner, etc)\",\"comida\":\"Ambos juntos\",\"loteria\":\"Gastarlo en familia y en ti\",\"bebida\":\"Soda\",\"b_alcoholica\":\"(Ron, vodka, Tequila, singani) y sus cocteles\",\"viaje\":\"Estados unidos\",\"musica\":\"Pop latino\\\\/reguet\\\\u00f3n\",\"prioridad_pareja\":\"Sentido del humor\",\"terapia\":\"Entretenimiento(Peliculas, series, musica)\",\"nombre\":\"53\"},{\"orientacion\":\"Bisexual\",\"genero\":\"Mujer\",\"telefono\":1,\"mascota\":\"Reptiles\",\"signo\":\"Leo\",\"entretenimiento\":\"Libros\",\"pasatiempo\":\"Interior(Cines, en casa, etc.)\",\"personalidad\":\"Extrovertido pero timido\",\"peliculas\":\"Distopica juvenil(Juegos del hambre, maze runner, etc)\",\"comida\":\"Ambos juntos\",\"loteria\":\"Hacer fiestas grandes\",\"bebida\":\"Soda\",\"b_alcoholica\":\"Cerveza\",\"viaje\":\"Asia\",\"musica\":\"Alternativa\\\\/Indie\",\"prioridad_pareja\":\"Fisico\",\"terapia\":\"Ejercicio\",\"nombre\":\"54\"},{\"orientacion\":\"Heterosexual\",\"genero\":\"Hombre\",\"telefono\":1,\"mascota\":\"Perros\",\"signo\":\"Virgo\",\"entretenimiento\":\"Series\",\"pasatiempo\":\"Exterior(Parques, restaurantes, etc.)\",\"personalidad\":\"Extrovertido pero timido\",\"peliculas\":\"Harry potter\",\"comida\":\"Salado\",\"loteria\":\"Hacer fiestas grandes\",\"bebida\":\"Te\",\"b_alcoholica\":\"Cerveza\",\"viaje\":\"Africa\",\"musica\":\"Pop en ingles\",\"prioridad_pareja\":\"Fisico\",\"terapia\":\"Vivo con el dolor\",\"nombre\":\"55\"},{\"orientacion\":\"Homosexual\",\"genero\":\"Hombre\",\"telefono\":1,\"mascota\":\"Mucha responsabilidad\",\"signo\":\"Capricornio\",\"entretenimiento\":\"Videojuegos\",\"pasatiempo\":\"Exterior(Parques, restaurantes, etc.)\",\"personalidad\":\"Introvertido pero abierto a nuevas experiencias\",\"peliculas\":\"Star wars\",\"comida\":\"No tengo preferencia\",\"loteria\":\"Hacer caridad\",\"bebida\":\"Jugos de fruta\",\"b_alcoholica\":\"No tomo\",\"viaje\":\"El caribe\",\"musica\":\"Rock espa\\\\u00f1ol\\\\/ingles\",\"prioridad_pareja\":\"Madurez\",\"terapia\":\"Vivo con el dolor\",\"nombre\":\"56\"},{\"orientacion\":\"Heterosexual\",\"genero\":\"Hombre\",\"telefono\":1,\"mascota\":\"Gatos\",\"signo\":\"Leo\",\"entretenimiento\":\"Libros\",\"pasatiempo\":\"Exterior(Parques, restaurantes, etc.)\",\"personalidad\":\"Extrovertido pero timido\",\"peliculas\":\"Piratas del caribe\",\"comida\":\"Dulces\",\"loteria\":\"Hacer fiestas grandes\",\"bebida\":\"Cafe\",\"b_alcoholica\":\"Cerveza\",\"viaje\":\"Asia\",\"musica\":\"Rock espa\\\\u00f1ol\\\\/ingles\",\"prioridad_pareja\":\"Fisico\",\"terapia\":\"Como mis penas\",\"nombre\":\"57\"},{\"orientacion\":\"Heterosexual\",\"genero\":\"Mujer\",\"telefono\":1,\"mascota\":\"Perros\",\"signo\":\"Virgo\",\"entretenimiento\":\"Series\",\"pasatiempo\":\"Interior(Cines, en casa, etc.)\",\"personalidad\":\"Extrovertido pero timido\",\"peliculas\":\"Harry potter\",\"comida\":\"Dulces\",\"loteria\":\"Invertirlo\",\"bebida\":\"Te\",\"b_alcoholica\":\"Cerveza\",\"viaje\":\"Europa\",\"musica\":\"Cumbiones\\\\/Nacional\",\"prioridad_pareja\":\"Dinero\\\\/estatus social\",\"terapia\":\"Como mis penas\",\"nombre\":\"58\"},{\"orientacion\":\"Homosexual\",\"genero\":\"Mujer\",\"telefono\":1,\"mascota\":\"Mucha responsabilidad\",\"signo\":\"Escorpio\",\"entretenimiento\":\"Videojuegos\",\"pasatiempo\":\"Interior(Cines, en casa, etc.)\",\"personalidad\":\"Introvertido pero abierto a nuevas experiencias\",\"peliculas\":\"Star wars\",\"comida\":\"No tengo preferencia\",\"loteria\":\"Invertirlo\",\"bebida\":\"Jugos de fruta\",\"b_alcoholica\":\"Licores dulces(Jagger, 3 plumas, goss cake, etc)\",\"viaje\":\"El caribe\",\"musica\":\"Cumbiones\\\\/Nacional\",\"prioridad_pareja\":\"Dinero\\\\/estatus social\",\"terapia\":\"Como mis penas\",\"nombre\":\"59\"},{\"orientacion\":\"Homosexual\",\"genero\":\"Mujer\",\"telefono\":1,\"mascota\":\"Reptiles\",\"signo\":\"Piscis\",\"entretenimiento\":\"Series\",\"pasatiempo\":\"Interior(Cines, en casa, etc.)\",\"personalidad\":\"Introvertido\",\"peliculas\":\"Distopica juvenil(Juegos del hambre, maze runner, etc)\",\"comida\":\"No tengo preferencia\",\"loteria\":\"Gastarlo en familia y en ti\",\"bebida\":\"Soda\",\"b_alcoholica\":\"(Ron, vodka, Tequila, singani) y sus cocteles\",\"viaje\":\"Asia\",\"musica\":\"Cumbiones\\\\/Nacional\",\"prioridad_pareja\":\"Sentido del humor\",\"terapia\":\"Vivo con el dolor\",\"nombre\":\"60\"},{\"orientacion\":\"Heterosexual\",\"genero\":\"Hombre\",\"telefono\":1,\"mascota\":\"Aves\",\"signo\":\"Sagitario\",\"entretenimiento\":\"Videojuegos\",\"pasatiempo\":\"Exterior(Parques, restaurantes, etc.)\",\"personalidad\":\"Introvertido pero abierto a nuevas experiencias\",\"peliculas\":\"MCU(Marvel)\",\"comida\":\"Ambos juntos\",\"loteria\":\"Hacer caridad\",\"bebida\":\"Agua\",\"b_alcoholica\":\"No tomo\",\"viaje\":\"El caribe\",\"musica\":\"Rock espa\\\\u00f1ol\\\\/ingles\",\"prioridad_pareja\":\"Madurez\",\"terapia\":\"Ejercicio\",\"nombre\":\"61\"},{\"orientacion\":\"Heterosexual\",\"genero\":\"Hombre\",\"telefono\":1,\"mascota\":\"Gatos\",\"signo\":\"Piscis\",\"entretenimiento\":\"Series\",\"pasatiempo\":\"Exterior(Parques, restaurantes, etc.)\",\"personalidad\":\"Introvertido\",\"peliculas\":\"Piratas del caribe\",\"comida\":\"Dulces\",\"loteria\":\"Gastarlo en familia y en ti\",\"bebida\":\"Cafe\",\"b_alcoholica\":\"(Ron, vodka, Tequila, singani) y sus cocteles\",\"viaje\":\"Asia\",\"musica\":\"Pop en ingles\",\"prioridad_pareja\":\"Sentido del humor\",\"terapia\":\"Busco alguien para desahogarme\",\"nombre\":\"62\"},{\"orientacion\":\"Bisexual\",\"genero\":\"Hombre\",\"telefono\":1,\"mascota\":\"Reptiles\",\"signo\":\"Sagitario\",\"entretenimiento\":\"Series\",\"pasatiempo\":\"Exterior(Parques, restaurantes, etc.)\",\"personalidad\":\"Introvertido pero abierto a nuevas experiencias\",\"peliculas\":\"Distopica juvenil(Juegos del hambre, maze runner, etc)\",\"comida\":\"Ambos juntos\",\"loteria\":\"Hacer caridad\",\"bebida\":\"Soda\",\"b_alcoholica\":\"No tomo\",\"viaje\":\"El caribe\",\"musica\":\"Pop latino\\\\/reguet\\\\u00f3n\",\"prioridad_pareja\":\"Madurez\",\"terapia\":\"Vivo con el dolor\",\"nombre\":\"63\"},{\"orientacion\":\"Heterosexual\",\"genero\":\"Hombre\",\"telefono\":1,\"mascota\":\"Perros\",\"signo\":\"Aries\",\"entretenimiento\":\"Libros\",\"pasatiempo\":\"Exterior(Parques, restaurantes, etc.)\",\"personalidad\":\"Introvertido\",\"peliculas\":\"Harry potter\",\"comida\":\"Salado\",\"loteria\":\"Gastarlo en familia y en ti\",\"bebida\":\"Te\",\"b_alcoholica\":\"Guarapo\",\"viaje\":\"El caribe\",\"musica\":\"Rock espa\\\\u00f1ol\\\\/ingles\",\"prioridad_pareja\":\"Sentido del humor\",\"terapia\":\"Vivo con el dolor\",\"nombre\":\"64\"},{\"orientacion\":\"Bisexual\",\"genero\":\"Hombre\",\"telefono\":1,\"mascota\":\"Reptiles\",\"signo\":\"Aries\",\"entretenimiento\":\"Libros\",\"pasatiempo\":\"Exterior(Parques, restaurantes, etc.)\",\"personalidad\":\"Introvertido\",\"peliculas\":\"Distopica juvenil(Juegos del hambre, maze runner, etc)\",\"comida\":\"Ambos juntos\",\"loteria\":\"Viajar por el mundo\",\"bebida\":\"Soda\",\"b_alcoholica\":\"Guarapo\",\"viaje\":\"Africa\",\"musica\":\"Rock espa\\\\u00f1ol\\\\/ingles\",\"prioridad_pareja\":\"Limpieza\",\"terapia\":\"Como mis penas\",\"nombre\":\"65\"},{\"orientacion\":\"Heterosexual\",\"genero\":\"Mujer\",\"telefono\":1,\"mascota\":\"Aves\",\"signo\":\"Tauro\",\"entretenimiento\":\"Libros\",\"pasatiempo\":\"Interior(Cines, en casa, etc.)\",\"personalidad\":\"Extrovertido\",\"peliculas\":\"MCU(Marvel)\",\"comida\":\"Ambos juntos\",\"loteria\":\"Viajar por el mundo\",\"bebida\":\"Agua\",\"b_alcoholica\":\"Guarapo\",\"viaje\":\"Europa\",\"musica\":\"Cumbiones\\\\/Nacional\",\"prioridad_pareja\":\"Limpieza\",\"terapia\":\"Como mis penas\",\"nombre\":\"66\"},{\"orientacion\":\"Heterosexual\",\"genero\":\"Mujer\",\"telefono\":1,\"mascota\":\"Aves\",\"signo\":\"Cancer\",\"entretenimiento\":\"Peliculas\",\"pasatiempo\":\"Interior(Cines, en casa, etc.)\",\"personalidad\":\"Extrovertido\",\"peliculas\":\"MCU(Marvel)\",\"comida\":\"Ambos juntos\",\"loteria\":\"Hacer fiestas grandes\",\"bebida\":\"Agua\",\"b_alcoholica\":\"Vino\",\"viaje\":\"Africa\",\"musica\":\"Cumbiones\\\\/Nacional\",\"prioridad_pareja\":\"Fisico\",\"terapia\":\"Como mis penas\",\"nombre\":\"67\"},{\"orientacion\":\"Heterosexual\",\"genero\":\"Mujer\",\"telefono\":1,\"mascota\":\"Aves\",\"signo\":\"Escorpio\",\"entretenimiento\":\"Videojuegos\",\"pasatiempo\":\"Interior(Cines, en casa, etc.)\",\"personalidad\":\"Introvertido pero abierto a nuevas experiencias\",\"peliculas\":\"MCU(Marvel)\",\"comida\":\"Ambos juntos\",\"loteria\":\"Hacer caridad\",\"bebida\":\"Agua\",\"b_alcoholica\":\"Licores dulces(Jagger, 3 plumas, goss cake, etc)\",\"viaje\":\"Estados unidos\",\"musica\":\"Cumbiones\\\\/Nacional\",\"prioridad_pareja\":\"Madurez\",\"terapia\":\"Vivo con el dolor\",\"nombre\":\"68\"},{\"orientacion\":\"Heterosexual\",\"genero\":\"Hombre\",\"telefono\":1,\"mascota\":\"Gatos\",\"signo\":\"Aries\",\"entretenimiento\":\"Videojuegos\",\"pasatiempo\":\"Exterior(Parques, restaurantes, etc.)\",\"personalidad\":\"Introvertido\",\"peliculas\":\"Piratas del caribe\",\"comida\":\"Dulces\",\"loteria\":\"Gastarlo en familia y en ti\",\"bebida\":\"Cafe\",\"b_alcoholica\":\"Guarapo\",\"viaje\":\"Asia\",\"musica\":\"Rock espa\\\\u00f1ol\\\\/ingles\",\"prioridad_pareja\":\"Sentido del humor\",\"terapia\":\"Vivo con el dolor\",\"nombre\":\"69\"},{\"orientacion\":\"Bisexual\",\"genero\":\"Hombre\",\"telefono\":1,\"mascota\":\"Reptiles\",\"signo\":\"Sagitario\",\"entretenimiento\":\"Libros\",\"pasatiempo\":\"Exterior(Parques, restaurantes, etc.)\",\"personalidad\":\"Introvertido pero abierto a nuevas experiencias\",\"peliculas\":\"Distopica juvenil(Juegos del hambre, maze runner, etc)\",\"comida\":\"Ambos juntos\",\"loteria\":\"Hacer caridad\",\"bebida\":\"Soda\",\"b_alcoholica\":\"No tomo\",\"viaje\":\"Asia\",\"musica\":\"Rock espa\\\\u00f1ol\\\\/ingles\",\"prioridad_pareja\":\"Madurez\",\"terapia\":\"Busco alguien para desahogarme\",\"nombre\":\"70\"},{\"orientacion\":\"Homosexual\",\"genero\":\"Hombre\",\"telefono\":1,\"mascota\":\"Mucha responsabilidad\",\"signo\":\"Tauro\",\"entretenimiento\":\"Series\",\"pasatiempo\":\"Exterior(Parques, restaurantes, etc.)\",\"personalidad\":\"Extrovertido\",\"peliculas\":\"Star wars\",\"comida\":\"No tengo preferencia\",\"loteria\":\"Viajar por el mundo\",\"bebida\":\"Jugos de fruta\",\"b_alcoholica\":\"Guarapo\",\"viaje\":\"Africa\",\"musica\":\"Pop latino\\\\/reguet\\\\u00f3n\",\"prioridad_pareja\":\"Limpieza\",\"terapia\":\"Como mis penas\",\"nombre\":\"71\"},{\"orientacion\":\"Heterosexual\",\"genero\":\"Mujer\",\"telefono\":1,\"mascota\":\"Gatos\",\"signo\":\"Acuario\",\"entretenimiento\":\"Series\",\"pasatiempo\":\"Interior(Cines, en casa, etc.)\",\"personalidad\":\"Introvertido\",\"peliculas\":\"Piratas del caribe\",\"comida\":\"Dulces\",\"loteria\":\"Gastarlo en familia y en ti\",\"bebida\":\"Cafe\",\"b_alcoholica\":\"(Ron, vodka, Tequila, singani) y sus cocteles\",\"viaje\":\"El caribe\",\"musica\":\"Cumbiones\\\\/Nacional\",\"prioridad_pareja\":\"Sentido del humor\",\"terapia\":\"Entretenimiento(Peliculas, series, musica)\",\"nombre\":\"72\"},{\"orientacion\":\"Heterosexual\",\"genero\":\"Mujer\",\"telefono\":1,\"mascota\":\"Aves\",\"signo\":\"Sagitario\",\"entretenimiento\":\"Peliculas\",\"pasatiempo\":\"Interior(Cines, en casa, etc.)\",\"personalidad\":\"Introvertido pero abierto a nuevas experiencias\",\"peliculas\":\"MCU(Marvel)\",\"comida\":\"Salado\",\"loteria\":\"Hacer caridad\",\"bebida\":\"Agua\",\"b_alcoholica\":\"No tomo\",\"viaje\":\"El caribe\",\"musica\":\"Alternativa\\\\/Indie\",\"prioridad_pareja\":\"Madurez\",\"terapia\":\"Busco alguien para desahogarme\",\"nombre\":\"73\"},{\"orientacion\":\"Heterosexual\",\"genero\":\"Hombre\",\"telefono\":1,\"mascota\":\"Perros\",\"signo\":\"Leo\",\"entretenimiento\":\"Libros\",\"pasatiempo\":\"Exterior(Parques, restaurantes, etc.)\",\"personalidad\":\"Extrovertido pero timido\",\"peliculas\":\"Harry potter\",\"comida\":\"Salado\",\"loteria\":\"Hacer fiestas grandes\",\"bebida\":\"Te\",\"b_alcoholica\":\"Cerveza\",\"viaje\":\"Estados unidos\",\"musica\":\"Pop latino\\\\/reguet\\\\u00f3n\",\"prioridad_pareja\":\"Fisico\",\"terapia\":\"Busco alguien para desahogarme\",\"nombre\":\"74\"},{\"orientacion\":\"Heterosexual\",\"genero\":\"Hombre\",\"telefono\":1,\"mascota\":\"Perros\",\"signo\":\"Aries\",\"entretenimiento\":\"Libros\",\"pasatiempo\":\"Exterior(Parques, restaurantes, etc.)\",\"personalidad\":\"Introvertido\",\"peliculas\":\"Harry potter\",\"comida\":\"Dulces\",\"loteria\":\"Gastarlo en familia y en ti\",\"bebida\":\"Te\",\"b_alcoholica\":\"Guarapo\",\"viaje\":\"Africa\",\"musica\":\"Pop latino\\\\/reguet\\\\u00f3n\",\"prioridad_pareja\":\"Sentido del humor\",\"terapia\":\"Como mis penas\",\"nombre\":\"75\"},{\"orientacion\":\"Heterosexual\",\"genero\":\"Mujer\",\"telefono\":1,\"mascota\":\"Gatos\",\"signo\":\"Leo\",\"entretenimiento\":\"Videojuegos\",\"pasatiempo\":\"Interior(Cines, en casa, etc.)\",\"personalidad\":\"Extrovertido pero timido\",\"peliculas\":\"Piratas del caribe\",\"comida\":\"Dulces\",\"loteria\":\"Hacer fiestas grandes\",\"bebida\":\"Cafe\",\"b_alcoholica\":\"Cerveza\",\"viaje\":\"Africa\",\"musica\":\"Cumbiones\\\\/Nacional\",\"prioridad_pareja\":\"Fisico\",\"terapia\":\"Busco alguien para desahogarme\",\"nombre\":\"76\"},{\"orientacion\":\"Heterosexual\",\"genero\":\"Hombre\",\"telefono\":1,\"mascota\":\"Perros\",\"signo\":\"Virgo\",\"entretenimiento\":\"Videojuegos\",\"pasatiempo\":\"Exterior(Parques, restaurantes, etc.)\",\"personalidad\":\"Extrovertido pero timido\",\"peliculas\":\"Harry potter\",\"comida\":\"Salado\",\"loteria\":\"Invertirlo\",\"bebida\":\"Te\",\"b_alcoholica\":\"Cerveza\",\"viaje\":\"Asia\",\"musica\":\"Pop latino\\\\/reguet\\\\u00f3n\",\"prioridad_pareja\":\"Dinero\\\\/estatus social\",\"terapia\":\"Vivo con el dolor\",\"nombre\":\"77\"},{\"orientacion\":\"Homosexual\",\"genero\":\"Hombre\",\"telefono\":1,\"mascota\":\"Mucha responsabilidad\",\"signo\":\"Sagitario\",\"entretenimiento\":\"Series\",\"pasatiempo\":\"Exterior(Parques, restaurantes, etc.)\",\"personalidad\":\"Introvertido pero abierto a nuevas experiencias\",\"peliculas\":\"Star wars\",\"comida\":\"No tengo preferencia\",\"loteria\":\"Hacer caridad\",\"bebida\":\"Jugos de fruta\",\"b_alcoholica\":\"No tomo\",\"viaje\":\"Asia\",\"musica\":\"Rock espa\\\\u00f1ol\\\\/ingles\",\"prioridad_pareja\":\"Madurez\",\"terapia\":\"Como mis penas\",\"nombre\":\"78\"},{\"orientacion\":\"Heterosexual\",\"genero\":\"Mujer\",\"telefono\":1,\"mascota\":\"Perros\",\"signo\":\"Sagitario\",\"entretenimiento\":\"Series\",\"pasatiempo\":\"Interior(Cines, en casa, etc.)\",\"personalidad\":\"Introvertido pero abierto a nuevas experiencias\",\"peliculas\":\"Harry potter\",\"comida\":\"Salado\",\"loteria\":\"Hacer caridad\",\"bebida\":\"Te\",\"b_alcoholica\":\"No tomo\",\"viaje\":\"Europa\",\"musica\":\"Cumbiones\\\\/Nacional\",\"prioridad_pareja\":\"Madurez\",\"terapia\":\"Como mis penas\",\"nombre\":\"79\"},{\"orientacion\":\"Heterosexual\",\"genero\":\"Mujer\",\"telefono\":1,\"mascota\":\"Aves\",\"signo\":\"Capricornio\",\"entretenimiento\":\"Series\",\"pasatiempo\":\"Interior(Cines, en casa, etc.)\",\"personalidad\":\"Introvertido pero abierto a nuevas experiencias\",\"peliculas\":\"MCU(Marvel)\",\"comida\":\"Salado\",\"loteria\":\"Hacer caridad\",\"bebida\":\"Agua\",\"b_alcoholica\":\"No tomo\",\"viaje\":\"El caribe\",\"musica\":\"Cumbiones\\\\/Nacional\",\"prioridad_pareja\":\"Madurez\",\"terapia\":\"Busco alguien para desahogarme\",\"nombre\":\"80\"},{\"orientacion\":\"Homosexual\",\"genero\":\"Hombre\",\"telefono\":1,\"mascota\":\"Mucha responsabilidad\",\"signo\":\"Cancer\",\"entretenimiento\":\"Peliculas\",\"pasatiempo\":\"Exterior(Parques, restaurantes, etc.)\",\"personalidad\":\"Extrovertido\",\"peliculas\":\"Star wars\",\"comida\":\"No tengo preferencia\",\"loteria\":\"Hacer fiestas grandes\",\"bebida\":\"Jugos de fruta\",\"b_alcoholica\":\"Vino\",\"viaje\":\"El caribe\",\"musica\":\"Pop latino\\\\/reguet\\\\u00f3n\",\"prioridad_pareja\":\"Fisico\",\"terapia\":\"Ejercicio\",\"nombre\":\"81\"},{\"orientacion\":\"Heterosexual\",\"genero\":\"Mujer\",\"telefono\":1,\"mascota\":\"Gatos\",\"signo\":\"Leo\",\"entretenimiento\":\"Libros\",\"pasatiempo\":\"Interior(Cines, en casa, etc.)\",\"personalidad\":\"Extrovertido pero timido\",\"peliculas\":\"Piratas del caribe\",\"comida\":\"Dulces\",\"loteria\":\"Hacer fiestas grandes\",\"bebida\":\"Cafe\",\"b_alcoholica\":\"Cerveza\",\"viaje\":\"Estados unidos\",\"musica\":\"Pop en ingles\",\"prioridad_pareja\":\"Fisico\",\"terapia\":\"Como mis penas\",\"nombre\":\"82\"},{\"orientacion\":\"Bisexual\",\"genero\":\"Mujer\",\"telefono\":1,\"mascota\":\"Reptiles\",\"signo\":\"Tauro\",\"entretenimiento\":\"Peliculas\",\"pasatiempo\":\"Interior(Cines, en casa, etc.)\",\"personalidad\":\"Extrovertido\",\"peliculas\":\"Distopica juvenil(Juegos del hambre, maze runner, etc)\",\"comida\":\"Ambos juntos\",\"loteria\":\"Viajar por el mundo\",\"bebida\":\"Soda\",\"b_alcoholica\":\"Guarapo\",\"viaje\":\"Europa\",\"musica\":\"Cumbiones\\\\/Nacional\",\"prioridad_pareja\":\"Limpieza\",\"terapia\":\"Como mis penas\",\"nombre\":\"83\"},{\"orientacion\":\"Homosexual\",\"genero\":\"Mujer\",\"telefono\":1,\"mascota\":\"Reptiles\",\"signo\":\"Tauro\",\"entretenimiento\":\"Peliculas\",\"pasatiempo\":\"Interior(Cines, en casa, etc.)\",\"personalidad\":\"Extrovertido\",\"peliculas\":\"Distopica juvenil(Juegos del hambre, maze runner, etc)\",\"comida\":\"No tengo preferencia\",\"loteria\":\"Viajar por el mundo\",\"bebida\":\"Soda\",\"b_alcoholica\":\"Guarapo\",\"viaje\":\"Estados unidos\",\"musica\":\"Cumbiones\\\\/Nacional\",\"prioridad_pareja\":\"Limpieza\",\"terapia\":\"Busco alguien para desahogarme\",\"nombre\":\"84\"},{\"orientacion\":\"Bisexual\",\"genero\":\"Hombre\",\"telefono\":1,\"mascota\":\"Reptiles\",\"signo\":\"Tauro\",\"entretenimiento\":\"Series\",\"pasatiempo\":\"Exterior(Parques, restaurantes, etc.)\",\"personalidad\":\"Extrovertido\",\"peliculas\":\"Distopica juvenil(Juegos del hambre, maze runner, etc)\",\"comida\":\"Ambos juntos\",\"loteria\":\"Viajar por el mundo\",\"bebida\":\"Soda\",\"b_alcoholica\":\"Guarapo\",\"viaje\":\"Estados unidos\",\"musica\":\"Pop latino\\\\/reguet\\\\u00f3n\",\"prioridad_pareja\":\"Limpieza\",\"terapia\":\"Vivo con el dolor\",\"nombre\":\"85\"},{\"orientacion\":\"Heterosexual\",\"genero\":\"Hombre\",\"telefono\":1,\"mascota\":\"Aves\",\"signo\":\"Tauro\",\"entretenimiento\":\"Series\",\"pasatiempo\":\"Exterior(Parques, restaurantes, etc.)\",\"personalidad\":\"Extrovertido\",\"peliculas\":\"MCU(Marvel)\",\"comida\":\"Ambos juntos\",\"loteria\":\"Viajar por el mundo\",\"bebida\":\"Agua\",\"b_alcoholica\":\"Guarapo\",\"viaje\":\"Europa\",\"musica\":\"Rock espa\\\\u00f1ol\\\\/ingles\",\"prioridad_pareja\":\"Limpieza\",\"terapia\":\"Entretenimiento(Peliculas, series, musica)\",\"nombre\":\"86\"},{\"orientacion\":\"Homosexual\",\"genero\":\"Mujer\",\"telefono\":1,\"mascota\":\"Mucha responsabilidad\",\"signo\":\"Libra\",\"entretenimiento\":\"Videojuegos\",\"pasatiempo\":\"Interior(Cines, en casa, etc.)\",\"personalidad\":\"Extrovertido pero timido\",\"peliculas\":\"Star wars\",\"comida\":\"No tengo preferencia\",\"loteria\":\"Invertirlo\",\"bebida\":\"Jugos de fruta\",\"b_alcoholica\":\"Licores dulces(Jagger, 3 plumas, goss cake, etc)\",\"viaje\":\"El caribe\",\"musica\":\"Alternativa\\\\/Indie\",\"prioridad_pareja\":\"Dinero\\\\/estatus social\",\"terapia\":\"Busco alguien para desahogarme\",\"nombre\":\"87\"},{\"orientacion\":\"Heterosexual\",\"genero\":\"Hombre\",\"telefono\":1,\"mascota\":\"Perros\",\"signo\":\"Cancer\",\"entretenimiento\":\"Videojuegos\",\"pasatiempo\":\"Exterior(Parques, restaurantes, etc.)\",\"personalidad\":\"Extrovertido\",\"peliculas\":\"Harry potter\",\"comida\":\"Salado\",\"loteria\":\"Hacer fiestas grandes\",\"bebida\":\"Te\",\"b_alcoholica\":\"Vino\",\"viaje\":\"Asia\",\"musica\":\"Pop latino\\\\/reguet\\\\u00f3n\",\"prioridad_pareja\":\"Fisico\",\"terapia\":\"Entretenimiento(Peliculas, series, musica)\",\"nombre\":\"88\"},{\"orientacion\":\"Heterosexual\",\"genero\":\"Mujer\",\"telefono\":1,\"mascota\":\"Aves\",\"signo\":\"Geminis\",\"entretenimiento\":\"Videojuegos\",\"pasatiempo\":\"Interior(Cines, en casa, etc.)\",\"personalidad\":\"Extrovertido\",\"peliculas\":\"MCU(Marvel)\",\"comida\":\"Ambos juntos\",\"loteria\":\"Viajar por el mundo\",\"bebida\":\"Agua\",\"b_alcoholica\":\"Vino\",\"viaje\":\"Asia\",\"musica\":\"Alternativa\\\\/Indie\",\"prioridad_pareja\":\"Limpieza\",\"terapia\":\"Como mis penas\",\"nombre\":\"89\"},{\"orientacion\":\"Heterosexual\",\"genero\":\"Mujer\",\"telefono\":1,\"mascota\":\"Perros\",\"signo\":\"Sagitario\",\"entretenimiento\":\"Series\",\"pasatiempo\":\"Interior(Cines, en casa, etc.)\",\"personalidad\":\"Introvertido pero abierto a nuevas experiencias\",\"peliculas\":\"Harry potter\",\"comida\":\"Salado\",\"loteria\":\"Hacer caridad\",\"bebida\":\"Te\",\"b_alcoholica\":\"No tomo\",\"viaje\":\"Asia\",\"musica\":\"Cumbiones\\\\/Nacional\",\"prioridad_pareja\":\"Madurez\",\"terapia\":\"Vivo con el dolor\",\"nombre\":\"90\"},{\"orientacion\":\"Heterosexual\",\"genero\":\"Hombre\",\"telefono\":1,\"mascota\":\"Perros\",\"signo\":\"Virgo\",\"entretenimiento\":\"Videojuegos\",\"pasatiempo\":\"Exterior(Parques, restaurantes, etc.)\",\"personalidad\":\"Extrovertido pero timido\",\"peliculas\":\"Harry potter\",\"comida\":\"Salado\",\"loteria\":\"Hacer fiestas grandes\",\"bebida\":\"Te\",\"b_alcoholica\":\"Cerveza\",\"viaje\":\"El caribe\",\"musica\":\"Rock espa\\\\u00f1ol\\\\/ingles\",\"prioridad_pareja\":\"Fisico\",\"terapia\":\"Como mis penas\",\"nombre\":\"91\"},{\"orientacion\":\"Heterosexual\",\"genero\":\"Mujer\",\"telefono\":1,\"mascota\":\"Aves\",\"signo\":\"Capricornio\",\"entretenimiento\":\"Peliculas\",\"pasatiempo\":\"Interior(Cines, en casa, etc.)\",\"personalidad\":\"Introvertido pero abierto a nuevas experiencias\",\"peliculas\":\"MCU(Marvel)\",\"comida\":\"Ambos juntos\",\"loteria\":\"Hacer caridad\",\"bebida\":\"Agua\",\"b_alcoholica\":\"No tomo\",\"viaje\":\"Asia\",\"musica\":\"Cumbiones\\\\/Nacional\",\"prioridad_pareja\":\"Madurez\",\"terapia\":\"Busco alguien para desahogarme\",\"nombre\":\"92\"},{\"orientacion\":\"Homosexual\",\"genero\":\"Hombre\",\"telefono\":1,\"mascota\":\"Mucha responsabilidad\",\"signo\":\"Virgo\",\"entretenimiento\":\"Peliculas\",\"pasatiempo\":\"Exterior(Parques, restaurantes, etc.)\",\"personalidad\":\"Extrovertido pero timido\",\"peliculas\":\"Star wars\",\"comida\":\"No tengo preferencia\",\"loteria\":\"Invertirlo\",\"bebida\":\"Jugos de fruta\",\"b_alcoholica\":\"Cerveza\",\"viaje\":\"Estados unidos\",\"musica\":\"Pop latino\\\\/reguet\\\\u00f3n\",\"prioridad_pareja\":\"Dinero\\\\/estatus social\",\"terapia\":\"Como mis penas\",\"nombre\":\"93\"},{\"orientacion\":\"Heterosexual\",\"genero\":\"Mujer\",\"telefono\":1,\"mascota\":\"Perros\",\"signo\":\"Escorpio\",\"entretenimiento\":\"Videojuegos\",\"pasatiempo\":\"Interior(Cines, en casa, etc.)\",\"personalidad\":\"Introvertido pero abierto a nuevas experiencias\",\"peliculas\":\"Harry potter\",\"comida\":\"Dulces\",\"loteria\":\"Hacer caridad\",\"bebida\":\"Te\",\"b_alcoholica\":\"Licores dulces(Jagger, 3 plumas, goss cake, etc)\",\"viaje\":\"El caribe\",\"musica\":\"Cumbiones\\\\/Nacional\",\"prioridad_pareja\":\"Madurez\",\"terapia\":\"Ejercicio\",\"nombre\":\"94\"},{\"orientacion\":\"Heterosexual\",\"genero\":\"Hombre\",\"telefono\":1,\"mascota\":\"Gatos\",\"signo\":\"Capricornio\",\"entretenimiento\":\"Videojuegos\",\"pasatiempo\":\"Exterior(Parques, restaurantes, etc.)\",\"personalidad\":\"Introvertido pero abierto a nuevas experiencias\",\"peliculas\":\"Piratas del caribe\",\"comida\":\"Dulces\",\"loteria\":\"Hacer caridad\",\"bebida\":\"Cafe\",\"b_alcoholica\":\"No tomo\",\"viaje\":\"Asia\",\"musica\":\"Pop en ingles\",\"prioridad_pareja\":\"Madurez\",\"terapia\":\"Vivo con el dolor\",\"nombre\":\"95\"},{\"orientacion\":\"Heterosexual\",\"genero\":\"Hombre\",\"telefono\":1,\"mascota\":\"Perros\",\"signo\":\"Tauro\",\"entretenimiento\":\"Peliculas\",\"pasatiempo\":\"Exterior(Parques, restaurantes, etc.)\",\"personalidad\":\"Extrovertido\",\"peliculas\":\"Harry potter\",\"comida\":\"Dulces\",\"loteria\":\"Viajar por el mundo\",\"bebida\":\"Te\",\"b_alcoholica\":\"Guarapo\",\"viaje\":\"Asia\",\"musica\":\"Rock espa\\\\u00f1ol\\\\/ingles\",\"prioridad_pareja\":\"Limpieza\",\"terapia\":\"Vivo con el dolor\",\"nombre\":\"96\"}]'"
      ]
     },
     "execution_count": 13,
     "metadata": {},
     "output_type": "execute_result"
    }
   ],
   "source": [
    "myjson"
   ]
  },
  {
   "cell_type": "code",
   "execution_count": null,
   "metadata": {
    "id": "BOZnGhBs16YE"
   },
   "outputs": [],
   "source": [
    "#paid_users"
   ]
  },
  {
   "cell_type": "code",
   "execution_count": null,
   "metadata": {
    "id": "OWP5q-J448Sg"
   },
   "outputs": [],
   "source": [
    "#for index, row in paid_users.iterrows():\n",
    "  #print(row)"
   ]
  },
  {
   "cell_type": "code",
   "execution_count": 14,
   "metadata": {
    "id": "YuztU7gE5_Oz"
   },
   "outputs": [],
   "source": [
    "json_data = [] # your list with json objects (dicts)\n",
    "\n",
    "with open('users.json') as json_file:\n",
    "   json_data = json.load(json_file)"
   ]
  },
  {
   "cell_type": "code",
   "execution_count": 15,
   "metadata": {
    "colab": {
     "base_uri": "https://localhost:8080/"
    },
    "id": "vT6tb_8i6yF5",
    "outputId": "c231a3c8-a485-4f02-bd41-d03a186c2228"
   },
   "outputs": [
    {
     "name": "stdout",
     "output_type": "stream",
     "text": [
      "{'orientacion': 'Heterosexual', 'genero': 'Hombre', 'telefono': 314159265357278, 'mascota': 'Perros', 'signo': 'Virgo', 'entretenimiento': 'Videojuegos', 'pasatiempo': 'Interior(Cines, en casa, etc.)', 'personalidad': 'Introvertido', 'peliculas': 'MCU(Marvel)', 'comida': 'Dulces', 'loteria': 'Invertirlo', 'bebida': 'Soda', 'b_alcoholica': '(Ron, vodka, Tequila, singani) y sus cocteles', 'viaje': 'Asia', 'musica': 'Rock español/ingles', 'prioridad_pareja': 'Dinero/estatus social', 'terapia': 'Entretenimiento(Peliculas, series, musica)', 'nombre': 'gigachad'}\n",
      "{'orientacion': 'Heterosexual', 'genero': 'Hombre', 'telefono': 68969696, 'mascota': 'Perros', 'signo': 'Libra', 'entretenimiento': 'Videojuegos', 'pasatiempo': 'Interior(Cines, en casa, etc.)', 'personalidad': 'Extrovertido pero timido', 'peliculas': 'MCU(Marvel)', 'comida': 'Dulces', 'loteria': 'Gastarlo en familia y en ti', 'bebida': 'Soda', 'b_alcoholica': 'Cerveza', 'viaje': 'Asia', 'musica': 'Pop en ingles', 'prioridad_pareja': 'Sentido del humor', 'terapia': 'Entretenimiento(Peliculas, series, musica)', 'nombre': 'Nicolas Cari'}\n",
      "{'orientacion': 'Heterosexual', 'genero': 'Hombre', 'telefono': 72849649, 'mascota': 'Perros', 'signo': 'Geminis', 'entretenimiento': 'Peliculas', 'pasatiempo': 'Interior(Cines, en casa, etc.)', 'personalidad': 'Introvertido pero abierto a nuevas experiencias', 'peliculas': 'MCU(Marvel)', 'comida': 'Salado', 'loteria': 'Gastarlo en familia y en ti', 'bebida': 'Cafe', 'b_alcoholica': 'Licores dulces(Jagger, 3 plumas, goss cake, etc)', 'viaje': 'Asia', 'musica': 'Pop latino/reguetón', 'prioridad_pareja': 'Limpieza', 'terapia': 'Ejercicio', 'nombre': 'gabriel balderrama'}\n",
      "{'orientacion': 'Homosexual', 'genero': 'Hombre', 'telefono': 1, 'mascota': 'Reptiles', 'signo': 'Aries', 'entretenimiento': 'Series', 'pasatiempo': 'Exterior(Parques, restaurantes, etc.)', 'personalidad': 'Introvertido', 'peliculas': 'Distopica juvenil(Juegos del hambre, maze runner, etc)', 'comida': 'No tengo preferencia', 'loteria': 'Gastarlo en familia y en ti', 'bebida': 'Soda', 'b_alcoholica': 'Guarapo', 'viaje': 'Europa', 'musica': 'Rock español/ingles', 'prioridad_pareja': 'Sentido del humor', 'terapia': 'Busco alguien para desahogarme', 'nombre': '1'}\n",
      "{'orientacion': 'Heterosexual', 'genero': 'Hombre', 'telefono': 1, 'mascota': 'Gatos', 'signo': 'Aries', 'entretenimiento': 'Series', 'pasatiempo': 'Exterior(Parques, restaurantes, etc.)', 'personalidad': 'Introvertido', 'peliculas': 'Piratas del caribe', 'comida': 'Dulces', 'loteria': 'Viajar por el mundo', 'bebida': 'Cafe', 'b_alcoholica': 'Guarapo', 'viaje': 'Europa', 'musica': 'Pop latino/reguetón', 'prioridad_pareja': 'Limpieza', 'terapia': 'Entretenimiento(Peliculas, series, musica)', 'nombre': '2'}\n",
      "{'orientacion': 'Heterosexual', 'genero': 'Mujer', 'telefono': 1, 'mascota': 'Aves', 'signo': 'Libra', 'entretenimiento': 'Peliculas', 'pasatiempo': 'Interior(Cines, en casa, etc.)', 'personalidad': 'Extrovertido pero timido', 'peliculas': 'MCU(Marvel)', 'comida': 'Salado', 'loteria': 'Invertirlo', 'bebida': 'Agua', 'b_alcoholica': 'Licores dulces(Jagger, 3 plumas, goss cake, etc)', 'viaje': 'Europa', 'musica': 'Alternativa/Indie', 'prioridad_pareja': 'Dinero/estatus social', 'terapia': 'Entretenimiento(Peliculas, series, musica)', 'nombre': '3'}\n",
      "{'orientacion': 'Heterosexual', 'genero': 'Mujer', 'telefono': 1, 'mascota': 'Gatos', 'signo': 'Acuario', 'entretenimiento': 'Series', 'pasatiempo': 'Interior(Cines, en casa, etc.)', 'personalidad': 'Introvertido', 'peliculas': 'Piratas del caribe', 'comida': 'Dulces', 'loteria': 'Gastarlo en familia y en ti', 'bebida': 'Cafe', 'b_alcoholica': '(Ron, vodka, Tequila, singani) y sus cocteles', 'viaje': 'Estados unidos', 'musica': 'Alternativa/Indie', 'prioridad_pareja': 'Sentido del humor', 'terapia': 'Como mis penas', 'nombre': '4'}\n",
      "{'orientacion': 'Heterosexual', 'genero': 'Mujer', 'telefono': 1, 'mascota': 'Gatos', 'signo': 'Cancer', 'entretenimiento': 'Series', 'pasatiempo': 'Interior(Cines, en casa, etc.)', 'personalidad': 'Extrovertido', 'peliculas': 'Piratas del caribe', 'comida': 'Dulces', 'loteria': 'Hacer fiestas grandes', 'bebida': 'Cafe', 'b_alcoholica': 'Vino', 'viaje': 'Europa', 'musica': 'Cumbiones/Nacional', 'prioridad_pareja': 'Fisico', 'terapia': 'Busco alguien para desahogarme', 'nombre': '5'}\n",
      "{'orientacion': 'Homosexual', 'genero': 'Hombre', 'telefono': 1, 'mascota': 'Mucha responsabilidad', 'signo': 'Escorpio', 'entretenimiento': 'Series', 'pasatiempo': 'Exterior(Parques, restaurantes, etc.)', 'personalidad': 'Introvertido pero abierto a nuevas experiencias', 'peliculas': 'Star wars', 'comida': 'No tengo preferencia', 'loteria': 'Invertirlo', 'bebida': 'Jugos de fruta', 'b_alcoholica': 'Licores dulces(Jagger, 3 plumas, goss cake, etc)', 'viaje': 'Europa', 'musica': 'Pop latino/reguetón', 'prioridad_pareja': 'Dinero/estatus social', 'terapia': 'Busco alguien para desahogarme', 'nombre': '6'}\n",
      "{'orientacion': 'Heterosexual', 'genero': 'Hombre', 'telefono': 1, 'mascota': 'Aves', 'signo': 'Capricornio', 'entretenimiento': 'Videojuegos', 'pasatiempo': 'Exterior(Parques, restaurantes, etc.)', 'personalidad': 'Introvertido pero abierto a nuevas experiencias', 'peliculas': 'MCU(Marvel)', 'comida': 'Salado', 'loteria': 'Hacer caridad', 'bebida': 'Agua', 'b_alcoholica': 'No tomo', 'viaje': 'Europa', 'musica': 'Pop latino/reguetón', 'prioridad_pareja': 'Madurez', 'terapia': 'Vivo con el dolor', 'nombre': '7'}\n",
      "{'orientacion': 'Heterosexual', 'genero': 'Hombre', 'telefono': 1, 'mascota': 'Perros', 'signo': 'Virgo', 'entretenimiento': 'Series', 'pasatiempo': 'Exterior(Parques, restaurantes, etc.)', 'personalidad': 'Extrovertido pero timido', 'peliculas': 'Harry potter', 'comida': 'Salado', 'loteria': 'Hacer fiestas grandes', 'bebida': 'Te', 'b_alcoholica': 'Cerveza', 'viaje': 'Asia', 'musica': 'Rock español/ingles', 'prioridad_pareja': 'Fisico', 'terapia': 'Como mis penas', 'nombre': '8'}\n",
      "{'orientacion': 'Homosexual', 'genero': 'Mujer', 'telefono': 1, 'mascota': 'Mucha responsabilidad', 'signo': 'Escorpio', 'entretenimiento': 'Libros', 'pasatiempo': 'Interior(Cines, en casa, etc.)', 'personalidad': 'Introvertido pero abierto a nuevas experiencias', 'peliculas': 'Star wars', 'comida': 'No tengo preferencia', 'loteria': 'Invertirlo', 'bebida': 'Jugos de fruta', 'b_alcoholica': 'Licores dulces(Jagger, 3 plumas, goss cake, etc)', 'viaje': 'Europa', 'musica': 'Cumbiones/Nacional', 'prioridad_pareja': 'Dinero/estatus social', 'terapia': 'Como mis penas', 'nombre': '9'}\n",
      "{'orientacion': 'Homosexual', 'genero': 'Mujer', 'telefono': 1, 'mascota': 'Mucha responsabilidad', 'signo': 'Capricornio', 'entretenimiento': 'Series', 'pasatiempo': 'Interior(Cines, en casa, etc.)', 'personalidad': 'Introvertido pero abierto a nuevas experiencias', 'peliculas': 'Star wars', 'comida': 'No tengo preferencia', 'loteria': 'Hacer caridad', 'bebida': 'Jugos de fruta', 'b_alcoholica': 'No tomo', 'viaje': 'Africa', 'musica': 'Cumbiones/Nacional', 'prioridad_pareja': 'Madurez', 'terapia': 'Entretenimiento(Peliculas, series, musica)', 'nombre': '10'}\n",
      "{'orientacion': 'Heterosexual', 'genero': 'Mujer', 'telefono': 1, 'mascota': 'Gatos', 'signo': 'Leo', 'entretenimiento': 'Peliculas', 'pasatiempo': 'Interior(Cines, en casa, etc.)', 'personalidad': 'Extrovertido pero timido', 'peliculas': 'Piratas del caribe', 'comida': 'Dulces', 'loteria': 'Hacer fiestas grandes', 'bebida': 'Cafe', 'b_alcoholica': 'Cerveza', 'viaje': 'El caribe', 'musica': 'Alternativa/Indie', 'prioridad_pareja': 'Fisico', 'terapia': 'Entretenimiento(Peliculas, series, musica)', 'nombre': '11'}\n",
      "{'orientacion': 'Homosexual', 'genero': 'Mujer', 'telefono': 1, 'mascota': 'Mucha responsabilidad', 'signo': 'Acuario', 'entretenimiento': 'Libros', 'pasatiempo': 'Interior(Cines, en casa, etc.)', 'personalidad': 'Introvertido', 'peliculas': 'Star wars', 'comida': 'No tengo preferencia', 'loteria': 'Gastarlo en familia y en ti', 'bebida': 'Jugos de fruta', 'b_alcoholica': '(Ron, vodka, Tequila, singani) y sus cocteles', 'viaje': 'Estados unidos', 'musica': 'Alternativa/Indie', 'prioridad_pareja': 'Sentido del humor', 'terapia': 'Entretenimiento(Peliculas, series, musica)', 'nombre': '12'}\n",
      "{'orientacion': 'Heterosexual', 'genero': 'Mujer', 'telefono': 1, 'mascota': 'Perros', 'signo': 'Virgo', 'entretenimiento': 'Peliculas', 'pasatiempo': 'Interior(Cines, en casa, etc.)', 'personalidad': 'Extrovertido pero timido', 'peliculas': 'Harry potter', 'comida': 'Salado', 'loteria': 'Invertirlo', 'bebida': 'Te', 'b_alcoholica': 'Cerveza', 'viaje': 'Africa', 'musica': 'Alternativa/Indie', 'prioridad_pareja': 'Dinero/estatus social', 'terapia': 'Vivo con el dolor', 'nombre': '13'}\n",
      "{'orientacion': 'Heterosexual', 'genero': 'Hombre', 'telefono': 1, 'mascota': 'Gatos', 'signo': 'Geminis', 'entretenimiento': 'Videojuegos', 'pasatiempo': 'Exterior(Parques, restaurantes, etc.)', 'personalidad': 'Extrovertido', 'peliculas': 'Piratas del caribe', 'comida': 'Dulces', 'loteria': 'Viajar por el mundo', 'bebida': 'Cafe', 'b_alcoholica': 'Vino', 'viaje': 'Estados unidos', 'musica': 'Rock español/ingles', 'prioridad_pareja': 'Limpieza', 'terapia': 'Ejercicio', 'nombre': '14'}\n",
      "{'orientacion': 'Homosexual', 'genero': 'Mujer', 'telefono': 1, 'mascota': 'Mucha responsabilidad', 'signo': 'Geminis', 'entretenimiento': 'Peliculas', 'pasatiempo': 'Interior(Cines, en casa, etc.)', 'personalidad': 'Extrovertido', 'peliculas': 'Star wars', 'comida': 'No tengo preferencia', 'loteria': 'Viajar por el mundo', 'bebida': 'Jugos de fruta', 'b_alcoholica': 'Vino', 'viaje': 'Asia', 'musica': 'Pop en ingles', 'prioridad_pareja': 'Limpieza', 'terapia': 'Busco alguien para desahogarme', 'nombre': '15'}\n",
      "{'orientacion': 'Homosexual', 'genero': 'Hombre', 'telefono': 1, 'mascota': 'Mucha responsabilidad', 'signo': 'Piscis', 'entretenimiento': 'Series', 'pasatiempo': 'Exterior(Parques, restaurantes, etc.)', 'personalidad': 'Introvertido', 'peliculas': 'Star wars', 'comida': 'No tengo preferencia', 'loteria': 'Gastarlo en familia y en ti', 'bebida': 'Jugos de fruta', 'b_alcoholica': '(Ron, vodka, Tequila, singani) y sus cocteles', 'viaje': 'El caribe', 'musica': 'Pop latino/reguetón', 'prioridad_pareja': 'Sentido del humor', 'terapia': 'Vivo con el dolor', 'nombre': '16'}\n",
      "{'orientacion': 'Heterosexual', 'genero': 'Hombre', 'telefono': 1, 'mascota': 'Perros', 'signo': 'Piscis', 'entretenimiento': 'Peliculas', 'pasatiempo': 'Exterior(Parques, restaurantes, etc.)', 'personalidad': 'Introvertido', 'peliculas': 'Harry potter', 'comida': 'Salado', 'loteria': 'Gastarlo en familia y en ti', 'bebida': 'Te', 'b_alcoholica': '(Ron, vodka, Tequila, singani) y sus cocteles', 'viaje': 'El caribe', 'musica': 'Rock español/ingles', 'prioridad_pareja': 'Sentido del humor', 'terapia': 'Ejercicio', 'nombre': '17'}\n",
      "{'orientacion': 'Heterosexual', 'genero': 'Hombre', 'telefono': 1, 'mascota': 'Perros', 'signo': 'Tauro', 'entretenimiento': 'Libros', 'pasatiempo': 'Exterior(Parques, restaurantes, etc.)', 'personalidad': 'Extrovertido', 'peliculas': 'Harry potter', 'comida': 'Salado', 'loteria': 'Viajar por el mundo', 'bebida': 'Te', 'b_alcoholica': 'Guarapo', 'viaje': 'Estados unidos', 'musica': 'Pop en ingles', 'prioridad_pareja': 'Limpieza', 'terapia': 'Ejercicio', 'nombre': '18'}\n",
      "{'orientacion': 'Bisexual', 'genero': 'Hombre', 'telefono': 1, 'mascota': 'Reptiles', 'signo': 'Sagitario', 'entretenimiento': 'Series', 'pasatiempo': 'Exterior(Parques, restaurantes, etc.)', 'personalidad': 'Introvertido pero abierto a nuevas experiencias', 'peliculas': 'Distopica juvenil(Juegos del hambre, maze runner, etc)', 'comida': 'Ambos juntos', 'loteria': 'Hacer caridad', 'bebida': 'Soda', 'b_alcoholica': 'No tomo', 'viaje': 'Africa', 'musica': 'Pop en ingles', 'prioridad_pareja': 'Madurez', 'terapia': 'Vivo con el dolor', 'nombre': '19'}\n",
      "{'orientacion': 'Heterosexual', 'genero': 'Hombre', 'telefono': 1, 'mascota': 'Gatos', 'signo': 'Acuario', 'entretenimiento': 'Videojuegos', 'pasatiempo': 'Exterior(Parques, restaurantes, etc.)', 'personalidad': 'Introvertido', 'peliculas': 'Piratas del caribe', 'comida': 'Dulces', 'loteria': 'Gastarlo en familia y en ti', 'bebida': 'Cafe', 'b_alcoholica': '(Ron, vodka, Tequila, singani) y sus cocteles', 'viaje': 'Europa', 'musica': 'Rock español/ingles', 'prioridad_pareja': 'Sentido del humor', 'terapia': 'Ejercicio', 'nombre': '20'}\n",
      "{'orientacion': 'Homosexual', 'genero': 'Mujer', 'telefono': 1, 'mascota': 'Mucha responsabilidad', 'signo': 'Capricornio', 'entretenimiento': 'Libros', 'pasatiempo': 'Interior(Cines, en casa, etc.)', 'personalidad': 'Introvertido pero abierto a nuevas experiencias', 'peliculas': 'Star wars', 'comida': 'No tengo preferencia', 'loteria': 'Hacer caridad', 'bebida': 'Jugos de fruta', 'b_alcoholica': 'No tomo', 'viaje': 'Asia', 'musica': 'Pop en ingles', 'prioridad_pareja': 'Madurez', 'terapia': 'Ejercicio', 'nombre': '21'}\n",
      "{'orientacion': 'Heterosexual', 'genero': 'Mujer', 'telefono': 1, 'mascota': 'Perros', 'signo': 'Capricornio', 'entretenimiento': 'Series', 'pasatiempo': 'Interior(Cines, en casa, etc.)', 'personalidad': 'Introvertido pero abierto a nuevas experiencias', 'peliculas': 'Harry potter', 'comida': 'Salado', 'loteria': 'Hacer caridad', 'bebida': 'Te', 'b_alcoholica': 'No tomo', 'viaje': 'Africa', 'musica': 'Pop en ingles', 'prioridad_pareja': 'Madurez', 'terapia': 'Ejercicio', 'nombre': '22'}\n",
      "{'orientacion': 'Heterosexual', 'genero': 'Mujer', 'telefono': 1, 'mascota': 'Gatos', 'signo': 'Virgo', 'entretenimiento': 'Videojuegos', 'pasatiempo': 'Interior(Cines, en casa, etc.)', 'personalidad': 'Extrovertido pero timido', 'peliculas': 'Piratas del caribe', 'comida': 'Dulces', 'loteria': 'Invertirlo', 'bebida': 'Cafe', 'b_alcoholica': 'Cerveza', 'viaje': 'Europa', 'musica': 'Pop en ingles', 'prioridad_pareja': 'Dinero/estatus social', 'terapia': 'Ejercicio', 'nombre': '23'}\n",
      "{'orientacion': 'Heterosexual', 'genero': 'Hombre', 'telefono': 1, 'mascota': 'Perros', 'signo': 'Virgo', 'entretenimiento': 'Videojuegos', 'pasatiempo': 'Exterior(Parques, restaurantes, etc.)', 'personalidad': 'Extrovertido pero timido', 'peliculas': 'Harry potter', 'comida': 'Salado', 'loteria': 'Invertirlo', 'bebida': 'Te', 'b_alcoholica': 'Cerveza', 'viaje': 'Asia', 'musica': 'Pop en ingles', 'prioridad_pareja': 'Dinero/estatus social', 'terapia': 'Vivo con el dolor', 'nombre': '24'}\n",
      "{'orientacion': 'Homosexual', 'genero': 'Hombre', 'telefono': 1, 'mascota': 'Mucha responsabilidad', 'signo': 'Piscis', 'entretenimiento': 'Series', 'pasatiempo': 'Exterior(Parques, restaurantes, etc.)', 'personalidad': 'Introvertido', 'peliculas': 'Star wars', 'comida': 'No tengo preferencia', 'loteria': 'Gastarlo en familia y en ti', 'bebida': 'Jugos de fruta', 'b_alcoholica': '(Ron, vodka, Tequila, singani) y sus cocteles', 'viaje': 'Africa', 'musica': 'Rock español/ingles', 'prioridad_pareja': 'Sentido del humor', 'terapia': 'Vivo con el dolor', 'nombre': '25'}\n",
      "{'orientacion': 'Heterosexual', 'genero': 'Hombre', 'telefono': 1, 'mascota': 'Gatos', 'signo': 'Acuario', 'entretenimiento': 'Videojuegos', 'pasatiempo': 'Exterior(Parques, restaurantes, etc.)', 'personalidad': 'Introvertido', 'peliculas': 'Piratas del caribe', 'comida': 'Dulces', 'loteria': 'Gastarlo en familia y en ti', 'bebida': 'Cafe', 'b_alcoholica': '(Ron, vodka, Tequila, singani) y sus cocteles', 'viaje': 'El caribe', 'musica': 'Rock español/ingles', 'prioridad_pareja': 'Sentido del humor', 'terapia': 'Busco alguien para desahogarme', 'nombre': '26'}\n",
      "{'orientacion': 'Bisexual', 'genero': 'Hombre', 'telefono': 1, 'mascota': 'Reptiles', 'signo': 'Tauro', 'entretenimiento': 'Series', 'pasatiempo': 'Exterior(Parques, restaurantes, etc.)', 'personalidad': 'Extrovertido', 'peliculas': 'Distopica juvenil(Juegos del hambre, maze runner, etc)', 'comida': 'Ambos juntos', 'loteria': 'Viajar por el mundo', 'bebida': 'Soda', 'b_alcoholica': 'Guarapo', 'viaje': 'Africa', 'musica': 'Pop latino/reguetón', 'prioridad_pareja': 'Limpieza', 'terapia': 'Como mis penas', 'nombre': '27'}\n",
      "{'orientacion': 'Heterosexual', 'genero': 'Mujer', 'telefono': 1, 'mascota': 'Aves', 'signo': 'Aries', 'entretenimiento': 'Series', 'pasatiempo': 'Interior(Cines, en casa, etc.)', 'personalidad': 'Introvertido', 'peliculas': 'MCU(Marvel)', 'comida': 'Salado', 'loteria': 'Viajar por el mundo', 'bebida': 'Agua', 'b_alcoholica': 'Guarapo', 'viaje': 'Europa', 'musica': 'Cumbiones/Nacional', 'prioridad_pareja': 'Limpieza', 'terapia': 'Busco alguien para desahogarme', 'nombre': '28'}\n",
      "{'orientacion': 'Homosexual', 'genero': 'Hombre', 'telefono': 1, 'mascota': 'Mucha responsabilidad', 'signo': 'Cancer', 'entretenimiento': 'Peliculas', 'pasatiempo': 'Exterior(Parques, restaurantes, etc.)', 'personalidad': 'Extrovertido', 'peliculas': 'Star wars', 'comida': 'No tengo preferencia', 'loteria': 'Hacer fiestas grandes', 'bebida': 'Jugos de fruta', 'b_alcoholica': 'Vino', 'viaje': 'El caribe', 'musica': 'Pop latino/reguetón', 'prioridad_pareja': 'Fisico', 'terapia': 'Ejercicio', 'nombre': '29'}\n",
      "{'orientacion': 'Heterosexual', 'genero': 'Mujer', 'telefono': 1, 'mascota': 'Aves', 'signo': 'Escorpio', 'entretenimiento': 'Libros', 'pasatiempo': 'Interior(Cines, en casa, etc.)', 'personalidad': 'Introvertido pero abierto a nuevas experiencias', 'peliculas': 'MCU(Marvel)', 'comida': 'Ambos juntos', 'loteria': 'Hacer caridad', 'bebida': 'Agua', 'b_alcoholica': 'Licores dulces(Jagger, 3 plumas, goss cake, etc)', 'viaje': 'Estados unidos', 'musica': 'Pop en ingles', 'prioridad_pareja': 'Madurez', 'terapia': 'Busco alguien para desahogarme', 'nombre': '30'}\n",
      "{'orientacion': 'Bisexual', 'genero': 'Hombre', 'telefono': 1, 'mascota': 'Reptiles', 'signo': 'Acuario', 'entretenimiento': 'Series', 'pasatiempo': 'Exterior(Parques, restaurantes, etc.)', 'personalidad': 'Introvertido', 'peliculas': 'Distopica juvenil(Juegos del hambre, maze runner, etc)', 'comida': 'Ambos juntos', 'loteria': 'Gastarlo en familia y en ti', 'bebida': 'Soda', 'b_alcoholica': '(Ron, vodka, Tequila, singani) y sus cocteles', 'viaje': 'Europa', 'musica': 'Pop latino/reguetón', 'prioridad_pareja': 'Sentido del humor', 'terapia': 'Entretenimiento(Peliculas, series, musica)', 'nombre': '31'}\n",
      "{'orientacion': 'Homosexual', 'genero': 'Mujer', 'telefono': 1, 'mascota': 'Reptiles', 'signo': 'Aries', 'entretenimiento': 'Libros', 'pasatiempo': 'Interior(Cines, en casa, etc.)', 'personalidad': 'Introvertido', 'peliculas': 'Distopica juvenil(Juegos del hambre, maze runner, etc)', 'comida': 'No tengo preferencia', 'loteria': 'Viajar por el mundo', 'bebida': 'Soda', 'b_alcoholica': 'Guarapo', 'viaje': 'Europa', 'musica': 'Alternativa/Indie', 'prioridad_pareja': 'Limpieza', 'terapia': 'Busco alguien para desahogarme', 'nombre': '32'}\n",
      "{'orientacion': 'Heterosexual', 'genero': 'Hombre', 'telefono': 1, 'mascota': 'Perros', 'signo': 'Piscis', 'entretenimiento': 'Peliculas', 'pasatiempo': 'Exterior(Parques, restaurantes, etc.)', 'personalidad': 'Introvertido', 'peliculas': 'Harry potter', 'comida': 'Salado', 'loteria': 'Gastarlo en familia y en ti', 'bebida': 'Te', 'b_alcoholica': '(Ron, vodka, Tequila, singani) y sus cocteles', 'viaje': 'Africa', 'musica': 'Pop latino/reguetón', 'prioridad_pareja': 'Sentido del humor', 'terapia': 'Ejercicio', 'nombre': '33'}\n",
      "{'orientacion': 'Heterosexual', 'genero': 'Mujer', 'telefono': 1, 'mascota': 'Aves', 'signo': 'Capricornio', 'entretenimiento': 'Peliculas', 'pasatiempo': 'Interior(Cines, en casa, etc.)', 'personalidad': 'Introvertido pero abierto a nuevas experiencias', 'peliculas': 'MCU(Marvel)', 'comida': 'Salado', 'loteria': 'Hacer caridad', 'bebida': 'Agua', 'b_alcoholica': 'No tomo', 'viaje': 'Estados unidos', 'musica': 'Pop en ingles', 'prioridad_pareja': 'Madurez', 'terapia': 'Vivo con el dolor', 'nombre': '34'}\n",
      "{'orientacion': 'Heterosexual', 'genero': 'Hombre', 'telefono': 1, 'mascota': 'Perros', 'signo': 'Cancer', 'entretenimiento': 'Videojuegos', 'pasatiempo': 'Exterior(Parques, restaurantes, etc.)', 'personalidad': 'Extrovertido', 'peliculas': 'Harry potter', 'comida': 'Salado', 'loteria': 'Hacer fiestas grandes', 'bebida': 'Te', 'b_alcoholica': 'Vino', 'viaje': 'Estados unidos', 'musica': 'Rock español/ingles', 'prioridad_pareja': 'Fisico', 'terapia': 'Como mis penas', 'nombre': '35'}\n",
      "{'orientacion': 'Homosexual', 'genero': 'Mujer', 'telefono': 1, 'mascota': 'Reptiles', 'signo': 'Virgo', 'entretenimiento': 'Libros', 'pasatiempo': 'Interior(Cines, en casa, etc.)', 'personalidad': 'Extrovertido pero timido', 'peliculas': 'Distopica juvenil(Juegos del hambre, maze runner, etc)', 'comida': 'No tengo preferencia', 'loteria': 'Invertirlo', 'bebida': 'Soda', 'b_alcoholica': 'Cerveza', 'viaje': 'Africa', 'musica': 'Cumbiones/Nacional', 'prioridad_pareja': 'Dinero/estatus social', 'terapia': 'Entretenimiento(Peliculas, series, musica)', 'nombre': '36'}\n",
      "{'orientacion': 'Heterosexual', 'genero': 'Mujer', 'telefono': 1, 'mascota': 'Perros', 'signo': 'Leo', 'entretenimiento': 'Series', 'pasatiempo': 'Interior(Cines, en casa, etc.)', 'personalidad': 'Extrovertido pero timido', 'peliculas': 'Harry potter', 'comida': 'Dulces', 'loteria': 'Hacer fiestas grandes', 'bebida': 'Te', 'b_alcoholica': 'Cerveza', 'viaje': 'Africa', 'musica': 'Alternativa/Indie', 'prioridad_pareja': 'Fisico', 'terapia': 'Como mis penas', 'nombre': '37'}\n",
      "{'orientacion': 'Homosexual', 'genero': 'Mujer', 'telefono': 1, 'mascota': 'Mucha responsabilidad', 'signo': 'Cancer', 'entretenimiento': 'Peliculas', 'pasatiempo': 'Interior(Cines, en casa, etc.)', 'personalidad': 'Extrovertido', 'peliculas': 'Star wars', 'comida': 'No tengo preferencia', 'loteria': 'Hacer fiestas grandes', 'bebida': 'Jugos de fruta', 'b_alcoholica': 'Vino', 'viaje': 'El caribe', 'musica': 'Cumbiones/Nacional', 'prioridad_pareja': 'Fisico', 'terapia': 'Entretenimiento(Peliculas, series, musica)', 'nombre': '38'}\n",
      "{'orientacion': 'Homosexual', 'genero': 'Mujer', 'telefono': 1, 'mascota': 'Mucha responsabilidad', 'signo': 'Geminis', 'entretenimiento': 'Videojuegos', 'pasatiempo': 'Interior(Cines, en casa, etc.)', 'personalidad': 'Extrovertido', 'peliculas': 'Star wars', 'comida': 'No tengo preferencia', 'loteria': 'Viajar por el mundo', 'bebida': 'Jugos de fruta', 'b_alcoholica': 'Vino', 'viaje': 'Estados unidos', 'musica': 'Alternativa/Indie', 'prioridad_pareja': 'Limpieza', 'terapia': 'Vivo con el dolor', 'nombre': '39'}\n",
      "{'orientacion': 'Heterosexual', 'genero': 'Hombre', 'telefono': 1, 'mascota': 'Aves', 'signo': 'Geminis', 'entretenimiento': 'Videojuegos', 'pasatiempo': 'Exterior(Parques, restaurantes, etc.)', 'personalidad': 'Extrovertido', 'peliculas': 'MCU(Marvel)', 'comida': 'Salado', 'loteria': 'Viajar por el mundo', 'bebida': 'Agua', 'b_alcoholica': 'Vino', 'viaje': 'Asia', 'musica': 'Rock español/ingles', 'prioridad_pareja': 'Limpieza', 'terapia': 'Como mis penas', 'nombre': '40'}\n",
      "{'orientacion': 'Heterosexual', 'genero': 'Mujer', 'telefono': 1, 'mascota': 'Perros', 'signo': 'Libra', 'entretenimiento': 'Videojuegos', 'pasatiempo': 'Interior(Cines, en casa, etc.)', 'personalidad': 'Extrovertido pero timido', 'peliculas': 'Harry potter', 'comida': 'Dulces', 'loteria': 'Invertirlo', 'bebida': 'Te', 'b_alcoholica': 'Licores dulces(Jagger, 3 plumas, goss cake, etc)', 'viaje': 'Africa', 'musica': 'Cumbiones/Nacional', 'prioridad_pareja': 'Dinero/estatus social', 'terapia': 'Entretenimiento(Peliculas, series, musica)', 'nombre': '41'}\n",
      "{'orientacion': 'Heterosexual', 'genero': 'Mujer', 'telefono': 1, 'mascota': 'Perros', 'signo': 'Tauro', 'entretenimiento': 'Libros', 'pasatiempo': 'Interior(Cines, en casa, etc.)', 'personalidad': 'Extrovertido', 'peliculas': 'Harry potter', 'comida': 'Salado', 'loteria': 'Viajar por el mundo', 'bebida': 'Te', 'b_alcoholica': 'Guarapo', 'viaje': 'Asia', 'musica': 'Alternativa/Indie', 'prioridad_pareja': 'Limpieza', 'terapia': 'Como mis penas', 'nombre': '42'}\n",
      "{'orientacion': 'Homosexual', 'genero': 'Mujer', 'telefono': 1, 'mascota': 'Reptiles', 'signo': 'Aries', 'entretenimiento': 'Videojuegos', 'pasatiempo': 'Interior(Cines, en casa, etc.)', 'personalidad': 'Introvertido', 'peliculas': 'Distopica juvenil(Juegos del hambre, maze runner, etc)', 'comida': 'No tengo preferencia', 'loteria': 'Viajar por el mundo', 'bebida': 'Soda', 'b_alcoholica': 'Guarapo', 'viaje': 'Africa', 'musica': 'Cumbiones/Nacional', 'prioridad_pareja': 'Limpieza', 'terapia': 'Vivo con el dolor', 'nombre': '43'}\n",
      "{'orientacion': 'Heterosexual', 'genero': 'Hombre', 'telefono': 1, 'mascota': 'Aves', 'signo': 'Cancer', 'entretenimiento': 'Libros', 'pasatiempo': 'Exterior(Parques, restaurantes, etc.)', 'personalidad': 'Extrovertido', 'peliculas': 'MCU(Marvel)', 'comida': 'Salado', 'loteria': 'Hacer fiestas grandes', 'bebida': 'Agua', 'b_alcoholica': 'Vino', 'viaje': 'Asia', 'musica': 'Rock español/ingles', 'prioridad_pareja': 'Fisico', 'terapia': 'Vivo con el dolor', 'nombre': '44'}\n",
      "{'orientacion': 'Heterosexual', 'genero': 'Hombre', 'telefono': 1, 'mascota': 'Perros', 'signo': 'Capricornio', 'entretenimiento': 'Peliculas', 'pasatiempo': 'Exterior(Parques, restaurantes, etc.)', 'personalidad': 'Introvertido pero abierto a nuevas experiencias', 'peliculas': 'Harry potter', 'comida': 'Salado', 'loteria': 'Hacer caridad', 'bebida': 'Te', 'b_alcoholica': 'No tomo', 'viaje': 'Africa', 'musica': 'Rock español/ingles', 'prioridad_pareja': 'Madurez', 'terapia': 'Busco alguien para desahogarme', 'nombre': '45'}\n",
      "{'orientacion': 'Heterosexual', 'genero': 'Hombre', 'telefono': 1, 'mascota': 'Gatos', 'signo': 'Escorpio', 'entretenimiento': 'Peliculas', 'pasatiempo': 'Exterior(Parques, restaurantes, etc.)', 'personalidad': 'Introvertido pero abierto a nuevas experiencias', 'peliculas': 'Piratas del caribe', 'comida': 'Dulces', 'loteria': 'Invertirlo', 'bebida': 'Cafe', 'b_alcoholica': 'Licores dulces(Jagger, 3 plumas, goss cake, etc)', 'viaje': 'Estados unidos', 'musica': 'Pop latino/reguetón', 'prioridad_pareja': 'Dinero/estatus social', 'terapia': 'Entretenimiento(Peliculas, series, musica)', 'nombre': '46'}\n",
      "{'orientacion': 'Heterosexual', 'genero': 'Mujer', 'telefono': 1, 'mascota': 'Aves', 'signo': 'Leo', 'entretenimiento': 'Peliculas', 'pasatiempo': 'Interior(Cines, en casa, etc.)', 'personalidad': 'Extrovertido pero timido', 'peliculas': 'MCU(Marvel)', 'comida': 'Ambos juntos', 'loteria': 'Hacer fiestas grandes', 'bebida': 'Agua', 'b_alcoholica': 'Cerveza', 'viaje': 'Estados unidos', 'musica': 'Alternativa/Indie', 'prioridad_pareja': 'Fisico', 'terapia': 'Ejercicio', 'nombre': '47'}\n",
      "{'orientacion': 'Heterosexual', 'genero': 'Mujer', 'telefono': 1, 'mascota': 'Gatos', 'signo': 'Escorpio', 'entretenimiento': 'Series', 'pasatiempo': 'Interior(Cines, en casa, etc.)', 'personalidad': 'Introvertido pero abierto a nuevas experiencias', 'peliculas': 'Piratas del caribe', 'comida': 'Dulces', 'loteria': 'Invertirlo', 'bebida': 'Cafe', 'b_alcoholica': 'Licores dulces(Jagger, 3 plumas, goss cake, etc)', 'viaje': 'Estados unidos', 'musica': 'Pop en ingles', 'prioridad_pareja': 'Dinero/estatus social', 'terapia': 'Entretenimiento(Peliculas, series, musica)', 'nombre': '48'}\n",
      "{'orientacion': 'Heterosexual', 'genero': 'Mujer', 'telefono': 1, 'mascota': 'Aves', 'signo': 'Acuario', 'entretenimiento': 'Series', 'pasatiempo': 'Interior(Cines, en casa, etc.)', 'personalidad': 'Introvertido', 'peliculas': 'MCU(Marvel)', 'comida': 'Salado', 'loteria': 'Gastarlo en familia y en ti', 'bebida': 'Agua', 'b_alcoholica': '(Ron, vodka, Tequila, singani) y sus cocteles', 'viaje': 'Europa', 'musica': 'Alternativa/Indie', 'prioridad_pareja': 'Sentido del humor', 'terapia': 'Entretenimiento(Peliculas, series, musica)', 'nombre': '49'}\n",
      "{'orientacion': 'Heterosexual', 'genero': 'Mujer', 'telefono': 1, 'mascota': 'Aves', 'signo': 'Capricornio', 'entretenimiento': 'Peliculas', 'pasatiempo': 'Interior(Cines, en casa, etc.)', 'personalidad': 'Introvertido pero abierto a nuevas experiencias', 'peliculas': 'MCU(Marvel)', 'comida': 'Ambos juntos', 'loteria': 'Hacer caridad', 'bebida': 'Agua', 'b_alcoholica': 'No tomo', 'viaje': 'Europa', 'musica': 'Alternativa/Indie', 'prioridad_pareja': 'Madurez', 'terapia': 'Busco alguien para desahogarme', 'nombre': '50'}\n",
      "{'orientacion': 'Heterosexual', 'genero': 'Hombre', 'telefono': 1, 'mascota': 'Gatos', 'signo': 'Leo', 'entretenimiento': 'Libros', 'pasatiempo': 'Exterior(Parques, restaurantes, etc.)', 'personalidad': 'Extrovertido pero timido', 'peliculas': 'Piratas del caribe', 'comida': 'Dulces', 'loteria': 'Hacer fiestas grandes', 'bebida': 'Cafe', 'b_alcoholica': 'Cerveza', 'viaje': 'Estados unidos', 'musica': 'Pop latino/reguetón', 'prioridad_pareja': 'Fisico', 'terapia': 'Ejercicio', 'nombre': '51'}\n",
      "{'orientacion': 'Homosexual', 'genero': 'Mujer', 'telefono': 1, 'mascota': 'Mucha responsabilidad', 'signo': 'Libra', 'entretenimiento': 'Peliculas', 'pasatiempo': 'Interior(Cines, en casa, etc.)', 'personalidad': 'Extrovertido pero timido', 'peliculas': 'Star wars', 'comida': 'No tengo preferencia', 'loteria': 'Invertirlo', 'bebida': 'Jugos de fruta', 'b_alcoholica': 'Licores dulces(Jagger, 3 plumas, goss cake, etc)', 'viaje': 'Africa', 'musica': 'Pop en ingles', 'prioridad_pareja': 'Dinero/estatus social', 'terapia': 'Busco alguien para desahogarme', 'nombre': '52'}\n",
      "{'orientacion': 'Bisexual', 'genero': 'Hombre', 'telefono': 1, 'mascota': 'Reptiles', 'signo': 'Piscis', 'entretenimiento': 'Videojuegos', 'pasatiempo': 'Exterior(Parques, restaurantes, etc.)', 'personalidad': 'Introvertido', 'peliculas': 'Distopica juvenil(Juegos del hambre, maze runner, etc)', 'comida': 'Ambos juntos', 'loteria': 'Gastarlo en familia y en ti', 'bebida': 'Soda', 'b_alcoholica': '(Ron, vodka, Tequila, singani) y sus cocteles', 'viaje': 'Estados unidos', 'musica': 'Pop latino/reguetón', 'prioridad_pareja': 'Sentido del humor', 'terapia': 'Entretenimiento(Peliculas, series, musica)', 'nombre': '53'}\n",
      "{'orientacion': 'Bisexual', 'genero': 'Mujer', 'telefono': 1, 'mascota': 'Reptiles', 'signo': 'Leo', 'entretenimiento': 'Libros', 'pasatiempo': 'Interior(Cines, en casa, etc.)', 'personalidad': 'Extrovertido pero timido', 'peliculas': 'Distopica juvenil(Juegos del hambre, maze runner, etc)', 'comida': 'Ambos juntos', 'loteria': 'Hacer fiestas grandes', 'bebida': 'Soda', 'b_alcoholica': 'Cerveza', 'viaje': 'Asia', 'musica': 'Alternativa/Indie', 'prioridad_pareja': 'Fisico', 'terapia': 'Ejercicio', 'nombre': '54'}\n",
      "{'orientacion': 'Heterosexual', 'genero': 'Hombre', 'telefono': 1, 'mascota': 'Perros', 'signo': 'Virgo', 'entretenimiento': 'Series', 'pasatiempo': 'Exterior(Parques, restaurantes, etc.)', 'personalidad': 'Extrovertido pero timido', 'peliculas': 'Harry potter', 'comida': 'Salado', 'loteria': 'Hacer fiestas grandes', 'bebida': 'Te', 'b_alcoholica': 'Cerveza', 'viaje': 'Africa', 'musica': 'Pop en ingles', 'prioridad_pareja': 'Fisico', 'terapia': 'Vivo con el dolor', 'nombre': '55'}\n",
      "{'orientacion': 'Homosexual', 'genero': 'Hombre', 'telefono': 1, 'mascota': 'Mucha responsabilidad', 'signo': 'Capricornio', 'entretenimiento': 'Videojuegos', 'pasatiempo': 'Exterior(Parques, restaurantes, etc.)', 'personalidad': 'Introvertido pero abierto a nuevas experiencias', 'peliculas': 'Star wars', 'comida': 'No tengo preferencia', 'loteria': 'Hacer caridad', 'bebida': 'Jugos de fruta', 'b_alcoholica': 'No tomo', 'viaje': 'El caribe', 'musica': 'Rock español/ingles', 'prioridad_pareja': 'Madurez', 'terapia': 'Vivo con el dolor', 'nombre': '56'}\n",
      "{'orientacion': 'Heterosexual', 'genero': 'Hombre', 'telefono': 1, 'mascota': 'Gatos', 'signo': 'Leo', 'entretenimiento': 'Libros', 'pasatiempo': 'Exterior(Parques, restaurantes, etc.)', 'personalidad': 'Extrovertido pero timido', 'peliculas': 'Piratas del caribe', 'comida': 'Dulces', 'loteria': 'Hacer fiestas grandes', 'bebida': 'Cafe', 'b_alcoholica': 'Cerveza', 'viaje': 'Asia', 'musica': 'Rock español/ingles', 'prioridad_pareja': 'Fisico', 'terapia': 'Como mis penas', 'nombre': '57'}\n",
      "{'orientacion': 'Heterosexual', 'genero': 'Mujer', 'telefono': 1, 'mascota': 'Perros', 'signo': 'Virgo', 'entretenimiento': 'Series', 'pasatiempo': 'Interior(Cines, en casa, etc.)', 'personalidad': 'Extrovertido pero timido', 'peliculas': 'Harry potter', 'comida': 'Dulces', 'loteria': 'Invertirlo', 'bebida': 'Te', 'b_alcoholica': 'Cerveza', 'viaje': 'Europa', 'musica': 'Cumbiones/Nacional', 'prioridad_pareja': 'Dinero/estatus social', 'terapia': 'Como mis penas', 'nombre': '58'}\n",
      "{'orientacion': 'Homosexual', 'genero': 'Mujer', 'telefono': 1, 'mascota': 'Mucha responsabilidad', 'signo': 'Escorpio', 'entretenimiento': 'Videojuegos', 'pasatiempo': 'Interior(Cines, en casa, etc.)', 'personalidad': 'Introvertido pero abierto a nuevas experiencias', 'peliculas': 'Star wars', 'comida': 'No tengo preferencia', 'loteria': 'Invertirlo', 'bebida': 'Jugos de fruta', 'b_alcoholica': 'Licores dulces(Jagger, 3 plumas, goss cake, etc)', 'viaje': 'El caribe', 'musica': 'Cumbiones/Nacional', 'prioridad_pareja': 'Dinero/estatus social', 'terapia': 'Como mis penas', 'nombre': '59'}\n",
      "{'orientacion': 'Homosexual', 'genero': 'Mujer', 'telefono': 1, 'mascota': 'Reptiles', 'signo': 'Piscis', 'entretenimiento': 'Series', 'pasatiempo': 'Interior(Cines, en casa, etc.)', 'personalidad': 'Introvertido', 'peliculas': 'Distopica juvenil(Juegos del hambre, maze runner, etc)', 'comida': 'No tengo preferencia', 'loteria': 'Gastarlo en familia y en ti', 'bebida': 'Soda', 'b_alcoholica': '(Ron, vodka, Tequila, singani) y sus cocteles', 'viaje': 'Asia', 'musica': 'Cumbiones/Nacional', 'prioridad_pareja': 'Sentido del humor', 'terapia': 'Vivo con el dolor', 'nombre': '60'}\n",
      "{'orientacion': 'Heterosexual', 'genero': 'Hombre', 'telefono': 1, 'mascota': 'Aves', 'signo': 'Sagitario', 'entretenimiento': 'Videojuegos', 'pasatiempo': 'Exterior(Parques, restaurantes, etc.)', 'personalidad': 'Introvertido pero abierto a nuevas experiencias', 'peliculas': 'MCU(Marvel)', 'comida': 'Ambos juntos', 'loteria': 'Hacer caridad', 'bebida': 'Agua', 'b_alcoholica': 'No tomo', 'viaje': 'El caribe', 'musica': 'Rock español/ingles', 'prioridad_pareja': 'Madurez', 'terapia': 'Ejercicio', 'nombre': '61'}\n",
      "{'orientacion': 'Heterosexual', 'genero': 'Hombre', 'telefono': 1, 'mascota': 'Gatos', 'signo': 'Piscis', 'entretenimiento': 'Series', 'pasatiempo': 'Exterior(Parques, restaurantes, etc.)', 'personalidad': 'Introvertido', 'peliculas': 'Piratas del caribe', 'comida': 'Dulces', 'loteria': 'Gastarlo en familia y en ti', 'bebida': 'Cafe', 'b_alcoholica': '(Ron, vodka, Tequila, singani) y sus cocteles', 'viaje': 'Asia', 'musica': 'Pop en ingles', 'prioridad_pareja': 'Sentido del humor', 'terapia': 'Busco alguien para desahogarme', 'nombre': '62'}\n",
      "{'orientacion': 'Bisexual', 'genero': 'Hombre', 'telefono': 1, 'mascota': 'Reptiles', 'signo': 'Sagitario', 'entretenimiento': 'Series', 'pasatiempo': 'Exterior(Parques, restaurantes, etc.)', 'personalidad': 'Introvertido pero abierto a nuevas experiencias', 'peliculas': 'Distopica juvenil(Juegos del hambre, maze runner, etc)', 'comida': 'Ambos juntos', 'loteria': 'Hacer caridad', 'bebida': 'Soda', 'b_alcoholica': 'No tomo', 'viaje': 'El caribe', 'musica': 'Pop latino/reguetón', 'prioridad_pareja': 'Madurez', 'terapia': 'Vivo con el dolor', 'nombre': '63'}\n",
      "{'orientacion': 'Heterosexual', 'genero': 'Hombre', 'telefono': 1, 'mascota': 'Perros', 'signo': 'Aries', 'entretenimiento': 'Libros', 'pasatiempo': 'Exterior(Parques, restaurantes, etc.)', 'personalidad': 'Introvertido', 'peliculas': 'Harry potter', 'comida': 'Salado', 'loteria': 'Gastarlo en familia y en ti', 'bebida': 'Te', 'b_alcoholica': 'Guarapo', 'viaje': 'El caribe', 'musica': 'Rock español/ingles', 'prioridad_pareja': 'Sentido del humor', 'terapia': 'Vivo con el dolor', 'nombre': '64'}\n",
      "{'orientacion': 'Bisexual', 'genero': 'Hombre', 'telefono': 1, 'mascota': 'Reptiles', 'signo': 'Aries', 'entretenimiento': 'Libros', 'pasatiempo': 'Exterior(Parques, restaurantes, etc.)', 'personalidad': 'Introvertido', 'peliculas': 'Distopica juvenil(Juegos del hambre, maze runner, etc)', 'comida': 'Ambos juntos', 'loteria': 'Viajar por el mundo', 'bebida': 'Soda', 'b_alcoholica': 'Guarapo', 'viaje': 'Africa', 'musica': 'Rock español/ingles', 'prioridad_pareja': 'Limpieza', 'terapia': 'Como mis penas', 'nombre': '65'}\n",
      "{'orientacion': 'Heterosexual', 'genero': 'Mujer', 'telefono': 1, 'mascota': 'Aves', 'signo': 'Tauro', 'entretenimiento': 'Libros', 'pasatiempo': 'Interior(Cines, en casa, etc.)', 'personalidad': 'Extrovertido', 'peliculas': 'MCU(Marvel)', 'comida': 'Ambos juntos', 'loteria': 'Viajar por el mundo', 'bebida': 'Agua', 'b_alcoholica': 'Guarapo', 'viaje': 'Europa', 'musica': 'Cumbiones/Nacional', 'prioridad_pareja': 'Limpieza', 'terapia': 'Como mis penas', 'nombre': '66'}\n",
      "{'orientacion': 'Heterosexual', 'genero': 'Mujer', 'telefono': 1, 'mascota': 'Aves', 'signo': 'Cancer', 'entretenimiento': 'Peliculas', 'pasatiempo': 'Interior(Cines, en casa, etc.)', 'personalidad': 'Extrovertido', 'peliculas': 'MCU(Marvel)', 'comida': 'Ambos juntos', 'loteria': 'Hacer fiestas grandes', 'bebida': 'Agua', 'b_alcoholica': 'Vino', 'viaje': 'Africa', 'musica': 'Cumbiones/Nacional', 'prioridad_pareja': 'Fisico', 'terapia': 'Como mis penas', 'nombre': '67'}\n",
      "{'orientacion': 'Heterosexual', 'genero': 'Mujer', 'telefono': 1, 'mascota': 'Aves', 'signo': 'Escorpio', 'entretenimiento': 'Videojuegos', 'pasatiempo': 'Interior(Cines, en casa, etc.)', 'personalidad': 'Introvertido pero abierto a nuevas experiencias', 'peliculas': 'MCU(Marvel)', 'comida': 'Ambos juntos', 'loteria': 'Hacer caridad', 'bebida': 'Agua', 'b_alcoholica': 'Licores dulces(Jagger, 3 plumas, goss cake, etc)', 'viaje': 'Estados unidos', 'musica': 'Cumbiones/Nacional', 'prioridad_pareja': 'Madurez', 'terapia': 'Vivo con el dolor', 'nombre': '68'}\n",
      "{'orientacion': 'Heterosexual', 'genero': 'Hombre', 'telefono': 1, 'mascota': 'Gatos', 'signo': 'Aries', 'entretenimiento': 'Videojuegos', 'pasatiempo': 'Exterior(Parques, restaurantes, etc.)', 'personalidad': 'Introvertido', 'peliculas': 'Piratas del caribe', 'comida': 'Dulces', 'loteria': 'Gastarlo en familia y en ti', 'bebida': 'Cafe', 'b_alcoholica': 'Guarapo', 'viaje': 'Asia', 'musica': 'Rock español/ingles', 'prioridad_pareja': 'Sentido del humor', 'terapia': 'Vivo con el dolor', 'nombre': '69'}\n",
      "{'orientacion': 'Bisexual', 'genero': 'Hombre', 'telefono': 1, 'mascota': 'Reptiles', 'signo': 'Sagitario', 'entretenimiento': 'Libros', 'pasatiempo': 'Exterior(Parques, restaurantes, etc.)', 'personalidad': 'Introvertido pero abierto a nuevas experiencias', 'peliculas': 'Distopica juvenil(Juegos del hambre, maze runner, etc)', 'comida': 'Ambos juntos', 'loteria': 'Hacer caridad', 'bebida': 'Soda', 'b_alcoholica': 'No tomo', 'viaje': 'Asia', 'musica': 'Rock español/ingles', 'prioridad_pareja': 'Madurez', 'terapia': 'Busco alguien para desahogarme', 'nombre': '70'}\n",
      "{'orientacion': 'Homosexual', 'genero': 'Hombre', 'telefono': 1, 'mascota': 'Mucha responsabilidad', 'signo': 'Tauro', 'entretenimiento': 'Series', 'pasatiempo': 'Exterior(Parques, restaurantes, etc.)', 'personalidad': 'Extrovertido', 'peliculas': 'Star wars', 'comida': 'No tengo preferencia', 'loteria': 'Viajar por el mundo', 'bebida': 'Jugos de fruta', 'b_alcoholica': 'Guarapo', 'viaje': 'Africa', 'musica': 'Pop latino/reguetón', 'prioridad_pareja': 'Limpieza', 'terapia': 'Como mis penas', 'nombre': '71'}\n",
      "{'orientacion': 'Heterosexual', 'genero': 'Mujer', 'telefono': 1, 'mascota': 'Gatos', 'signo': 'Acuario', 'entretenimiento': 'Series', 'pasatiempo': 'Interior(Cines, en casa, etc.)', 'personalidad': 'Introvertido', 'peliculas': 'Piratas del caribe', 'comida': 'Dulces', 'loteria': 'Gastarlo en familia y en ti', 'bebida': 'Cafe', 'b_alcoholica': '(Ron, vodka, Tequila, singani) y sus cocteles', 'viaje': 'El caribe', 'musica': 'Cumbiones/Nacional', 'prioridad_pareja': 'Sentido del humor', 'terapia': 'Entretenimiento(Peliculas, series, musica)', 'nombre': '72'}\n",
      "{'orientacion': 'Heterosexual', 'genero': 'Mujer', 'telefono': 1, 'mascota': 'Aves', 'signo': 'Sagitario', 'entretenimiento': 'Peliculas', 'pasatiempo': 'Interior(Cines, en casa, etc.)', 'personalidad': 'Introvertido pero abierto a nuevas experiencias', 'peliculas': 'MCU(Marvel)', 'comida': 'Salado', 'loteria': 'Hacer caridad', 'bebida': 'Agua', 'b_alcoholica': 'No tomo', 'viaje': 'El caribe', 'musica': 'Alternativa/Indie', 'prioridad_pareja': 'Madurez', 'terapia': 'Busco alguien para desahogarme', 'nombre': '73'}\n",
      "{'orientacion': 'Heterosexual', 'genero': 'Hombre', 'telefono': 1, 'mascota': 'Perros', 'signo': 'Leo', 'entretenimiento': 'Libros', 'pasatiempo': 'Exterior(Parques, restaurantes, etc.)', 'personalidad': 'Extrovertido pero timido', 'peliculas': 'Harry potter', 'comida': 'Salado', 'loteria': 'Hacer fiestas grandes', 'bebida': 'Te', 'b_alcoholica': 'Cerveza', 'viaje': 'Estados unidos', 'musica': 'Pop latino/reguetón', 'prioridad_pareja': 'Fisico', 'terapia': 'Busco alguien para desahogarme', 'nombre': '74'}\n",
      "{'orientacion': 'Heterosexual', 'genero': 'Hombre', 'telefono': 1, 'mascota': 'Perros', 'signo': 'Aries', 'entretenimiento': 'Libros', 'pasatiempo': 'Exterior(Parques, restaurantes, etc.)', 'personalidad': 'Introvertido', 'peliculas': 'Harry potter', 'comida': 'Dulces', 'loteria': 'Gastarlo en familia y en ti', 'bebida': 'Te', 'b_alcoholica': 'Guarapo', 'viaje': 'Africa', 'musica': 'Pop latino/reguetón', 'prioridad_pareja': 'Sentido del humor', 'terapia': 'Como mis penas', 'nombre': '75'}\n",
      "{'orientacion': 'Heterosexual', 'genero': 'Mujer', 'telefono': 1, 'mascota': 'Gatos', 'signo': 'Leo', 'entretenimiento': 'Videojuegos', 'pasatiempo': 'Interior(Cines, en casa, etc.)', 'personalidad': 'Extrovertido pero timido', 'peliculas': 'Piratas del caribe', 'comida': 'Dulces', 'loteria': 'Hacer fiestas grandes', 'bebida': 'Cafe', 'b_alcoholica': 'Cerveza', 'viaje': 'Africa', 'musica': 'Cumbiones/Nacional', 'prioridad_pareja': 'Fisico', 'terapia': 'Busco alguien para desahogarme', 'nombre': '76'}\n",
      "{'orientacion': 'Heterosexual', 'genero': 'Hombre', 'telefono': 1, 'mascota': 'Perros', 'signo': 'Virgo', 'entretenimiento': 'Videojuegos', 'pasatiempo': 'Exterior(Parques, restaurantes, etc.)', 'personalidad': 'Extrovertido pero timido', 'peliculas': 'Harry potter', 'comida': 'Salado', 'loteria': 'Invertirlo', 'bebida': 'Te', 'b_alcoholica': 'Cerveza', 'viaje': 'Asia', 'musica': 'Pop latino/reguetón', 'prioridad_pareja': 'Dinero/estatus social', 'terapia': 'Vivo con el dolor', 'nombre': '77'}\n",
      "{'orientacion': 'Homosexual', 'genero': 'Hombre', 'telefono': 1, 'mascota': 'Mucha responsabilidad', 'signo': 'Sagitario', 'entretenimiento': 'Series', 'pasatiempo': 'Exterior(Parques, restaurantes, etc.)', 'personalidad': 'Introvertido pero abierto a nuevas experiencias', 'peliculas': 'Star wars', 'comida': 'No tengo preferencia', 'loteria': 'Hacer caridad', 'bebida': 'Jugos de fruta', 'b_alcoholica': 'No tomo', 'viaje': 'Asia', 'musica': 'Rock español/ingles', 'prioridad_pareja': 'Madurez', 'terapia': 'Como mis penas', 'nombre': '78'}\n",
      "{'orientacion': 'Heterosexual', 'genero': 'Mujer', 'telefono': 1, 'mascota': 'Perros', 'signo': 'Sagitario', 'entretenimiento': 'Series', 'pasatiempo': 'Interior(Cines, en casa, etc.)', 'personalidad': 'Introvertido pero abierto a nuevas experiencias', 'peliculas': 'Harry potter', 'comida': 'Salado', 'loteria': 'Hacer caridad', 'bebida': 'Te', 'b_alcoholica': 'No tomo', 'viaje': 'Europa', 'musica': 'Cumbiones/Nacional', 'prioridad_pareja': 'Madurez', 'terapia': 'Como mis penas', 'nombre': '79'}\n",
      "{'orientacion': 'Heterosexual', 'genero': 'Mujer', 'telefono': 1, 'mascota': 'Aves', 'signo': 'Capricornio', 'entretenimiento': 'Series', 'pasatiempo': 'Interior(Cines, en casa, etc.)', 'personalidad': 'Introvertido pero abierto a nuevas experiencias', 'peliculas': 'MCU(Marvel)', 'comida': 'Salado', 'loteria': 'Hacer caridad', 'bebida': 'Agua', 'b_alcoholica': 'No tomo', 'viaje': 'El caribe', 'musica': 'Cumbiones/Nacional', 'prioridad_pareja': 'Madurez', 'terapia': 'Busco alguien para desahogarme', 'nombre': '80'}\n",
      "{'orientacion': 'Homosexual', 'genero': 'Hombre', 'telefono': 1, 'mascota': 'Mucha responsabilidad', 'signo': 'Cancer', 'entretenimiento': 'Peliculas', 'pasatiempo': 'Exterior(Parques, restaurantes, etc.)', 'personalidad': 'Extrovertido', 'peliculas': 'Star wars', 'comida': 'No tengo preferencia', 'loteria': 'Hacer fiestas grandes', 'bebida': 'Jugos de fruta', 'b_alcoholica': 'Vino', 'viaje': 'El caribe', 'musica': 'Pop latino/reguetón', 'prioridad_pareja': 'Fisico', 'terapia': 'Ejercicio', 'nombre': '81'}\n",
      "{'orientacion': 'Heterosexual', 'genero': 'Mujer', 'telefono': 1, 'mascota': 'Gatos', 'signo': 'Leo', 'entretenimiento': 'Libros', 'pasatiempo': 'Interior(Cines, en casa, etc.)', 'personalidad': 'Extrovertido pero timido', 'peliculas': 'Piratas del caribe', 'comida': 'Dulces', 'loteria': 'Hacer fiestas grandes', 'bebida': 'Cafe', 'b_alcoholica': 'Cerveza', 'viaje': 'Estados unidos', 'musica': 'Pop en ingles', 'prioridad_pareja': 'Fisico', 'terapia': 'Como mis penas', 'nombre': '82'}\n",
      "{'orientacion': 'Bisexual', 'genero': 'Mujer', 'telefono': 1, 'mascota': 'Reptiles', 'signo': 'Tauro', 'entretenimiento': 'Peliculas', 'pasatiempo': 'Interior(Cines, en casa, etc.)', 'personalidad': 'Extrovertido', 'peliculas': 'Distopica juvenil(Juegos del hambre, maze runner, etc)', 'comida': 'Ambos juntos', 'loteria': 'Viajar por el mundo', 'bebida': 'Soda', 'b_alcoholica': 'Guarapo', 'viaje': 'Europa', 'musica': 'Cumbiones/Nacional', 'prioridad_pareja': 'Limpieza', 'terapia': 'Como mis penas', 'nombre': '83'}\n",
      "{'orientacion': 'Homosexual', 'genero': 'Mujer', 'telefono': 1, 'mascota': 'Reptiles', 'signo': 'Tauro', 'entretenimiento': 'Peliculas', 'pasatiempo': 'Interior(Cines, en casa, etc.)', 'personalidad': 'Extrovertido', 'peliculas': 'Distopica juvenil(Juegos del hambre, maze runner, etc)', 'comida': 'No tengo preferencia', 'loteria': 'Viajar por el mundo', 'bebida': 'Soda', 'b_alcoholica': 'Guarapo', 'viaje': 'Estados unidos', 'musica': 'Cumbiones/Nacional', 'prioridad_pareja': 'Limpieza', 'terapia': 'Busco alguien para desahogarme', 'nombre': '84'}\n",
      "{'orientacion': 'Bisexual', 'genero': 'Hombre', 'telefono': 1, 'mascota': 'Reptiles', 'signo': 'Tauro', 'entretenimiento': 'Series', 'pasatiempo': 'Exterior(Parques, restaurantes, etc.)', 'personalidad': 'Extrovertido', 'peliculas': 'Distopica juvenil(Juegos del hambre, maze runner, etc)', 'comida': 'Ambos juntos', 'loteria': 'Viajar por el mundo', 'bebida': 'Soda', 'b_alcoholica': 'Guarapo', 'viaje': 'Estados unidos', 'musica': 'Pop latino/reguetón', 'prioridad_pareja': 'Limpieza', 'terapia': 'Vivo con el dolor', 'nombre': '85'}\n",
      "{'orientacion': 'Heterosexual', 'genero': 'Hombre', 'telefono': 1, 'mascota': 'Aves', 'signo': 'Tauro', 'entretenimiento': 'Series', 'pasatiempo': 'Exterior(Parques, restaurantes, etc.)', 'personalidad': 'Extrovertido', 'peliculas': 'MCU(Marvel)', 'comida': 'Ambos juntos', 'loteria': 'Viajar por el mundo', 'bebida': 'Agua', 'b_alcoholica': 'Guarapo', 'viaje': 'Europa', 'musica': 'Rock español/ingles', 'prioridad_pareja': 'Limpieza', 'terapia': 'Entretenimiento(Peliculas, series, musica)', 'nombre': '86'}\n",
      "{'orientacion': 'Homosexual', 'genero': 'Mujer', 'telefono': 1, 'mascota': 'Mucha responsabilidad', 'signo': 'Libra', 'entretenimiento': 'Videojuegos', 'pasatiempo': 'Interior(Cines, en casa, etc.)', 'personalidad': 'Extrovertido pero timido', 'peliculas': 'Star wars', 'comida': 'No tengo preferencia', 'loteria': 'Invertirlo', 'bebida': 'Jugos de fruta', 'b_alcoholica': 'Licores dulces(Jagger, 3 plumas, goss cake, etc)', 'viaje': 'El caribe', 'musica': 'Alternativa/Indie', 'prioridad_pareja': 'Dinero/estatus social', 'terapia': 'Busco alguien para desahogarme', 'nombre': '87'}\n",
      "{'orientacion': 'Heterosexual', 'genero': 'Hombre', 'telefono': 1, 'mascota': 'Perros', 'signo': 'Cancer', 'entretenimiento': 'Videojuegos', 'pasatiempo': 'Exterior(Parques, restaurantes, etc.)', 'personalidad': 'Extrovertido', 'peliculas': 'Harry potter', 'comida': 'Salado', 'loteria': 'Hacer fiestas grandes', 'bebida': 'Te', 'b_alcoholica': 'Vino', 'viaje': 'Asia', 'musica': 'Pop latino/reguetón', 'prioridad_pareja': 'Fisico', 'terapia': 'Entretenimiento(Peliculas, series, musica)', 'nombre': '88'}\n",
      "{'orientacion': 'Heterosexual', 'genero': 'Mujer', 'telefono': 1, 'mascota': 'Aves', 'signo': 'Geminis', 'entretenimiento': 'Videojuegos', 'pasatiempo': 'Interior(Cines, en casa, etc.)', 'personalidad': 'Extrovertido', 'peliculas': 'MCU(Marvel)', 'comida': 'Ambos juntos', 'loteria': 'Viajar por el mundo', 'bebida': 'Agua', 'b_alcoholica': 'Vino', 'viaje': 'Asia', 'musica': 'Alternativa/Indie', 'prioridad_pareja': 'Limpieza', 'terapia': 'Como mis penas', 'nombre': '89'}\n",
      "{'orientacion': 'Heterosexual', 'genero': 'Mujer', 'telefono': 1, 'mascota': 'Perros', 'signo': 'Sagitario', 'entretenimiento': 'Series', 'pasatiempo': 'Interior(Cines, en casa, etc.)', 'personalidad': 'Introvertido pero abierto a nuevas experiencias', 'peliculas': 'Harry potter', 'comida': 'Salado', 'loteria': 'Hacer caridad', 'bebida': 'Te', 'b_alcoholica': 'No tomo', 'viaje': 'Asia', 'musica': 'Cumbiones/Nacional', 'prioridad_pareja': 'Madurez', 'terapia': 'Vivo con el dolor', 'nombre': '90'}\n",
      "{'orientacion': 'Heterosexual', 'genero': 'Hombre', 'telefono': 1, 'mascota': 'Perros', 'signo': 'Virgo', 'entretenimiento': 'Videojuegos', 'pasatiempo': 'Exterior(Parques, restaurantes, etc.)', 'personalidad': 'Extrovertido pero timido', 'peliculas': 'Harry potter', 'comida': 'Salado', 'loteria': 'Hacer fiestas grandes', 'bebida': 'Te', 'b_alcoholica': 'Cerveza', 'viaje': 'El caribe', 'musica': 'Rock español/ingles', 'prioridad_pareja': 'Fisico', 'terapia': 'Como mis penas', 'nombre': '91'}\n",
      "{'orientacion': 'Heterosexual', 'genero': 'Mujer', 'telefono': 1, 'mascota': 'Aves', 'signo': 'Capricornio', 'entretenimiento': 'Peliculas', 'pasatiempo': 'Interior(Cines, en casa, etc.)', 'personalidad': 'Introvertido pero abierto a nuevas experiencias', 'peliculas': 'MCU(Marvel)', 'comida': 'Ambos juntos', 'loteria': 'Hacer caridad', 'bebida': 'Agua', 'b_alcoholica': 'No tomo', 'viaje': 'Asia', 'musica': 'Cumbiones/Nacional', 'prioridad_pareja': 'Madurez', 'terapia': 'Busco alguien para desahogarme', 'nombre': '92'}\n",
      "{'orientacion': 'Homosexual', 'genero': 'Hombre', 'telefono': 1, 'mascota': 'Mucha responsabilidad', 'signo': 'Virgo', 'entretenimiento': 'Peliculas', 'pasatiempo': 'Exterior(Parques, restaurantes, etc.)', 'personalidad': 'Extrovertido pero timido', 'peliculas': 'Star wars', 'comida': 'No tengo preferencia', 'loteria': 'Invertirlo', 'bebida': 'Jugos de fruta', 'b_alcoholica': 'Cerveza', 'viaje': 'Estados unidos', 'musica': 'Pop latino/reguetón', 'prioridad_pareja': 'Dinero/estatus social', 'terapia': 'Como mis penas', 'nombre': '93'}\n",
      "{'orientacion': 'Heterosexual', 'genero': 'Mujer', 'telefono': 1, 'mascota': 'Perros', 'signo': 'Escorpio', 'entretenimiento': 'Videojuegos', 'pasatiempo': 'Interior(Cines, en casa, etc.)', 'personalidad': 'Introvertido pero abierto a nuevas experiencias', 'peliculas': 'Harry potter', 'comida': 'Dulces', 'loteria': 'Hacer caridad', 'bebida': 'Te', 'b_alcoholica': 'Licores dulces(Jagger, 3 plumas, goss cake, etc)', 'viaje': 'El caribe', 'musica': 'Cumbiones/Nacional', 'prioridad_pareja': 'Madurez', 'terapia': 'Ejercicio', 'nombre': '94'}\n",
      "{'orientacion': 'Heterosexual', 'genero': 'Hombre', 'telefono': 1, 'mascota': 'Gatos', 'signo': 'Capricornio', 'entretenimiento': 'Videojuegos', 'pasatiempo': 'Exterior(Parques, restaurantes, etc.)', 'personalidad': 'Introvertido pero abierto a nuevas experiencias', 'peliculas': 'Piratas del caribe', 'comida': 'Dulces', 'loteria': 'Hacer caridad', 'bebida': 'Cafe', 'b_alcoholica': 'No tomo', 'viaje': 'Asia', 'musica': 'Pop en ingles', 'prioridad_pareja': 'Madurez', 'terapia': 'Vivo con el dolor', 'nombre': '95'}\n",
      "{'orientacion': 'Heterosexual', 'genero': 'Hombre', 'telefono': 1, 'mascota': 'Perros', 'signo': 'Tauro', 'entretenimiento': 'Peliculas', 'pasatiempo': 'Exterior(Parques, restaurantes, etc.)', 'personalidad': 'Extrovertido', 'peliculas': 'Harry potter', 'comida': 'Dulces', 'loteria': 'Viajar por el mundo', 'bebida': 'Te', 'b_alcoholica': 'Guarapo', 'viaje': 'Asia', 'musica': 'Rock español/ingles', 'prioridad_pareja': 'Limpieza', 'terapia': 'Vivo con el dolor', 'nombre': '96'}\n"
     ]
    }
   ],
   "source": [
    "for item in json_data:\n",
    "  print(item)\n",
    "    #for data_item in item['data']:"
   ]
  },
  {
   "cell_type": "code",
   "execution_count": null,
   "metadata": {
    "colab": {
     "base_uri": "https://localhost:8080/"
    },
    "id": "GsYXzZlRJU4X",
    "outputId": "a802607a-0033-461b-c18f-8b8c00aa7577"
   },
   "outputs": [
    {
     "data": {
      "text/plain": [
       "{'orientacion': 'Heterosexual',\n",
       " 'genero': 'Hombre',\n",
       " 'telefono': 1,\n",
       " 'mascota': 'Perros',\n",
       " 'signo': 'Tauro',\n",
       " 'entretenimiento': 'Peliculas',\n",
       " 'pasatiempo': 'Exterior(Parques, restaurantes, etc.)',\n",
       " 'personalidad': 'Extrovertido',\n",
       " 'peliculas': 'Harry potter',\n",
       " 'comida': 'Dulces',\n",
       " 'loteria': 'Viajar por el mundo',\n",
       " 'bebida': 'Te',\n",
       " 'b_alcoholica': 'Guarapo',\n",
       " 'viaje': 'Asia',\n",
       " 'musica': 'Rock español/ingles',\n",
       " 'prioridad_pareja': 'Limpieza',\n",
       " 'terapia': 'Vivo con el dolor',\n",
       " 'nombre': '96'}"
      ]
     },
     "execution_count": 67,
     "metadata": {},
     "output_type": "execute_result"
    }
   ],
   "source": [
    "json_data[98]"
   ]
  },
  {
   "cell_type": "code",
   "execution_count": null,
   "metadata": {
    "id": "_EyG5Zva7mia"
   },
   "outputs": [],
   "source": [
    "# def readDataframes():\n",
    "#   concatenate_string = ''\n",
    "#   numPregunta = 1\n",
    "#   dfname = ''\n",
    "#   while numPregunta <= 1:\n",
    "#     concatenate_string  = 'Pregunta' + str(numPregunta) + '.csv'\n",
    "#     dfname = 'df'+ str(numPregunta)\n",
    "#     df1 = pd.read_csv('Pregunta1.csv', index_col='col_name')\n",
    "#     numPregunta += 1"
   ]
  },
  {
   "cell_type": "code",
   "execution_count": null,
   "metadata": {
    "id": "I7ouD36R7m0k"
   },
   "outputs": [],
   "source": [
    "#tot = 0\n",
    "#tot = df.loc[[\"Gatos\"],[\"Gatos\"]].squeeze()\n",
    "#tot"
   ]
  },
  {
   "cell_type": "code",
   "execution_count": null,
   "metadata": {
    "id": "tnjfiqZ77nZ_"
   },
   "outputs": [],
   "source": [
    "# def getRespuestaPorPregunta(p1,p2):\n",
    "#   numPregunta = 0\n",
    "#   tot = 0\n",
    "#   concatenate_string = ''\n",
    "#   df1 = pd.read_csv('Pregunta1.csv', index_col='col_name')\n",
    "#   while numPregunta < 1:\n",
    "#     concatenate_string  = 'df' + str(numPregunta+1)\n",
    "#     print(concatenate_string)\n",
    "#     tot += df1.loc[p1[nombrePregunta[numPregunta]]],[p2[nombrePregunta[numPregunta]]].squeeze()\n",
    "#     numPregunta += 1\n",
    "#   return tot"
   ]
  },
  {
   "cell_type": "code",
   "execution_count": null,
   "metadata": {
    "id": "ZwfxGEiEPr5i"
   },
   "outputs": [],
   "source": [
    "#tot = 0\n",
    "#numPregunta = 0 #el numero de pregunta sera menor a la pregunta por 1\n",
    "#concatenate_string  = 'df' + str(numPregunta+1)\n",
    "#df1 = pd.read_csv('Pregunta1.csv', index_col='col_name')\n",
    "#tot += df1.loc[[json_data[0][nombrePregunta[numPregunta]]],[json_data[1][nombrePregunta[numPregunta]]]].squeeze()\n",
    "#print(tot)"
   ]
  },
  {
   "cell_type": "code",
   "execution_count": null,
   "metadata": {
    "id": "91PHKFgB7ni-"
   },
   "outputs": [],
   "source": [
    "#readDataframes()\n",
    "#print(getRespuestaPorPregunta(json_data[0], json_data[1]))"
   ]
  },
  {
   "cell_type": "code",
   "execution_count": 16,
   "metadata": {
    "id": "R-omtx9I7nsH"
   },
   "outputs": [],
   "source": [
    "def get_valor_pregunta(numPregunta,p1,p2,key):\n",
    "    total=0\n",
    "    concatenate_string  = 'Pregunta' + str(numPregunta) + '.tsv'\n",
    "    df = pd.read_csv(concatenate_string, index_col='col_name', sep=\"\\t\")\n",
    "    total=df.loc[[p1[key]],[p2[key]]].squeeze()\n",
    "    return total"
   ]
  },
  {
   "cell_type": "code",
   "execution_count": 17,
   "metadata": {
    "colab": {
     "base_uri": "https://localhost:8080/"
    },
    "id": "fHwvxlkz7n06",
    "outputId": "4faf8ed5-8d7f-415b-878d-9c6360bff851"
   },
   "outputs": [
    {
     "data": {
      "text/plain": [
       "dict_keys(['orientacion', 'genero', 'telefono', 'mascota', 'signo', 'entretenimiento', 'pasatiempo', 'personalidad', 'peliculas', 'comida', 'loteria', 'bebida', 'b_alcoholica', 'viaje', 'musica', 'prioridad_pareja', 'terapia', 'nombre'])"
      ]
     },
     "execution_count": 17,
     "metadata": {},
     "output_type": "execute_result"
    }
   ],
   "source": [
    "json_data[0].keys()"
   ]
  },
  {
   "cell_type": "code",
   "execution_count": 18,
   "metadata": {
    "id": "8NtPl_kv7n9F"
   },
   "outputs": [],
   "source": [
    "lista_keys=list(json_data[0].keys())"
   ]
  },
  {
   "cell_type": "code",
   "execution_count": null,
   "metadata": {
    "colab": {
     "base_uri": "https://localhost:8080/",
     "height": 35
    },
    "id": "vHDB4rlk7oFX",
    "outputId": "b95972df-3bde-451c-b577-b8196470b805"
   },
   "outputs": [
    {
     "data": {
      "application/vnd.google.colaboratory.intrinsic+json": {
       "type": "string"
      },
      "text/plain": [
       "'mascota'"
      ]
     },
     "execution_count": 76,
     "metadata": {},
     "output_type": "execute_result"
    }
   ],
   "source": [
    "lista_keys[3]"
   ]
  },
  {
   "cell_type": "code",
   "execution_count": null,
   "metadata": {
    "colab": {
     "base_uri": "https://localhost:8080/",
     "height": 35
    },
    "id": "iyjunt-09fHE",
    "outputId": "2edde323-014e-4d6a-a2ed-eaa55b6d8f4d"
   },
   "outputs": [
    {
     "data": {
      "application/vnd.google.colaboratory.intrinsic+json": {
       "type": "string"
      },
      "text/plain": [
       "'Perros'"
      ]
     },
     "execution_count": 77,
     "metadata": {},
     "output_type": "execute_result"
    }
   ],
   "source": [
    "json_data[1][\"mascota\"]"
   ]
  },
  {
   "cell_type": "code",
   "execution_count": null,
   "metadata": {
    "colab": {
     "base_uri": "https://localhost:8080/",
     "height": 35
    },
    "id": "OBwa3yJt9fHF",
    "outputId": "7402b1ee-d470-4a7f-86b6-aceaa1264a70"
   },
   "outputs": [
    {
     "data": {
      "application/vnd.google.colaboratory.intrinsic+json": {
       "type": "string"
      },
      "text/plain": [
       "'Perros'"
      ]
     },
     "execution_count": 78,
     "metadata": {},
     "output_type": "execute_result"
    }
   ],
   "source": [
    "json_data[2][\"mascota\"]"
   ]
  },
  {
   "cell_type": "code",
   "execution_count": 19,
   "metadata": {
    "colab": {
     "base_uri": "https://localhost:8080/"
    },
    "id": "kqOkCg1u9fHF",
    "outputId": "1680615d-e343-4230-9a88-a01cfaa7d1fb"
   },
   "outputs": [
    {
     "data": {
      "text/plain": [
       "10"
      ]
     },
     "execution_count": 19,
     "metadata": {},
     "output_type": "execute_result"
    }
   ],
   "source": [
    "resultado=get_valor_pregunta(1,json_data[0],json_data[0],lista_keys[3])\n",
    "resultado"
   ]
  },
  {
   "cell_type": "code",
   "execution_count": 20,
   "metadata": {
    "id": "1DBktU9ICufU"
   },
   "outputs": [],
   "source": [
    "#esta funcion revisa si las 2 personas estan interesadas entre si\n",
    "#para evitar que gente homosexual salga con gente Heterosexual y \n",
    "#casos que no serian correcto enparejarlos\n",
    "#retorna verdadero en caso que las parejas funcionen y falso si no deberian de juntarse\n",
    "def relacion_entre_interesados(p1,p2):\n",
    "  op1 = p1[\"orientacion\"] #op = orientacion persona\n",
    "  gp1 = p1[\"genero\"]      #gp = genero persona\n",
    "  op2 = p2[\"orientacion\"]\n",
    "  gp2 = p2[\"genero\"]\n",
    "  if(op1 == \"Homosexual\" or op1 == \"Bisexual\"):\n",
    "    if(gp1 == gp2 and (op2 == \"Homosexual\" or op2 == \"Bisexual\")):\n",
    "      return True\n",
    "  \n",
    "  if(op1 == \"Heterosexual\" or op1 == \"Bisexual\"):\n",
    "     if(gp1 != gp2 and (op2 == \"Heterosexual\" or op2 == \"Bisexual\")):\n",
    "      return True\n",
    "\n",
    "  return False"
   ]
  },
  {
   "cell_type": "code",
   "execution_count": 21,
   "metadata": {
    "id": "J08mXQek9fHF"
   },
   "outputs": [],
   "source": [
    "def calcular_indice(p1,p2):\n",
    "    indice=0\n",
    "    counter=1\n",
    "    if relacion_entre_interesados(p1,p2) == True:\n",
    "      for i in range(3,16):\n",
    "          #print(get_valor_pregunta(counter,p1,p2,lista_keys[i]))\n",
    "          indice += get_valor_pregunta(counter,p1,p2,lista_keys[i])\n",
    "          counter+=1\n",
    "    return indice"
   ]
  },
  {
   "cell_type": "code",
   "execution_count": 22,
   "metadata": {
    "colab": {
     "base_uri": "https://localhost:8080/"
    },
    "id": "IpanUFL-9fHG",
    "outputId": "1c90a804-fec3-4249-a7e4-04fe3785db9c"
   },
   "outputs": [
    {
     "data": {
      "text/plain": [
       "74"
      ]
     },
     "execution_count": 22,
     "metadata": {},
     "output_type": "execute_result"
    }
   ],
   "source": [
    "res=calcular_indice(json_data[4],json_data[5])\n",
    "res"
   ]
  },
  {
   "cell_type": "code",
   "execution_count": 23,
   "metadata": {
    "id": "xLQmgptXGPTD"
   },
   "outputs": [],
   "source": [
    "#el algoritmo recorre la lista con una misma persona y luego se consigue sus mejores matches\n",
    "#guarda los resultados en un diccionario con nombre y score y luego los devuelve sorted\n",
    "def usar_algoritmo_con_una_persona(p1):\n",
    "  dictionary = {}\n",
    "  res=0\n",
    "  for persona in json_data:\n",
    "    if(persona[\"nombre\"] != p1[\"nombre\"]):\n",
    "      res=calcular_indice(p1,persona)\n",
    "      #print(persona[\"nombre\"], \"/\", p1[\"nombre\"])\n",
    "    \n",
    "    dictionary[persona[\"nombre\"]] = []\n",
    "    dictionary[persona[\"nombre\"]] = res\n",
    "    res=0\n",
    "\n",
    "  return dict(dictionary.items())"
   ]
  },
  {
   "cell_type": "code",
   "execution_count": 24,
   "metadata": {
    "colab": {
     "base_uri": "https://localhost:8080/"
    },
    "id": "vMsKABEvNU_o",
    "outputId": "89a0af05-dbe5-4b06-b96d-20f59cef264e"
   },
   "outputs": [
    {
     "name": "stdout",
     "output_type": "stream",
     "text": [
      "la lista para 89 es:\n",
      "{'gigachad': 95, 'Nicolas Cari': 85, 'gabriel balderrama': 79, '1': 0, '2': 70, '3': 0, '4': 0, '5': 0, '6': 0, '7': 86, '8': 74, '9': 0, '10': 0, '11': 0, '12': 0, '13': 0, '14': 85, '15': 0, '16': 0, '17': 67, '18': 76, '19': 86, '20': 78, '21': 0, '22': 0, '23': 0, '24': 73, '25': 0, '26': 74, '27': 85, '28': 0, '29': 0, '30': 0, '31': 74, '32': 0, '33': 66, '34': 0, '35': 75, '36': 0, '37': 0, '38': 0, '39': 0, '40': 98, '41': 0, '42': 0, '43': 0, '44': 82, '45': 80, '46': 62, '47': 0, '48': 0, '49': 0, '50': 0, '51': 70, '52': 0, '53': 76, '54': 0, '55': 69, '56': 0, '57': 80, '58': 0, '59': 0, '60': 0, '61': 95, '62': 69, '63': 78, '64': 57, '65': 84, '66': 0, '67': 0, '68': 0, '69': 72, '70': 90, '71': 0, '72': 0, '73': 0, '74': 69, '75': 60, '76': 0, '77': 70, '78': 0, '79': 0, '80': 0, '81': 0, '82': 0, '83': 0, '84': 0, '85': 83, '86': 95, '87': 0, '88': 73, '89': 0, '90': 0, '91': 73, '92': 0, '93': 0, '94': 0, '95': 83, '96': 91}\n"
     ]
    }
   ],
   "source": [
    "print(\"la lista para\",json_data[91][\"nombre\"], \"es:\" )\n",
    "lista = usar_algoritmo_con_una_persona(json_data[91])\n",
    "print(lista)"
   ]
  },
  {
   "cell_type": "code",
   "execution_count": 26,
   "metadata": {
    "id": "ifzMfpojb9N5"
   },
   "outputs": [],
   "source": [
    "def lista_maximos_scores(json_data):\n",
    "    dictionary={}\n",
    "    for persona in json_data:\n",
    "        dictionary[persona[\"nombre\"]] = []\n",
    "        dictionary[persona[\"nombre\"]] = usar_algoritmo_con_una_persona(persona)\n",
    "    return dictionary"
   ]
  },
  {
   "cell_type": "code",
   "execution_count": 27,
   "metadata": {
    "colab": {
     "base_uri": "https://localhost:8080/"
    },
    "id": "wteiJoarjvDf",
    "outputId": "4eca35a3-feb9-445f-a19b-8b65978e513c"
   },
   "outputs": [],
   "source": [
    "lista_completa = lista_maximos_scores(json_data)"
   ]
  },
  {
   "cell_type": "code",
   "execution_count": 28,
   "metadata": {
    "colab": {
     "base_uri": "https://localhost:8080/"
    },
    "id": "ap6mNVUtk-3Q",
    "outputId": "61e71d48-25b5-4f1b-d1f2-20e00d501956"
   },
   "outputs": [
    {
     "name": "stdout",
     "output_type": "stream",
     "text": [
      "{'gigachad': {'gigachad': 0, 'Nicolas Cari': 0, 'gabriel balderrama': 0, '1': 0, '2': 0, '3': 76, '4': 71, '5': 66, '6': 0, '7': 0, '8': 0, '9': 0, '10': 0, '11': 63, '12': 0, '13': 75, '14': 0, '15': 0, '16': 0, '17': 0, '18': 0, '19': 0, '20': 0, '21': 0, '22': 68, '23': 74, '24': 0, '25': 0, '26': 0, '27': 0, '28': 71, '29': 0, '30': 74, '31': 0, '32': 0, '33': 0, '34': 76, '35': 0, '36': 0, '37': 72, '38': 0, '39': 0, '40': 0, '41': 70, '42': 83, '43': 0, '44': 0, '45': 0, '46': 0, '47': 77, '48': 67, '49': 81, '50': 80, '51': 0, '52': 0, '53': 0, '54': 71, '55': 0, '56': 0, '57': 0, '58': 68, '59': 0, '60': 0, '61': 0, '62': 0, '63': 0, '64': 0, '65': 0, '66': 81, '67': 81, '68': 74, '69': 0, '70': 0, '71': 0, '72': 60, '73': 77, '74': 0, '75': 0, '76': 63, '77': 0, '78': 0, '79': 63, '80': 63, '81': 0, '82': 61, '83': 79, '84': 0, '85': 0, '86': 0, '87': 0, '88': 0, '89': 95, '90': 66, '91': 0, '92': 75, '93': 0, '94': 67, '95': 0, '96': 0}, 'Nicolas Cari': {'gigachad': 0, 'Nicolas Cari': 0, 'gabriel balderrama': 0, '1': 0, '2': 0, '3': 81, '4': 82, '5': 59, '6': 0, '7': 0, '8': 0, '9': 0, '10': 0, '11': 68, '12': 0, '13': 76, '14': 0, '15': 0, '16': 0, '17': 0, '18': 0, '19': 0, '20': 0, '21': 0, '22': 77, '23': 78, '24': 0, '25': 0, '26': 0, '27': 0, '28': 77, '29': 0, '30': 77, '31': 0, '32': 0, '33': 0, '34': 85, '35': 0, '36': 0, '37': 77, '38': 0, '39': 0, '40': 0, '41': 78, '42': 72, '43': 0, '44': 0, '45': 0, '46': 0, '47': 82, '48': 59, '49': 92, '50': 86, '51': 0, '52': 0, '53': 0, '54': 76, '55': 0, '56': 0, '57': 0, '58': 72, '59': 0, '60': 0, '61': 0, '62': 0, '63': 0, '64': 0, '65': 0, '66': 73, '67': 74, '68': 77, '69': 0, '70': 0, '71': 0, '72': 74, '73': 83, '74': 0, '75': 0, '76': 71, '77': 0, '78': 0, '79': 72, '80': 72, '81': 0, '82': 69, '83': 71, '84': 0, '85': 0, '86': 0, '87': 0, '88': 0, '89': 85, '90': 75, '91': 0, '92': 84, '93': 0, '94': 70, '95': 0, '96': 0}, 'gabriel balderrama': {'gigachad': 0, 'Nicolas Cari': 0, 'gabriel balderrama': 0, '1': 0, '2': 0, '3': 81, '4': 70, '5': 69, '6': 0, '7': 0, '8': 0, '9': 0, '10': 0, '11': 69, '12': 0, '13': 77, '14': 0, '15': 0, '16': 0, '17': 0, '18': 0, '19': 0, '20': 0, '21': 0, '22': 85, '23': 72, '24': 0, '25': 0, '26': 0, '27': 0, '28': 87, '29': 0, '30': 77, '31': 0, '32': 0, '33': 0, '34': 90, '35': 0, '36': 0, '37': 69, '38': 0, '39': 0, '40': 0, '41': 75, '42': 93, '43': 0, '44': 0, '45': 0, '46': 0, '47': 72, '48': 75, '49': 78, '50': 81, '51': 0, '52': 0, '53': 0, '54': 62, '55': 0, '56': 0, '57': 0, '58': 71, '59': 0, '60': 0, '61': 0, '62': 0, '63': 0, '64': 0, '65': 0, '66': 90, '67': 74, '68': 82, '69': 0, '70': 0, '71': 0, '72': 71, '73': 87, '74': 0, '75': 0, '76': 75, '77': 0, '78': 0, '79': 88, '80': 84, '81': 0, '82': 68, '83': 90, '84': 0, '85': 0, '86': 0, '87': 0, '88': 0, '89': 79, '90': 91, '91': 0, '92': 88, '93': 0, '94': 78, '95': 0, '96': 0}, '1': {'gigachad': 0, 'Nicolas Cari': 0, 'gabriel balderrama': 0, '1': 0, '2': 0, '3': 0, '4': 0, '5': 0, '6': 69, '7': 0, '8': 0, '9': 0, '10': 0, '11': 0, '12': 0, '13': 0, '14': 0, '15': 0, '16': 65, '17': 0, '18': 0, '19': 89, '20': 0, '21': 0, '22': 0, '23': 0, '24': 0, '25': 69, '26': 0, '27': 85, '28': 0, '29': 53, '30': 0, '31': 94, '32': 0, '33': 0, '34': 0, '35': 0, '36': 0, '37': 0, '38': 0, '39': 0, '40': 0, '41': 0, '42': 0, '43': 0, '44': 0, '45': 0, '46': 0, '47': 0, '48': 0, '49': 0, '50': 0, '51': 0, '52': 0, '53': 83, '54': 0, '55': 0, '56': 64, '57': 0, '58': 0, '59': 0, '60': 0, '61': 0, '62': 0, '63': 87, '64': 0, '65': 86, '66': 0, '67': 0, '68': 0, '69': 0, '70': 95, '71': 66, '72': 0, '73': 0, '74': 0, '75': 0, '76': 0, '77': 0, '78': 77, '79': 0, '80': 0, '81': 53, '82': 0, '83': 0, '84': 0, '85': 88, '86': 0, '87': 0, '88': 0, '89': 0, '90': 0, '91': 0, '92': 0, '93': 66, '94': 0, '95': 0, '96': 0}, '2': {'gigachad': 0, 'Nicolas Cari': 0, 'gabriel balderrama': 0, '1': 0, '2': 0, '3': 74, '4': 78, '5': 96, '6': 0, '7': 0, '8': 0, '9': 0, '10': 0, '11': 91, '12': 0, '13': 61, '14': 0, '15': 0, '16': 0, '17': 0, '18': 0, '19': 0, '20': 0, '21': 0, '22': 58, '23': 95, '24': 0, '25': 0, '26': 0, '27': 0, '28': 87, '29': 0, '30': 71, '31': 0, '32': 0, '33': 0, '34': 61, '35': 0, '36': 0, '37': 71, '38': 0, '39': 0, '40': 0, '41': 72, '42': 81, '43': 0, '44': 0, '45': 0, '46': 0, '47': 71, '48': 90, '49': 59, '50': 65, '51': 0, '52': 0, '53': 0, '54': 65, '55': 0, '56': 0, '57': 0, '58': 79, '59': 0, '60': 0, '61': 0, '62': 0, '63': 0, '64': 0, '65': 0, '66': 91, '67': 65, '68': 70, '69': 0, '70': 0, '71': 0, '72': 80, '73': 62, '74': 0, '75': 0, '76': 92, '77': 0, '78': 0, '79': 73, '80': 61, '81': 0, '82': 96, '83': 83, '84': 0, '85': 0, '86': 0, '87': 0, '88': 0, '89': 70, '90': 70, '91': 0, '92': 66, '93': 0, '94': 70, '95': 0, '96': 0}, '3': {'gigachad': 76, 'Nicolas Cari': 81, 'gabriel balderrama': 81, '1': 0, '2': 74, '3': 0, '4': 0, '5': 0, '6': 0, '7': 73, '8': 70, '9': 0, '10': 0, '11': 0, '12': 0, '13': 0, '14': 63, '15': 0, '16': 0, '17': 68, '18': 72, '19': 58, '20': 70, '21': 0, '22': 0, '23': 0, '24': 73, '25': 0, '26': 63, '27': 67, '28': 0, '29': 0, '30': 0, '31': 69, '32': 0, '33': 61, '34': 0, '35': 67, '36': 0, '37': 0, '38': 0, '39': 0, '40': 83, '41': 0, '42': 0, '43': 0, '44': 75, '45': 64, '46': 57, '47': 0, '48': 0, '49': 0, '50': 0, '51': 54, '52': 0, '53': 59, '54': 0, '55': 62, '56': 0, '57': 62, '58': 0, '59': 0, '60': 0, '61': 68, '62': 57, '63': 56, '64': 78, '65': 75, '66': 0, '67': 0, '68': 0, '69': 78, '70': 63, '71': 0, '72': 0, '73': 0, '74': 62, '75': 66, '76': 0, '77': 70, '78': 0, '79': 0, '80': 0, '81': 0, '82': 0, '83': 0, '84': 0, '85': 70, '86': 86, '87': 0, '88': 63, '89': 0, '90': 0, '91': 67, '92': 0, '93': 0, '94': 0, '95': 55, '96': 79}, '4': {'gigachad': 71, 'Nicolas Cari': 82, 'gabriel balderrama': 70, '1': 0, '2': 78, '3': 0, '4': 0, '5': 0, '6': 0, '7': 66, '8': 63, '9': 0, '10': 0, '11': 0, '12': 0, '13': 0, '14': 97, '15': 0, '16': 0, '17': 77, '18': 66, '19': 62, '20': 104, '21': 0, '22': 0, '23': 0, '24': 61, '25': 0, '26': 106, '27': 50, '28': 0, '29': 0, '30': 0, '31': 71, '32': 0, '33': 65, '34': 0, '35': 68, '36': 0, '37': 0, '38': 0, '39': 0, '40': 69, '41': 0, '42': 0, '43': 0, '44': 67, '45': 69, '46': 83, '47': 0, '48': 0, '49': 0, '50': 0, '51': 91, '52': 0, '53': 67, '54': 0, '55': 55, '56': 0, '57': 93, '58': 0, '59': 0, '60': 0, '61': 76, '62': 99, '63': 65, '64': 75, '65': 49, '66': 0, '67': 0, '68': 0, '69': 97, '70': 69, '71': 0, '72': 0, '73': 0, '74': 66, '75': 68, '76': 0, '77': 58, '78': 0, '79': 0, '80': 0, '81': 0, '82': 0, '83': 0, '84': 0, '85': 59, '86': 68, '87': 0, '88': 58, '89': 0, '90': 0, '91': 61, '92': 0, '93': 0, '94': 0, '95': 94, '96': 70}, '5': {'gigachad': 66, 'Nicolas Cari': 59, 'gabriel balderrama': 69, '1': 0, '2': 96, '3': 0, '4': 0, '5': 0, '6': 0, '7': 69, '8': 70, '9': 0, '10': 0, '11': 0, '12': 0, '13': 0, '14': 83, '15': 0, '16': 0, '17': 52, '18': 62, '19': 43, '20': 85, '21': 0, '22': 0, '23': 0, '24': 56, '25': 0, '26': 78, '27': 61, '28': 0, '29': 0, '30': 0, '31': 64, '32': 0, '33': 57, '34': 0, '35': 70, '36': 0, '37': 0, '38': 0, '39': 0, '40': 61, '41': 0, '42': 0, '43': 0, '44': 75, '45': 56, '46': 82, '47': 0, '48': 0, '49': 0, '50': 0, '51': 101, '52': 0, '53': 53, '54': 0, '55': 65, '56': 0, '57': 97, '58': 0, '59': 0, '60': 0, '61': 49, '62': 82, '63': 50, '64': 49, '65': 51, '66': 0, '67': 0, '68': 0, '69': 76, '70': 47, '71': 0, '72': 0, '73': 0, '74': 76, '75': 59, '76': 0, '77': 62, '78': 0, '79': 0, '80': 0, '81': 0, '82': 0, '83': 0, '84': 0, '85': 64, '86': 71, '87': 0, '88': 78, '89': 0, '90': 0, '91': 63, '92': 0, '93': 0, '94': 0, '95': 84, '96': 69}, '6': {'gigachad': 0, 'Nicolas Cari': 0, 'gabriel balderrama': 0, '1': 69, '2': 0, '3': 0, '4': 0, '5': 0, '6': 0, '7': 0, '8': 0, '9': 0, '10': 0, '11': 0, '12': 0, '13': 0, '14': 0, '15': 0, '16': 75, '17': 0, '18': 0, '19': 61, '20': 0, '21': 0, '22': 0, '23': 0, '24': 0, '25': 71, '26': 0, '27': 80, '28': 0, '29': 71, '30': 0, '31': 70, '32': 0, '33': 0, '34': 0, '35': 0, '36': 0, '37': 0, '38': 0, '39': 0, '40': 0, '41': 0, '42': 0, '43': 0, '44': 0, '45': 0, '46': 0, '47': 0, '48': 0, '49': 0, '50': 0, '51': 0, '52': 0, '53': 65, '54': 0, '55': 0, '56': 70, '57': 0, '58': 0, '59': 0, '60': 0, '61': 0, '62': 0, '63': 64, '64': 0, '65': 66, '66': 0, '67': 0, '68': 0, '69': 0, '70': 64, '71': 89, '72': 0, '73': 0, '74': 0, '75': 0, '76': 0, '77': 0, '78': 74, '79': 0, '80': 0, '81': 71, '82': 0, '83': 0, '84': 0, '85': 83, '86': 0, '87': 0, '88': 0, '89': 0, '90': 0, '91': 0, '92': 0, '93': 76, '94': 0, '95': 0, '96': 0}, '7': {'gigachad': 0, 'Nicolas Cari': 0, 'gabriel balderrama': 0, '1': 0, '2': 0, '3': 73, '4': 66, '5': 69, '6': 0, '7': 0, '8': 0, '9': 0, '10': 0, '11': 49, '12': 0, '13': 63, '14': 0, '15': 0, '16': 0, '17': 0, '18': 0, '19': 0, '20': 0, '21': 0, '22': 79, '23': 69, '24': 0, '25': 0, '26': 0, '27': 0, '28': 83, '29': 0, '30': 83, '31': 0, '32': 0, '33': 0, '34': 95, '35': 0, '36': 0, '37': 48, '38': 0, '39': 0, '40': 0, '41': 57, '42': 72, '43': 0, '44': 0, '45': 0, '46': 0, '47': 62, '48': 59, '49': 89, '50': 90, '51': 0, '52': 0, '53': 0, '54': 55, '55': 0, '56': 0, '57': 0, '58': 67, '59': 0, '60': 0, '61': 0, '62': 0, '63': 0, '64': 0, '65': 0, '66': 82, '67': 75, '68': 91, '69': 0, '70': 0, '71': 0, '72': 68, '73': 87, '74': 0, '75': 0, '76': 55, '77': 0, '78': 0, '79': 85, '80': 91, '81': 0, '82': 50, '83': 81, '84': 0, '85': 0, '86': 0, '87': 0, '88': 0, '89': 86, '90': 82, '91': 0, '92': 91, '93': 0, '94': 81, '95': 0, '96': 0}, '8': {'gigachad': 0, 'Nicolas Cari': 0, 'gabriel balderrama': 0, '1': 0, '2': 0, '3': 70, '4': 63, '5': 70, '6': 0, '7': 0, '8': 0, '9': 0, '10': 0, '11': 72, '12': 0, '13': 91, '14': 0, '15': 0, '16': 0, '17': 0, '18': 0, '19': 0, '20': 0, '21': 0, '22': 86, '23': 62, '24': 0, '25': 0, '26': 0, '27': 0, '28': 78, '29': 0, '30': 57, '31': 0, '32': 0, '33': 0, '34': 67, '35': 0, '36': 0, '37': 98, '38': 0, '39': 0, '40': 0, '41': 72, '42': 108, '43': 0, '44': 0, '45': 0, '46': 0, '47': 77, '48': 58, '49': 73, '50': 62, '51': 0, '52': 0, '53': 0, '54': 81, '55': 0, '56': 0, '57': 0, '58': 78, '59': 0, '60': 0, '61': 0, '62': 0, '63': 0, '64': 0, '65': 0, '66': 74, '67': 72, '68': 48, '69': 0, '70': 0, '71': 0, '72': 52, '73': 68, '74': 0, '75': 0, '76': 67, '77': 0, '78': 0, '79': 81, '80': 58, '81': 0, '82': 74, '83': 74, '84': 0, '85': 0, '86': 0, '87': 0, '88': 0, '89': 74, '90': 84, '91': 0, '92': 57, '93': 0, '94': 63, '95': 0, '96': 0}, '9': {'gigachad': 0, 'Nicolas Cari': 0, 'gabriel balderrama': 0, '1': 0, '2': 0, '3': 0, '4': 0, '5': 0, '6': 0, '7': 0, '8': 0, '9': 0, '10': 76, '11': 0, '12': 70, '13': 0, '14': 0, '15': 69, '16': 0, '17': 0, '18': 0, '19': 0, '20': 0, '21': 75, '22': 0, '23': 0, '24': 0, '25': 0, '26': 0, '27': 0, '28': 0, '29': 0, '30': 0, '31': 0, '32': 68, '33': 0, '34': 0, '35': 0, '36': 63, '37': 0, '38': 70, '39': 68, '40': 0, '41': 0, '42': 0, '43': 62, '44': 0, '45': 0, '46': 0, '47': 0, '48': 0, '49': 0, '50': 0, '51': 0, '52': 59, '53': 0, '54': 61, '55': 0, '56': 0, '57': 0, '58': 0, '59': 75, '60': 65, '61': 0, '62': 0, '63': 0, '64': 0, '65': 0, '66': 0, '67': 0, '68': 0, '69': 0, '70': 0, '71': 0, '72': 0, '73': 0, '74': 0, '75': 0, '76': 0, '77': 0, '78': 0, '79': 0, '80': 0, '81': 0, '82': 0, '83': 86, '84': 75, '85': 0, '86': 0, '87': 61, '88': 0, '89': 0, '90': 0, '91': 0, '92': 0, '93': 0, '94': 0, '95': 0, '96': 0}, '10': {'gigachad': 0, 'Nicolas Cari': 0, 'gabriel balderrama': 0, '1': 0, '2': 0, '3': 0, '4': 0, '5': 0, '6': 0, '7': 0, '8': 0, '9': 76, '10': 0, '11': 0, '12': 77, '13': 0, '14': 0, '15': 84, '16': 0, '17': 0, '18': 0, '19': 0, '20': 0, '21': 88, '22': 0, '23': 0, '24': 0, '25': 0, '26': 0, '27': 0, '28': 0, '29': 0, '30': 0, '31': 0, '32': 53, '33': 0, '34': 0, '35': 0, '36': 68, '37': 0, '38': 85, '39': 76, '40': 0, '41': 0, '42': 0, '43': 67, '44': 0, '45': 0, '46': 0, '47': 0, '48': 0, '49': 0, '50': 0, '51': 0, '52': 66, '53': 0, '54': 57, '55': 0, '56': 0, '57': 0, '58': 0, '59': 79, '60': 78, '61': 0, '62': 0, '63': 0, '64': 0, '65': 0, '66': 0, '67': 0, '68': 0, '69': 0, '70': 0, '71': 0, '72': 0, '73': 0, '74': 0, '75': 0, '76': 0, '77': 0, '78': 0, '79': 0, '80': 0, '81': 0, '82': 0, '83': 74, '84': 67, '85': 0, '86': 0, '87': 62, '88': 0, '89': 0, '90': 0, '91': 0, '92': 0, '93': 0, '94': 0, '95': 0, '96': 0}, '11': {'gigachad': 63, 'Nicolas Cari': 68, 'gabriel balderrama': 69, '1': 0, '2': 91, '3': 0, '4': 0, '5': 0, '6': 0, '7': 49, '8': 72, '9': 0, '10': 0, '11': 0, '12': 0, '13': 0, '14': 103, '15': 0, '16': 0, '17': 73, '18': 68, '19': 46, '20': 91, '21': 0, '22': 0, '23': 0, '24': 59, '25': 0, '26': 98, '27': 63, '28': 0, '29': 0, '30': 0, '31': 54, '32': 0, '33': 64, '34': 0, '35': 81, '36': 0, '37': 0, '38': 0, '39': 0, '40': 75, '41': 0, '42': 0, '43': 0, '44': 74, '45': 61, '46': 82, '47': 0, '48': 0, '49': 0, '50': 0, '51': 101, '52': 0, '53': 56, '54': 0, '55': 73, '56': 0, '57': 103, '58': 0, '59': 0, '60': 0, '61': 61, '62': 84, '63': 46, '64': 68, '65': 68, '66': 0, '67': 0, '68': 0, '69': 90, '70': 42, '71': 0, '72': 0, '73': 0, '74': 76, '75': 64, '76': 0, '77': 56, '78': 0, '79': 0, '80': 0, '81': 0, '82': 0, '83': 0, '84': 0, '85': 63, '86': 73, '87': 0, '88': 71, '89': 0, '90': 0, '91': 80, '92': 0, '93': 0, '94': 0, '95': 76, '96': 79}, '12': {'gigachad': 0, 'Nicolas Cari': 0, 'gabriel balderrama': 0, '1': 0, '2': 0, '3': 0, '4': 0, '5': 0, '6': 0, '7': 0, '8': 0, '9': 70, '10': 77, '11': 0, '12': 0, '13': 0, '14': 0, '15': 79, '16': 0, '17': 0, '18': 0, '19': 0, '20': 0, '21': 89, '22': 0, '23': 0, '24': 0, '25': 0, '26': 0, '27': 0, '28': 0, '29': 0, '30': 0, '31': 0, '32': 62, '33': 0, '34': 0, '35': 0, '36': 57, '37': 0, '38': 72, '39': 87, '40': 0, '41': 0, '42': 0, '43': 44, '44': 0, '45': 0, '46': 0, '47': 0, '48': 0, '49': 0, '50': 0, '51': 0, '52': 68, '53': 0, '54': 78, '55': 0, '56': 0, '57': 0, '58': 0, '59': 66, '60': 69, '61': 0, '62': 0, '63': 0, '64': 0, '65': 0, '66': 0, '67': 0, '68': 0, '69': 0, '70': 0, '71': 0, '72': 0, '73': 0, '74': 0, '75': 0, '76': 0, '77': 0, '78': 0, '79': 0, '80': 0, '81': 0, '82': 0, '83': 60, '84': 59, '85': 0, '86': 0, '87': 78, '88': 0, '89': 0, '90': 0, '91': 0, '92': 0, '93': 0, '94': 0, '95': 0, '96': 0}, '13': {'gigachad': 75, 'Nicolas Cari': 76, 'gabriel balderrama': 77, '1': 0, '2': 61, '3': 0, '4': 0, '5': 0, '6': 0, '7': 63, '8': 91, '9': 0, '10': 0, '11': 0, '12': 0, '13': 0, '14': 62, '15': 0, '16': 0, '17': 96, '18': 89, '19': 69, '20': 63, '21': 0, '22': 0, '23': 0, '24': 94, '25': 0, '26': 68, '27': 75, '28': 0, '29': 0, '30': 0, '31': 58, '32': 0, '33': 93, '34': 0, '35': 86, '36': 0, '37': 0, '38': 0, '39': 0, '40': 78, '41': 0, '42': 0, '43': 0, '44': 73, '45': 96, '46': 56, '47': 0, '48': 0, '49': 0, '50': 0, '51': 50, '52': 0, '53': 58, '54': 0, '55': 90, '56': 0, '57': 63, '58': 0, '59': 0, '60': 0, '61': 70, '62': 65, '63': 63, '64': 94, '65': 74, '66': 0, '67': 0, '68': 0, '69': 74, '70': 67, '71': 0, '72': 0, '73': 0, '74': 75, '75': 86, '76': 0, '77': 91, '78': 0, '79': 0, '80': 0, '81': 0, '82': 0, '83': 0, '84': 0, '85': 66, '86': 73, '87': 0, '88': 87, '89': 0, '90': 0, '91': 91, '92': 0, '93': 0, '94': 0, '95': 63, '96': 101}, '14': {'gigachad': 0, 'Nicolas Cari': 0, 'gabriel balderrama': 0, '1': 0, '2': 0, '3': 63, '4': 97, '5': 83, '6': 0, '7': 0, '8': 0, '9': 0, '10': 0, '11': 103, '12': 0, '13': 62, '14': 0, '15': 0, '16': 0, '17': 0, '18': 0, '19': 0, '20': 0, '21': 0, '22': 67, '23': 93, '24': 0, '25': 0, '26': 0, '27': 0, '28': 64, '29': 0, '30': 71, '31': 0, '32': 0, '33': 0, '34': 80, '35': 0, '36': 0, '37': 74, '38': 0, '39': 0, '40': 0, '41': 58, '42': 77, '43': 0, '44': 0, '45': 0, '46': 0, '47': 84, '48': 90, '49': 68, '50': 78, '51': 0, '52': 0, '53': 0, '54': 68, '55': 0, '56': 0, '57': 0, '58': 60, '59': 0, '60': 0, '61': 0, '62': 0, '63': 0, '64': 0, '65': 0, '66': 71, '67': 60, '68': 71, '69': 0, '70': 0, '71': 0, '72': 86, '73': 81, '74': 0, '75': 0, '76': 92, '77': 0, '78': 0, '79': 67, '80': 67, '81': 0, '82': 101, '83': 67, '84': 0, '85': 0, '86': 0, '87': 0, '88': 0, '89': 85, '90': 68, '91': 0, '92': 71, '93': 0, '94': 70, '95': 0, '96': 0}, '15': {'gigachad': 0, 'Nicolas Cari': 0, 'gabriel balderrama': 0, '1': 0, '2': 0, '3': 0, '4': 0, '5': 0, '6': 0, '7': 0, '8': 0, '9': 69, '10': 84, '11': 0, '12': 79, '13': 0, '14': 0, '15': 0, '16': 0, '17': 0, '18': 0, '19': 0, '20': 0, '21': 90, '22': 0, '23': 0, '24': 0, '25': 0, '26': 0, '27': 0, '28': 0, '29': 0, '30': 0, '31': 0, '32': 69, '33': 0, '34': 0, '35': 0, '36': 57, '37': 0, '38': 77, '39': 91, '40': 0, '41': 0, '42': 0, '43': 69, '44': 0, '45': 0, '46': 0, '47': 0, '48': 0, '49': 0, '50': 0, '51': 0, '52': 82, '53': 0, '54': 80, '55': 0, '56': 0, '57': 0, '58': 0, '59': 69, '60': 63, '61': 0, '62': 0, '63': 0, '64': 0, '65': 0, '66': 0, '67': 0, '68': 0, '69': 0, '70': 0, '71': 0, '72': 0, '73': 0, '74': 0, '75': 0, '76': 0, '77': 0, '78': 0, '79': 0, '80': 0, '81': 0, '82': 0, '83': 83, '84': 76, '85': 0, '86': 0, '87': 72, '88': 0, '89': 0, '90': 0, '91': 0, '92': 0, '93': 0, '94': 0, '95': 0, '96': 0}, '16': {'gigachad': 0, 'Nicolas Cari': 0, 'gabriel balderrama': 0, '1': 65, '2': 0, '3': 0, '4': 0, '5': 0, '6': 75, '7': 0, '8': 0, '9': 0, '10': 0, '11': 0, '12': 0, '13': 0, '14': 0, '15': 0, '16': 0, '17': 0, '18': 0, '19': 73, '20': 0, '21': 0, '22': 0, '23': 0, '24': 0, '25': 98, '26': 0, '27': 78, '28': 0, '29': 81, '30': 0, '31': 79, '32': 0, '33': 0, '34': 0, '35': 0, '36': 0, '37': 0, '38': 0, '39': 0, '40': 0, '41': 0, '42': 0, '43': 0, '44': 0, '45': 0, '46': 0, '47': 0, '48': 0, '49': 0, '50': 0, '51': 0, '52': 0, '53': 89, '54': 0, '55': 0, '56': 87, '57': 0, '58': 0, '59': 0, '60': 0, '61': 0, '62': 0, '63': 78, '64': 0, '65': 59, '66': 0, '67': 0, '68': 0, '69': 0, '70': 67, '71': 87, '72': 0, '73': 0, '74': 0, '75': 0, '76': 0, '77': 0, '78': 77, '79': 0, '80': 0, '81': 81, '82': 0, '83': 0, '84': 0, '85': 78, '86': 0, '87': 0, '88': 0, '89': 0, '90': 0, '91': 0, '92': 0, '93': 81, '94': 0, '95': 0, '96': 0}, '17': {'gigachad': 0, 'Nicolas Cari': 0, 'gabriel balderrama': 0, '1': 0, '2': 0, '3': 68, '4': 77, '5': 52, '6': 0, '7': 0, '8': 0, '9': 0, '10': 0, '11': 73, '12': 0, '13': 96, '14': 0, '15': 0, '16': 0, '17': 0, '18': 0, '19': 0, '20': 0, '21': 0, '22': 99, '23': 63, '24': 0, '25': 0, '26': 0, '27': 0, '28': 54, '29': 0, '30': 70, '31': 0, '32': 0, '33': 0, '34': 87, '35': 0, '36': 0, '37': 86, '38': 0, '39': 0, '40': 0, '41': 72, '42': 90, '43': 0, '44': 0, '45': 0, '46': 0, '47': 72, '48': 63, '49': 82, '50': 77, '51': 0, '52': 0, '53': 0, '54': 61, '55': 0, '56': 0, '57': 0, '58': 75, '59': 0, '60': 0, '61': 0, '62': 0, '63': 0, '64': 0, '65': 0, '66': 59, '67': 62, '68': 67, '69': 0, '70': 0, '71': 0, '72': 72, '73': 85, '74': 0, '75': 0, '76': 59, '77': 0, '78': 0, '79': 82, '80': 79, '81': 0, '82': 62, '83': 66, '84': 0, '85': 0, '86': 0, '87': 0, '88': 0, '89': 67, '90': 82, '91': 0, '92': 69, '93': 0, '94': 88, '95': 0, '96': 0}, '18': {'gigachad': 0, 'Nicolas Cari': 0, 'gabriel balderrama': 0, '1': 0, '2': 0, '3': 72, '4': 66, '5': 62, '6': 0, '7': 0, '8': 0, '9': 0, '10': 0, '11': 68, '12': 0, '13': 89, '14': 0, '15': 0, '16': 0, '17': 0, '18': 0, '19': 0, '20': 0, '21': 0, '22': 90, '23': 70, '24': 0, '25': 0, '26': 0, '27': 0, '28': 86, '29': 0, '30': 90, '31': 0, '32': 0, '33': 0, '34': 80, '35': 0, '36': 0, '37': 85, '38': 0, '39': 0, '40': 0, '41': 74, '42': 102, '43': 0, '44': 0, '45': 0, '46': 0, '47': 73, '48': 81, '49': 70, '50': 66, '51': 0, '52': 0, '53': 0, '54': 75, '55': 0, '56': 0, '57': 0, '58': 86, '59': 0, '60': 0, '61': 0, '62': 0, '63': 0, '64': 0, '65': 0, '66': 73, '67': 57, '68': 77, '69': 0, '70': 0, '71': 0, '72': 58, '73': 69, '74': 0, '75': 0, '76': 57, '77': 0, '78': 0, '79': 81, '80': 73, '81': 0, '82': 79, '83': 67, '84': 0, '85': 0, '86': 0, '87': 0, '88': 0, '89': 76, '90': 82, '91': 0, '92': 62, '93': 0, '94': 92, '95': 0, '96': 0}, '19': {'gigachad': 0, 'Nicolas Cari': 0, 'gabriel balderrama': 0, '1': 89, '2': 0, '3': 58, '4': 62, '5': 43, '6': 61, '7': 0, '8': 0, '9': 0, '10': 0, '11': 46, '12': 0, '13': 69, '14': 0, '15': 0, '16': 73, '17': 0, '18': 0, '19': 0, '20': 0, '21': 0, '22': 82, '23': 54, '24': 0, '25': 78, '26': 0, '27': 85, '28': 66, '29': 63, '30': 80, '31': 86, '32': 0, '33': 0, '34': 77, '35': 0, '36': 0, '37': 61, '38': 0, '39': 0, '40': 0, '41': 58, '42': 66, '43': 0, '44': 0, '45': 0, '46': 0, '47': 56, '48': 51, '49': 75, '50': 80, '51': 0, '52': 0, '53': 76, '54': 65, '55': 0, '56': 80, '57': 0, '58': 61, '59': 0, '60': 0, '61': 0, '62': 0, '63': 102, '64': 0, '65': 91, '66': 64, '67': 66, '68': 71, '69': 0, '70': 104, '71': 73, '72': 63, '73': 90, '74': 0, '75': 0, '76': 42, '77': 0, '78': 93, '79': 76, '80': 77, '81': 63, '82': 42, '83': 66, '84': 0, '85': 76, '86': 0, '87': 0, '88': 0, '89': 86, '90': 82, '91': 0, '92': 81, '93': 64, '94': 72, '95': 0, '96': 0}, '20': {'gigachad': 0, 'Nicolas Cari': 0, 'gabriel balderrama': 0, '1': 0, '2': 0, '3': 70, '4': 104, '5': 85, '6': 0, '7': 0, '8': 0, '9': 0, '10': 0, '11': 91, '12': 0, '13': 63, '14': 0, '15': 0, '16': 0, '17': 0, '18': 0, '19': 0, '20': 0, '21': 0, '22': 67, '23': 98, '24': 0, '25': 0, '26': 0, '27': 0, '28': 54, '29': 0, '30': 66, '31': 0, '32': 0, '33': 0, '34': 74, '35': 0, '36': 0, '37': 67, '38': 0, '39': 0, '40': 0, '41': 61, '42': 63, '43': 0, '44': 0, '45': 0, '46': 0, '47': 71, '48': 81, '49': 85, '50': 82, '51': 0, '52': 0, '53': 0, '54': 61, '55': 0, '56': 0, '57': 0, '58': 65, '59': 0, '60': 0, '61': 0, '62': 0, '63': 0, '64': 0, '65': 0, '66': 61, '67': 58, '68': 66, '69': 0, '70': 0, '71': 0, '72': 94, '73': 73, '74': 0, '75': 0, '76': 85, '77': 0, '78': 0, '79': 68, '80': 62, '81': 0, '82': 88, '83': 57, '84': 0, '85': 0, '86': 0, '87': 0, '88': 0, '89': 78, '90': 65, '91': 0, '92': 71, '93': 0, '94': 66, '95': 0, '96': 0}, '21': {'gigachad': 0, 'Nicolas Cari': 0, 'gabriel balderrama': 0, '1': 0, '2': 0, '3': 0, '4': 0, '5': 0, '6': 0, '7': 0, '8': 0, '9': 75, '10': 88, '11': 0, '12': 89, '13': 0, '14': 0, '15': 90, '16': 0, '17': 0, '18': 0, '19': 0, '20': 0, '21': 0, '22': 0, '23': 0, '24': 0, '25': 0, '26': 0, '27': 0, '28': 0, '29': 0, '30': 0, '31': 0, '32': 65, '33': 0, '34': 0, '35': 0, '36': 60, '37': 0, '38': 69, '39': 84, '40': 0, '41': 0, '42': 0, '43': 55, '44': 0, '45': 0, '46': 0, '47': 0, '48': 0, '49': 0, '50': 0, '51': 0, '52': 68, '53': 0, '54': 66, '55': 0, '56': 0, '57': 0, '58': 0, '59': 65, '60': 70, '61': 0, '62': 0, '63': 0, '64': 0, '65': 0, '66': 0, '67': 0, '68': 0, '69': 0, '70': 0, '71': 0, '72': 0, '73': 0, '74': 0, '75': 0, '76': 0, '77': 0, '78': 0, '79': 0, '80': 0, '81': 0, '82': 0, '83': 67, '84': 60, '85': 0, '86': 0, '87': 61, '88': 0, '89': 0, '90': 0, '91': 0, '92': 0, '93': 0, '94': 0, '95': 0, '96': 0}, '22': {'gigachad': 68, 'Nicolas Cari': 77, 'gabriel balderrama': 85, '1': 0, '2': 58, '3': 0, '4': 0, '5': 0, '6': 0, '7': 79, '8': 86, '9': 0, '10': 0, '11': 0, '12': 0, '13': 0, '14': 67, '15': 0, '16': 0, '17': 99, '18': 90, '19': 82, '20': 67, '21': 0, '22': 0, '23': 0, '24': 87, '25': 0, '26': 72, '27': 75, '28': 0, '29': 0, '30': 0, '31': 70, '32': 0, '33': 100, '34': 0, '35': 85, '36': 0, '37': 0, '38': 0, '39': 0, '40': 83, '41': 0, '42': 0, '43': 0, '44': 78, '45': 107, '46': 56, '47': 0, '48': 0, '49': 0, '50': 0, '51': 48, '52': 0, '53': 66, '54': 0, '55': 88, '56': 0, '57': 57, '58': 0, '59': 0, '60': 0, '61': 76, '62': 76, '63': 77, '64': 93, '65': 69, '66': 0, '67': 0, '68': 0, '69': 67, '70': 79, '71': 0, '72': 0, '73': 0, '74': 73, '75': 89, '76': 0, '77': 85, '78': 0, '79': 0, '80': 0, '81': 0, '82': 0, '83': 0, '84': 0, '85': 66, '86': 69, '87': 0, '88': 90, '89': 0, '90': 0, '91': 82, '92': 0, '93': 0, '94': 0, '95': 78, '96': 92}, '23': {'gigachad': 74, 'Nicolas Cari': 78, 'gabriel balderrama': 72, '1': 0, '2': 95, '3': 0, '4': 0, '5': 0, '6': 0, '7': 69, '8': 62, '9': 0, '10': 0, '11': 0, '12': 0, '13': 0, '14': 93, '15': 0, '16': 0, '17': 63, '18': 70, '19': 54, '20': 98, '21': 0, '22': 0, '23': 0, '24': 73, '25': 0, '26': 91, '27': 61, '28': 0, '29': 0, '30': 0, '31': 60, '32': 0, '33': 60, '34': 0, '35': 67, '36': 0, '37': 0, '38': 0, '39': 0, '40': 71, '41': 0, '42': 0, '43': 0, '44': 63, '45': 59, '46': 85, '47': 0, '48': 0, '49': 0, '50': 0, '51': 82, '52': 0, '53': 61, '54': 0, '55': 57, '56': 0, '57': 86, '58': 0, '59': 0, '60': 0, '61': 69, '62': 89, '63': 53, '64': 64, '65': 58, '66': 0, '67': 0, '68': 0, '69': 100, '70': 58, '71': 0, '72': 0, '73': 0, '74': 57, '75': 66, '76': 0, '77': 71, '78': 0, '79': 0, '80': 0, '81': 0, '82': 0, '83': 0, '84': 0, '85': 64, '86': 79, '87': 0, '88': 67, '89': 0, '90': 0, '91': 64, '92': 0, '93': 0, '94': 0, '95': 92, '96': 81}, '24': {'gigachad': 0, 'Nicolas Cari': 0, 'gabriel balderrama': 0, '1': 0, '2': 0, '3': 73, '4': 61, '5': 56, '6': 0, '7': 0, '8': 0, '9': 0, '10': 0, '11': 59, '12': 0, '13': 94, '14': 0, '15': 0, '16': 0, '17': 0, '18': 0, '19': 0, '20': 0, '21': 0, '22': 87, '23': 73, '24': 0, '25': 0, '26': 0, '27': 0, '28': 71, '29': 0, '30': 58, '31': 0, '32': 0, '33': 0, '34': 72, '35': 0, '36': 0, '37': 81, '38': 0, '39': 0, '40': 0, '41': 83, '42': 98, '43': 0, '44': 0, '45': 0, '46': 0, '47': 64, '48': 60, '49': 71, '50': 64, '51': 0, '52': 0, '53': 0, '54': 64, '55': 0, '56': 0, '57': 0, '58': 80, '59': 0, '60': 0, '61': 0, '62': 0, '63': 0, '64': 0, '65': 0, '66': 67, '67': 62, '68': 58, '69': 0, '70': 0, '71': 0, '72': 53, '73': 70, '74': 0, '75': 0, '76': 62, '77': 0, '78': 0, '79': 82, '80': 59, '81': 0, '82': 60, '83': 71, '84': 0, '85': 0, '86': 0, '87': 0, '88': 0, '89': 73, '90': 85, '91': 0, '92': 62, '93': 0, '94': 73, '95': 0, '96': 0}, '25': {'gigachad': 0, 'Nicolas Cari': 0, 'gabriel balderrama': 0, '1': 69, '2': 0, '3': 0, '4': 0, '5': 0, '6': 71, '7': 0, '8': 0, '9': 0, '10': 0, '11': 0, '12': 0, '13': 0, '14': 0, '15': 0, '16': 98, '17': 0, '18': 0, '19': 78, '20': 0, '21': 0, '22': 0, '23': 0, '24': 0, '25': 0, '26': 0, '27': 78, '28': 0, '29': 75, '30': 0, '31': 75, '32': 0, '33': 0, '34': 0, '35': 0, '36': 0, '37': 0, '38': 0, '39': 0, '40': 0, '41': 0, '42': 0, '43': 0, '44': 0, '45': 0, '46': 0, '47': 0, '48': 0, '49': 0, '50': 0, '51': 0, '52': 0, '53': 80, '54': 0, '55': 0, '56': 89, '57': 0, '58': 0, '59': 0, '60': 0, '61': 0, '62': 0, '63': 72, '64': 0, '65': 67, '66': 0, '67': 0, '68': 0, '69': 0, '70': 77, '71': 87, '72': 0, '73': 0, '74': 0, '75': 0, '76': 0, '77': 0, '78': 87, '79': 0, '80': 0, '81': 75, '82': 0, '83': 0, '84': 0, '85': 69, '86': 0, '87': 0, '88': 0, '89': 0, '90': 0, '91': 0, '92': 0, '93': 72, '94': 0, '95': 0, '96': 0}, '26': {'gigachad': 0, 'Nicolas Cari': 0, 'gabriel balderrama': 0, '1': 0, '2': 0, '3': 63, '4': 106, '5': 78, '6': 0, '7': 0, '8': 0, '9': 0, '10': 0, '11': 98, '12': 0, '13': 68, '14': 0, '15': 0, '16': 0, '17': 0, '18': 0, '19': 0, '20': 0, '21': 0, '22': 72, '23': 91, '24': 0, '25': 0, '26': 0, '27': 0, '28': 47, '29': 0, '30': 68, '31': 0, '32': 0, '33': 0, '34': 76, '35': 0, '36': 0, '37': 72, '38': 0, '39': 0, '40': 0, '41': 66, '42': 59, '43': 0, '44': 0, '45': 0, '46': 0, '47': 73, '48': 83, '49': 78, '50': 75, '51': 0, '52': 0, '53': 0, '54': 57, '55': 0, '56': 0, '57': 0, '58': 58, '59': 0, '60': 0, '61': 0, '62': 0, '63': 0, '64': 0, '65': 0, '66': 54, '67': 63, '68': 68, '69': 0, '70': 0, '71': 0, '72': 101, '73': 80, '74': 0, '75': 0, '76': 90, '77': 0, '78': 0, '79': 61, '80': 69, '81': 0, '82': 90, '83': 50, '84': 0, '85': 0, '86': 0, '87': 0, '88': 0, '89': 74, '90': 61, '91': 0, '92': 67, '93': 0, '94': 73, '95': 0, '96': 0}, '27': {'gigachad': 0, 'Nicolas Cari': 0, 'gabriel balderrama': 0, '1': 85, '2': 0, '3': 67, '4': 50, '5': 61, '6': 80, '7': 0, '8': 0, '9': 0, '10': 0, '11': 63, '12': 0, '13': 75, '14': 0, '15': 0, '16': 78, '17': 0, '18': 0, '19': 85, '20': 0, '21': 0, '22': 75, '23': 61, '24': 0, '25': 78, '26': 0, '27': 0, '28': 88, '29': 77, '30': 85, '31': 79, '32': 0, '33': 0, '34': 70, '35': 0, '36': 0, '37': 78, '38': 0, '39': 0, '40': 0, '41': 76, '42': 75, '43': 0, '44': 0, '45': 0, '46': 0, '47': 73, '48': 66, '49': 63, '50': 72, '51': 0, '52': 0, '53': 81, '54': 82, '55': 0, '56': 72, '57': 0, '58': 76, '59': 0, '60': 0, '61': 0, '62': 0, '63': 84, '64': 0, '65': 104, '66': 82, '67': 84, '68': 84, '69': 0, '70': 81, '71': 87, '72': 60, '73': 67, '74': 0, '75': 0, '76': 68, '77': 0, '78': 70, '79': 62, '80': 78, '81': 77, '82': 60, '83': 84, '84': 0, '85': 90, '86': 0, '87': 0, '88': 0, '89': 85, '90': 68, '91': 0, '92': 82, '93': 75, '94': 85, '95': 0, '96': 0}, '28': {'gigachad': 71, 'Nicolas Cari': 77, 'gabriel balderrama': 87, '1': 0, '2': 87, '3': 0, '4': 0, '5': 0, '6': 0, '7': 83, '8': 78, '9': 0, '10': 0, '11': 0, '12': 0, '13': 0, '14': 64, '15': 0, '16': 0, '17': 54, '18': 86, '19': 66, '20': 54, '21': 0, '22': 0, '23': 0, '24': 71, '25': 0, '26': 47, '27': 88, '28': 0, '29': 0, '30': 0, '31': 69, '32': 0, '33': 59, '34': 0, '35': 66, '36': 0, '37': 0, '38': 0, '39': 0, '40': 84, '41': 0, '42': 0, '43': 0, '44': 80, '45': 61, '46': 66, '47': 0, '48': 0, '49': 0, '50': 0, '51': 73, '52': 0, '53': 58, '54': 0, '55': 73, '56': 0, '57': 69, '58': 0, '59': 0, '60': 0, '61': 69, '62': 51, '63': 73, '64': 68, '65': 78, '66': 0, '67': 0, '68': 0, '69': 62, '70': 70, '71': 0, '72': 0, '73': 0, '74': 81, '75': 68, '76': 0, '77': 77, '78': 0, '79': 0, '80': 0, '81': 0, '82': 0, '83': 0, '84': 0, '85': 91, '86': 95, '87': 0, '88': 74, '89': 0, '90': 0, '91': 71, '92': 0, '93': 0, '94': 0, '95': 56, '96': 83}, '29': {'gigachad': 0, 'Nicolas Cari': 0, 'gabriel balderrama': 0, '1': 53, '2': 0, '3': 0, '4': 0, '5': 0, '6': 71, '7': 0, '8': 0, '9': 0, '10': 0, '11': 0, '12': 0, '13': 0, '14': 0, '15': 0, '16': 81, '17': 0, '18': 0, '19': 63, '20': 0, '21': 0, '22': 0, '23': 0, '24': 0, '25': 75, '26': 0, '27': 77, '28': 0, '29': 0, '30': 0, '31': 68, '32': 0, '33': 0, '34': 0, '35': 0, '36': 0, '37': 0, '38': 0, '39': 0, '40': 0, '41': 0, '42': 0, '43': 0, '44': 0, '45': 0, '46': 0, '47': 0, '48': 0, '49': 0, '50': 0, '51': 0, '52': 0, '53': 70, '54': 0, '55': 0, '56': 84, '57': 0, '58': 0, '59': 0, '60': 0, '61': 0, '62': 0, '63': 68, '64': 0, '65': 68, '66': 0, '67': 0, '68': 0, '69': 0, '70': 55, '71': 86, '72': 0, '73': 0, '74': 0, '75': 0, '76': 0, '77': 0, '78': 67, '79': 0, '80': 0, '81': 103, '82': 0, '83': 0, '84': 0, '85': 77, '86': 0, '87': 0, '88': 0, '89': 0, '90': 0, '91': 0, '92': 0, '93': 84, '94': 0, '95': 0, '96': 0}, '30': {'gigachad': 74, 'Nicolas Cari': 77, 'gabriel balderrama': 77, '1': 0, '2': 71, '3': 0, '4': 0, '5': 0, '6': 0, '7': 83, '8': 57, '9': 0, '10': 0, '11': 0, '12': 0, '13': 0, '14': 71, '15': 0, '16': 0, '17': 70, '18': 90, '19': 80, '20': 66, '21': 0, '22': 0, '23': 0, '24': 58, '25': 0, '26': 68, '27': 85, '28': 0, '29': 0, '30': 0, '31': 75, '32': 0, '33': 62, '34': 0, '35': 60, '36': 0, '37': 0, '38': 0, '39': 0, '40': 76, '41': 0, '42': 0, '43': 0, '44': 72, '45': 71, '46': 63, '47': 0, '48': 0, '49': 0, '50': 0, '51': 63, '52': 0, '53': 80, '54': 0, '55': 52, '56': 0, '57': 61, '58': 0, '59': 0, '60': 0, '61': 88, '62': 73, '63': 84, '64': 81, '65': 80, '66': 0, '67': 0, '68': 0, '69': 75, '70': 88, '71': 0, '72': 0, '73': 0, '74': 62, '75': 77, '76': 0, '77': 56, '78': 0, '79': 0, '80': 0, '81': 0, '82': 0, '83': 0, '84': 0, '85': 94, '86': 96, '87': 0, '88': 54, '89': 0, '90': 0, '91': 55, '92': 0, '93': 0, '94': 0, '95': 77, '96': 84}, '31': {'gigachad': 0, 'Nicolas Cari': 0, 'gabriel balderrama': 0, '1': 94, '2': 0, '3': 69, '4': 71, '5': 64, '6': 70, '7': 0, '8': 0, '9': 0, '10': 0, '11': 54, '12': 0, '13': 58, '14': 0, '15': 0, '16': 79, '17': 0, '18': 0, '19': 86, '20': 0, '21': 0, '22': 70, '23': 60, '24': 0, '25': 75, '26': 0, '27': 79, '28': 69, '29': 68, '30': 75, '31': 0, '32': 0, '33': 0, '34': 77, '35': 0, '36': 0, '37': 65, '38': 0, '39': 0, '40': 0, '41': 62, '42': 62, '43': 0, '44': 0, '45': 0, '46': 0, '47': 72, '48': 52, '49': 88, '50': 83, '51': 0, '52': 0, '53': 90, '54': 76, '55': 0, '56': 71, '57': 0, '58': 75, '59': 0, '60': 0, '61': 0, '62': 0, '63': 89, '64': 0, '65': 69, '66': 78, '67': 71, '68': 74, '69': 0, '70': 89, '71': 67, '72': 73, '73': 72, '74': 0, '75': 0, '76': 55, '77': 0, '78': 78, '79': 79, '80': 77, '81': 68, '82': 59, '83': 80, '84': 0, '85': 82, '86': 0, '87': 0, '88': 0, '89': 74, '90': 76, '91': 0, '92': 84, '93': 70, '94': 67, '95': 0, '96': 0}, '32': {'gigachad': 0, 'Nicolas Cari': 0, 'gabriel balderrama': 0, '1': 0, '2': 0, '3': 0, '4': 0, '5': 0, '6': 0, '7': 0, '8': 0, '9': 68, '10': 53, '11': 0, '12': 62, '13': 0, '14': 0, '15': 69, '16': 0, '17': 0, '18': 0, '19': 0, '20': 0, '21': 65, '22': 0, '23': 0, '24': 0, '25': 0, '26': 0, '27': 0, '28': 0, '29': 0, '30': 0, '31': 0, '32': 0, '33': 0, '34': 0, '35': 0, '36': 76, '37': 0, '38': 55, '39': 71, '40': 0, '41': 0, '42': 0, '43': 82, '44': 0, '45': 0, '46': 0, '47': 0, '48': 0, '49': 0, '50': 0, '51': 0, '52': 65, '53': 0, '54': 99, '55': 0, '56': 0, '57': 0, '58': 0, '59': 55, '60': 63, '61': 0, '62': 0, '63': 0, '64': 0, '65': 0, '66': 0, '67': 0, '68': 0, '69': 0, '70': 0, '71': 0, '72': 0, '73': 0, '74': 0, '75': 0, '76': 0, '77': 0, '78': 0, '79': 0, '80': 0, '81': 0, '82': 0, '83': 99, '84': 88, '85': 0, '86': 0, '87': 70, '88': 0, '89': 0, '90': 0, '91': 0, '92': 0, '93': 0, '94': 0, '95': 0, '96': 0}, '33': {'gigachad': 0, 'Nicolas Cari': 0, 'gabriel balderrama': 0, '1': 0, '2': 0, '3': 61, '4': 65, '5': 57, '6': 0, '7': 0, '8': 0, '9': 0, '10': 0, '11': 64, '12': 0, '13': 93, '14': 0, '15': 0, '16': 0, '17': 0, '18': 0, '19': 0, '20': 0, '21': 0, '22': 100, '23': 60, '24': 0, '25': 0, '26': 0, '27': 0, '28': 59, '29': 0, '30': 62, '31': 0, '32': 0, '33': 0, '34': 79, '35': 0, '36': 0, '37': 83, '38': 0, '39': 0, '40': 0, '41': 81, '42': 89, '43': 0, '44': 0, '45': 0, '46': 0, '47': 60, '48': 55, '49': 75, '50': 70, '51': 0, '52': 0, '53': 0, '54': 60, '55': 0, '56': 0, '57': 0, '58': 80, '59': 0, '60': 0, '61': 0, '62': 0, '63': 0, '64': 0, '65': 0, '66': 64, '67': 71, '68': 67, '69': 0, '70': 0, '71': 0, '72': 75, '73': 76, '74': 0, '75': 0, '76': 68, '77': 0, '78': 0, '79': 87, '80': 82, '81': 0, '82': 54, '83': 71, '84': 0, '85': 0, '86': 0, '87': 0, '88': 0, '89': 66, '90': 93, '91': 0, '92': 80, '93': 0, '94': 91, '95': 0, '96': 0}, '34': {'gigachad': 76, 'Nicolas Cari': 85, 'gabriel balderrama': 90, '1': 0, '2': 61, '3': 0, '4': 0, '5': 0, '6': 0, '7': 95, '8': 67, '9': 0, '10': 0, '11': 0, '12': 0, '13': 0, '14': 80, '15': 0, '16': 0, '17': 87, '18': 80, '19': 77, '20': 74, '21': 0, '22': 0, '23': 0, '24': 72, '25': 0, '26': 76, '27': 70, '28': 0, '29': 0, '30': 0, '31': 77, '32': 0, '33': 79, '34': 0, '35': 81, '36': 0, '37': 0, '38': 0, '39': 0, '40': 94, '41': 0, '42': 0, '43': 0, '44': 83, '45': 86, '46': 70, '47': 0, '48': 0, '49': 0, '50': 0, '51': 55, '52': 0, '53': 83, '54': 0, '55': 62, '56': 0, '57': 53, '58': 0, '59': 0, '60': 0, '61': 89, '62': 74, '63': 81, '64': 74, '65': 62, '66': 0, '67': 0, '68': 0, '69': 69, '70': 79, '71': 0, '72': 0, '73': 0, '74': 63, '75': 61, '76': 0, '77': 70, '78': 0, '79': 0, '80': 0, '81': 0, '82': 0, '83': 0, '84': 0, '85': 79, '86': 81, '87': 0, '88': 75, '89': 0, '90': 0, '91': 69, '92': 0, '93': 0, '94': 0, '95': 80, '96': 78}, '35': {'gigachad': 0, 'Nicolas Cari': 0, 'gabriel balderrama': 0, '1': 0, '2': 0, '3': 67, '4': 68, '5': 70, '6': 0, '7': 0, '8': 0, '9': 0, '10': 0, '11': 81, '12': 0, '13': 86, '14': 0, '15': 0, '16': 0, '17': 0, '18': 0, '19': 0, '20': 0, '21': 0, '22': 85, '23': 67, '24': 0, '25': 0, '26': 0, '27': 0, '28': 66, '29': 0, '30': 60, '31': 0, '32': 0, '33': 0, '34': 81, '35': 0, '36': 0, '37': 92, '38': 0, '39': 0, '40': 0, '41': 69, '42': 93, '43': 0, '44': 0, '45': 0, '46': 0, '47': 86, '48': 61, '49': 72, '50': 70, '51': 0, '52': 0, '53': 0, '54': 78, '55': 0, '56': 0, '57': 0, '58': 74, '59': 0, '60': 0, '61': 0, '62': 0, '63': 0, '64': 0, '65': 0, '66': 61, '67': 71, '68': 60, '69': 0, '70': 0, '71': 0, '72': 57, '73': 70, '74': 0, '75': 0, '76': 70, '77': 0, '78': 0, '79': 73, '80': 68, '81': 0, '82': 79, '83': 65, '84': 0, '85': 0, '86': 0, '87': 0, '88': 0, '89': 75, '90': 74, '91': 0, '92': 63, '93': 0, '94': 75, '95': 0, '96': 0}, '36': {'gigachad': 0, 'Nicolas Cari': 0, 'gabriel balderrama': 0, '1': 0, '2': 0, '3': 0, '4': 0, '5': 0, '6': 0, '7': 0, '8': 0, '9': 63, '10': 68, '11': 0, '12': 57, '13': 0, '14': 0, '15': 57, '16': 0, '17': 0, '18': 0, '19': 0, '20': 0, '21': 60, '22': 0, '23': 0, '24': 0, '25': 0, '26': 0, '27': 0, '28': 0, '29': 0, '30': 0, '31': 0, '32': 76, '33': 0, '34': 0, '35': 0, '36': 0, '37': 0, '38': 64, '39': 51, '40': 0, '41': 0, '42': 0, '43': 86, '44': 0, '45': 0, '46': 0, '47': 0, '48': 0, '49': 0, '50': 0, '51': 0, '52': 58, '53': 0, '54': 81, '55': 0, '56': 0, '57': 0, '58': 0, '59': 62, '60': 82, '61': 0, '62': 0, '63': 0, '64': 0, '65': 0, '66': 0, '67': 0, '68': 0, '69': 0, '70': 0, '71': 0, '72': 0, '73': 0, '74': 0, '75': 0, '76': 0, '77': 0, '78': 0, '79': 0, '80': 0, '81': 0, '82': 0, '83': 88, '84': 81, '85': 0, '86': 0, '87': 56, '88': 0, '89': 0, '90': 0, '91': 0, '92': 0, '93': 0, '94': 0, '95': 0, '96': 0}, '37': {'gigachad': 72, 'Nicolas Cari': 77, 'gabriel balderrama': 69, '1': 0, '2': 71, '3': 0, '4': 0, '5': 0, '6': 0, '7': 48, '8': 98, '9': 0, '10': 0, '11': 0, '12': 0, '13': 0, '14': 74, '15': 0, '16': 0, '17': 86, '18': 85, '19': 61, '20': 67, '21': 0, '22': 0, '23': 0, '24': 81, '25': 0, '26': 72, '27': 78, '28': 0, '29': 0, '30': 0, '31': 65, '32': 0, '33': 83, '34': 0, '35': 92, '36': 0, '37': 0, '38': 0, '39': 0, '40': 80, '41': 0, '42': 0, '43': 0, '44': 85, '45': 80, '46': 52, '47': 0, '48': 0, '49': 0, '50': 0, '51': 78, '52': 0, '53': 58, '54': 0, '55': 97, '56': 0, '57': 91, '58': 0, '59': 0, '60': 0, '61': 58, '62': 70, '63': 55, '64': 88, '65': 85, '66': 0, '67': 0, '68': 0, '69': 72, '70': 61, '71': 0, '72': 0, '73': 0, '74': 93, '75': 90, '76': 0, '77': 78, '78': 0, '79': 0, '80': 0, '81': 0, '82': 0, '83': 0, '84': 0, '85': 69, '86': 76, '87': 0, '88': 93, '89': 0, '90': 0, '91': 94, '92': 0, '93': 0, '94': 0, '95': 58, '96': 100}, '38': {'gigachad': 0, 'Nicolas Cari': 0, 'gabriel balderrama': 0, '1': 0, '2': 0, '3': 0, '4': 0, '5': 0, '6': 0, '7': 0, '8': 0, '9': 70, '10': 85, '11': 0, '12': 72, '13': 0, '14': 0, '15': 77, '16': 0, '17': 0, '18': 0, '19': 0, '20': 0, '21': 69, '22': 0, '23': 0, '24': 0, '25': 0, '26': 0, '27': 0, '28': 0, '29': 0, '30': 0, '31': 0, '32': 55, '33': 0, '34': 0, '35': 0, '36': 64, '37': 0, '38': 0, '39': 79, '40': 0, '41': 0, '42': 0, '43': 71, '44': 0, '45': 0, '46': 0, '47': 0, '48': 0, '49': 0, '50': 0, '51': 0, '52': 70, '53': 0, '54': 72, '55': 0, '56': 0, '57': 0, '58': 0, '59': 81, '60': 61, '61': 0, '62': 0, '63': 0, '64': 0, '65': 0, '66': 0, '67': 0, '68': 0, '69': 0, '70': 0, '71': 0, '72': 0, '73': 0, '74': 0, '75': 0, '76': 0, '77': 0, '78': 0, '79': 0, '80': 0, '81': 0, '82': 0, '83': 79, '84': 77, '85': 0, '86': 0, '87': 71, '88': 0, '89': 0, '90': 0, '91': 0, '92': 0, '93': 0, '94': 0, '95': 0, '96': 0}, '39': {'gigachad': 0, 'Nicolas Cari': 0, 'gabriel balderrama': 0, '1': 0, '2': 0, '3': 0, '4': 0, '5': 0, '6': 0, '7': 0, '8': 0, '9': 68, '10': 76, '11': 0, '12': 87, '13': 0, '14': 0, '15': 91, '16': 0, '17': 0, '18': 0, '19': 0, '20': 0, '21': 84, '22': 0, '23': 0, '24': 0, '25': 0, '26': 0, '27': 0, '28': 0, '29': 0, '30': 0, '31': 0, '32': 71, '33': 0, '34': 0, '35': 0, '36': 51, '37': 0, '38': 79, '39': 0, '40': 0, '41': 0, '42': 0, '43': 66, '44': 0, '45': 0, '46': 0, '47': 0, '48': 0, '49': 0, '50': 0, '51': 0, '52': 70, '53': 0, '54': 80, '55': 0, '56': 0, '57': 0, '58': 0, '59': 77, '60': 58, '61': 0, '62': 0, '63': 0, '64': 0, '65': 0, '66': 0, '67': 0, '68': 0, '69': 0, '70': 0, '71': 0, '72': 0, '73': 0, '74': 0, '75': 0, '76': 0, '77': 0, '78': 0, '79': 0, '80': 0, '81': 0, '82': 0, '83': 79, '84': 78, '85': 0, '86': 0, '87': 83, '88': 0, '89': 0, '90': 0, '91': 0, '92': 0, '93': 0, '94': 0, '95': 0, '96': 0}, '40': {'gigachad': 0, 'Nicolas Cari': 0, 'gabriel balderrama': 0, '1': 0, '2': 0, '3': 83, '4': 69, '5': 61, '6': 0, '7': 0, '8': 0, '9': 0, '10': 0, '11': 75, '12': 0, '13': 78, '14': 0, '15': 0, '16': 0, '17': 0, '18': 0, '19': 0, '20': 0, '21': 0, '22': 83, '23': 71, '24': 0, '25': 0, '26': 0, '27': 0, '28': 84, '29': 0, '30': 76, '31': 0, '32': 0, '33': 0, '34': 94, '35': 0, '36': 0, '37': 80, '38': 0, '39': 0, '40': 0, '41': 64, '42': 90, '43': 0, '44': 0, '45': 0, '46': 0, '47': 89, '48': 62, '49': 88, '50': 89, '51': 0, '52': 0, '53': 0, '54': 84, '55': 0, '56': 0, '57': 0, '58': 61, '59': 0, '60': 0, '61': 0, '62': 0, '63': 0, '64': 0, '65': 0, '66': 82, '67': 76, '68': 76, '69': 0, '70': 0, '71': 0, '72': 58, '73': 95, '74': 0, '75': 0, '76': 75, '77': 0, '78': 0, '79': 78, '80': 81, '81': 0, '82': 73, '83': 81, '84': 0, '85': 0, '86': 0, '87': 0, '88': 0, '89': 98, '90': 81, '91': 0, '92': 84, '93': 0, '94': 65, '95': 0, '96': 0}, '41': {'gigachad': 70, 'Nicolas Cari': 78, 'gabriel balderrama': 75, '1': 0, '2': 72, '3': 0, '4': 0, '5': 0, '6': 0, '7': 57, '8': 72, '9': 0, '10': 0, '11': 0, '12': 0, '13': 0, '14': 58, '15': 0, '16': 0, '17': 72, '18': 74, '19': 58, '20': 61, '21': 0, '22': 0, '23': 0, '24': 83, '25': 0, '26': 66, '27': 76, '28': 0, '29': 0, '30': 0, '31': 62, '32': 0, '33': 81, '34': 0, '35': 69, '36': 0, '37': 0, '38': 0, '39': 0, '40': 64, '41': 0, '42': 0, '43': 0, '44': 53, '45': 72, '46': 58, '47': 0, '48': 0, '49': 0, '50': 0, '51': 58, '52': 0, '53': 61, '54': 0, '55': 74, '56': 0, '57': 59, '58': 0, '59': 0, '60': 0, '61': 61, '62': 55, '63': 61, '64': 85, '65': 74, '66': 0, '67': 0, '68': 0, '69': 78, '70': 55, '71': 0, '72': 0, '73': 0, '74': 73, '75': 99, '76': 0, '77': 89, '78': 0, '79': 0, '80': 0, '81': 0, '82': 0, '83': 0, '84': 0, '85': 67, '86': 62, '87': 0, '88': 82, '89': 0, '90': 0, '91': 77, '92': 0, '93': 0, '94': 0, '95': 58, '96': 90}, '42': {'gigachad': 83, 'Nicolas Cari': 72, 'gabriel balderrama': 93, '1': 0, '2': 81, '3': 0, '4': 0, '5': 0, '6': 0, '7': 72, '8': 108, '9': 0, '10': 0, '11': 0, '12': 0, '13': 0, '14': 77, '15': 0, '16': 0, '17': 90, '18': 102, '19': 66, '20': 63, '21': 0, '22': 0, '23': 0, '24': 98, '25': 0, '26': 59, '27': 75, '28': 0, '29': 0, '30': 0, '31': 62, '32': 0, '33': 89, '34': 0, '35': 93, '36': 0, '37': 0, '38': 0, '39': 0, '40': 90, '41': 0, '42': 0, '43': 0, '44': 87, '45': 95, '46': 69, '47': 0, '48': 0, '49': 0, '50': 0, '51': 70, '52': 0, '53': 64, '54': 0, '55': 103, '56': 0, '57': 80, '58': 0, '59': 0, '60': 0, '61': 61, '62': 72, '63': 58, '64': 98, '65': 93, '66': 0, '67': 0, '68': 0, '69': 74, '70': 74, '71': 0, '72': 0, '73': 0, '74': 95, '75': 92, '76': 0, '77': 95, '78': 0, '79': 0, '80': 0, '81': 0, '82': 0, '83': 0, '84': 0, '85': 73, '86': 80, '87': 0, '88': 91, '89': 0, '90': 0, '91': 98, '92': 0, '93': 0, '94': 0, '95': 69, '96': 98}, '43': {'gigachad': 0, 'Nicolas Cari': 0, 'gabriel balderrama': 0, '1': 0, '2': 0, '3': 0, '4': 0, '5': 0, '6': 0, '7': 0, '8': 0, '9': 62, '10': 67, '11': 0, '12': 44, '13': 0, '14': 0, '15': 69, '16': 0, '17': 0, '18': 0, '19': 0, '20': 0, '21': 55, '22': 0, '23': 0, '24': 0, '25': 0, '26': 0, '27': 0, '28': 0, '29': 0, '30': 0, '31': 0, '32': 82, '33': 0, '34': 0, '35': 0, '36': 86, '37': 0, '38': 71, '39': 66, '40': 0, '41': 0, '42': 0, '43': 0, '44': 0, '45': 0, '46': 0, '47': 0, '48': 0, '49': 0, '50': 0, '51': 0, '52': 72, '53': 0, '54': 86, '55': 0, '56': 0, '57': 0, '58': 0, '59': 74, '60': 70, '61': 0, '62': 0, '63': 0, '64': 0, '65': 0, '66': 0, '67': 0, '68': 0, '69': 0, '70': 0, '71': 0, '72': 0, '73': 0, '74': 0, '75': 0, '76': 0, '77': 0, '78': 0, '79': 0, '80': 0, '81': 0, '82': 0, '83': 103, '84': 96, '85': 0, '86': 0, '87': 73, '88': 0, '89': 0, '90': 0, '91': 0, '92': 0, '93': 0, '94': 0, '95': 0, '96': 0}, '44': {'gigachad': 0, 'Nicolas Cari': 0, 'gabriel balderrama': 0, '1': 0, '2': 0, '3': 75, '4': 67, '5': 75, '6': 0, '7': 0, '8': 0, '9': 0, '10': 0, '11': 74, '12': 0, '13': 73, '14': 0, '15': 0, '16': 0, '17': 0, '18': 0, '19': 0, '20': 0, '21': 0, '22': 78, '23': 63, '24': 0, '25': 0, '26': 0, '27': 0, '28': 80, '29': 0, '30': 72, '31': 0, '32': 0, '33': 0, '34': 83, '35': 0, '36': 0, '37': 85, '38': 0, '39': 0, '40': 0, '41': 53, '42': 87, '43': 0, '44': 0, '45': 0, '46': 0, '47': 88, '48': 60, '49': 86, '50': 78, '51': 0, '52': 0, '53': 0, '54': 93, '55': 0, '56': 0, '57': 0, '58': 62, '59': 0, '60': 0, '61': 0, '62': 0, '63': 0, '64': 0, '65': 0, '66': 79, '67': 84, '68': 59, '69': 0, '70': 0, '71': 0, '72': 56, '73': 72, '74': 0, '75': 0, '76': 71, '77': 0, '78': 0, '79': 61, '80': 76, '81': 0, '82': 82, '83': 68, '84': 0, '85': 0, '86': 0, '87': 0, '88': 0, '89': 82, '90': 64, '91': 0, '92': 73, '93': 0, '94': 48, '95': 0, '96': 0}, '45': {'gigachad': 0, 'Nicolas Cari': 0, 'gabriel balderrama': 0, '1': 0, '2': 0, '3': 64, '4': 69, '5': 56, '6': 0, '7': 0, '8': 0, '9': 0, '10': 0, '11': 61, '12': 0, '13': 96, '14': 0, '15': 0, '16': 0, '17': 0, '18': 0, '19': 0, '20': 0, '21': 0, '22': 107, '23': 59, '24': 0, '25': 0, '26': 0, '27': 0, '28': 61, '29': 0, '30': 71, '31': 0, '32': 0, '33': 0, '34': 86, '35': 0, '36': 0, '37': 80, '38': 0, '39': 0, '40': 0, '41': 72, '42': 95, '43': 0, '44': 0, '45': 0, '46': 0, '47': 57, '48': 58, '49': 79, '50': 81, '51': 0, '52': 0, '53': 0, '54': 57, '55': 0, '56': 0, '57': 0, '58': 71, '59': 0, '60': 0, '61': 0, '62': 0, '63': 0, '64': 0, '65': 0, '66': 58, '67': 70, '68': 68, '69': 0, '70': 0, '71': 0, '72': 67, '73': 90, '74': 0, '75': 0, '76': 53, '77': 0, '78': 0, '79': 89, '80': 81, '81': 0, '82': 47, '83': 65, '84': 0, '85': 0, '86': 0, '87': 0, '88': 0, '89': 80, '90': 95, '91': 0, '92': 79, '93': 0, '94': 92, '95': 0, '96': 0}, '46': {'gigachad': 0, 'Nicolas Cari': 0, 'gabriel balderrama': 0, '1': 0, '2': 0, '3': 57, '4': 83, '5': 82, '6': 0, '7': 0, '8': 0, '9': 0, '10': 0, '11': 82, '12': 0, '13': 56, '14': 0, '15': 0, '16': 0, '17': 0, '18': 0, '19': 0, '20': 0, '21': 0, '22': 56, '23': 85, '24': 0, '25': 0, '26': 0, '27': 0, '28': 66, '29': 0, '30': 63, '31': 0, '32': 0, '33': 0, '34': 70, '35': 0, '36': 0, '37': 52, '38': 0, '39': 0, '40': 0, '41': 58, '42': 69, '43': 0, '44': 0, '45': 0, '46': 0, '47': 63, '48': 91, '49': 54, '50': 64, '51': 0, '52': 0, '53': 0, '54': 44, '55': 0, '56': 0, '57': 0, '58': 65, '59': 0, '60': 0, '61': 0, '62': 0, '63': 0, '64': 0, '65': 0, '66': 75, '67': 60, '68': 68, '69': 0, '70': 0, '71': 0, '72': 84, '73': 61, '74': 0, '75': 0, '76': 77, '77': 0, '78': 0, '79': 58, '80': 64, '81': 0, '82': 81, '83': 74, '84': 0, '85': 0, '86': 0, '87': 0, '88': 0, '89': 62, '90': 59, '91': 0, '92': 69, '93': 0, '94': 67, '95': 0, '96': 0}, '47': {'gigachad': 77, 'Nicolas Cari': 82, 'gabriel balderrama': 72, '1': 0, '2': 71, '3': 0, '4': 0, '5': 0, '6': 0, '7': 62, '8': 77, '9': 0, '10': 0, '11': 0, '12': 0, '13': 0, '14': 84, '15': 0, '16': 0, '17': 72, '18': 73, '19': 56, '20': 71, '21': 0, '22': 0, '23': 0, '24': 64, '25': 0, '26': 73, '27': 73, '28': 0, '29': 0, '30': 0, '31': 72, '32': 0, '33': 60, '34': 0, '35': 86, '36': 0, '37': 0, '38': 0, '39': 0, '40': 89, '41': 0, '42': 0, '43': 0, '44': 88, '45': 57, '46': 63, '47': 0, '48': 0, '49': 0, '50': 0, '51': 82, '52': 0, '53': 75, '54': 0, '55': 69, '56': 0, '57': 84, '58': 0, '59': 0, '60': 0, '61': 71, '62': 65, '63': 59, '64': 67, '65': 78, '66': 0, '67': 0, '68': 0, '69': 71, '70': 61, '71': 0, '72': 0, '73': 0, '74': 81, '75': 59, '76': 0, '77': 61, '78': 0, '79': 0, '80': 0, '81': 0, '82': 0, '83': 0, '84': 0, '85': 82, '86': 88, '87': 0, '88': 76, '89': 0, '90': 0, '91': 79, '92': 0, '93': 0, '94': 0, '95': 57, '96': 83}, '48': {'gigachad': 67, 'Nicolas Cari': 59, 'gabriel balderrama': 75, '1': 0, '2': 90, '3': 0, '4': 0, '5': 0, '6': 0, '7': 59, '8': 58, '9': 0, '10': 0, '11': 0, '12': 0, '13': 0, '14': 90, '15': 0, '16': 0, '17': 63, '18': 81, '19': 51, '20': 81, '21': 0, '22': 0, '23': 0, '24': 60, '25': 0, '26': 83, '27': 66, '28': 0, '29': 0, '30': 0, '31': 52, '32': 0, '33': 55, '34': 0, '35': 61, '36': 0, '37': 0, '38': 0, '39': 0, '40': 62, '41': 0, '42': 0, '43': 0, '44': 60, '45': 58, '46': 91, '47': 0, '48': 0, '49': 0, '50': 0, '51': 84, '52': 0, '53': 57, '54': 0, '55': 53, '56': 0, '57': 82, '58': 0, '59': 0, '60': 0, '61': 62, '62': 88, '63': 55, '64': 68, '65': 57, '66': 0, '67': 0, '68': 0, '69': 90, '70': 55, '71': 0, '72': 0, '73': 0, '74': 59, '75': 65, '76': 0, '77': 58, '78': 0, '79': 0, '80': 0, '81': 0, '82': 0, '83': 0, '84': 0, '85': 75, '86': 80, '87': 0, '88': 55, '89': 0, '90': 0, '91': 56, '92': 0, '93': 0, '94': 0, '95': 86, '96': 82}, '49': {'gigachad': 81, 'Nicolas Cari': 92, 'gabriel balderrama': 78, '1': 0, '2': 59, '3': 0, '4': 0, '5': 0, '6': 0, '7': 89, '8': 73, '9': 0, '10': 0, '11': 0, '12': 0, '13': 0, '14': 68, '15': 0, '16': 0, '17': 82, '18': 70, '19': 75, '20': 85, '21': 0, '22': 0, '23': 0, '24': 71, '25': 0, '26': 78, '27': 63, '28': 0, '29': 0, '30': 0, '31': 88, '32': 0, '33': 75, '34': 0, '35': 72, '36': 0, '37': 0, '38': 0, '39': 0, '40': 88, '41': 0, '42': 0, '43': 0, '44': 86, '45': 79, '46': 54, '47': 0, '48': 0, '49': 0, '50': 0, '51': 62, '52': 0, '53': 74, '54': 0, '55': 65, '56': 0, '57': 70, '58': 0, '59': 0, '60': 0, '61': 81, '62': 76, '63': 73, '64': 80, '65': 62, '66': 0, '67': 0, '68': 0, '69': 74, '70': 82, '71': 0, '72': 0, '73': 0, '74': 70, '75': 68, '76': 0, '77': 68, '78': 0, '79': 0, '80': 0, '81': 0, '82': 0, '83': 0, '84': 0, '85': 66, '86': 82, '87': 0, '88': 68, '89': 0, '90': 0, '91': 66, '92': 0, '93': 0, '94': 0, '95': 71, '96': 70}, '50': {'gigachad': 80, 'Nicolas Cari': 86, 'gabriel balderrama': 81, '1': 0, '2': 65, '3': 0, '4': 0, '5': 0, '6': 0, '7': 90, '8': 62, '9': 0, '10': 0, '11': 0, '12': 0, '13': 0, '14': 78, '15': 0, '16': 0, '17': 77, '18': 66, '19': 80, '20': 82, '21': 0, '22': 0, '23': 0, '24': 64, '25': 0, '26': 75, '27': 72, '28': 0, '29': 0, '30': 0, '31': 83, '32': 0, '33': 70, '34': 0, '35': 70, '36': 0, '37': 0, '38': 0, '39': 0, '40': 89, '41': 0, '42': 0, '43': 0, '44': 78, '45': 81, '46': 64, '47': 0, '48': 0, '49': 0, '50': 0, '51': 49, '52': 0, '53': 79, '54': 0, '55': 54, '56': 0, '57': 57, '58': 0, '59': 0, '60': 0, '61': 90, '62': 75, '63': 78, '64': 64, '65': 68, '66': 0, '67': 0, '68': 0, '69': 73, '70': 85, '71': 0, '72': 0, '73': 0, '74': 48, '75': 61, '76': 0, '77': 61, '78': 0, '79': 0, '80': 0, '81': 0, '82': 0, '83': 0, '84': 0, '85': 75, '86': 91, '87': 0, '88': 66, '89': 0, '90': 0, '91': 59, '92': 0, '93': 0, '94': 0, '95': 81, '96': 82}, '51': {'gigachad': 0, 'Nicolas Cari': 0, 'gabriel balderrama': 0, '1': 0, '2': 0, '3': 54, '4': 91, '5': 101, '6': 0, '7': 0, '8': 0, '9': 0, '10': 0, '11': 101, '12': 0, '13': 50, '14': 0, '15': 0, '16': 0, '17': 0, '18': 0, '19': 0, '20': 0, '21': 0, '22': 48, '23': 82, '24': 0, '25': 0, '26': 0, '27': 0, '28': 73, '29': 0, '30': 63, '31': 0, '32': 0, '33': 0, '34': 55, '35': 0, '36': 0, '37': 78, '38': 0, '39': 0, '40': 0, '41': 58, '42': 70, '43': 0, '44': 0, '45': 0, '46': 0, '47': 82, '48': 84, '49': 62, '50': 49, '51': 0, '52': 0, '53': 0, '54': 76, '55': 0, '56': 0, '57': 0, '58': 66, '59': 0, '60': 0, '61': 0, '62': 0, '63': 0, '64': 0, '65': 0, '66': 76, '67': 72, '68': 58, '69': 0, '70': 0, '71': 0, '72': 92, '73': 46, '74': 0, '75': 0, '76': 99, '77': 0, '78': 0, '79': 50, '80': 56, '81': 0, '82': 113, '83': 62, '84': 0, '85': 0, '86': 0, '87': 0, '88': 0, '89': 70, '90': 51, '91': 0, '92': 54, '93': 0, '94': 57, '95': 0, '96': 0}, '52': {'gigachad': 0, 'Nicolas Cari': 0, 'gabriel balderrama': 0, '1': 0, '2': 0, '3': 0, '4': 0, '5': 0, '6': 0, '7': 0, '8': 0, '9': 59, '10': 66, '11': 0, '12': 68, '13': 0, '14': 0, '15': 82, '16': 0, '17': 0, '18': 0, '19': 0, '20': 0, '21': 68, '22': 0, '23': 0, '24': 0, '25': 0, '26': 0, '27': 0, '28': 0, '29': 0, '30': 0, '31': 0, '32': 65, '33': 0, '34': 0, '35': 0, '36': 58, '37': 0, '38': 70, '39': 70, '40': 0, '41': 0, '42': 0, '43': 72, '44': 0, '45': 0, '46': 0, '47': 0, '48': 0, '49': 0, '50': 0, '51': 0, '52': 0, '53': 0, '54': 65, '55': 0, '56': 0, '57': 0, '58': 0, '59': 68, '60': 52, '61': 0, '62': 0, '63': 0, '64': 0, '65': 0, '66': 0, '67': 0, '68': 0, '69': 0, '70': 0, '71': 0, '72': 0, '73': 0, '74': 0, '75': 0, '76': 0, '77': 0, '78': 0, '79': 0, '80': 0, '81': 0, '82': 0, '83': 68, '84': 61, '85': 0, '86': 0, '87': 84, '88': 0, '89': 0, '90': 0, '91': 0, '92': 0, '93': 0, '94': 0, '95': 0, '96': 0}, '53': {'gigachad': 0, 'Nicolas Cari': 0, 'gabriel balderrama': 0, '1': 83, '2': 0, '3': 59, '4': 67, '5': 53, '6': 65, '7': 0, '8': 0, '9': 0, '10': 0, '11': 56, '12': 0, '13': 58, '14': 0, '15': 0, '16': 89, '17': 0, '18': 0, '19': 76, '20': 0, '21': 0, '22': 66, '23': 61, '24': 0, '25': 80, '26': 0, '27': 81, '28': 58, '29': 70, '30': 80, '31': 90, '32': 0, '33': 0, '34': 83, '35': 0, '36': 0, '37': 58, '38': 0, '39': 0, '40': 0, '41': 61, '42': 64, '43': 0, '44': 0, '45': 0, '46': 0, '47': 75, '48': 57, '49': 74, '50': 79, '51': 0, '52': 0, '53': 0, '54': 69, '55': 0, '56': 81, '57': 0, '58': 67, '59': 0, '60': 0, '61': 0, '62': 0, '63': 84, '64': 0, '65': 62, '66': 76, '67': 68, '68': 88, '69': 0, '70': 79, '71': 69, '72': 68, '73': 71, '74': 0, '75': 0, '76': 57, '77': 0, '78': 68, '79': 65, '80': 78, '81': 70, '82': 58, '83': 82, '84': 0, '85': 90, '86': 0, '87': 0, '88': 0, '89': 76, '90': 66, '91': 0, '92': 84, '93': 76, '94': 80, '95': 0, '96': 0}, '54': {'gigachad': 71, 'Nicolas Cari': 76, 'gabriel balderrama': 62, '1': 0, '2': 65, '3': 0, '4': 0, '5': 0, '6': 0, '7': 55, '8': 81, '9': 61, '10': 57, '11': 0, '12': 78, '13': 0, '14': 68, '15': 80, '16': 0, '17': 61, '18': 75, '19': 65, '20': 61, '21': 66, '22': 0, '23': 0, '24': 64, '25': 0, '26': 57, '27': 82, '28': 0, '29': 0, '30': 0, '31': 76, '32': 99, '33': 60, '34': 0, '35': 78, '36': 81, '37': 0, '38': 72, '39': 80, '40': 84, '41': 0, '42': 0, '43': 86, '44': 93, '45': 57, '46': 44, '47': 0, '48': 0, '49': 0, '50': 0, '51': 76, '52': 65, '53': 69, '54': 0, '55': 76, '56': 0, '57': 86, '58': 0, '59': 51, '60': 81, '61': 58, '62': 61, '63': 57, '64': 69, '65': 93, '66': 0, '67': 0, '68': 0, '69': 63, '70': 73, '71': 0, '72': 0, '73': 0, '74': 83, '75': 72, '76': 0, '77': 61, '78': 0, '79': 0, '80': 0, '81': 0, '82': 0, '83': 82, '84': 82, '85': 80, '86': 85, '87': 64, '88': 76, '89': 0, '90': 0, '91': 71, '92': 0, '93': 0, '94': 0, '95': 49, '96': 80}, '55': {'gigachad': 0, 'Nicolas Cari': 0, 'gabriel balderrama': 0, '1': 0, '2': 0, '3': 62, '4': 55, '5': 65, '6': 0, '7': 0, '8': 0, '9': 0, '10': 0, '11': 73, '12': 0, '13': 90, '14': 0, '15': 0, '16': 0, '17': 0, '18': 0, '19': 0, '20': 0, '21': 0, '22': 88, '23': 57, '24': 0, '25': 0, '26': 0, '27': 0, '28': 73, '29': 0, '30': 52, '31': 0, '32': 0, '33': 0, '34': 62, '35': 0, '36': 0, '37': 97, '38': 0, '39': 0, '40': 0, '41': 74, '42': 103, '43': 0, '44': 0, '45': 0, '46': 0, '47': 69, '48': 53, '49': 65, '50': 54, '51': 0, '52': 0, '53': 0, '54': 76, '55': 0, '56': 0, '57': 0, '58': 73, '59': 0, '60': 0, '61': 0, '62': 0, '63': 0, '64': 0, '65': 0, '66': 69, '67': 74, '68': 43, '69': 0, '70': 0, '71': 0, '72': 56, '73': 69, '74': 0, '75': 0, '76': 69, '77': 0, '78': 0, '79': 76, '80': 62, '81': 0, '82': 69, '83': 69, '84': 0, '85': 0, '86': 0, '87': 0, '88': 0, '89': 69, '90': 82, '91': 0, '92': 55, '93': 0, '94': 67, '95': 0, '96': 0}, '56': {'gigachad': 0, 'Nicolas Cari': 0, 'gabriel balderrama': 0, '1': 64, '2': 0, '3': 0, '4': 0, '5': 0, '6': 70, '7': 0, '8': 0, '9': 0, '10': 0, '11': 0, '12': 0, '13': 0, '14': 0, '15': 0, '16': 87, '17': 0, '18': 0, '19': 80, '20': 0, '21': 0, '22': 0, '23': 0, '24': 0, '25': 89, '26': 0, '27': 72, '28': 0, '29': 84, '30': 0, '31': 71, '32': 0, '33': 0, '34': 0, '35': 0, '36': 0, '37': 0, '38': 0, '39': 0, '40': 0, '41': 0, '42': 0, '43': 0, '44': 0, '45': 0, '46': 0, '47': 0, '48': 0, '49': 0, '50': 0, '51': 0, '52': 0, '53': 81, '54': 0, '55': 0, '56': 0, '57': 0, '58': 0, '59': 0, '60': 0, '61': 0, '62': 0, '63': 80, '64': 0, '65': 69, '66': 0, '67': 0, '68': 0, '69': 0, '70': 77, '71': 81, '72': 0, '73': 0, '74': 0, '75': 0, '76': 0, '77': 0, '78': 87, '79': 0, '80': 0, '81': 84, '82': 0, '83': 0, '84': 0, '85': 72, '86': 0, '87': 0, '88': 0, '89': 0, '90': 0, '91': 0, '92': 0, '93': 76, '94': 0, '95': 0, '96': 0}, '57': {'gigachad': 0, 'Nicolas Cari': 0, 'gabriel balderrama': 0, '1': 0, '2': 0, '3': 62, '4': 93, '5': 97, '6': 0, '7': 0, '8': 0, '9': 0, '10': 0, '11': 103, '12': 0, '13': 63, '14': 0, '15': 0, '16': 0, '17': 0, '18': 0, '19': 0, '20': 0, '21': 0, '22': 57, '23': 86, '24': 0, '25': 0, '26': 0, '27': 0, '28': 69, '29': 0, '30': 61, '31': 0, '32': 0, '33': 0, '34': 53, '35': 0, '36': 0, '37': 91, '38': 0, '39': 0, '40': 0, '41': 59, '42': 80, '43': 0, '44': 0, '45': 0, '46': 0, '47': 84, '48': 82, '49': 70, '50': 57, '51': 0, '52': 0, '53': 0, '54': 86, '55': 0, '56': 0, '57': 0, '58': 62, '59': 0, '60': 0, '61': 0, '62': 0, '63': 0, '64': 0, '65': 0, '66': 72, '67': 73, '68': 48, '69': 0, '70': 0, '71': 0, '72': 82, '73': 48, '74': 0, '75': 0, '76': 100, '77': 0, '78': 0, '79': 46, '80': 46, '81': 0, '82': 111, '83': 58, '84': 0, '85': 0, '86': 0, '87': 0, '88': 0, '89': 80, '90': 49, '91': 0, '92': 52, '93': 0, '94': 47, '95': 0, '96': 0}, '58': {'gigachad': 68, 'Nicolas Cari': 72, 'gabriel balderrama': 71, '1': 0, '2': 79, '3': 0, '4': 0, '5': 0, '6': 0, '7': 67, '8': 78, '9': 0, '10': 0, '11': 0, '12': 0, '13': 0, '14': 60, '15': 0, '16': 0, '17': 75, '18': 86, '19': 61, '20': 65, '21': 0, '22': 0, '23': 0, '24': 80, '25': 0, '26': 58, '27': 76, '28': 0, '29': 0, '30': 0, '31': 75, '32': 0, '33': 80, '34': 0, '35': 74, '36': 0, '37': 0, '38': 0, '39': 0, '40': 61, '41': 0, '42': 0, '43': 0, '44': 62, '45': 71, '46': 65, '47': 0, '48': 0, '49': 0, '50': 0, '51': 66, '52': 0, '53': 67, '54': 0, '55': 73, '56': 0, '57': 62, '58': 0, '59': 0, '60': 0, '61': 59, '62': 65, '63': 68, '64': 80, '65': 65, '66': 0, '67': 0, '68': 0, '69': 67, '70': 65, '71': 0, '72': 0, '73': 0, '74': 81, '75': 90, '76': 0, '77': 86, '78': 0, '79': 0, '80': 0, '81': 0, '82': 0, '83': 0, '84': 0, '85': 79, '86': 78, '87': 0, '88': 82, '89': 0, '90': 0, '91': 71, '92': 0, '93': 0, '94': 0, '95': 59, '96': 93}, '59': {'gigachad': 0, 'Nicolas Cari': 0, 'gabriel balderrama': 0, '1': 0, '2': 0, '3': 0, '4': 0, '5': 0, '6': 0, '7': 0, '8': 0, '9': 75, '10': 79, '11': 0, '12': 66, '13': 0, '14': 0, '15': 69, '16': 0, '17': 0, '18': 0, '19': 0, '20': 0, '21': 65, '22': 0, '23': 0, '24': 0, '25': 0, '26': 0, '27': 0, '28': 0, '29': 0, '30': 0, '31': 0, '32': 55, '33': 0, '34': 0, '35': 0, '36': 62, '37': 0, '38': 81, '39': 77, '40': 0, '41': 0, '42': 0, '43': 74, '44': 0, '45': 0, '46': 0, '47': 0, '48': 0, '49': 0, '50': 0, '51': 0, '52': 68, '53': 0, '54': 51, '55': 0, '56': 0, '57': 0, '58': 0, '59': 0, '60': 59, '61': 0, '62': 0, '63': 0, '64': 0, '65': 0, '66': 0, '67': 0, '68': 0, '69': 0, '70': 0, '71': 0, '72': 0, '73': 0, '74': 0, '75': 0, '76': 0, '77': 0, '78': 0, '79': 0, '80': 0, '81': 0, '82': 0, '83': 83, '84': 81, '85': 0, '86': 0, '87': 75, '88': 0, '89': 0, '90': 0, '91': 0, '92': 0, '93': 0, '94': 0, '95': 0, '96': 0}, '60': {'gigachad': 0, 'Nicolas Cari': 0, 'gabriel balderrama': 0, '1': 0, '2': 0, '3': 0, '4': 0, '5': 0, '6': 0, '7': 0, '8': 0, '9': 65, '10': 78, '11': 0, '12': 69, '13': 0, '14': 0, '15': 63, '16': 0, '17': 0, '18': 0, '19': 0, '20': 0, '21': 70, '22': 0, '23': 0, '24': 0, '25': 0, '26': 0, '27': 0, '28': 0, '29': 0, '30': 0, '31': 0, '32': 63, '33': 0, '34': 0, '35': 0, '36': 82, '37': 0, '38': 61, '39': 58, '40': 0, '41': 0, '42': 0, '43': 70, '44': 0, '45': 0, '46': 0, '47': 0, '48': 0, '49': 0, '50': 0, '51': 0, '52': 52, '53': 0, '54': 81, '55': 0, '56': 0, '57': 0, '58': 0, '59': 59, '60': 0, '61': 0, '62': 0, '63': 0, '64': 0, '65': 0, '66': 0, '67': 0, '68': 0, '69': 0, '70': 0, '71': 0, '72': 0, '73': 0, '74': 0, '75': 0, '76': 0, '77': 0, '78': 0, '79': 0, '80': 0, '81': 0, '82': 0, '83': 92, '84': 85, '85': 0, '86': 0, '87': 46, '88': 0, '89': 0, '90': 0, '91': 0, '92': 0, '93': 0, '94': 0, '95': 0, '96': 0}, '61': {'gigachad': 0, 'Nicolas Cari': 0, 'gabriel balderrama': 0, '1': 0, '2': 0, '3': 68, '4': 76, '5': 49, '6': 0, '7': 0, '8': 0, '9': 0, '10': 0, '11': 61, '12': 0, '13': 70, '14': 0, '15': 0, '16': 0, '17': 0, '18': 0, '19': 0, '20': 0, '21': 0, '22': 76, '23': 69, '24': 0, '25': 0, '26': 0, '27': 0, '28': 69, '29': 0, '30': 88, '31': 0, '32': 0, '33': 0, '34': 89, '35': 0, '36': 0, '37': 58, '38': 0, '39': 0, '40': 0, '41': 61, '42': 61, '43': 0, '44': 0, '45': 0, '46': 0, '47': 71, '48': 62, '49': 81, '50': 90, '51': 0, '52': 0, '53': 0, '54': 58, '55': 0, '56': 0, '57': 0, '58': 59, '59': 0, '60': 0, '61': 0, '62': 0, '63': 0, '64': 0, '65': 0, '66': 67, '67': 69, '68': 88, '69': 0, '70': 0, '71': 0, '72': 71, '73': 102, '74': 0, '75': 0, '76': 53, '77': 0, '78': 0, '79': 74, '80': 82, '81': 0, '82': 53, '83': 66, '84': 0, '85': 0, '86': 0, '87': 0, '88': 0, '89': 95, '90': 74, '91': 0, '92': 82, '93': 0, '94': 81, '95': 0, '96': 0}, '62': {'gigachad': 0, 'Nicolas Cari': 0, 'gabriel balderrama': 0, '1': 0, '2': 0, '3': 57, '4': 99, '5': 82, '6': 0, '7': 0, '8': 0, '9': 0, '10': 0, '11': 84, '12': 0, '13': 65, '14': 0, '15': 0, '16': 0, '17': 0, '18': 0, '19': 0, '20': 0, '21': 0, '22': 76, '23': 89, '24': 0, '25': 0, '26': 0, '27': 0, '28': 51, '29': 0, '30': 73, '31': 0, '32': 0, '33': 0, '34': 74, '35': 0, '36': 0, '37': 70, '38': 0, '39': 0, '40': 0, '41': 55, '42': 72, '43': 0, '44': 0, '45': 0, '46': 0, '47': 65, '48': 88, '49': 76, '50': 75, '51': 0, '52': 0, '53': 0, '54': 61, '55': 0, '56': 0, '57': 0, '58': 65, '59': 0, '60': 0, '61': 0, '62': 0, '63': 0, '64': 0, '65': 0, '66': 67, '67': 60, '68': 64, '69': 0, '70': 0, '71': 0, '72': 91, '73': 63, '74': 0, '75': 0, '76': 82, '77': 0, '78': 0, '79': 62, '80': 65, '81': 0, '82': 89, '83': 59, '84': 0, '85': 0, '86': 0, '87': 0, '88': 0, '89': 69, '90': 65, '91': 0, '92': 73, '93': 0, '94': 63, '95': 0, '96': 0}, '63': {'gigachad': 0, 'Nicolas Cari': 0, 'gabriel balderrama': 0, '1': 87, '2': 0, '3': 56, '4': 65, '5': 50, '6': 64, '7': 0, '8': 0, '9': 0, '10': 0, '11': 46, '12': 0, '13': 63, '14': 0, '15': 0, '16': 78, '17': 0, '18': 0, '19': 102, '20': 0, '21': 0, '22': 77, '23': 53, '24': 0, '25': 72, '26': 0, '27': 84, '28': 73, '29': 68, '30': 84, '31': 89, '32': 0, '33': 0, '34': 81, '35': 0, '36': 0, '37': 55, '38': 0, '39': 0, '40': 0, '41': 61, '42': 58, '43': 0, '44': 0, '45': 0, '46': 0, '47': 59, '48': 55, '49': 73, '50': 78, '51': 0, '52': 0, '53': 84, '54': 57, '55': 0, '56': 80, '57': 0, '58': 68, '59': 0, '60': 0, '61': 0, '62': 0, '63': 0, '64': 0, '65': 85, '66': 71, '67': 69, '68': 83, '69': 0, '70': 96, '71': 72, '72': 72, '73': 90, '74': 0, '75': 0, '76': 45, '77': 0, '78': 85, '79': 83, '80': 86, '81': 68, '82': 46, '83': 73, '84': 0, '85': 84, '86': 0, '87': 0, '88': 0, '89': 78, '90': 83, '91': 0, '92': 82, '93': 72, '94': 81, '95': 0, '96': 0}, '64': {'gigachad': 0, 'Nicolas Cari': 0, 'gabriel balderrama': 0, '1': 0, '2': 0, '3': 78, '4': 75, '5': 49, '6': 0, '7': 0, '8': 0, '9': 0, '10': 0, '11': 68, '12': 0, '13': 94, '14': 0, '15': 0, '16': 0, '17': 0, '18': 0, '19': 0, '20': 0, '21': 0, '22': 93, '23': 64, '24': 0, '25': 0, '26': 0, '27': 0, '28': 68, '29': 0, '30': 81, '31': 0, '32': 0, '33': 0, '34': 74, '35': 0, '36': 0, '37': 88, '38': 0, '39': 0, '40': 0, '41': 85, '42': 98, '43': 0, '44': 0, '45': 0, '46': 0, '47': 67, '48': 68, '49': 80, '50': 64, '51': 0, '52': 0, '53': 0, '54': 69, '55': 0, '56': 0, '57': 0, '58': 80, '59': 0, '60': 0, '61': 0, '62': 0, '63': 0, '64': 0, '65': 0, '66': 67, '67': 52, '68': 68, '69': 0, '70': 0, '71': 0, '72': 70, '73': 84, '74': 0, '75': 0, '76': 57, '77': 0, '78': 0, '79': 88, '80': 73, '81': 0, '82': 70, '83': 61, '84': 0, '85': 0, '86': 0, '87': 0, '88': 0, '89': 57, '90': 88, '91': 0, '92': 56, '93': 0, '94': 89, '95': 0, '96': 0}, '65': {'gigachad': 0, 'Nicolas Cari': 0, 'gabriel balderrama': 0, '1': 86, '2': 0, '3': 75, '4': 49, '5': 51, '6': 66, '7': 0, '8': 0, '9': 0, '10': 0, '11': 68, '12': 0, '13': 74, '14': 0, '15': 0, '16': 59, '17': 0, '18': 0, '19': 91, '20': 0, '21': 0, '22': 69, '23': 58, '24': 0, '25': 67, '26': 0, '27': 104, '28': 78, '29': 68, '30': 80, '31': 69, '32': 0, '33': 0, '34': 62, '35': 0, '36': 0, '37': 85, '38': 0, '39': 0, '40': 0, '41': 74, '42': 93, '43': 0, '44': 0, '45': 0, '46': 0, '47': 78, '48': 57, '49': 62, '50': 68, '51': 0, '52': 0, '53': 62, '54': 93, '55': 0, '56': 69, '57': 0, '58': 65, '59': 0, '60': 0, '61': 0, '62': 0, '63': 85, '64': 0, '65': 0, '66': 88, '67': 72, '68': 67, '69': 0, '70': 94, '71': 92, '72': 47, '73': 75, '74': 0, '75': 0, '76': 63, '77': 0, '78': 79, '79': 60, '80': 64, '81': 68, '82': 67, '83': 84, '84': 0, '85': 95, '86': 0, '87': 0, '88': 0, '89': 84, '90': 66, '91': 0, '92': 66, '93': 65, '94': 68, '95': 0, '96': 0}, '66': {'gigachad': 81, 'Nicolas Cari': 73, 'gabriel balderrama': 90, '1': 0, '2': 91, '3': 0, '4': 0, '5': 0, '6': 0, '7': 82, '8': 74, '9': 0, '10': 0, '11': 0, '12': 0, '13': 0, '14': 71, '15': 0, '16': 0, '17': 59, '18': 73, '19': 64, '20': 61, '21': 0, '22': 0, '23': 0, '24': 67, '25': 0, '26': 54, '27': 82, '28': 0, '29': 0, '30': 0, '31': 78, '32': 0, '33': 64, '34': 0, '35': 61, '36': 0, '37': 0, '38': 0, '39': 0, '40': 82, '41': 0, '42': 0, '43': 0, '44': 79, '45': 58, '46': 75, '47': 0, '48': 0, '49': 0, '50': 0, '51': 76, '52': 0, '53': 76, '54': 0, '55': 69, '56': 0, '57': 72, '58': 0, '59': 0, '60': 0, '61': 67, '62': 67, '63': 71, '64': 67, '65': 88, '66': 0, '67': 0, '68': 0, '69': 66, '70': 72, '71': 0, '72': 0, '73': 0, '74': 75, '75': 76, '76': 0, '77': 73, '78': 0, '79': 0, '80': 0, '81': 0, '82': 0, '83': 0, '84': 0, '85': 85, '86': 89, '87': 0, '88': 69, '89': 0, '90': 0, '91': 67, '92': 0, '93': 0, '94': 0, '95': 64, '96': 73}, '67': {'gigachad': 81, 'Nicolas Cari': 74, 'gabriel balderrama': 74, '1': 0, '2': 65, '3': 0, '4': 0, '5': 0, '6': 0, '7': 75, '8': 72, '9': 0, '10': 0, '11': 0, '12': 0, '13': 0, '14': 60, '15': 0, '16': 0, '17': 62, '18': 57, '19': 66, '20': 58, '21': 0, '22': 0, '23': 0, '24': 62, '25': 0, '26': 63, '27': 84, '28': 0, '29': 0, '30': 0, '31': 71, '32': 0, '33': 71, '34': 0, '35': 71, '36': 0, '37': 0, '38': 0, '39': 0, '40': 76, '41': 0, '42': 0, '43': 0, '44': 84, '45': 70, '46': 60, '47': 0, '48': 0, '49': 0, '50': 0, '51': 72, '52': 0, '53': 68, '54': 0, '55': 74, '56': 0, '57': 73, '58': 0, '59': 0, '60': 0, '61': 69, '62': 60, '63': 69, '64': 52, '65': 72, '66': 0, '67': 0, '68': 0, '69': 58, '70': 61, '71': 0, '72': 0, '73': 0, '74': 71, '75': 65, '76': 0, '77': 68, '78': 0, '79': 0, '80': 0, '81': 0, '82': 0, '83': 0, '84': 0, '85': 75, '86': 75, '87': 0, '88': 84, '89': 0, '90': 0, '91': 72, '92': 0, '93': 0, '94': 0, '95': 66, '96': 75}, '68': {'gigachad': 74, 'Nicolas Cari': 77, 'gabriel balderrama': 82, '1': 0, '2': 70, '3': 0, '4': 0, '5': 0, '6': 0, '7': 91, '8': 48, '9': 0, '10': 0, '11': 0, '12': 0, '13': 0, '14': 71, '15': 0, '16': 0, '17': 67, '18': 77, '19': 71, '20': 66, '21': 0, '22': 0, '23': 0, '24': 58, '25': 0, '26': 68, '27': 84, '28': 0, '29': 0, '30': 0, '31': 74, '32': 0, '33': 67, '34': 0, '35': 60, '36': 0, '37': 0, '38': 0, '39': 0, '40': 76, '41': 0, '42': 0, '43': 0, '44': 59, '45': 68, '46': 68, '47': 0, '48': 0, '49': 0, '50': 0, '51': 58, '52': 0, '53': 88, '54': 0, '55': 43, '56': 0, '57': 48, '58': 0, '59': 0, '60': 0, '61': 88, '62': 64, '63': 83, '64': 68, '65': 67, '66': 0, '67': 0, '68': 0, '69': 75, '70': 75, '71': 0, '72': 0, '73': 0, '74': 57, '75': 72, '76': 0, '77': 64, '78': 0, '79': 0, '80': 0, '81': 0, '82': 0, '83': 0, '84': 0, '85': 93, '86': 87, '87': 0, '88': 62, '89': 0, '90': 0, '91': 55, '92': 0, '93': 0, '94': 0, '95': 77, '96': 81}, '69': {'gigachad': 0, 'Nicolas Cari': 0, 'gabriel balderrama': 0, '1': 0, '2': 0, '3': 78, '4': 97, '5': 76, '6': 0, '7': 0, '8': 0, '9': 0, '10': 0, '11': 90, '12': 0, '13': 74, '14': 0, '15': 0, '16': 0, '17': 0, '18': 0, '19': 0, '20': 0, '21': 0, '22': 67, '23': 100, '24': 0, '25': 0, '26': 0, '27': 0, '28': 62, '29': 0, '30': 75, '31': 0, '32': 0, '33': 0, '34': 69, '35': 0, '36': 0, '37': 72, '38': 0, '39': 0, '40': 0, '41': 78, '42': 74, '43': 0, '44': 0, '45': 0, '46': 0, '47': 71, '48': 90, '49': 74, '50': 73, '51': 0, '52': 0, '53': 0, '54': 63, '55': 0, '56': 0, '57': 0, '58': 67, '59': 0, '60': 0, '61': 0, '62': 0, '63': 0, '64': 0, '65': 0, '66': 66, '67': 58, '68': 75, '69': 0, '70': 0, '71': 0, '72': 86, '73': 73, '74': 0, '75': 0, '76': 90, '77': 0, '78': 0, '79': 65, '80': 56, '81': 0, '82': 88, '83': 62, '84': 0, '85': 0, '86': 0, '87': 0, '88': 0, '89': 72, '90': 68, '91': 0, '92': 68, '93': 0, '94': 74, '95': 0, '96': 0}, '70': {'gigachad': 0, 'Nicolas Cari': 0, 'gabriel balderrama': 0, '1': 95, '2': 0, '3': 63, '4': 69, '5': 47, '6': 64, '7': 0, '8': 0, '9': 0, '10': 0, '11': 42, '12': 0, '13': 67, '14': 0, '15': 0, '16': 67, '17': 0, '18': 0, '19': 104, '20': 0, '21': 0, '22': 79, '23': 58, '24': 0, '25': 77, '26': 0, '27': 81, '28': 70, '29': 55, '30': 88, '31': 89, '32': 0, '33': 0, '34': 79, '35': 0, '36': 0, '37': 61, '38': 0, '39': 0, '40': 0, '41': 55, '42': 74, '43': 0, '44': 0, '45': 0, '46': 0, '47': 61, '48': 55, '49': 82, '50': 85, '51': 0, '52': 0, '53': 79, '54': 73, '55': 0, '56': 77, '57': 0, '58': 65, '59': 0, '60': 0, '61': 0, '62': 0, '63': 96, '64': 0, '65': 94, '66': 72, '67': 61, '68': 75, '69': 0, '70': 0, '71': 69, '72': 58, '73': 86, '74': 0, '75': 0, '76': 39, '77': 0, '78': 96, '79': 80, '80': 72, '81': 55, '82': 50, '83': 68, '84': 0, '85': 79, '86': 0, '87': 0, '88': 0, '89': 90, '90': 83, '91': 0, '92': 80, '93': 65, '94': 67, '95': 0, '96': 0}, '71': {'gigachad': 0, 'Nicolas Cari': 0, 'gabriel balderrama': 0, '1': 66, '2': 0, '3': 0, '4': 0, '5': 0, '6': 89, '7': 0, '8': 0, '9': 0, '10': 0, '11': 0, '12': 0, '13': 0, '14': 0, '15': 0, '16': 87, '17': 0, '18': 0, '19': 73, '20': 0, '21': 0, '22': 0, '23': 0, '24': 0, '25': 87, '26': 0, '27': 87, '28': 0, '29': 86, '30': 0, '31': 67, '32': 0, '33': 0, '34': 0, '35': 0, '36': 0, '37': 0, '38': 0, '39': 0, '40': 0, '41': 0, '42': 0, '43': 0, '44': 0, '45': 0, '46': 0, '47': 0, '48': 0, '49': 0, '50': 0, '51': 0, '52': 0, '53': 69, '54': 0, '55': 0, '56': 81, '57': 0, '58': 0, '59': 0, '60': 0, '61': 0, '62': 0, '63': 72, '64': 0, '65': 92, '66': 0, '67': 0, '68': 0, '69': 0, '70': 69, '71': 0, '72': 0, '73': 0, '74': 0, '75': 0, '76': 0, '77': 0, '78': 79, '79': 0, '80': 0, '81': 86, '82': 0, '83': 0, '84': 0, '85': 78, '86': 0, '87': 0, '88': 0, '89': 0, '90': 0, '91': 0, '92': 0, '93': 84, '94': 0, '95': 0, '96': 0}, '72': {'gigachad': 60, 'Nicolas Cari': 74, 'gabriel balderrama': 71, '1': 0, '2': 80, '3': 0, '4': 0, '5': 0, '6': 0, '7': 68, '8': 52, '9': 0, '10': 0, '11': 0, '12': 0, '13': 0, '14': 86, '15': 0, '16': 0, '17': 72, '18': 58, '19': 63, '20': 94, '21': 0, '22': 0, '23': 0, '24': 53, '25': 0, '26': 101, '27': 60, '28': 0, '29': 0, '30': 0, '31': 73, '32': 0, '33': 75, '34': 0, '35': 57, '36': 0, '37': 0, '38': 0, '39': 0, '40': 58, '41': 0, '42': 0, '43': 0, '44': 56, '45': 67, '46': 84, '47': 0, '48': 0, '49': 0, '50': 0, '51': 92, '52': 0, '53': 68, '54': 0, '55': 56, '56': 0, '57': 82, '58': 0, '59': 0, '60': 0, '61': 71, '62': 91, '63': 72, '64': 70, '65': 47, '66': 0, '67': 0, '68': 0, '69': 86, '70': 58, '71': 0, '72': 0, '73': 0, '74': 67, '75': 78, '76': 0, '77': 59, '78': 0, '79': 0, '80': 0, '81': 0, '82': 0, '83': 0, '84': 0, '85': 60, '86': 58, '87': 0, '88': 59, '89': 0, '90': 0, '91': 56, '92': 0, '93': 0, '94': 0, '95': 86, '96': 59}, '73': {'gigachad': 77, 'Nicolas Cari': 83, 'gabriel balderrama': 87, '1': 0, '2': 62, '3': 0, '4': 0, '5': 0, '6': 0, '7': 87, '8': 68, '9': 0, '10': 0, '11': 0, '12': 0, '13': 0, '14': 81, '15': 0, '16': 0, '17': 85, '18': 69, '19': 90, '20': 73, '21': 0, '22': 0, '23': 0, '24': 70, '25': 0, '26': 80, '27': 67, '28': 0, '29': 0, '30': 0, '31': 72, '32': 0, '33': 76, '34': 0, '35': 70, '36': 0, '37': 0, '38': 0, '39': 0, '40': 95, '41': 0, '42': 0, '43': 0, '44': 72, '45': 90, '46': 61, '47': 0, '48': 0, '49': 0, '50': 0, '51': 46, '52': 0, '53': 71, '54': 0, '55': 69, '56': 0, '57': 48, '58': 0, '59': 0, '60': 0, '61': 102, '62': 63, '63': 90, '64': 84, '65': 75, '66': 0, '67': 0, '68': 0, '69': 73, '70': 86, '71': 0, '72': 0, '73': 0, '74': 54, '75': 70, '76': 0, '77': 67, '78': 0, '79': 0, '80': 0, '81': 0, '82': 0, '83': 0, '84': 0, '85': 67, '86': 74, '87': 0, '88': 60, '89': 0, '90': 0, '91': 76, '92': 0, '93': 0, '94': 0, '95': 72, '96': 70}, '74': {'gigachad': 0, 'Nicolas Cari': 0, 'gabriel balderrama': 0, '1': 0, '2': 0, '3': 62, '4': 66, '5': 76, '6': 0, '7': 0, '8': 0, '9': 0, '10': 0, '11': 76, '12': 0, '13': 75, '14': 0, '15': 0, '16': 0, '17': 0, '18': 0, '19': 0, '20': 0, '21': 0, '22': 73, '23': 57, '24': 0, '25': 0, '26': 0, '27': 0, '28': 81, '29': 0, '30': 62, '31': 0, '32': 0, '33': 0, '34': 63, '35': 0, '36': 0, '37': 93, '38': 0, '39': 0, '40': 0, '41': 73, '42': 95, '43': 0, '44': 0, '45': 0, '46': 0, '47': 81, '48': 59, '49': 70, '50': 48, '51': 0, '52': 0, '53': 0, '54': 83, '55': 0, '56': 0, '57': 0, '58': 81, '59': 0, '60': 0, '61': 0, '62': 0, '63': 0, '64': 0, '65': 0, '66': 75, '67': 71, '68': 57, '69': 0, '70': 0, '71': 0, '72': 67, '73': 54, '74': 0, '75': 0, '76': 74, '77': 0, '78': 0, '79': 75, '80': 64, '81': 0, '82': 88, '83': 69, '84': 0, '85': 0, '86': 0, '87': 0, '88': 0, '89': 69, '90': 76, '91': 0, '92': 53, '93': 0, '94': 72, '95': 0, '96': 0}, '75': {'gigachad': 0, 'Nicolas Cari': 0, 'gabriel balderrama': 0, '1': 0, '2': 0, '3': 66, '4': 68, '5': 59, '6': 0, '7': 0, '8': 0, '9': 0, '10': 0, '11': 64, '12': 0, '13': 86, '14': 0, '15': 0, '16': 0, '17': 0, '18': 0, '19': 0, '20': 0, '21': 0, '22': 89, '23': 66, '24': 0, '25': 0, '26': 0, '27': 0, '28': 68, '29': 0, '30': 77, '31': 0, '32': 0, '33': 0, '34': 61, '35': 0, '36': 0, '37': 90, '38': 0, '39': 0, '40': 0, '41': 99, '42': 92, '43': 0, '44': 0, '45': 0, '46': 0, '47': 59, '48': 65, '49': 68, '50': 61, '51': 0, '52': 0, '53': 0, '54': 72, '55': 0, '56': 0, '57': 0, '58': 90, '59': 0, '60': 0, '61': 0, '62': 0, '63': 0, '64': 0, '65': 0, '66': 76, '67': 65, '68': 72, '69': 0, '70': 0, '71': 0, '72': 78, '73': 70, '74': 0, '75': 0, '76': 71, '77': 0, '78': 0, '79': 88, '80': 71, '81': 0, '82': 67, '83': 70, '84': 0, '85': 0, '86': 0, '87': 0, '88': 0, '89': 60, '90': 94, '91': 0, '92': 71, '93': 0, '94': 97, '95': 0, '96': 0}, '76': {'gigachad': 63, 'Nicolas Cari': 71, 'gabriel balderrama': 75, '1': 0, '2': 92, '3': 0, '4': 0, '5': 0, '6': 0, '7': 55, '8': 67, '9': 0, '10': 0, '11': 0, '12': 0, '13': 0, '14': 92, '15': 0, '16': 0, '17': 59, '18': 57, '19': 42, '20': 85, '21': 0, '22': 0, '23': 0, '24': 62, '25': 0, '26': 90, '27': 68, '28': 0, '29': 0, '30': 0, '31': 55, '32': 0, '33': 68, '34': 0, '35': 70, '36': 0, '37': 0, '38': 0, '39': 0, '40': 75, '41': 0, '42': 0, '43': 0, '44': 71, '45': 53, '46': 77, '47': 0, '48': 0, '49': 0, '50': 0, '51': 99, '52': 0, '53': 57, '54': 0, '55': 69, '56': 0, '57': 100, '58': 0, '59': 0, '60': 0, '61': 53, '62': 82, '63': 45, '64': 57, '65': 63, '66': 0, '67': 0, '68': 0, '69': 90, '70': 39, '71': 0, '72': 0, '73': 0, '74': 74, '75': 71, '76': 0, '77': 68, '78': 0, '79': 0, '80': 0, '81': 0, '82': 0, '83': 0, '84': 0, '85': 59, '86': 62, '87': 0, '88': 83, '89': 0, '90': 0, '91': 72, '92': 0, '93': 0, '94': 0, '95': 79, '96': 73}, '77': {'gigachad': 0, 'Nicolas Cari': 0, 'gabriel balderrama': 0, '1': 0, '2': 0, '3': 70, '4': 58, '5': 62, '6': 0, '7': 0, '8': 0, '9': 0, '10': 0, '11': 56, '12': 0, '13': 91, '14': 0, '15': 0, '16': 0, '17': 0, '18': 0, '19': 0, '20': 0, '21': 0, '22': 85, '23': 71, '24': 0, '25': 0, '26': 0, '27': 0, '28': 77, '29': 0, '30': 56, '31': 0, '32': 0, '33': 0, '34': 70, '35': 0, '36': 0, '37': 78, '38': 0, '39': 0, '40': 0, '41': 89, '42': 95, '43': 0, '44': 0, '45': 0, '46': 0, '47': 61, '48': 58, '49': 68, '50': 61, '51': 0, '52': 0, '53': 0, '54': 61, '55': 0, '56': 0, '57': 0, '58': 86, '59': 0, '60': 0, '61': 0, '62': 0, '63': 0, '64': 0, '65': 0, '66': 73, '67': 68, '68': 64, '69': 0, '70': 0, '71': 0, '72': 59, '73': 67, '74': 0, '75': 0, '76': 68, '77': 0, '78': 0, '79': 88, '80': 65, '81': 0, '82': 58, '83': 77, '84': 0, '85': 0, '86': 0, '87': 0, '88': 0, '89': 70, '90': 91, '91': 0, '92': 68, '93': 0, '94': 79, '95': 0, '96': 0}, '78': {'gigachad': 0, 'Nicolas Cari': 0, 'gabriel balderrama': 0, '1': 77, '2': 0, '3': 0, '4': 0, '5': 0, '6': 74, '7': 0, '8': 0, '9': 0, '10': 0, '11': 0, '12': 0, '13': 0, '14': 0, '15': 0, '16': 77, '17': 0, '18': 0, '19': 93, '20': 0, '21': 0, '22': 0, '23': 0, '24': 0, '25': 87, '26': 0, '27': 70, '28': 0, '29': 67, '30': 0, '31': 78, '32': 0, '33': 0, '34': 0, '35': 0, '36': 0, '37': 0, '38': 0, '39': 0, '40': 0, '41': 0, '42': 0, '43': 0, '44': 0, '45': 0, '46': 0, '47': 0, '48': 0, '49': 0, '50': 0, '51': 0, '52': 0, '53': 68, '54': 0, '55': 0, '56': 87, '57': 0, '58': 0, '59': 0, '60': 0, '61': 0, '62': 0, '63': 85, '64': 0, '65': 79, '66': 0, '67': 0, '68': 0, '69': 0, '70': 96, '71': 79, '72': 0, '73': 0, '74': 0, '75': 0, '76': 0, '77': 0, '78': 0, '79': 0, '80': 0, '81': 67, '82': 0, '83': 0, '84': 0, '85': 68, '86': 0, '87': 0, '88': 0, '89': 0, '90': 0, '91': 0, '92': 0, '93': 77, '94': 0, '95': 0, '96': 0}, '79': {'gigachad': 63, 'Nicolas Cari': 72, 'gabriel balderrama': 88, '1': 0, '2': 73, '3': 0, '4': 0, '5': 0, '6': 0, '7': 85, '8': 81, '9': 0, '10': 0, '11': 0, '12': 0, '13': 0, '14': 67, '15': 0, '16': 0, '17': 82, '18': 81, '19': 76, '20': 68, '21': 0, '22': 0, '23': 0, '24': 82, '25': 0, '26': 61, '27': 62, '28': 0, '29': 0, '30': 0, '31': 79, '32': 0, '33': 87, '34': 0, '35': 73, '36': 0, '37': 0, '38': 0, '39': 0, '40': 78, '41': 0, '42': 0, '43': 0, '44': 61, '45': 89, '46': 58, '47': 0, '48': 0, '49': 0, '50': 0, '51': 50, '52': 0, '53': 65, '54': 0, '55': 76, '56': 0, '57': 46, '58': 0, '59': 0, '60': 0, '61': 74, '62': 62, '63': 83, '64': 88, '65': 60, '66': 0, '67': 0, '68': 0, '69': 65, '70': 80, '71': 0, '72': 0, '73': 0, '74': 75, '75': 88, '76': 0, '77': 88, '78': 0, '79': 0, '80': 0, '81': 0, '82': 0, '83': 0, '84': 0, '85': 65, '86': 64, '87': 0, '88': 81, '89': 0, '90': 0, '91': 74, '92': 0, '93': 0, '94': 0, '95': 67, '96': 78}, '80': {'gigachad': 63, 'Nicolas Cari': 72, 'gabriel balderrama': 84, '1': 0, '2': 61, '3': 0, '4': 0, '5': 0, '6': 0, '7': 91, '8': 58, '9': 0, '10': 0, '11': 0, '12': 0, '13': 0, '14': 67, '15': 0, '16': 0, '17': 79, '18': 73, '19': 77, '20': 62, '21': 0, '22': 0, '23': 0, '24': 59, '25': 0, '26': 69, '27': 78, '28': 0, '29': 0, '30': 0, '31': 77, '32': 0, '33': 82, '34': 0, '35': 68, '36': 0, '37': 0, '38': 0, '39': 0, '40': 81, '41': 0, '42': 0, '43': 0, '44': 76, '45': 81, '46': 64, '47': 0, '48': 0, '49': 0, '50': 0, '51': 56, '52': 0, '53': 78, '54': 0, '55': 62, '56': 0, '57': 46, '58': 0, '59': 0, '60': 0, '61': 82, '62': 65, '63': 86, '64': 73, '65': 64, '66': 0, '67': 0, '68': 0, '69': 56, '70': 72, '71': 0, '72': 0, '73': 0, '74': 64, '75': 71, '76': 0, '77': 65, '78': 0, '79': 0, '80': 0, '81': 0, '82': 0, '83': 0, '84': 0, '85': 78, '86': 73, '87': 0, '88': 70, '89': 0, '90': 0, '91': 62, '92': 0, '93': 0, '94': 0, '95': 67, '96': 64}, '81': {'gigachad': 0, 'Nicolas Cari': 0, 'gabriel balderrama': 0, '1': 53, '2': 0, '3': 0, '4': 0, '5': 0, '6': 71, '7': 0, '8': 0, '9': 0, '10': 0, '11': 0, '12': 0, '13': 0, '14': 0, '15': 0, '16': 81, '17': 0, '18': 0, '19': 63, '20': 0, '21': 0, '22': 0, '23': 0, '24': 0, '25': 75, '26': 0, '27': 77, '28': 0, '29': 103, '30': 0, '31': 68, '32': 0, '33': 0, '34': 0, '35': 0, '36': 0, '37': 0, '38': 0, '39': 0, '40': 0, '41': 0, '42': 0, '43': 0, '44': 0, '45': 0, '46': 0, '47': 0, '48': 0, '49': 0, '50': 0, '51': 0, '52': 0, '53': 70, '54': 0, '55': 0, '56': 84, '57': 0, '58': 0, '59': 0, '60': 0, '61': 0, '62': 0, '63': 68, '64': 0, '65': 68, '66': 0, '67': 0, '68': 0, '69': 0, '70': 55, '71': 86, '72': 0, '73': 0, '74': 0, '75': 0, '76': 0, '77': 0, '78': 67, '79': 0, '80': 0, '81': 0, '82': 0, '83': 0, '84': 0, '85': 77, '86': 0, '87': 0, '88': 0, '89': 0, '90': 0, '91': 0, '92': 0, '93': 84, '94': 0, '95': 0, '96': 0}, '82': {'gigachad': 61, 'Nicolas Cari': 69, 'gabriel balderrama': 68, '1': 0, '2': 96, '3': 0, '4': 0, '5': 0, '6': 0, '7': 50, '8': 74, '9': 0, '10': 0, '11': 0, '12': 0, '13': 0, '14': 101, '15': 0, '16': 0, '17': 62, '18': 79, '19': 42, '20': 88, '21': 0, '22': 0, '23': 0, '24': 60, '25': 0, '26': 90, '27': 60, '28': 0, '29': 0, '30': 0, '31': 59, '32': 0, '33': 54, '34': 0, '35': 79, '36': 0, '37': 0, '38': 0, '39': 0, '40': 73, '41': 0, '42': 0, '43': 0, '44': 82, '45': 47, '46': 81, '47': 0, '48': 0, '49': 0, '50': 0, '51': 113, '52': 0, '53': 58, '54': 0, '55': 69, '56': 0, '57': 111, '58': 0, '59': 0, '60': 0, '61': 53, '62': 89, '63': 46, '64': 70, '65': 67, '66': 0, '67': 0, '68': 0, '69': 88, '70': 50, '71': 0, '72': 0, '73': 0, '74': 88, '75': 67, '76': 0, '77': 58, '78': 0, '79': 0, '80': 0, '81': 0, '82': 0, '83': 0, '84': 0, '85': 69, '86': 74, '87': 0, '88': 73, '89': 0, '90': 0, '91': 72, '92': 0, '93': 0, '94': 0, '95': 77, '96': 74}, '83': {'gigachad': 79, 'Nicolas Cari': 71, 'gabriel balderrama': 90, '1': 0, '2': 83, '3': 0, '4': 0, '5': 0, '6': 0, '7': 81, '8': 74, '9': 86, '10': 74, '11': 0, '12': 60, '13': 0, '14': 67, '15': 83, '16': 0, '17': 66, '18': 67, '19': 66, '20': 57, '21': 67, '22': 0, '23': 0, '24': 71, '25': 0, '26': 50, '27': 84, '28': 0, '29': 0, '30': 0, '31': 80, '32': 99, '33': 71, '34': 0, '35': 65, '36': 88, '37': 0, '38': 79, '39': 79, '40': 81, '41': 0, '42': 0, '43': 103, '44': 68, '45': 65, '46': 74, '47': 0, '48': 0, '49': 0, '50': 0, '51': 62, '52': 68, '53': 82, '54': 82, '55': 69, '56': 0, '57': 58, '58': 0, '59': 83, '60': 92, '61': 66, '62': 59, '63': 73, '64': 61, '65': 84, '66': 0, '67': 0, '68': 0, '69': 62, '70': 68, '71': 0, '72': 0, '73': 0, '74': 69, '75': 70, '76': 0, '77': 77, '78': 0, '79': 0, '80': 0, '81': 0, '82': 0, '83': 0, '84': 100, '85': 87, '86': 84, '87': 67, '88': 73, '89': 0, '90': 0, '91': 71, '92': 0, '93': 0, '94': 0, '95': 60, '96': 80}, '84': {'gigachad': 0, 'Nicolas Cari': 0, 'gabriel balderrama': 0, '1': 0, '2': 0, '3': 0, '4': 0, '5': 0, '6': 0, '7': 0, '8': 0, '9': 75, '10': 67, '11': 0, '12': 59, '13': 0, '14': 0, '15': 76, '16': 0, '17': 0, '18': 0, '19': 0, '20': 0, '21': 60, '22': 0, '23': 0, '24': 0, '25': 0, '26': 0, '27': 0, '28': 0, '29': 0, '30': 0, '31': 0, '32': 88, '33': 0, '34': 0, '35': 0, '36': 81, '37': 0, '38': 77, '39': 78, '40': 0, '41': 0, '42': 0, '43': 96, '44': 0, '45': 0, '46': 0, '47': 0, '48': 0, '49': 0, '50': 0, '51': 0, '52': 61, '53': 0, '54': 82, '55': 0, '56': 0, '57': 0, '58': 0, '59': 81, '60': 85, '61': 0, '62': 0, '63': 0, '64': 0, '65': 0, '66': 0, '67': 0, '68': 0, '69': 0, '70': 0, '71': 0, '72': 0, '73': 0, '74': 0, '75': 0, '76': 0, '77': 0, '78': 0, '79': 0, '80': 0, '81': 0, '82': 0, '83': 100, '84': 0, '85': 0, '86': 0, '87': 65, '88': 0, '89': 0, '90': 0, '91': 0, '92': 0, '93': 0, '94': 0, '95': 0, '96': 0}, '85': {'gigachad': 0, 'Nicolas Cari': 0, 'gabriel balderrama': 0, '1': 88, '2': 0, '3': 70, '4': 59, '5': 64, '6': 83, '7': 0, '8': 0, '9': 0, '10': 0, '11': 63, '12': 0, '13': 66, '14': 0, '15': 0, '16': 78, '17': 0, '18': 0, '19': 76, '20': 0, '21': 0, '22': 66, '23': 64, '24': 0, '25': 69, '26': 0, '27': 90, '28': 91, '29': 77, '30': 94, '31': 82, '32': 0, '33': 0, '34': 79, '35': 0, '36': 0, '37': 69, '38': 0, '39': 0, '40': 0, '41': 67, '42': 73, '43': 0, '44': 0, '45': 0, '46': 0, '47': 82, '48': 75, '49': 66, '50': 75, '51': 0, '52': 0, '53': 90, '54': 80, '55': 0, '56': 72, '57': 0, '58': 79, '59': 0, '60': 0, '61': 0, '62': 0, '63': 84, '64': 0, '65': 95, '66': 85, '67': 75, '68': 93, '69': 0, '70': 79, '71': 78, '72': 60, '73': 67, '74': 0, '75': 0, '76': 59, '77': 0, '78': 68, '79': 65, '80': 78, '81': 77, '82': 69, '83': 87, '84': 0, '85': 0, '86': 0, '87': 0, '88': 0, '89': 83, '90': 66, '91': 0, '92': 80, '93': 84, '94': 85, '95': 0, '96': 0}, '86': {'gigachad': 0, 'Nicolas Cari': 0, 'gabriel balderrama': 0, '1': 0, '2': 0, '3': 86, '4': 68, '5': 71, '6': 0, '7': 0, '8': 0, '9': 0, '10': 0, '11': 73, '12': 0, '13': 73, '14': 0, '15': 0, '16': 0, '17': 0, '18': 0, '19': 0, '20': 0, '21': 0, '22': 69, '23': 79, '24': 0, '25': 0, '26': 0, '27': 0, '28': 95, '29': 0, '30': 96, '31': 0, '32': 0, '33': 0, '34': 81, '35': 0, '36': 0, '37': 76, '38': 0, '39': 0, '40': 0, '41': 62, '42': 80, '43': 0, '44': 0, '45': 0, '46': 0, '47': 88, '48': 80, '49': 82, '50': 91, '51': 0, '52': 0, '53': 0, '54': 85, '55': 0, '56': 0, '57': 0, '58': 78, '59': 0, '60': 0, '61': 0, '62': 0, '63': 0, '64': 0, '65': 0, '66': 89, '67': 75, '68': 87, '69': 0, '70': 0, '71': 0, '72': 58, '73': 74, '74': 0, '75': 0, '76': 62, '77': 0, '78': 0, '79': 64, '80': 73, '81': 0, '82': 74, '83': 84, '84': 0, '85': 0, '86': 0, '87': 0, '88': 0, '89': 95, '90': 61, '91': 0, '92': 80, '93': 0, '94': 75, '95': 0, '96': 0}, '87': {'gigachad': 0, 'Nicolas Cari': 0, 'gabriel balderrama': 0, '1': 0, '2': 0, '3': 0, '4': 0, '5': 0, '6': 0, '7': 0, '8': 0, '9': 61, '10': 62, '11': 0, '12': 78, '13': 0, '14': 0, '15': 72, '16': 0, '17': 0, '18': 0, '19': 0, '20': 0, '21': 61, '22': 0, '23': 0, '24': 0, '25': 0, '26': 0, '27': 0, '28': 0, '29': 0, '30': 0, '31': 0, '32': 70, '33': 0, '34': 0, '35': 0, '36': 56, '37': 0, '38': 71, '39': 83, '40': 0, '41': 0, '42': 0, '43': 73, '44': 0, '45': 0, '46': 0, '47': 0, '48': 0, '49': 0, '50': 0, '51': 0, '52': 84, '53': 0, '54': 64, '55': 0, '56': 0, '57': 0, '58': 0, '59': 75, '60': 46, '61': 0, '62': 0, '63': 0, '64': 0, '65': 0, '66': 0, '67': 0, '68': 0, '69': 0, '70': 0, '71': 0, '72': 0, '73': 0, '74': 0, '75': 0, '76': 0, '77': 0, '78': 0, '79': 0, '80': 0, '81': 0, '82': 0, '83': 67, '84': 65, '85': 0, '86': 0, '87': 0, '88': 0, '89': 0, '90': 0, '91': 0, '92': 0, '93': 0, '94': 0, '95': 0, '96': 0}, '88': {'gigachad': 0, 'Nicolas Cari': 0, 'gabriel balderrama': 0, '1': 0, '2': 0, '3': 63, '4': 58, '5': 78, '6': 0, '7': 0, '8': 0, '9': 0, '10': 0, '11': 71, '12': 0, '13': 87, '14': 0, '15': 0, '16': 0, '17': 0, '18': 0, '19': 0, '20': 0, '21': 0, '22': 90, '23': 67, '24': 0, '25': 0, '26': 0, '27': 0, '28': 74, '29': 0, '30': 54, '31': 0, '32': 0, '33': 0, '34': 75, '35': 0, '36': 0, '37': 93, '38': 0, '39': 0, '40': 0, '41': 82, '42': 91, '43': 0, '44': 0, '45': 0, '46': 0, '47': 76, '48': 55, '49': 68, '50': 66, '51': 0, '52': 0, '53': 0, '54': 76, '55': 0, '56': 0, '57': 0, '58': 82, '59': 0, '60': 0, '61': 0, '62': 0, '63': 0, '64': 0, '65': 0, '66': 69, '67': 84, '68': 62, '69': 0, '70': 0, '71': 0, '72': 59, '73': 60, '74': 0, '75': 0, '76': 83, '77': 0, '78': 0, '79': 81, '80': 70, '81': 0, '82': 73, '83': 73, '84': 0, '85': 0, '86': 0, '87': 0, '88': 0, '89': 73, '90': 84, '91': 0, '92': 73, '93': 0, '94': 77, '95': 0, '96': 0}, '89': {'gigachad': 95, 'Nicolas Cari': 85, 'gabriel balderrama': 79, '1': 0, '2': 70, '3': 0, '4': 0, '5': 0, '6': 0, '7': 86, '8': 74, '9': 0, '10': 0, '11': 0, '12': 0, '13': 0, '14': 85, '15': 0, '16': 0, '17': 67, '18': 76, '19': 86, '20': 78, '21': 0, '22': 0, '23': 0, '24': 73, '25': 0, '26': 74, '27': 85, '28': 0, '29': 0, '30': 0, '31': 74, '32': 0, '33': 66, '34': 0, '35': 75, '36': 0, '37': 0, '38': 0, '39': 0, '40': 98, '41': 0, '42': 0, '43': 0, '44': 82, '45': 80, '46': 62, '47': 0, '48': 0, '49': 0, '50': 0, '51': 70, '52': 0, '53': 76, '54': 0, '55': 69, '56': 0, '57': 80, '58': 0, '59': 0, '60': 0, '61': 95, '62': 69, '63': 78, '64': 57, '65': 84, '66': 0, '67': 0, '68': 0, '69': 72, '70': 90, '71': 0, '72': 0, '73': 0, '74': 69, '75': 60, '76': 0, '77': 70, '78': 0, '79': 0, '80': 0, '81': 0, '82': 0, '83': 0, '84': 0, '85': 83, '86': 95, '87': 0, '88': 73, '89': 0, '90': 0, '91': 73, '92': 0, '93': 0, '94': 0, '95': 83, '96': 91}, '90': {'gigachad': 66, 'Nicolas Cari': 75, 'gabriel balderrama': 91, '1': 0, '2': 70, '3': 0, '4': 0, '5': 0, '6': 0, '7': 82, '8': 84, '9': 0, '10': 0, '11': 0, '12': 0, '13': 0, '14': 68, '15': 0, '16': 0, '17': 82, '18': 82, '19': 82, '20': 65, '21': 0, '22': 0, '23': 0, '24': 85, '25': 0, '26': 61, '27': 68, '28': 0, '29': 0, '30': 0, '31': 76, '32': 0, '33': 93, '34': 0, '35': 74, '36': 0, '37': 0, '38': 0, '39': 0, '40': 81, '41': 0, '42': 0, '43': 0, '44': 64, '45': 95, '46': 59, '47': 0, '48': 0, '49': 0, '50': 0, '51': 51, '52': 0, '53': 66, '54': 0, '55': 82, '56': 0, '57': 49, '58': 0, '59': 0, '60': 0, '61': 74, '62': 65, '63': 83, '64': 88, '65': 66, '66': 0, '67': 0, '68': 0, '69': 68, '70': 83, '71': 0, '72': 0, '73': 0, '74': 76, '75': 94, '76': 0, '77': 91, '78': 0, '79': 0, '80': 0, '81': 0, '82': 0, '83': 0, '84': 0, '85': 66, '86': 61, '87': 0, '88': 84, '89': 0, '90': 0, '91': 74, '92': 0, '93': 0, '94': 0, '95': 70, '96': 81}, '91': {'gigachad': 0, 'Nicolas Cari': 0, 'gabriel balderrama': 0, '1': 0, '2': 0, '3': 67, '4': 61, '5': 63, '6': 0, '7': 0, '8': 0, '9': 0, '10': 0, '11': 80, '12': 0, '13': 91, '14': 0, '15': 0, '16': 0, '17': 0, '18': 0, '19': 0, '20': 0, '21': 0, '22': 82, '23': 64, '24': 0, '25': 0, '26': 0, '27': 0, '28': 71, '29': 0, '30': 55, '31': 0, '32': 0, '33': 0, '34': 69, '35': 0, '36': 0, '37': 94, '38': 0, '39': 0, '40': 0, '41': 77, '42': 98, '43': 0, '44': 0, '45': 0, '46': 0, '47': 79, '48': 56, '49': 66, '50': 59, '51': 0, '52': 0, '53': 0, '54': 71, '55': 0, '56': 0, '57': 0, '58': 71, '59': 0, '60': 0, '61': 0, '62': 0, '63': 0, '64': 0, '65': 0, '66': 67, '67': 72, '68': 55, '69': 0, '70': 0, '71': 0, '72': 56, '73': 76, '74': 0, '75': 0, '76': 72, '77': 0, '78': 0, '79': 74, '80': 62, '81': 0, '82': 72, '83': 71, '84': 0, '85': 0, '86': 0, '87': 0, '88': 0, '89': 73, '90': 74, '91': 0, '92': 51, '93': 0, '94': 76, '95': 0, '96': 0}, '92': {'gigachad': 75, 'Nicolas Cari': 84, 'gabriel balderrama': 88, '1': 0, '2': 66, '3': 0, '4': 0, '5': 0, '6': 0, '7': 91, '8': 57, '9': 0, '10': 0, '11': 0, '12': 0, '13': 0, '14': 71, '15': 0, '16': 0, '17': 69, '18': 62, '19': 81, '20': 71, '21': 0, '22': 0, '23': 0, '24': 62, '25': 0, '26': 67, '27': 82, '28': 0, '29': 0, '30': 0, '31': 84, '32': 0, '33': 80, '34': 0, '35': 63, '36': 0, '37': 0, '38': 0, '39': 0, '40': 84, '41': 0, '42': 0, '43': 0, '44': 73, '45': 79, '46': 69, '47': 0, '48': 0, '49': 0, '50': 0, '51': 54, '52': 0, '53': 84, '54': 0, '55': 55, '56': 0, '57': 52, '58': 0, '59': 0, '60': 0, '61': 82, '62': 73, '63': 82, '64': 56, '65': 66, '66': 0, '67': 0, '68': 0, '69': 68, '70': 80, '71': 0, '72': 0, '73': 0, '74': 53, '75': 71, '76': 0, '77': 68, '78': 0, '79': 0, '80': 0, '81': 0, '82': 0, '83': 0, '84': 0, '85': 80, '86': 80, '87': 0, '88': 73, '89': 0, '90': 0, '91': 51, '92': 0, '93': 0, '94': 0, '95': 79, '96': 77}, '93': {'gigachad': 0, 'Nicolas Cari': 0, 'gabriel balderrama': 0, '1': 66, '2': 0, '3': 0, '4': 0, '5': 0, '6': 76, '7': 0, '8': 0, '9': 0, '10': 0, '11': 0, '12': 0, '13': 0, '14': 0, '15': 0, '16': 81, '17': 0, '18': 0, '19': 64, '20': 0, '21': 0, '22': 0, '23': 0, '24': 0, '25': 72, '26': 0, '27': 75, '28': 0, '29': 84, '30': 0, '31': 70, '32': 0, '33': 0, '34': 0, '35': 0, '36': 0, '37': 0, '38': 0, '39': 0, '40': 0, '41': 0, '42': 0, '43': 0, '44': 0, '45': 0, '46': 0, '47': 0, '48': 0, '49': 0, '50': 0, '51': 0, '52': 0, '53': 76, '54': 0, '55': 0, '56': 76, '57': 0, '58': 0, '59': 0, '60': 0, '61': 0, '62': 0, '63': 72, '64': 0, '65': 65, '66': 0, '67': 0, '68': 0, '69': 0, '70': 65, '71': 84, '72': 0, '73': 0, '74': 0, '75': 0, '76': 0, '77': 0, '78': 77, '79': 0, '80': 0, '81': 84, '82': 0, '83': 0, '84': 0, '85': 84, '86': 0, '87': 0, '88': 0, '89': 0, '90': 0, '91': 0, '92': 0, '93': 0, '94': 0, '95': 0, '96': 0}, '94': {'gigachad': 67, 'Nicolas Cari': 70, 'gabriel balderrama': 78, '1': 0, '2': 70, '3': 0, '4': 0, '5': 0, '6': 0, '7': 81, '8': 63, '9': 0, '10': 0, '11': 0, '12': 0, '13': 0, '14': 70, '15': 0, '16': 0, '17': 88, '18': 92, '19': 72, '20': 66, '21': 0, '22': 0, '23': 0, '24': 73, '25': 0, '26': 73, '27': 85, '28': 0, '29': 0, '30': 0, '31': 67, '32': 0, '33': 91, '34': 0, '35': 75, '36': 0, '37': 0, '38': 0, '39': 0, '40': 65, '41': 0, '42': 0, '43': 0, '44': 48, '45': 92, '46': 67, '47': 0, '48': 0, '49': 0, '50': 0, '51': 57, '52': 0, '53': 80, '54': 0, '55': 67, '56': 0, '57': 47, '58': 0, '59': 0, '60': 0, '61': 81, '62': 63, '63': 81, '64': 89, '65': 68, '66': 0, '67': 0, '68': 0, '69': 74, '70': 67, '71': 0, '72': 0, '73': 0, '74': 72, '75': 97, '76': 0, '77': 79, '78': 0, '79': 0, '80': 0, '81': 0, '82': 0, '83': 0, '84': 0, '85': 85, '86': 75, '87': 0, '88': 77, '89': 0, '90': 0, '91': 76, '92': 0, '93': 0, '94': 0, '95': 76, '96': 97}, '95': {'gigachad': 0, 'Nicolas Cari': 0, 'gabriel balderrama': 0, '1': 0, '2': 0, '3': 55, '4': 94, '5': 84, '6': 0, '7': 0, '8': 0, '9': 0, '10': 0, '11': 76, '12': 0, '13': 63, '14': 0, '15': 0, '16': 0, '17': 0, '18': 0, '19': 0, '20': 0, '21': 0, '22': 78, '23': 92, '24': 0, '25': 0, '26': 0, '27': 0, '28': 56, '29': 0, '30': 77, '31': 0, '32': 0, '33': 0, '34': 80, '35': 0, '36': 0, '37': 58, '38': 0, '39': 0, '40': 0, '41': 58, '42': 69, '43': 0, '44': 0, '45': 0, '46': 0, '47': 57, '48': 86, '49': 71, '50': 81, '51': 0, '52': 0, '53': 0, '54': 49, '55': 0, '56': 0, '57': 0, '58': 59, '59': 0, '60': 0, '61': 0, '62': 0, '63': 0, '64': 0, '65': 0, '66': 64, '67': 66, '68': 77, '69': 0, '70': 0, '71': 0, '72': 86, '73': 72, '74': 0, '75': 0, '76': 79, '77': 0, '78': 0, '79': 67, '80': 67, '81': 0, '82': 77, '83': 60, '84': 0, '85': 0, '86': 0, '87': 0, '88': 0, '89': 83, '90': 70, '91': 0, '92': 79, '93': 0, '94': 76, '95': 0, '96': 0}, '96': {'gigachad': 0, 'Nicolas Cari': 0, 'gabriel balderrama': 0, '1': 0, '2': 0, '3': 79, '4': 70, '5': 69, '6': 0, '7': 0, '8': 0, '9': 0, '10': 0, '11': 79, '12': 0, '13': 101, '14': 0, '15': 0, '16': 0, '17': 0, '18': 0, '19': 0, '20': 0, '21': 0, '22': 92, '23': 81, '24': 0, '25': 0, '26': 0, '27': 0, '28': 83, '29': 0, '30': 84, '31': 0, '32': 0, '33': 0, '34': 78, '35': 0, '36': 0, '37': 100, '38': 0, '39': 0, '40': 0, '41': 90, '42': 98, '43': 0, '44': 0, '45': 0, '46': 0, '47': 83, '48': 82, '49': 70, '50': 82, '51': 0, '52': 0, '53': 0, '54': 80, '55': 0, '56': 0, '57': 0, '58': 93, '59': 0, '60': 0, '61': 0, '62': 0, '63': 0, '64': 0, '65': 0, '66': 73, '67': 75, '68': 81, '69': 0, '70': 0, '71': 0, '72': 59, '73': 70, '74': 0, '75': 0, '76': 73, '77': 0, '78': 0, '79': 78, '80': 64, '81': 0, '82': 74, '83': 80, '84': 0, '85': 0, '86': 0, '87': 0, '88': 0, '89': 91, '90': 81, '91': 0, '92': 77, '93': 0, '94': 97, '95': 0, '96': 0}}\n"
     ]
    }
   ],
   "source": [
    "print(lista_completa)"
   ]
  },
  {
   "cell_type": "code",
   "execution_count": 214,
   "metadata": {
    "colab": {
     "base_uri": "https://localhost:8080/",
     "height": 502
    },
    "id": "Ddy14REpnHlk",
    "outputId": "79c1808e-03cb-4f4c-b6c4-247f3fa1f821"
   },
   "outputs": [
    {
     "data": {
      "text/html": [
       "<div>\n",
       "<style scoped>\n",
       "    .dataframe tbody tr th:only-of-type {\n",
       "        vertical-align: middle;\n",
       "    }\n",
       "\n",
       "    .dataframe tbody tr th {\n",
       "        vertical-align: top;\n",
       "    }\n",
       "\n",
       "    .dataframe thead th {\n",
       "        text-align: right;\n",
       "    }\n",
       "</style>\n",
       "<table border=\"1\" class=\"dataframe\">\n",
       "  <thead>\n",
       "    <tr style=\"text-align: right;\">\n",
       "      <th></th>\n",
       "      <th>gigachad</th>\n",
       "      <th>Nicolas Cari</th>\n",
       "      <th>gabriel balderrama</th>\n",
       "      <th>1</th>\n",
       "      <th>2</th>\n",
       "      <th>3</th>\n",
       "      <th>4</th>\n",
       "      <th>5</th>\n",
       "      <th>6</th>\n",
       "      <th>7</th>\n",
       "      <th>...</th>\n",
       "      <th>87</th>\n",
       "      <th>88</th>\n",
       "      <th>89</th>\n",
       "      <th>90</th>\n",
       "      <th>91</th>\n",
       "      <th>92</th>\n",
       "      <th>93</th>\n",
       "      <th>94</th>\n",
       "      <th>95</th>\n",
       "      <th>96</th>\n",
       "    </tr>\n",
       "  </thead>\n",
       "  <tbody>\n",
       "    <tr>\n",
       "      <th>gigachad</th>\n",
       "      <td>0</td>\n",
       "      <td>0</td>\n",
       "      <td>0</td>\n",
       "      <td>0</td>\n",
       "      <td>0</td>\n",
       "      <td>76</td>\n",
       "      <td>71</td>\n",
       "      <td>66</td>\n",
       "      <td>0</td>\n",
       "      <td>0</td>\n",
       "      <td>...</td>\n",
       "      <td>0</td>\n",
       "      <td>0</td>\n",
       "      <td>95</td>\n",
       "      <td>66</td>\n",
       "      <td>0</td>\n",
       "      <td>75</td>\n",
       "      <td>0</td>\n",
       "      <td>67</td>\n",
       "      <td>0</td>\n",
       "      <td>0</td>\n",
       "    </tr>\n",
       "    <tr>\n",
       "      <th>Nicolas Cari</th>\n",
       "      <td>0</td>\n",
       "      <td>0</td>\n",
       "      <td>0</td>\n",
       "      <td>0</td>\n",
       "      <td>0</td>\n",
       "      <td>81</td>\n",
       "      <td>82</td>\n",
       "      <td>59</td>\n",
       "      <td>0</td>\n",
       "      <td>0</td>\n",
       "      <td>...</td>\n",
       "      <td>0</td>\n",
       "      <td>0</td>\n",
       "      <td>85</td>\n",
       "      <td>75</td>\n",
       "      <td>0</td>\n",
       "      <td>84</td>\n",
       "      <td>0</td>\n",
       "      <td>70</td>\n",
       "      <td>0</td>\n",
       "      <td>0</td>\n",
       "    </tr>\n",
       "    <tr>\n",
       "      <th>gabriel balderrama</th>\n",
       "      <td>0</td>\n",
       "      <td>0</td>\n",
       "      <td>0</td>\n",
       "      <td>0</td>\n",
       "      <td>0</td>\n",
       "      <td>81</td>\n",
       "      <td>70</td>\n",
       "      <td>69</td>\n",
       "      <td>0</td>\n",
       "      <td>0</td>\n",
       "      <td>...</td>\n",
       "      <td>0</td>\n",
       "      <td>0</td>\n",
       "      <td>79</td>\n",
       "      <td>91</td>\n",
       "      <td>0</td>\n",
       "      <td>88</td>\n",
       "      <td>0</td>\n",
       "      <td>78</td>\n",
       "      <td>0</td>\n",
       "      <td>0</td>\n",
       "    </tr>\n",
       "    <tr>\n",
       "      <th>1</th>\n",
       "      <td>0</td>\n",
       "      <td>0</td>\n",
       "      <td>0</td>\n",
       "      <td>0</td>\n",
       "      <td>0</td>\n",
       "      <td>0</td>\n",
       "      <td>0</td>\n",
       "      <td>0</td>\n",
       "      <td>69</td>\n",
       "      <td>0</td>\n",
       "      <td>...</td>\n",
       "      <td>0</td>\n",
       "      <td>0</td>\n",
       "      <td>0</td>\n",
       "      <td>0</td>\n",
       "      <td>0</td>\n",
       "      <td>0</td>\n",
       "      <td>66</td>\n",
       "      <td>0</td>\n",
       "      <td>0</td>\n",
       "      <td>0</td>\n",
       "    </tr>\n",
       "    <tr>\n",
       "      <th>2</th>\n",
       "      <td>0</td>\n",
       "      <td>0</td>\n",
       "      <td>0</td>\n",
       "      <td>0</td>\n",
       "      <td>0</td>\n",
       "      <td>74</td>\n",
       "      <td>78</td>\n",
       "      <td>96</td>\n",
       "      <td>0</td>\n",
       "      <td>0</td>\n",
       "      <td>...</td>\n",
       "      <td>0</td>\n",
       "      <td>0</td>\n",
       "      <td>70</td>\n",
       "      <td>70</td>\n",
       "      <td>0</td>\n",
       "      <td>66</td>\n",
       "      <td>0</td>\n",
       "      <td>70</td>\n",
       "      <td>0</td>\n",
       "      <td>0</td>\n",
       "    </tr>\n",
       "    <tr>\n",
       "      <th>...</th>\n",
       "      <td>...</td>\n",
       "      <td>...</td>\n",
       "      <td>...</td>\n",
       "      <td>...</td>\n",
       "      <td>...</td>\n",
       "      <td>...</td>\n",
       "      <td>...</td>\n",
       "      <td>...</td>\n",
       "      <td>...</td>\n",
       "      <td>...</td>\n",
       "      <td>...</td>\n",
       "      <td>...</td>\n",
       "      <td>...</td>\n",
       "      <td>...</td>\n",
       "      <td>...</td>\n",
       "      <td>...</td>\n",
       "      <td>...</td>\n",
       "      <td>...</td>\n",
       "      <td>...</td>\n",
       "      <td>...</td>\n",
       "      <td>...</td>\n",
       "    </tr>\n",
       "    <tr>\n",
       "      <th>92</th>\n",
       "      <td>75</td>\n",
       "      <td>84</td>\n",
       "      <td>88</td>\n",
       "      <td>0</td>\n",
       "      <td>66</td>\n",
       "      <td>0</td>\n",
       "      <td>0</td>\n",
       "      <td>0</td>\n",
       "      <td>0</td>\n",
       "      <td>91</td>\n",
       "      <td>...</td>\n",
       "      <td>0</td>\n",
       "      <td>73</td>\n",
       "      <td>0</td>\n",
       "      <td>0</td>\n",
       "      <td>51</td>\n",
       "      <td>0</td>\n",
       "      <td>0</td>\n",
       "      <td>0</td>\n",
       "      <td>79</td>\n",
       "      <td>77</td>\n",
       "    </tr>\n",
       "    <tr>\n",
       "      <th>93</th>\n",
       "      <td>0</td>\n",
       "      <td>0</td>\n",
       "      <td>0</td>\n",
       "      <td>66</td>\n",
       "      <td>0</td>\n",
       "      <td>0</td>\n",
       "      <td>0</td>\n",
       "      <td>0</td>\n",
       "      <td>76</td>\n",
       "      <td>0</td>\n",
       "      <td>...</td>\n",
       "      <td>0</td>\n",
       "      <td>0</td>\n",
       "      <td>0</td>\n",
       "      <td>0</td>\n",
       "      <td>0</td>\n",
       "      <td>0</td>\n",
       "      <td>0</td>\n",
       "      <td>0</td>\n",
       "      <td>0</td>\n",
       "      <td>0</td>\n",
       "    </tr>\n",
       "    <tr>\n",
       "      <th>94</th>\n",
       "      <td>67</td>\n",
       "      <td>70</td>\n",
       "      <td>78</td>\n",
       "      <td>0</td>\n",
       "      <td>70</td>\n",
       "      <td>0</td>\n",
       "      <td>0</td>\n",
       "      <td>0</td>\n",
       "      <td>0</td>\n",
       "      <td>81</td>\n",
       "      <td>...</td>\n",
       "      <td>0</td>\n",
       "      <td>77</td>\n",
       "      <td>0</td>\n",
       "      <td>0</td>\n",
       "      <td>76</td>\n",
       "      <td>0</td>\n",
       "      <td>0</td>\n",
       "      <td>0</td>\n",
       "      <td>76</td>\n",
       "      <td>97</td>\n",
       "    </tr>\n",
       "    <tr>\n",
       "      <th>95</th>\n",
       "      <td>0</td>\n",
       "      <td>0</td>\n",
       "      <td>0</td>\n",
       "      <td>0</td>\n",
       "      <td>0</td>\n",
       "      <td>55</td>\n",
       "      <td>94</td>\n",
       "      <td>84</td>\n",
       "      <td>0</td>\n",
       "      <td>0</td>\n",
       "      <td>...</td>\n",
       "      <td>0</td>\n",
       "      <td>0</td>\n",
       "      <td>83</td>\n",
       "      <td>70</td>\n",
       "      <td>0</td>\n",
       "      <td>79</td>\n",
       "      <td>0</td>\n",
       "      <td>76</td>\n",
       "      <td>0</td>\n",
       "      <td>0</td>\n",
       "    </tr>\n",
       "    <tr>\n",
       "      <th>96</th>\n",
       "      <td>0</td>\n",
       "      <td>0</td>\n",
       "      <td>0</td>\n",
       "      <td>0</td>\n",
       "      <td>0</td>\n",
       "      <td>79</td>\n",
       "      <td>70</td>\n",
       "      <td>69</td>\n",
       "      <td>0</td>\n",
       "      <td>0</td>\n",
       "      <td>...</td>\n",
       "      <td>0</td>\n",
       "      <td>0</td>\n",
       "      <td>91</td>\n",
       "      <td>81</td>\n",
       "      <td>0</td>\n",
       "      <td>77</td>\n",
       "      <td>0</td>\n",
       "      <td>97</td>\n",
       "      <td>0</td>\n",
       "      <td>0</td>\n",
       "    </tr>\n",
       "  </tbody>\n",
       "</table>\n",
       "<p>99 rows × 99 columns</p>\n",
       "</div>"
      ],
      "text/plain": [
       "                    gigachad  Nicolas Cari  gabriel balderrama   1   2   3  \\\n",
       "gigachad                   0             0                   0   0   0  76   \n",
       "Nicolas Cari               0             0                   0   0   0  81   \n",
       "gabriel balderrama         0             0                   0   0   0  81   \n",
       "1                          0             0                   0   0   0   0   \n",
       "2                          0             0                   0   0   0  74   \n",
       "...                      ...           ...                 ...  ..  ..  ..   \n",
       "92                        75            84                  88   0  66   0   \n",
       "93                         0             0                   0  66   0   0   \n",
       "94                        67            70                  78   0  70   0   \n",
       "95                         0             0                   0   0   0  55   \n",
       "96                         0             0                   0   0   0  79   \n",
       "\n",
       "                     4   5   6   7  ...  87  88  89  90  91  92  93  94  95  \\\n",
       "gigachad            71  66   0   0  ...   0   0  95  66   0  75   0  67   0   \n",
       "Nicolas Cari        82  59   0   0  ...   0   0  85  75   0  84   0  70   0   \n",
       "gabriel balderrama  70  69   0   0  ...   0   0  79  91   0  88   0  78   0   \n",
       "1                    0   0  69   0  ...   0   0   0   0   0   0  66   0   0   \n",
       "2                   78  96   0   0  ...   0   0  70  70   0  66   0  70   0   \n",
       "...                 ..  ..  ..  ..  ...  ..  ..  ..  ..  ..  ..  ..  ..  ..   \n",
       "92                   0   0   0  91  ...   0  73   0   0  51   0   0   0  79   \n",
       "93                   0   0  76   0  ...   0   0   0   0   0   0   0   0   0   \n",
       "94                   0   0   0  81  ...   0  77   0   0  76   0   0   0  76   \n",
       "95                  94  84   0   0  ...   0   0  83  70   0  79   0  76   0   \n",
       "96                  70  69   0   0  ...   0   0  91  81   0  77   0  97   0   \n",
       "\n",
       "                    96  \n",
       "gigachad             0  \n",
       "Nicolas Cari         0  \n",
       "gabriel balderrama   0  \n",
       "1                    0  \n",
       "2                    0  \n",
       "...                 ..  \n",
       "92                  77  \n",
       "93                   0  \n",
       "94                  97  \n",
       "95                   0  \n",
       "96                   0  \n",
       "\n",
       "[99 rows x 99 columns]"
      ]
     },
     "execution_count": 214,
     "metadata": {},
     "output_type": "execute_result"
    }
   ],
   "source": [
    "df = pd.DataFrame.from_dict(lista_completa, orient='index')\n",
    "df"
   ]
  },
  {
   "cell_type": "code",
   "execution_count": 157,
   "metadata": {
    "id": "cVl4r4t9neou"
   },
   "outputs": [],
   "source": [
    "df.to_csv('file_name.csv', index=False)"
   ]
  },
  {
   "cell_type": "code",
   "execution_count": 159,
   "metadata": {
    "colab": {
     "base_uri": "https://localhost:8080/",
     "height": 322
    },
    "id": "KybFDeJttrDl",
    "outputId": "8ddc6de3-e5f2-4547-92a0-5a25963c45d1"
   },
   "outputs": [
    {
     "data": {
      "text/html": [
       "<div>\n",
       "<style scoped>\n",
       "    .dataframe tbody tr th:only-of-type {\n",
       "        vertical-align: middle;\n",
       "    }\n",
       "\n",
       "    .dataframe tbody tr th {\n",
       "        vertical-align: top;\n",
       "    }\n",
       "\n",
       "    .dataframe thead th {\n",
       "        text-align: right;\n",
       "    }\n",
       "</style>\n",
       "<table border=\"1\" class=\"dataframe\">\n",
       "  <thead>\n",
       "    <tr style=\"text-align: right;\">\n",
       "      <th></th>\n",
       "      <th>gigachad</th>\n",
       "      <th>Nicolas Cari</th>\n",
       "      <th>gabriel balderrama</th>\n",
       "      <th>1</th>\n",
       "      <th>2</th>\n",
       "      <th>3</th>\n",
       "      <th>4</th>\n",
       "      <th>5</th>\n",
       "      <th>6</th>\n",
       "      <th>7</th>\n",
       "      <th>...</th>\n",
       "      <th>87</th>\n",
       "      <th>88</th>\n",
       "      <th>89</th>\n",
       "      <th>90</th>\n",
       "      <th>91</th>\n",
       "      <th>92</th>\n",
       "      <th>93</th>\n",
       "      <th>94</th>\n",
       "      <th>95</th>\n",
       "      <th>96</th>\n",
       "    </tr>\n",
       "  </thead>\n",
       "  <tbody>\n",
       "    <tr>\n",
       "      <th>89</th>\n",
       "      <td>95</td>\n",
       "      <td>85</td>\n",
       "      <td>79</td>\n",
       "      <td>0</td>\n",
       "      <td>70</td>\n",
       "      <td>0</td>\n",
       "      <td>0</td>\n",
       "      <td>0</td>\n",
       "      <td>0</td>\n",
       "      <td>86</td>\n",
       "      <td>...</td>\n",
       "      <td>0</td>\n",
       "      <td>73</td>\n",
       "      <td>0</td>\n",
       "      <td>0</td>\n",
       "      <td>73</td>\n",
       "      <td>0</td>\n",
       "      <td>0</td>\n",
       "      <td>0</td>\n",
       "      <td>83</td>\n",
       "      <td>91</td>\n",
       "    </tr>\n",
       "  </tbody>\n",
       "</table>\n",
       "<p>1 rows × 99 columns</p>\n",
       "</div>"
      ],
      "text/plain": [
       "    gigachad  Nicolas Cari  gabriel balderrama  1   2  3  4  5  6   7  ...  \\\n",
       "89        95            85                  79  0  70  0  0  0  0  86  ...   \n",
       "\n",
       "    87  88  89  90  91  92  93  94  95  96  \n",
       "89   0  73   0   0  73   0   0   0  83  91  \n",
       "\n",
       "[1 rows x 99 columns]"
      ]
     },
     "execution_count": 159,
     "metadata": {},
     "output_type": "execute_result"
    }
   ],
   "source": [
    "maxClm = df['gigachad'].max()\n",
    "maxClm\n",
    "df.loc[df['gigachad'] == maxClm]"
   ]
  },
  {
   "cell_type": "code",
   "execution_count": 52,
   "metadata": {
    "colab": {
     "base_uri": "https://localhost:8080/",
     "height": 110
    },
    "id": "twOWV8jOyKFe",
    "outputId": "e51b417b-e0e4-43cb-c655-65e7c78f2044"
   },
   "outputs": [
    {
     "data": {
      "text/plain": [
       "'40'"
      ]
     },
     "execution_count": 52,
     "metadata": {},
     "output_type": "execute_result"
    }
   ],
   "source": [
    "maxClm = df['89'].max()\n",
    "valor=df.loc[df['89'] == maxClm]\n",
    "valor.index.array[0]"
   ]
  },
  {
   "cell_type": "code",
   "execution_count": 38,
   "metadata": {
    "id": "GlsOEKGGuBRM"
   },
   "outputs": [
    {
     "data": {
      "text/plain": [
       "gigachad               0\n",
       "Nicolas Cari           0\n",
       "gabriel balderrama     0\n",
       "1                      0\n",
       "2                      0\n",
       "                      ..\n",
       "92                    75\n",
       "93                     0\n",
       "94                    67\n",
       "95                     0\n",
       "96                     0\n",
       "Name: gigachad, Length: 99, dtype: int64"
      ]
     },
     "execution_count": 38,
     "metadata": {},
     "output_type": "execute_result"
    }
   ],
   "source": [
    "df.loc['gigachad']"
   ]
  },
  {
   "cell_type": "code",
   "execution_count": 220,
   "metadata": {
    "colab": {
     "base_uri": "https://localhost:8080/",
     "height": 131
    },
    "id": "6ZS_n6ggrpAD",
    "outputId": "20c7f663-83da-4528-925d-9d386dacb33a"
   },
   "outputs": [],
   "source": [
    "def sacar_pareja(nombre_persona1,df):  \n",
    "    df_especial=df\n",
    "    lista_valores=list(df[nombre_persona1].array)\n",
    "    maximo=max(list(df[nombre_persona1]))\n",
    "    indice=df.loc[df[nombre_persona1] == maximo].index.array[0]\n",
    "    indice_max=df[indice].max()\n",
    "    while(maximo!=indice_max):\n",
    "        df_especial=df_especial.drop(columns=[indice])\n",
    "        df_especial=df_especial.drop(indice)\n",
    "        lista_valores.remove(maximo)\n",
    "        aux=max(lista_valores)\n",
    "        maximo=aux\n",
    "        indice=df_especial.loc[df_especial[nombre_persona1] == maximo].index.array[0]\n",
    "        indice_max=df_especial[indice].max()\n",
    "    pareja=[nombre_persona1,indice,indice_max]\n",
    "    return pareja\n"
   ]
  },
  {
   "cell_type": "code",
   "execution_count": 222,
   "metadata": {},
   "outputs": [],
   "source": [
    "def lista_parejas(df):\n",
    "    lista_parejas=[]\n",
    "    for i in df:\n",
    "        lista_parejas.append(sacar_pareja(i,df))\n",
    "    return lista_parejas"
   ]
  },
  {
   "cell_type": "code",
   "execution_count": 229,
   "metadata": {},
   "outputs": [],
   "source": [
    "def limpiar_max_df(df,parejitas):\n",
    "    for elemento in parejitas:\n",
    "        if(elemento[2]!=0):\n",
    "            df=df.drop(columns=[elemento[0]])\n",
    "            df=df.drop(elemento[0])\n",
    "    return df"
   ]
  },
  {
   "cell_type": "code",
   "execution_count": 232,
   "metadata": {},
   "outputs": [
    {
     "data": {
      "text/plain": [
       "[['gigachad', '67', 81],\n",
       " ['gabriel balderrama', '66', 90],\n",
       " ['3', '3', 0],\n",
       " ['6', '6', 0],\n",
       " ['17', 'gigachad', 0],\n",
       " ['18', '94', 92],\n",
       " ['20', '72', 94],\n",
       " ['24', 'gigachad', 0],\n",
       " ['28', '74', 81],\n",
       " ['33', '90', 93],\n",
       " ['35', '47', 86],\n",
       " ['47', '35', 86],\n",
       " ['50', '3', 0],\n",
       " ['53', '68', 88],\n",
       " ['55', 'gigachad', 0],\n",
       " ['58', '74', 81],\n",
       " ['62', 'gigachad', 0],\n",
       " ['64', '79', 88],\n",
       " ['66', 'gigachad', 81],\n",
       " ['67', 'gigachad', 81],\n",
       " ['68', '53', 88],\n",
       " ['72', '20', 94],\n",
       " ['74', 'gigachad', 0],\n",
       " ['76', '3', 0],\n",
       " ['77', '79', 88],\n",
       " ['79', '3', 0],\n",
       " ['80', '3', 0],\n",
       " ['90', '33', 93],\n",
       " ['91', 'gigachad', 0],\n",
       " ['92', '3', 0],\n",
       " ['94', '18', 92],\n",
       " ['95', 'gigachad', 0]]"
      ]
     },
     "execution_count": 232,
     "metadata": {},
     "output_type": "execute_result"
    }
   ],
   "source": [
    "df2=limpiar_max_df(df, parejitas)\n",
    "df2\n",
    "parejas_resagadas= lista_parejas(df2)\n",
    "parejas_resagadas"
   ]
  },
  {
   "cell_type": "code",
   "execution_count": 247,
   "metadata": {},
   "outputs": [
    {
     "name": "stdout",
     "output_type": "stream",
     "text": [
      "{'orientacion': 'Heterosexual', 'genero': 'Mujer', 'telefono': 1, 'mascota': 'Gatos', 'signo': 'Leo', 'entretenimiento': 'Libros', 'pasatiempo': 'Interior(Cines, en casa, etc.)', 'personalidad': 'Extrovertido pero timido', 'peliculas': 'Piratas del caribe', 'comida': 'Dulces', 'loteria': 'Hacer fiestas grandes', 'bebida': 'Cafe', 'b_alcoholica': 'Cerveza', 'viaje': 'Estados unidos', 'musica': 'Pop en ingles', 'prioridad_pareja': 'Fisico', 'terapia': 'Como mis penas', 'nombre': '82'}\n"
     ]
    }
   ],
   "source": [
    "for i in json_data:\n",
    "    if (i['nombre']=='82'):\n",
    "        print(i)"
   ]
  },
  {
   "cell_type": "code",
   "execution_count": 223,
   "metadata": {},
   "outputs": [
    {
     "data": {
      "text/plain": [
       "[['gigachad', 'gigachad', 0],\n",
       " ['Nicolas Cari', '49', 92],\n",
       " ['gabriel balderrama', 'gigachad', 0],\n",
       " ['1', '31', 94],\n",
       " ['2', '66', 91],\n",
       " ['3', '3', 0],\n",
       " ['4', '26', 106],\n",
       " ['5', '2', 96],\n",
       " ['6', '6', 0],\n",
       " ['7', '34', 95],\n",
       " ['8', '42', 108],\n",
       " ['9', '52', 59],\n",
       " ['10', '38', 85],\n",
       " ['11', '14', 103],\n",
       " ['12', '43', 44],\n",
       " ['13', '96', 101],\n",
       " ['14', '11', 103],\n",
       " ['15', '39', 91],\n",
       " ['16', '25', 98],\n",
       " ['17', 'gigachad', 0],\n",
       " ['18', 'gigachad', 0],\n",
       " ['19', '70', 104],\n",
       " ['20', 'gigachad', 0],\n",
       " ['21', '12', 89],\n",
       " ['22', '45', 107],\n",
       " ['23', '69', 100],\n",
       " ['24', 'gigachad', 0],\n",
       " ['25', '16', 98],\n",
       " ['26', '4', 106],\n",
       " ['27', '65', 104],\n",
       " ['28', '3', 0],\n",
       " ['29', '81', 103],\n",
       " ['30', '86', 96],\n",
       " ['31', '53', 90],\n",
       " ['32', '54', 99],\n",
       " ['33', 'gigachad', 0],\n",
       " ['34', '7', 95],\n",
       " ['35', 'gigachad', 0],\n",
       " ['36', '32', 76],\n",
       " ['37', '88', 93],\n",
       " ['38', '52', 70],\n",
       " ['39', '15', 91],\n",
       " ['40', '89', 98],\n",
       " ['41', '75', 99],\n",
       " ['42', '8', 108],\n",
       " ['43', '83', 103],\n",
       " ['44', '67', 84],\n",
       " ['45', '22', 107],\n",
       " ['46', '48', 91],\n",
       " ['47', '3', 0],\n",
       " ['48', '46', 91],\n",
       " ['49', 'Nicolas Cari', 92],\n",
       " ['50', '3', 0],\n",
       " ['51', '82', 113],\n",
       " ['52', '87', 84],\n",
       " ['53', 'gigachad', 0],\n",
       " ['54', '32', 99],\n",
       " ['55', 'gigachad', 0],\n",
       " ['56', '6', 70],\n",
       " ['57', '11', 103],\n",
       " ['58', '3', 0],\n",
       " ['59', '9', 75],\n",
       " ['60', '87', 46],\n",
       " ['61', '73', 102],\n",
       " ['62', 'gigachad', 0],\n",
       " ['63', '70', 96],\n",
       " ['64', 'gigachad', 0],\n",
       " ['65', '27', 104],\n",
       " ['66', '3', 0],\n",
       " ['67', '3', 0],\n",
       " ['68', '3', 0],\n",
       " ['69', '23', 100],\n",
       " ['70', '19', 104],\n",
       " ['71', '6', 89],\n",
       " ['72', '3', 0],\n",
       " ['73', '61', 102],\n",
       " ['74', 'gigachad', 0],\n",
       " ['75', '41', 99],\n",
       " ['76', '3', 0],\n",
       " ['77', 'gigachad', 0],\n",
       " ['78', '56', 87],\n",
       " ['79', '3', 0],\n",
       " ['80', '3', 0],\n",
       " ['81', '29', 103],\n",
       " ['82', '51', 113],\n",
       " ['83', '43', 103],\n",
       " ['84', '43', 96],\n",
       " ['85', '68', 93],\n",
       " ['86', '30', 96],\n",
       " ['87', '52', 84],\n",
       " ['88', '67', 84],\n",
       " ['89', '40', 98],\n",
       " ['90', '3', 0],\n",
       " ['91', 'gigachad', 0],\n",
       " ['92', '3', 0],\n",
       " ['93', '81', 84],\n",
       " ['94', '3', 0],\n",
       " ['95', 'gigachad', 0],\n",
       " ['96', '13', 101]]"
      ]
     },
     "execution_count": 223,
     "metadata": {},
     "output_type": "execute_result"
    }
   ],
   "source": [
    "parejitas=lista_parejas(df)\n",
    "parejitas"
   ]
  },
  {
   "cell_type": "code",
   "execution_count": 189,
   "metadata": {},
   "outputs": [
    {
     "name": "stdout",
     "output_type": "stream",
     "text": [
      "32\n"
     ]
    }
   ],
   "source": [
    "counter =0\n",
    "for i in parejitas:\n",
    "    if (i[2]==0):\n",
    "        counter+=1\n",
    "    \n",
    "print(counter)"
   ]
  },
  {
   "cell_type": "code",
   "execution_count": 198,
   "metadata": {},
   "outputs": [
    {
     "name": "stdout",
     "output_type": "stream",
     "text": [
      "83 42 108\n",
      "81 49 92\n",
      "81 66 91\n",
      "81 67 84\n",
      "80 50 91\n",
      "79 83 103\n",
      "77 47 89\n",
      "77 73 102\n",
      "76 3 86\n",
      "76 34 95\n",
      "75 13 101\n",
      "75 92 91\n",
      "74 23 100\n",
      "74 30 96\n",
      "74 68 93\n",
      "72 37 100\n",
      "71 4 106\n",
      "71 28 95\n",
      "71 54 99\n",
      "70 41 99\n",
      "68 22 107\n",
      "68 58 93\n",
      "67 48 91\n",
      "67 94 97\n",
      "66 5 101\n",
      "66 90 95\n",
      "63 11 103\n",
      "63 76 100\n",
      "63 79 89\n",
      "63 80 91\n",
      "61 82 113\n",
      "60 72 101\n",
      "0 gigachad 0\n",
      "['gigachad', 'gigachad', 0]\n"
     ]
    }
   ],
   "source": [
    "print(sacar_pareja('gigachad',df))"
   ]
  },
  {
   "cell_type": "code",
   "execution_count": 204,
   "metadata": {},
   "outputs": [
    {
     "name": "stdout",
     "output_type": "stream",
     "text": [
      "['83', '43', 103]\n"
     ]
    }
   ],
   "source": [
    "print(sacar_pareja('83',df))"
   ]
  },
  {
   "cell_type": "code",
   "execution_count": 78,
   "metadata": {},
   "outputs": [
    {
     "data": {
      "text/plain": [
       "'89'"
      ]
     },
     "execution_count": 78,
     "metadata": {},
     "output_type": "execute_result"
    }
   ],
   "source": [
    "maxClm = df[lista_indices_df[0]].max()\n",
    "valor=df.loc[df[lista_indices_df[0]] == maxClm].index.array[0]\n",
    "valor"
   ]
  },
  {
   "cell_type": "code",
   "execution_count": 92,
   "metadata": {},
   "outputs": [],
   "source": [
    "lista_indices_df=list(df.index.array)\n"
   ]
  },
  {
   "cell_type": "code",
   "execution_count": 94,
   "metadata": {},
   "outputs": [
    {
     "data": {
      "text/plain": [
       "91"
      ]
     },
     "execution_count": 94,
     "metadata": {},
     "output_type": "execute_result"
    }
   ],
   "source": [
    "lista_indices_df.index('89')"
   ]
  },
  {
   "cell_type": "code",
   "execution_count": 131,
   "metadata": {},
   "outputs": [
    {
     "ename": "AttributeError",
     "evalue": "'PandasArray' object has no attribute 'drop'",
     "output_type": "error",
     "traceback": [
      "\u001b[1;31m---------------------------------------------------------------------------\u001b[0m",
      "\u001b[1;31mAttributeError\u001b[0m                            Traceback (most recent call last)",
      "\u001b[1;32m<ipython-input-131-f6dfdfe90533>\u001b[0m in \u001b[0;36m<module>\u001b[1;34m\u001b[0m\n\u001b[0;32m      1\u001b[0m \u001b[0mlista_valores\u001b[0m\u001b[1;33m=\u001b[0m\u001b[0mdf\u001b[0m\u001b[1;33m[\u001b[0m\u001b[1;34m'gigachad'\u001b[0m\u001b[1;33m]\u001b[0m\u001b[1;33m.\u001b[0m\u001b[0marray\u001b[0m\u001b[1;33m\u001b[0m\u001b[1;33m\u001b[0m\u001b[0m\n\u001b[1;32m----> 2\u001b[1;33m \u001b[0mlista_valores\u001b[0m\u001b[1;33m.\u001b[0m\u001b[0mdrop\u001b[0m\u001b[1;33m(\u001b[0m\u001b[1;36m95\u001b[0m\u001b[1;33m)\u001b[0m\u001b[1;33m\u001b[0m\u001b[1;33m\u001b[0m\u001b[0m\n\u001b[0m",
      "\u001b[1;31mAttributeError\u001b[0m: 'PandasArray' object has no attribute 'drop'"
     ]
    }
   ],
   "source": [
    "lista_valores=df['gigachad'].array\n",
    "lista_valores.drop(95)"
   ]
  },
  {
   "cell_type": "code",
   "execution_count": 118,
   "metadata": {},
   "outputs": [
    {
     "data": {
      "text/plain": [
       "95"
      ]
     },
     "execution_count": 118,
     "metadata": {},
     "output_type": "execute_result"
    }
   ],
   "source": [
    "max(lista_valores)"
   ]
  },
  {
   "cell_type": "code",
   "execution_count": null,
   "metadata": {},
   "outputs": [],
   "source": [
    "#el producto final es un csv, tiene el nombre de la persona 1, y su telefono, el nombre de la persona 2 y su telefono, y por ultimo el indice, puedes sacar los telefonos del json, ya tiene que estar en el main. Hacer correr harto las parejas resagadas, 15% de personas es aceptable."
   ]
  }
 ],
 "metadata": {
  "colab": {
   "provenance": []
  },
  "kernelspec": {
   "display_name": "Python 3",
   "language": "python",
   "name": "python3"
  },
  "language_info": {
   "codemirror_mode": {
    "name": "ipython",
    "version": 3
   },
   "file_extension": ".py",
   "mimetype": "text/x-python",
   "name": "python",
   "nbconvert_exporter": "python",
   "pygments_lexer": "ipython3",
   "version": "3.11.1 (tags/v3.11.1:a7a450f, Dec  6 2022, 19:58:39) [MSC v.1934 64 bit (AMD64)]"
  },
  "vscode": {
   "interpreter": {
    "hash": "5ffd7eb2cebf9ac436b5021ba01877e9cee6b03524e01bf8c8637d3e64111215"
   }
  }
 },
 "nbformat": 4,
 "nbformat_minor": 1
}
