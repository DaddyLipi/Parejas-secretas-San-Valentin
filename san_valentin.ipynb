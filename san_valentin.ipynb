{
  "cells": [
    {
      "cell_type": "code",
      "execution_count": null,
      "metadata": {
        "id": "ytI9n-CGyytL"
      },
      "outputs": [],
      "source": [
        "import pandas as pd\n",
        "import json\n",
        "from pandas.compat import numpy"
      ]
    },
    {
      "cell_type": "code",
      "execution_count": null,
      "metadata": {
        "id": "U6hxUcA0y5Hj"
      },
      "outputs": [],
      "source": [
        "out_colnames = [\n",
        "    \"orientacion\",\n",
        "    \"genero\",\n",
        "    \"telefono\",\n",
        "    \"mascota\",\n",
        "    \"signo\",\n",
        "    \"entretenimiento\",\n",
        "    \"pasatiempo\",\n",
        "    \"personalidad\",\n",
        "    \"peliculas\",\n",
        "    \"comida\",\n",
        "    \"loteria\",\n",
        "    \"bebida\",\n",
        "    \"b_alcoholica\",\n",
        "    \"viaje\",\n",
        "    \"musica\",\n",
        "    \"prioridad_pareja\",\n",
        "    \"terapia\",\n",
        "    \"nombre\",\n",
        "]"
      ]
    },
    {
      "cell_type": "code",
      "execution_count": null,
      "metadata": {
        "colab": {
          "base_uri": "https://localhost:8080/"
        },
        "id": "_tO8QfSRzEVU",
        "outputId": "1d008c7b-be85-4fee-d7f2-d8527f239e15"
      },
      "outputs": [
        {
          "output_type": "stream",
          "name": "stdout",
          "text": [
            "18\n"
          ]
        }
      ],
      "source": [
        "print(len(out_colnames))"
      ]
    },
    {
      "cell_type": "code",
      "execution_count": null,
      "metadata": {
        "id": "ciNvPENZzFlL"
      },
      "outputs": [],
      "source": [
        "# extract pais users\n",
        "def extract_tokens(df):\n",
        "    out = df.dropna()\n",
        "    return out"
      ]
    },
    {
      "cell_type": "code",
      "execution_count": null,
      "metadata": {
        "id": "OTrWuyu1zFtX"
      },
      "outputs": [],
      "source": [
        "# remove unused columns\n",
        "\n",
        "\n",
        "def clean_df(df):\n",
        "    del df[\"Marca temporal\"]\n",
        "    del df[\"Token\"]\n",
        "    return df\n"
      ]
    },
    {
      "cell_type": "code",
      "execution_count": null,
      "metadata": {
        "id": "2sQNLwPozFxf"
      },
      "outputs": [],
      "source": [
        "# rename columns\n",
        "def rename_columns(df, in_colnames, out_colnames):\n",
        "    n = len(in_colnames)\n",
        "    for i in range(n):\n",
        "        df.rename(columns={in_colnames[i]: out_colnames[i]}, inplace=True)"
      ]
    },
    {
      "cell_type": "code",
      "execution_count": null,
      "metadata": {
        "colab": {
          "base_uri": "https://localhost:8080/",
          "height": 1000
        },
        "id": "LUDqoGElzFz1",
        "outputId": "50ca4862-515f-48e1-89d8-ddcb88015636"
      },
      "outputs": [
        {
          "output_type": "execute_result",
          "data": {
            "text/plain": [
              "   Orientación Sexual  Genero  Teléfono para contacto  \\\n",
              "0        Heterosexual  Hombre         314159265357278   \n",
              "1        Heterosexual  Hombre                68969696   \n",
              "2        Heterosexual  Hombre                72849649   \n",
              "3          Homosexual  Hombre                       1   \n",
              "4        Heterosexual  Hombre                       1   \n",
              "..                ...     ...                     ...   \n",
              "94       Heterosexual   Mujer                       1   \n",
              "95         Homosexual  Hombre                       1   \n",
              "96       Heterosexual   Mujer                       1   \n",
              "97       Heterosexual  Hombre                       1   \n",
              "98       Heterosexual  Hombre                       1   \n",
              "\n",
              "   ¿Qué mascota prefieres?  ¿Qué signo del horóscopo eres?  \\\n",
              "0                    Perros                          Virgo   \n",
              "1                    Perros                          Libra   \n",
              "2                    Perros                        Geminis   \n",
              "3                  Reptiles                          Aries   \n",
              "4                     Gatos                          Aries   \n",
              "..                      ...                            ...   \n",
              "94                     Aves                    Capricornio   \n",
              "95    Mucha responsabilidad                          Virgo   \n",
              "96                   Perros                       Escorpio   \n",
              "97                    Gatos                    Capricornio   \n",
              "98                   Perros                          Tauro   \n",
              "\n",
              "   ¿Mejor forma de entretenimiento?      ¿Dónde prefieres pasar el tiempo?  \\\n",
              "0                       Videojuegos         Interior(Cines, en casa, etc.)   \n",
              "1                       Videojuegos         Interior(Cines, en casa, etc.)   \n",
              "2                         Peliculas         Interior(Cines, en casa, etc.)   \n",
              "3                            Series  Exterior(Parques, restaurantes, etc.)   \n",
              "4                            Series  Exterior(Parques, restaurantes, etc.)   \n",
              "..                              ...                                    ...   \n",
              "94                        Peliculas         Interior(Cines, en casa, etc.)   \n",
              "95                        Peliculas  Exterior(Parques, restaurantes, etc.)   \n",
              "96                      Videojuegos         Interior(Cines, en casa, etc.)   \n",
              "97                      Videojuegos  Exterior(Parques, restaurantes, etc.)   \n",
              "98                        Peliculas  Exterior(Parques, restaurantes, etc.)   \n",
              "\n",
              "                     ¿Cómo defines tu personalidad?  \\\n",
              "0                                      Introvertido   \n",
              "1                          Extrovertido pero timido   \n",
              "2   Introvertido pero abierto a nuevas experiencias   \n",
              "3                                      Introvertido   \n",
              "4                                      Introvertido   \n",
              "..                                              ...   \n",
              "94  Introvertido pero abierto a nuevas experiencias   \n",
              "95                         Extrovertido pero timido   \n",
              "96  Introvertido pero abierto a nuevas experiencias   \n",
              "97  Introvertido pero abierto a nuevas experiencias   \n",
              "98                                     Extrovertido   \n",
              "\n",
              "                                  ¿Mejor franquicia?  ¿Preferencia de comida?  \\\n",
              "0                                         MCU(Marvel)                  Dulces   \n",
              "1                                         MCU(Marvel)                  Dulces   \n",
              "2                                         MCU(Marvel)                  Salado   \n",
              "3   Distopica juvenil(Juegos del hambre, maze runn...    No tengo preferencia   \n",
              "4                                  Piratas del caribe                  Dulces   \n",
              "..                                                ...                     ...   \n",
              "94                                        MCU(Marvel)            Ambos juntos   \n",
              "95                                          Star wars    No tengo preferencia   \n",
              "96                                       Harry potter                  Dulces   \n",
              "97                                 Piratas del caribe                  Dulces   \n",
              "98                                       Harry potter                  Dulces   \n",
              "\n",
              "   ¿Qué harías si ganas la lotería? Bebida preferida  \\\n",
              "0                        Invertirlo             Soda   \n",
              "1       Gastarlo en familia y en ti             Soda   \n",
              "2       Gastarlo en familia y en ti             Cafe   \n",
              "3       Gastarlo en familia y en ti             Soda   \n",
              "4               Viajar por el mundo             Cafe   \n",
              "..                              ...              ...   \n",
              "94                    Hacer caridad             Agua   \n",
              "95                       Invertirlo   Jugos de fruta   \n",
              "96                    Hacer caridad               Te   \n",
              "97                    Hacer caridad             Cafe   \n",
              "98              Viajar por el mundo               Te   \n",
              "\n",
              "                         Bebida alcohólica preferida ¿Dónde prefieres viajar?  \\\n",
              "0      (Ron, vodka, Tequila, singani) y sus cocteles                     Asia   \n",
              "1                                            Cerveza                     Asia   \n",
              "2   Licores dulces(Jagger, 3 plumas, goss cake, etc)                     Asia   \n",
              "3                                            Guarapo                   Europa   \n",
              "4                                            Guarapo                   Europa   \n",
              "..                                               ...                      ...   \n",
              "94                                           No tomo                     Asia   \n",
              "95                                           Cerveza           Estados unidos   \n",
              "96  Licores dulces(Jagger, 3 plumas, goss cake, etc)                El caribe   \n",
              "97                                           No tomo                     Asia   \n",
              "98                                           Guarapo                     Asia   \n",
              "\n",
              "   ¿Qué estilo de musical escuchas? ¿Qué es lo mas importante en una persona?  \\\n",
              "0               Rock español/ingles                     Dinero/estatus social   \n",
              "1                     Pop en ingles                         Sentido del humor   \n",
              "2               Pop latino/reguetón                                  Limpieza   \n",
              "3               Rock español/ingles                         Sentido del humor   \n",
              "4               Pop latino/reguetón                                  Limpieza   \n",
              "..                              ...                                       ...   \n",
              "94               Cumbiones/Nacional                                   Madurez   \n",
              "95              Pop latino/reguetón                     Dinero/estatus social   \n",
              "96               Cumbiones/Nacional                                   Madurez   \n",
              "97                    Pop en ingles                                   Madurez   \n",
              "98              Rock español/ingles                                  Limpieza   \n",
              "\n",
              "                   ¿Qué haces si estas triste? Nombre y apellido completo  \n",
              "0   Entretenimiento(Peliculas, series, musica)                   gigachad  \n",
              "1   Entretenimiento(Peliculas, series, musica)               Nicolas Cari  \n",
              "2                                    Ejercicio         gabriel balderrama  \n",
              "3               Busco alguien para desahogarme                          1  \n",
              "4   Entretenimiento(Peliculas, series, musica)                          2  \n",
              "..                                         ...                        ...  \n",
              "94              Busco alguien para desahogarme                         92  \n",
              "95                              Como mis penas                         93  \n",
              "96                                   Ejercicio                         94  \n",
              "97                           Vivo con el dolor                         95  \n",
              "98                           Vivo con el dolor                         96  \n",
              "\n",
              "[99 rows x 18 columns]"
            ],
            "text/html": [
              "\n",
              "  <div id=\"df-3aa43c8f-6f5f-4bed-979a-c09e8973bb98\">\n",
              "    <div class=\"colab-df-container\">\n",
              "      <div>\n",
              "<style scoped>\n",
              "    .dataframe tbody tr th:only-of-type {\n",
              "        vertical-align: middle;\n",
              "    }\n",
              "\n",
              "    .dataframe tbody tr th {\n",
              "        vertical-align: top;\n",
              "    }\n",
              "\n",
              "    .dataframe thead th {\n",
              "        text-align: right;\n",
              "    }\n",
              "</style>\n",
              "<table border=\"1\" class=\"dataframe\">\n",
              "  <thead>\n",
              "    <tr style=\"text-align: right;\">\n",
              "      <th></th>\n",
              "      <th>Orientación Sexual</th>\n",
              "      <th>Genero</th>\n",
              "      <th>Teléfono para contacto</th>\n",
              "      <th>¿Qué mascota prefieres?</th>\n",
              "      <th>¿Qué signo del horóscopo eres?</th>\n",
              "      <th>¿Mejor forma de entretenimiento?</th>\n",
              "      <th>¿Dónde prefieres pasar el tiempo?</th>\n",
              "      <th>¿Cómo defines tu personalidad?</th>\n",
              "      <th>¿Mejor franquicia?</th>\n",
              "      <th>¿Preferencia de comida?</th>\n",
              "      <th>¿Qué harías si ganas la lotería?</th>\n",
              "      <th>Bebida preferida</th>\n",
              "      <th>Bebida alcohólica preferida</th>\n",
              "      <th>¿Dónde prefieres viajar?</th>\n",
              "      <th>¿Qué estilo de musical escuchas?</th>\n",
              "      <th>¿Qué es lo mas importante en una persona?</th>\n",
              "      <th>¿Qué haces si estas triste?</th>\n",
              "      <th>Nombre y apellido completo</th>\n",
              "    </tr>\n",
              "  </thead>\n",
              "  <tbody>\n",
              "    <tr>\n",
              "      <th>0</th>\n",
              "      <td>Heterosexual</td>\n",
              "      <td>Hombre</td>\n",
              "      <td>314159265357278</td>\n",
              "      <td>Perros</td>\n",
              "      <td>Virgo</td>\n",
              "      <td>Videojuegos</td>\n",
              "      <td>Interior(Cines, en casa, etc.)</td>\n",
              "      <td>Introvertido</td>\n",
              "      <td>MCU(Marvel)</td>\n",
              "      <td>Dulces</td>\n",
              "      <td>Invertirlo</td>\n",
              "      <td>Soda</td>\n",
              "      <td>(Ron, vodka, Tequila, singani) y sus cocteles</td>\n",
              "      <td>Asia</td>\n",
              "      <td>Rock español/ingles</td>\n",
              "      <td>Dinero/estatus social</td>\n",
              "      <td>Entretenimiento(Peliculas, series, musica)</td>\n",
              "      <td>gigachad</td>\n",
              "    </tr>\n",
              "    <tr>\n",
              "      <th>1</th>\n",
              "      <td>Heterosexual</td>\n",
              "      <td>Hombre</td>\n",
              "      <td>68969696</td>\n",
              "      <td>Perros</td>\n",
              "      <td>Libra</td>\n",
              "      <td>Videojuegos</td>\n",
              "      <td>Interior(Cines, en casa, etc.)</td>\n",
              "      <td>Extrovertido pero timido</td>\n",
              "      <td>MCU(Marvel)</td>\n",
              "      <td>Dulces</td>\n",
              "      <td>Gastarlo en familia y en ti</td>\n",
              "      <td>Soda</td>\n",
              "      <td>Cerveza</td>\n",
              "      <td>Asia</td>\n",
              "      <td>Pop en ingles</td>\n",
              "      <td>Sentido del humor</td>\n",
              "      <td>Entretenimiento(Peliculas, series, musica)</td>\n",
              "      <td>Nicolas Cari</td>\n",
              "    </tr>\n",
              "    <tr>\n",
              "      <th>2</th>\n",
              "      <td>Heterosexual</td>\n",
              "      <td>Hombre</td>\n",
              "      <td>72849649</td>\n",
              "      <td>Perros</td>\n",
              "      <td>Geminis</td>\n",
              "      <td>Peliculas</td>\n",
              "      <td>Interior(Cines, en casa, etc.)</td>\n",
              "      <td>Introvertido pero abierto a nuevas experiencias</td>\n",
              "      <td>MCU(Marvel)</td>\n",
              "      <td>Salado</td>\n",
              "      <td>Gastarlo en familia y en ti</td>\n",
              "      <td>Cafe</td>\n",
              "      <td>Licores dulces(Jagger, 3 plumas, goss cake, etc)</td>\n",
              "      <td>Asia</td>\n",
              "      <td>Pop latino/reguetón</td>\n",
              "      <td>Limpieza</td>\n",
              "      <td>Ejercicio</td>\n",
              "      <td>gabriel balderrama</td>\n",
              "    </tr>\n",
              "    <tr>\n",
              "      <th>3</th>\n",
              "      <td>Homosexual</td>\n",
              "      <td>Hombre</td>\n",
              "      <td>1</td>\n",
              "      <td>Reptiles</td>\n",
              "      <td>Aries</td>\n",
              "      <td>Series</td>\n",
              "      <td>Exterior(Parques, restaurantes, etc.)</td>\n",
              "      <td>Introvertido</td>\n",
              "      <td>Distopica juvenil(Juegos del hambre, maze runn...</td>\n",
              "      <td>No tengo preferencia</td>\n",
              "      <td>Gastarlo en familia y en ti</td>\n",
              "      <td>Soda</td>\n",
              "      <td>Guarapo</td>\n",
              "      <td>Europa</td>\n",
              "      <td>Rock español/ingles</td>\n",
              "      <td>Sentido del humor</td>\n",
              "      <td>Busco alguien para desahogarme</td>\n",
              "      <td>1</td>\n",
              "    </tr>\n",
              "    <tr>\n",
              "      <th>4</th>\n",
              "      <td>Heterosexual</td>\n",
              "      <td>Hombre</td>\n",
              "      <td>1</td>\n",
              "      <td>Gatos</td>\n",
              "      <td>Aries</td>\n",
              "      <td>Series</td>\n",
              "      <td>Exterior(Parques, restaurantes, etc.)</td>\n",
              "      <td>Introvertido</td>\n",
              "      <td>Piratas del caribe</td>\n",
              "      <td>Dulces</td>\n",
              "      <td>Viajar por el mundo</td>\n",
              "      <td>Cafe</td>\n",
              "      <td>Guarapo</td>\n",
              "      <td>Europa</td>\n",
              "      <td>Pop latino/reguetón</td>\n",
              "      <td>Limpieza</td>\n",
              "      <td>Entretenimiento(Peliculas, series, musica)</td>\n",
              "      <td>2</td>\n",
              "    </tr>\n",
              "    <tr>\n",
              "      <th>...</th>\n",
              "      <td>...</td>\n",
              "      <td>...</td>\n",
              "      <td>...</td>\n",
              "      <td>...</td>\n",
              "      <td>...</td>\n",
              "      <td>...</td>\n",
              "      <td>...</td>\n",
              "      <td>...</td>\n",
              "      <td>...</td>\n",
              "      <td>...</td>\n",
              "      <td>...</td>\n",
              "      <td>...</td>\n",
              "      <td>...</td>\n",
              "      <td>...</td>\n",
              "      <td>...</td>\n",
              "      <td>...</td>\n",
              "      <td>...</td>\n",
              "      <td>...</td>\n",
              "    </tr>\n",
              "    <tr>\n",
              "      <th>94</th>\n",
              "      <td>Heterosexual</td>\n",
              "      <td>Mujer</td>\n",
              "      <td>1</td>\n",
              "      <td>Aves</td>\n",
              "      <td>Capricornio</td>\n",
              "      <td>Peliculas</td>\n",
              "      <td>Interior(Cines, en casa, etc.)</td>\n",
              "      <td>Introvertido pero abierto a nuevas experiencias</td>\n",
              "      <td>MCU(Marvel)</td>\n",
              "      <td>Ambos juntos</td>\n",
              "      <td>Hacer caridad</td>\n",
              "      <td>Agua</td>\n",
              "      <td>No tomo</td>\n",
              "      <td>Asia</td>\n",
              "      <td>Cumbiones/Nacional</td>\n",
              "      <td>Madurez</td>\n",
              "      <td>Busco alguien para desahogarme</td>\n",
              "      <td>92</td>\n",
              "    </tr>\n",
              "    <tr>\n",
              "      <th>95</th>\n",
              "      <td>Homosexual</td>\n",
              "      <td>Hombre</td>\n",
              "      <td>1</td>\n",
              "      <td>Mucha responsabilidad</td>\n",
              "      <td>Virgo</td>\n",
              "      <td>Peliculas</td>\n",
              "      <td>Exterior(Parques, restaurantes, etc.)</td>\n",
              "      <td>Extrovertido pero timido</td>\n",
              "      <td>Star wars</td>\n",
              "      <td>No tengo preferencia</td>\n",
              "      <td>Invertirlo</td>\n",
              "      <td>Jugos de fruta</td>\n",
              "      <td>Cerveza</td>\n",
              "      <td>Estados unidos</td>\n",
              "      <td>Pop latino/reguetón</td>\n",
              "      <td>Dinero/estatus social</td>\n",
              "      <td>Como mis penas</td>\n",
              "      <td>93</td>\n",
              "    </tr>\n",
              "    <tr>\n",
              "      <th>96</th>\n",
              "      <td>Heterosexual</td>\n",
              "      <td>Mujer</td>\n",
              "      <td>1</td>\n",
              "      <td>Perros</td>\n",
              "      <td>Escorpio</td>\n",
              "      <td>Videojuegos</td>\n",
              "      <td>Interior(Cines, en casa, etc.)</td>\n",
              "      <td>Introvertido pero abierto a nuevas experiencias</td>\n",
              "      <td>Harry potter</td>\n",
              "      <td>Dulces</td>\n",
              "      <td>Hacer caridad</td>\n",
              "      <td>Te</td>\n",
              "      <td>Licores dulces(Jagger, 3 plumas, goss cake, etc)</td>\n",
              "      <td>El caribe</td>\n",
              "      <td>Cumbiones/Nacional</td>\n",
              "      <td>Madurez</td>\n",
              "      <td>Ejercicio</td>\n",
              "      <td>94</td>\n",
              "    </tr>\n",
              "    <tr>\n",
              "      <th>97</th>\n",
              "      <td>Heterosexual</td>\n",
              "      <td>Hombre</td>\n",
              "      <td>1</td>\n",
              "      <td>Gatos</td>\n",
              "      <td>Capricornio</td>\n",
              "      <td>Videojuegos</td>\n",
              "      <td>Exterior(Parques, restaurantes, etc.)</td>\n",
              "      <td>Introvertido pero abierto a nuevas experiencias</td>\n",
              "      <td>Piratas del caribe</td>\n",
              "      <td>Dulces</td>\n",
              "      <td>Hacer caridad</td>\n",
              "      <td>Cafe</td>\n",
              "      <td>No tomo</td>\n",
              "      <td>Asia</td>\n",
              "      <td>Pop en ingles</td>\n",
              "      <td>Madurez</td>\n",
              "      <td>Vivo con el dolor</td>\n",
              "      <td>95</td>\n",
              "    </tr>\n",
              "    <tr>\n",
              "      <th>98</th>\n",
              "      <td>Heterosexual</td>\n",
              "      <td>Hombre</td>\n",
              "      <td>1</td>\n",
              "      <td>Perros</td>\n",
              "      <td>Tauro</td>\n",
              "      <td>Peliculas</td>\n",
              "      <td>Exterior(Parques, restaurantes, etc.)</td>\n",
              "      <td>Extrovertido</td>\n",
              "      <td>Harry potter</td>\n",
              "      <td>Dulces</td>\n",
              "      <td>Viajar por el mundo</td>\n",
              "      <td>Te</td>\n",
              "      <td>Guarapo</td>\n",
              "      <td>Asia</td>\n",
              "      <td>Rock español/ingles</td>\n",
              "      <td>Limpieza</td>\n",
              "      <td>Vivo con el dolor</td>\n",
              "      <td>96</td>\n",
              "    </tr>\n",
              "  </tbody>\n",
              "</table>\n",
              "<p>99 rows × 18 columns</p>\n",
              "</div>\n",
              "      <button class=\"colab-df-convert\" onclick=\"convertToInteractive('df-3aa43c8f-6f5f-4bed-979a-c09e8973bb98')\"\n",
              "              title=\"Convert this dataframe to an interactive table.\"\n",
              "              style=\"display:none;\">\n",
              "        \n",
              "  <svg xmlns=\"http://www.w3.org/2000/svg\" height=\"24px\"viewBox=\"0 0 24 24\"\n",
              "       width=\"24px\">\n",
              "    <path d=\"M0 0h24v24H0V0z\" fill=\"none\"/>\n",
              "    <path d=\"M18.56 5.44l.94 2.06.94-2.06 2.06-.94-2.06-.94-.94-2.06-.94 2.06-2.06.94zm-11 1L8.5 8.5l.94-2.06 2.06-.94-2.06-.94L8.5 2.5l-.94 2.06-2.06.94zm10 10l.94 2.06.94-2.06 2.06-.94-2.06-.94-.94-2.06-.94 2.06-2.06.94z\"/><path d=\"M17.41 7.96l-1.37-1.37c-.4-.4-.92-.59-1.43-.59-.52 0-1.04.2-1.43.59L10.3 9.45l-7.72 7.72c-.78.78-.78 2.05 0 2.83L4 21.41c.39.39.9.59 1.41.59.51 0 1.02-.2 1.41-.59l7.78-7.78 2.81-2.81c.8-.78.8-2.07 0-2.86zM5.41 20L4 18.59l7.72-7.72 1.47 1.35L5.41 20z\"/>\n",
              "  </svg>\n",
              "      </button>\n",
              "      \n",
              "  <style>\n",
              "    .colab-df-container {\n",
              "      display:flex;\n",
              "      flex-wrap:wrap;\n",
              "      gap: 12px;\n",
              "    }\n",
              "\n",
              "    .colab-df-convert {\n",
              "      background-color: #E8F0FE;\n",
              "      border: none;\n",
              "      border-radius: 50%;\n",
              "      cursor: pointer;\n",
              "      display: none;\n",
              "      fill: #1967D2;\n",
              "      height: 32px;\n",
              "      padding: 0 0 0 0;\n",
              "      width: 32px;\n",
              "    }\n",
              "\n",
              "    .colab-df-convert:hover {\n",
              "      background-color: #E2EBFA;\n",
              "      box-shadow: 0px 1px 2px rgba(60, 64, 67, 0.3), 0px 1px 3px 1px rgba(60, 64, 67, 0.15);\n",
              "      fill: #174EA6;\n",
              "    }\n",
              "\n",
              "    [theme=dark] .colab-df-convert {\n",
              "      background-color: #3B4455;\n",
              "      fill: #D2E3FC;\n",
              "    }\n",
              "\n",
              "    [theme=dark] .colab-df-convert:hover {\n",
              "      background-color: #434B5C;\n",
              "      box-shadow: 0px 1px 3px 1px rgba(0, 0, 0, 0.15);\n",
              "      filter: drop-shadow(0px 1px 2px rgba(0, 0, 0, 0.3));\n",
              "      fill: #FFFFFF;\n",
              "    }\n",
              "  </style>\n",
              "\n",
              "      <script>\n",
              "        const buttonEl =\n",
              "          document.querySelector('#df-3aa43c8f-6f5f-4bed-979a-c09e8973bb98 button.colab-df-convert');\n",
              "        buttonEl.style.display =\n",
              "          google.colab.kernel.accessAllowed ? 'block' : 'none';\n",
              "\n",
              "        async function convertToInteractive(key) {\n",
              "          const element = document.querySelector('#df-3aa43c8f-6f5f-4bed-979a-c09e8973bb98');\n",
              "          const dataTable =\n",
              "            await google.colab.kernel.invokeFunction('convertToInteractive',\n",
              "                                                     [key], {});\n",
              "          if (!dataTable) return;\n",
              "\n",
              "          const docLinkHtml = 'Like what you see? Visit the ' +\n",
              "            '<a target=\"_blank\" href=https://colab.research.google.com/notebooks/data_table.ipynb>data table notebook</a>'\n",
              "            + ' to learn more about interactive tables.';\n",
              "          element.innerHTML = '';\n",
              "          dataTable['output_type'] = 'display_data';\n",
              "          await google.colab.output.renderOutput(dataTable, element);\n",
              "          const docLink = document.createElement('div');\n",
              "          docLink.innerHTML = docLinkHtml;\n",
              "          element.appendChild(docLink);\n",
              "        }\n",
              "      </script>\n",
              "    </div>\n",
              "  </div>\n",
              "  "
            ]
          },
          "metadata": {},
          "execution_count": 57
        }
      ],
      "source": [
        "df = pd.read_csv(\"respuestas_tokens.tsv\", sep=\"\\t\")\n",
        "paid_users = extract_tokens(df)\n",
        "clean_df(paid_users)"
      ]
    },
    {
      "cell_type": "code",
      "execution_count": null,
      "metadata": {
        "colab": {
          "base_uri": "https://localhost:8080/"
        },
        "id": "KWBH6VROzF12",
        "outputId": "9fcd064b-317e-4ec7-f22d-db4f79089696"
      },
      "outputs": [
        {
          "output_type": "stream",
          "name": "stdout",
          "text": [
            "18\n"
          ]
        }
      ],
      "source": [
        "in_colnames = list(paid_users.columns)\n",
        "print(len(in_colnames))"
      ]
    },
    {
      "cell_type": "code",
      "execution_count": null,
      "metadata": {
        "id": "RWNT9dbszXGf"
      },
      "outputs": [],
      "source": [
        "rename_columns(paid_users, in_colnames, out_colnames)"
      ]
    },
    {
      "cell_type": "code",
      "execution_count": null,
      "metadata": {
        "id": "gXVkLCEMzX_6"
      },
      "outputs": [],
      "source": [
        "myjson = paid_users.to_json(orient=\"records\")"
      ]
    },
    {
      "cell_type": "code",
      "execution_count": null,
      "metadata": {
        "id": "8H-rFUnPzZYo"
      },
      "outputs": [],
      "source": [
        "#hacer correr solo 1 vez cada vez que se entra al google colab\n",
        "#with open(\"users.json\", \"w\", encoding=\"utf-8\") as output_file: \n",
        "    #output_file.write(myjson)"
      ]
    },
    {
      "cell_type": "code",
      "execution_count": null,
      "metadata": {
        "colab": {
          "base_uri": "https://localhost:8080/",
          "height": 174
        },
        "id": "hIKsFD8M1iXL",
        "outputId": "b6ac39b0-94a4-44b0-b581-24dac23c2429"
      },
      "outputs": [
        {
          "output_type": "execute_result",
          "data": {
            "text/plain": [
              "'[{\"orientacion\":\"Heterosexual\",\"genero\":\"Hombre\",\"telefono\":314159265357278,\"mascota\":\"Perros\",\"signo\":\"Virgo\",\"entretenimiento\":\"Videojuegos\",\"pasatiempo\":\"Interior(Cines, en casa, etc.)\",\"personalidad\":\"Introvertido\",\"peliculas\":\"MCU(Marvel)\",\"comida\":\"Dulces\",\"loteria\":\"Invertirlo\",\"bebida\":\"Soda\",\"b_alcoholica\":\"(Ron, vodka, Tequila, singani) y sus cocteles\",\"viaje\":\"Asia\",\"musica\":\"Rock espa\\\\u00f1ol\\\\/ingles\",\"prioridad_pareja\":\"Dinero\\\\/estatus social\",\"terapia\":\"Entretenimiento(Peliculas, series, musica)\",\"nombre\":\"gigachad\"},{\"orientacion\":\"Heterosexual\",\"genero\":\"Hombre\",\"telefono\":68969696,\"mascota\":\"Perros\",\"signo\":\"Libra\",\"entretenimiento\":\"Videojuegos\",\"pasatiempo\":\"Interior(Cines, en casa, etc.)\",\"personalidad\":\"Extrovertido pero timido\",\"peliculas\":\"MCU(Marvel)\",\"comida\":\"Dulces\",\"loteria\":\"Gastarlo en familia y en ti\",\"bebida\":\"Soda\",\"b_alcoholica\":\"Cerveza\",\"viaje\":\"Asia\",\"musica\":\"Pop en ingles\",\"prioridad_pareja\":\"Sentido del humor\",\"terapia\":\"Entretenimiento(Peliculas, series, musica)\",\"nombre\":\"Nicolas Cari\"},{\"orientacion\":\"Heterosexual\",\"genero\":\"Hombre\",\"telefono\":72849649,\"mascota\":\"Perros\",\"signo\":\"Geminis\",\"entretenimiento\":\"Peliculas\",\"pasatiempo\":\"Interior(Cines, en casa, etc.)\",\"personalidad\":\"Introvertido pero abierto a nuevas experiencias\",\"peliculas\":\"MCU(Marvel)\",\"comida\":\"Salado\",\"loteria\":\"Gastarlo en familia y en ti\",\"bebida\":\"Cafe\",\"b_alcoholica\":\"Licores dulces(Jagger, 3 plumas, goss cake, etc)\",\"viaje\":\"Asia\",\"musica\":\"Pop latino\\\\/reguet\\\\u00f3n\",\"prioridad_pareja\":\"Limpieza\",\"terapia\":\"Ejercicio\",\"nombre\":\"gabriel balderrama\"},{\"orientacion\":\"Homosexual\",\"genero\":\"Hombre\",\"telefono\":1,\"mascota\":\"Reptiles\",\"signo\":\"Aries\",\"entretenimiento\":\"Series\",\"pasatiempo\":\"Exterior(Parques, restaurantes, etc.)\",\"personalidad\":\"Introvertido\",\"peliculas\":\"Distopica juvenil(Juegos del hambre, maze runner, etc)\",\"comida\":\"No tengo preferencia\",\"loteria\":\"Gastarlo en familia y en ti\",\"bebida\":\"Soda\",\"b_alcoholica\":\"Guarapo\",\"viaje\":\"Europa\",\"musica\":\"Rock espa\\\\u00f1ol\\\\/ingles\",\"prioridad_pareja\":\"Sentido del humor\",\"terapia\":\"Busco alguien para desahogarme\",\"nombre\":\"1\"},{\"orientacion\":\"Heterosexual\",\"genero\":\"Hombre\",\"telefono\":1,\"mascota\":\"Gatos\",\"signo\":\"Aries\",\"entretenimiento\":\"Series\",\"pasatiempo\":\"Exterior(Parques, restaurantes, etc.)\",\"personalidad\":\"Introvertido\",\"peliculas\":\"Piratas del caribe\",\"comida\":\"Dulces\",\"loteria\":\"Viajar por el mundo\",\"bebida\":\"Cafe\",\"b_alcoholica\":\"Guarapo\",\"viaje\":\"Europa\",\"musica\":\"Pop latino\\\\/reguet\\\\u00f3n\",\"prioridad_pareja\":\"Limpieza\",\"terapia\":\"Entretenimiento(Peliculas, series, musica)\",\"nombre\":\"2\"},{\"orientacion\":\"Heterosexual\",\"genero\":\"Mujer\",\"telefono\":1,\"mascota\":\"Aves\",\"signo\":\"Libra\",\"entretenimiento\":\"Peliculas\",\"pasatiempo\":\"Interior(Cines, en casa, etc.)\",\"personalidad\":\"Extrovertido pero timido\",\"peliculas\":\"MCU(Marvel)\",\"comida\":\"Salado\",\"loteria\":\"Invertirlo\",\"bebida\":\"Agua\",\"b_alcoholica\":\"Licores dulces(Jagger, 3 plumas, goss cake, etc)\",\"viaje\":\"Europa\",\"musica\":\"Alternativa\\\\/Indie\",\"prioridad_pareja\":\"Dinero\\\\/estatus social\",\"terapia\":\"Entretenimiento(Peliculas, series, musica)\",\"nombre\":\"3\"},{\"orientacion\":\"Heterosexual\",\"genero\":\"Mujer\",\"telefono\":1,\"mascota\":\"Gatos\",\"signo\":\"Acuario\",\"entretenimiento\":\"Series\",\"pasatiempo\":\"Interior(Cines, en casa, etc.)\",\"personalidad\":\"Introvertido\",\"peliculas\":\"Piratas del caribe\",\"comida\":\"Dulces\",\"loteria\":\"Gastarlo en familia y en ti\",\"bebida\":\"Cafe\",\"b_alcoholica\":\"(Ron, vodka, Tequila, singani) y sus cocteles\",\"viaje\":\"Estados unidos\",\"musica\":\"Alternativa\\\\/Indie\",\"prioridad_pareja\":\"Sentido del humor\",\"terapia\":\"Como mis penas\",\"nombre\":\"4\"},{\"orientacion\":\"Heterosexual\",\"genero\":\"Mujer\",\"telefono\":1,\"mascota\":\"Gatos\",\"signo\":\"Cancer\",\"entretenimiento\":\"Series\",\"pasatiempo\":\"Interior(Cines, en casa, etc.)\",\"personalidad\":\"Extrovertido\",\"peliculas\":\"Piratas del caribe\",\"comida\":\"Dulces\",\"loteria\":\"Hacer fiestas grandes\",\"bebida\":\"Cafe\",\"b_alcoholica\":\"Vino\",\"viaje\":\"Europa\",\"musica\":\"Cumbiones\\\\/Nacional\",\"prioridad_pareja\":\"Fisico\",\"terapia\":\"Busco alguien para desahogarme\",\"nombre\":\"5\"},{\"orientacion\":\"Homosexual\",\"genero\":\"Hombre\",\"telefono\":1,\"mascota\":\"Mucha responsabilidad\",\"signo\":\"Escorpio\",\"entretenimiento\":\"Series\",\"pasatiempo\":\"Exterior(Parques, restaurantes, etc.)\",\"personalidad\":\"Introvertido pero abierto a nuevas experiencias\",\"peliculas\":\"Star wars\",\"comida\":\"No tengo preferencia\",\"loteria\":\"Invertirlo\",\"bebida\":\"Jugos de fruta\",\"b_alcoholica\":\"Licores dulces(Jagger, 3 plumas, goss cake, etc)\",\"viaje\":\"Europa\",\"musica\":\"Pop latino\\\\/reguet\\\\u00f3n\",\"prioridad_pareja\":\"Dinero\\\\/estatus social\",\"terapia\":\"Busco alguien para desahogarme\",\"nombre\":\"6\"},{\"orientacion\":\"Heterosexual\",\"genero\":\"Hombre\",\"telefono\":1,\"mascota\":\"Aves\",\"signo\":\"Capricornio\",\"entretenimiento\":\"Videojuegos\",\"pasatiempo\":\"Exterior(Parques, restaurantes, etc.)\",\"personalidad\":\"Introvertido pero abierto a nuevas experiencias\",\"peliculas\":\"MCU(Marvel)\",\"comida\":\"Salado\",\"loteria\":\"Hacer caridad\",\"bebida\":\"Agua\",\"b_alcoholica\":\"No tomo\",\"viaje\":\"Europa\",\"musica\":\"Pop latino\\\\/reguet\\\\u00f3n\",\"prioridad_pareja\":\"Madurez\",\"terapia\":\"Vivo con el dolor\",\"nombre\":\"7\"},{\"orientacion\":\"Heterosexual\",\"genero\":\"Hombre\",\"telefono\":1,\"mascota\":\"Perros\",\"signo\":\"Virgo\",\"entretenimiento\":\"Series\",\"pasatiempo\":\"Exterior(Parques, restaurantes, etc.)\",\"personalidad\":\"Extrovertido pero timido\",\"peliculas\":\"Harry potter\",\"comida\":\"Salado\",\"loteria\":\"Hacer fiestas grandes\",\"bebida\":\"Te\",\"b_alcoholica\":\"Cerveza\",\"viaje\":\"Asia\",\"musica\":\"Rock espa\\\\u00f1ol\\\\/ingles\",\"prioridad_pareja\":\"Fisico\",\"terapia\":\"Como mis penas\",\"nombre\":\"8\"},{\"orientacion\":\"Homosexual\",\"genero\":\"Mujer\",\"telefono\":1,\"mascota\":\"Mucha responsabilidad\",\"signo\":\"Escorpio\",\"entretenimiento\":\"Libros\",\"pasatiempo\":\"Interior(Cines, en casa, etc.)\",\"personalidad\":\"Introvertido pero abierto a nuevas experiencias\",\"peliculas\":\"Star wars\",\"comida\":\"No tengo preferencia\",\"loteria\":\"Invertirlo\",\"bebida\":\"Jugos de fruta\",\"b_alcoholica\":\"Licores dulces(Jagger, 3 plumas, goss cake, etc)\",\"viaje\":\"Europa\",\"musica\":\"Cumbiones\\\\/Nacional\",\"prioridad_pareja\":\"Dinero\\\\/estatus social\",\"terapia\":\"Como mis penas\",\"nombre\":\"9\"},{\"orientacion\":\"Homosexual\",\"genero\":\"Mujer\",\"telefono\":1,\"mascota\":\"Mucha responsabilidad\",\"signo\":\"Capricornio\",\"entretenimiento\":\"Series\",\"pasatiempo\":\"Interior(Cines, en casa, etc.)\",\"personalidad\":\"Introvertido pero abierto a nuevas experiencias\",\"peliculas\":\"Star wars\",\"comida\":\"No tengo preferencia\",\"loteria\":\"Hacer caridad\",\"bebida\":\"Jugos de fruta\",\"b_alcoholica\":\"No tomo\",\"viaje\":\"Africa\",\"musica\":\"Cumbiones\\\\/Nacional\",\"prioridad_pareja\":\"Madurez\",\"terapia\":\"Entretenimiento(Peliculas, series, musica)\",\"nombre\":\"10\"},{\"orientacion\":\"Heterosexual\",\"genero\":\"Mujer\",\"telefono\":1,\"mascota\":\"Gatos\",\"signo\":\"Leo\",\"entretenimiento\":\"Peliculas\",\"pasatiempo\":\"Interior(Cines, en casa, etc.)\",\"personalidad\":\"Extrovertido pero timido\",\"peliculas\":\"Piratas del caribe\",\"comida\":\"Dulces\",\"loteria\":\"Hacer fiestas grandes\",\"bebida\":\"Cafe\",\"b_alcoholica\":\"Cerveza\",\"viaje\":\"El caribe\",\"musica\":\"Alternativa\\\\/Indie\",\"prioridad_pareja\":\"Fisico\",\"terapia\":\"Entretenimiento(Peliculas, series, musica)\",\"nombre\":\"11\"},{\"orientacion\":\"Homosexual\",\"genero\":\"Mujer\",\"telefono\":1,\"mascota\":\"Mucha responsabilidad\",\"signo\":\"Acuario\",\"entretenimiento\":\"Libros\",\"pasatiempo\":\"Interior(Cines, en casa, etc.)\",\"personalidad\":\"Introvertido\",\"peliculas\":\"Star wars\",\"comida\":\"No tengo preferencia\",\"loteria\":\"Gastarlo en familia y en ti\",\"bebida\":\"Jugos de fruta\",\"b_alcoholica\":\"(Ron, vodka, Tequila, singani) y sus cocteles\",\"viaje\":\"Estados unidos\",\"musica\":\"Alternativa\\\\/Indie\",\"prioridad_pareja\":\"Sentido del humor\",\"terapia\":\"Entretenimiento(Peliculas, series, musica)\",\"nombre\":\"12\"},{\"orientacion\":\"Heterosexual\",\"genero\":\"Mujer\",\"telefono\":1,\"mascota\":\"Perros\",\"signo\":\"Virgo\",\"entretenimiento\":\"Peliculas\",\"pasatiempo\":\"Interior(Cines, en casa, etc.)\",\"personalidad\":\"Extrovertido pero timido\",\"peliculas\":\"Harry potter\",\"comida\":\"Salado\",\"loteria\":\"Invertirlo\",\"bebida\":\"Te\",\"b_alcoholica\":\"Cerveza\",\"viaje\":\"Africa\",\"musica\":\"Alternativa\\\\/Indie\",\"prioridad_pareja\":\"Dinero\\\\/estatus social\",\"terapia\":\"Vivo con el dolor\",\"nombre\":\"13\"},{\"orientacion\":\"Heterosexual\",\"genero\":\"Hombre\",\"telefono\":1,\"mascota\":\"Gatos\",\"signo\":\"Geminis\",\"entretenimiento\":\"Videojuegos\",\"pasatiempo\":\"Exterior(Parques, restaurantes, etc.)\",\"personalidad\":\"Extrovertido\",\"peliculas\":\"Piratas del caribe\",\"comida\":\"Dulces\",\"loteria\":\"Viajar por el mundo\",\"bebida\":\"Cafe\",\"b_alcoholica\":\"Vino\",\"viaje\":\"Estados unidos\",\"musica\":\"Rock espa\\\\u00f1ol\\\\/ingles\",\"prioridad_pareja\":\"Limpieza\",\"terapia\":\"Ejercicio\",\"nombre\":\"14\"},{\"orientacion\":\"Homosexual\",\"genero\":\"Mujer\",\"telefono\":1,\"mascota\":\"Mucha responsabilidad\",\"signo\":\"Geminis\",\"entretenimiento\":\"Peliculas\",\"pasatiempo\":\"Interior(Cines, en casa, etc.)\",\"personalidad\":\"Extrovertido\",\"peliculas\":\"Star wars\",\"comida\":\"No tengo preferencia\",\"loteria\":\"Viajar por el mundo\",\"bebida\":\"Jugos de fruta\",\"b_alcoholica\":\"Vino\",\"viaje\":\"Asia\",\"musica\":\"Pop en ingles\",\"prioridad_pareja\":\"Limpieza\",\"terapia\":\"Busco alguien para desahogarme\",\"nombre\":\"15\"},{\"orientacion\":\"Homosexual\",\"genero\":\"Hombre\",\"telefono\":1,\"mascota\":\"Mucha responsabilidad\",\"signo\":\"Piscis\",\"entretenimiento\":\"Series\",\"pasatiempo\":\"Exterior(Parques, restaurantes, etc.)\",\"personalidad\":\"Introvertido\",\"peliculas\":\"Star wars\",\"comida\":\"No tengo preferencia\",\"loteria\":\"Gastarlo en familia y en ti\",\"bebida\":\"Jugos de fruta\",\"b_alcoholica\":\"(Ron, vodka, Tequila, singani) y sus cocteles\",\"viaje\":\"El caribe\",\"musica\":\"Pop latino\\\\/reguet\\\\u00f3n\",\"prioridad_pareja\":\"Sentido del humor\",\"terapia\":\"Vivo con el dolor\",\"nombre\":\"16\"},{\"orientacion\":\"Heterosexual\",\"genero\":\"Hombre\",\"telefono\":1,\"mascota\":\"Perros\",\"signo\":\"Piscis\",\"entretenimiento\":\"Peliculas\",\"pasatiempo\":\"Exterior(Parques, restaurantes, etc.)\",\"personalidad\":\"Introvertido\",\"peliculas\":\"Harry potter\",\"comida\":\"Salado\",\"loteria\":\"Gastarlo en familia y en ti\",\"bebida\":\"Te\",\"b_alcoholica\":\"(Ron, vodka, Tequila, singani) y sus cocteles\",\"viaje\":\"El caribe\",\"musica\":\"Rock espa\\\\u00f1ol\\\\/ingles\",\"prioridad_pareja\":\"Sentido del humor\",\"terapia\":\"Ejercicio\",\"nombre\":\"17\"},{\"orientacion\":\"Heterosexual\",\"genero\":\"Hombre\",\"telefono\":1,\"mascota\":\"Perros\",\"signo\":\"Tauro\",\"entretenimiento\":\"Libros\",\"pasatiempo\":\"Exterior(Parques, restaurantes, etc.)\",\"personalidad\":\"Extrovertido\",\"peliculas\":\"Harry potter\",\"comida\":\"Salado\",\"loteria\":\"Viajar por el mundo\",\"bebida\":\"Te\",\"b_alcoholica\":\"Guarapo\",\"viaje\":\"Estados unidos\",\"musica\":\"Pop en ingles\",\"prioridad_pareja\":\"Limpieza\",\"terapia\":\"Ejercicio\",\"nombre\":\"18\"},{\"orientacion\":\"Bisexual\",\"genero\":\"Hombre\",\"telefono\":1,\"mascota\":\"Reptiles\",\"signo\":\"Sagitario\",\"entretenimiento\":\"Series\",\"pasatiempo\":\"Exterior(Parques, restaurantes, etc.)\",\"personalidad\":\"Introvertido pero abierto a nuevas experiencias\",\"peliculas\":\"Distopica juvenil(Juegos del hambre, maze runner, etc)\",\"comida\":\"Ambos juntos\",\"loteria\":\"Hacer caridad\",\"bebida\":\"Soda\",\"b_alcoholica\":\"No tomo\",\"viaje\":\"Africa\",\"musica\":\"Pop en ingles\",\"prioridad_pareja\":\"Madurez\",\"terapia\":\"Vivo con el dolor\",\"nombre\":\"19\"},{\"orientacion\":\"Heterosexual\",\"genero\":\"Hombre\",\"telefono\":1,\"mascota\":\"Gatos\",\"signo\":\"Acuario\",\"entretenimiento\":\"Videojuegos\",\"pasatiempo\":\"Exterior(Parques, restaurantes, etc.)\",\"personalidad\":\"Introvertido\",\"peliculas\":\"Piratas del caribe\",\"comida\":\"Dulces\",\"loteria\":\"Gastarlo en familia y en ti\",\"bebida\":\"Cafe\",\"b_alcoholica\":\"(Ron, vodka, Tequila, singani) y sus cocteles\",\"viaje\":\"Europa\",\"musica\":\"Rock espa\\\\u00f1ol\\\\/ingles\",\"prioridad_pareja\":\"Sentido del humor\",\"terapia\":\"Ejercicio\",\"nombre\":\"20\"},{\"orientacion\":\"Homosexual\",\"genero\":\"Mujer\",\"telefono\":1,\"mascota\":\"Mucha responsabilidad\",\"signo\":\"Capricornio\",\"entretenimiento\":\"Libros\",\"pasatiempo\":\"Interior(Cines, en casa, etc.)\",\"personalidad\":\"Introvertido pero abierto a nuevas experiencias\",\"peliculas\":\"Star wars\",\"comida\":\"No tengo preferencia\",\"loteria\":\"Hacer caridad\",\"bebida\":\"Jugos de fruta\",\"b_alcoholica\":\"No tomo\",\"viaje\":\"Asia\",\"musica\":\"Pop en ingles\",\"prioridad_pareja\":\"Madurez\",\"terapia\":\"Ejercicio\",\"nombre\":\"21\"},{\"orientacion\":\"Heterosexual\",\"genero\":\"Mujer\",\"telefono\":1,\"mascota\":\"Perros\",\"signo\":\"Capricornio\",\"entretenimiento\":\"Series\",\"pasatiempo\":\"Interior(Cines, en casa, etc.)\",\"personalidad\":\"Introvertido pero abierto a nuevas experiencias\",\"peliculas\":\"Harry potter\",\"comida\":\"Salado\",\"loteria\":\"Hacer caridad\",\"bebida\":\"Te\",\"b_alcoholica\":\"No tomo\",\"viaje\":\"Africa\",\"musica\":\"Pop en ingles\",\"prioridad_pareja\":\"Madurez\",\"terapia\":\"Ejercicio\",\"nombre\":\"22\"},{\"orientacion\":\"Heterosexual\",\"genero\":\"Mujer\",\"telefono\":1,\"mascota\":\"Gatos\",\"signo\":\"Virgo\",\"entretenimiento\":\"Videojuegos\",\"pasatiempo\":\"Interior(Cines, en casa, etc.)\",\"personalidad\":\"Extrovertido pero timido\",\"peliculas\":\"Piratas del caribe\",\"comida\":\"Dulces\",\"loteria\":\"Invertirlo\",\"bebida\":\"Cafe\",\"b_alcoholica\":\"Cerveza\",\"viaje\":\"Europa\",\"musica\":\"Pop en ingles\",\"prioridad_pareja\":\"Dinero\\\\/estatus social\",\"terapia\":\"Ejercicio\",\"nombre\":\"23\"},{\"orientacion\":\"Heterosexual\",\"genero\":\"Hombre\",\"telefono\":1,\"mascota\":\"Perros\",\"signo\":\"Virgo\",\"entretenimiento\":\"Videojuegos\",\"pasatiempo\":\"Exterior(Parques, restaurantes, etc.)\",\"personalidad\":\"Extrovertido pero timido\",\"peliculas\":\"Harry potter\",\"comida\":\"Salado\",\"loteria\":\"Invertirlo\",\"bebida\":\"Te\",\"b_alcoholica\":\"Cerveza\",\"viaje\":\"Asia\",\"musica\":\"Pop en ingles\",\"prioridad_pareja\":\"Dinero\\\\/estatus social\",\"terapia\":\"Vivo con el dolor\",\"nombre\":\"24\"},{\"orientacion\":\"Homosexual\",\"genero\":\"Hombre\",\"telefono\":1,\"mascota\":\"Mucha responsabilidad\",\"signo\":\"Piscis\",\"entretenimiento\":\"Series\",\"pasatiempo\":\"Exterior(Parques, restaurantes, etc.)\",\"personalidad\":\"Introvertido\",\"peliculas\":\"Star wars\",\"comida\":\"No tengo preferencia\",\"loteria\":\"Gastarlo en familia y en ti\",\"bebida\":\"Jugos de fruta\",\"b_alcoholica\":\"(Ron, vodka, Tequila, singani) y sus cocteles\",\"viaje\":\"Africa\",\"musica\":\"Rock espa\\\\u00f1ol\\\\/ingles\",\"prioridad_pareja\":\"Sentido del humor\",\"terapia\":\"Vivo con el dolor\",\"nombre\":\"25\"},{\"orientacion\":\"Heterosexual\",\"genero\":\"Hombre\",\"telefono\":1,\"mascota\":\"Gatos\",\"signo\":\"Acuario\",\"entretenimiento\":\"Videojuegos\",\"pasatiempo\":\"Exterior(Parques, restaurantes, etc.)\",\"personalidad\":\"Introvertido\",\"peliculas\":\"Piratas del caribe\",\"comida\":\"Dulces\",\"loteria\":\"Gastarlo en familia y en ti\",\"bebida\":\"Cafe\",\"b_alcoholica\":\"(Ron, vodka, Tequila, singani) y sus cocteles\",\"viaje\":\"El caribe\",\"musica\":\"Rock espa\\\\u00f1ol\\\\/ingles\",\"prioridad_pareja\":\"Sentido del humor\",\"terapia\":\"Busco alguien para desahogarme\",\"nombre\":\"26\"},{\"orientacion\":\"Bisexual\",\"genero\":\"Hombre\",\"telefono\":1,\"mascota\":\"Reptiles\",\"signo\":\"Tauro\",\"entretenimiento\":\"Series\",\"pasatiempo\":\"Exterior(Parques, restaurantes, etc.)\",\"personalidad\":\"Extrovertido\",\"peliculas\":\"Distopica juvenil(Juegos del hambre, maze runner, etc)\",\"comida\":\"Ambos juntos\",\"loteria\":\"Viajar por el mundo\",\"bebida\":\"Soda\",\"b_alcoholica\":\"Guarapo\",\"viaje\":\"Africa\",\"musica\":\"Pop latino\\\\/reguet\\\\u00f3n\",\"prioridad_pareja\":\"Limpieza\",\"terapia\":\"Como mis penas\",\"nombre\":\"27\"},{\"orientacion\":\"Heterosexual\",\"genero\":\"Mujer\",\"telefono\":1,\"mascota\":\"Aves\",\"signo\":\"Aries\",\"entretenimiento\":\"Series\",\"pasatiempo\":\"Interior(Cines, en casa, etc.)\",\"personalidad\":\"Introvertido\",\"peliculas\":\"MCU(Marvel)\",\"comida\":\"Salado\",\"loteria\":\"Viajar por el mundo\",\"bebida\":\"Agua\",\"b_alcoholica\":\"Guarapo\",\"viaje\":\"Europa\",\"musica\":\"Cumbiones\\\\/Nacional\",\"prioridad_pareja\":\"Limpieza\",\"terapia\":\"Busco alguien para desahogarme\",\"nombre\":\"28\"},{\"orientacion\":\"Homosexual\",\"genero\":\"Hombre\",\"telefono\":1,\"mascota\":\"Mucha responsabilidad\",\"signo\":\"Cancer\",\"entretenimiento\":\"Peliculas\",\"pasatiempo\":\"Exterior(Parques, restaurantes, etc.)\",\"personalidad\":\"Extrovertido\",\"peliculas\":\"Star wars\",\"comida\":\"No tengo preferencia\",\"loteria\":\"Hacer fiestas grandes\",\"bebida\":\"Jugos de fruta\",\"b_alcoholica\":\"Vino\",\"viaje\":\"El caribe\",\"musica\":\"Pop latino\\\\/reguet\\\\u00f3n\",\"prioridad_pareja\":\"Fisico\",\"terapia\":\"Ejercicio\",\"nombre\":\"29\"},{\"orientacion\":\"Heterosexual\",\"genero\":\"Mujer\",\"telefono\":1,\"mascota\":\"Aves\",\"signo\":\"Escorpio\",\"entretenimiento\":\"Libros\",\"pasatiempo\":\"Interior(Cines, en casa, etc.)\",\"personalidad\":\"Introvertido pero abierto a nuevas experiencias\",\"peliculas\":\"MCU(Marvel)\",\"comida\":\"Ambos juntos\",\"loteria\":\"Hacer caridad\",\"bebida\":\"Agua\",\"b_alcoholica\":\"Licores dulces(Jagger, 3 plumas, goss cake, etc)\",\"viaje\":\"Estados unidos\",\"musica\":\"Pop en ingles\",\"prioridad_pareja\":\"Madurez\",\"terapia\":\"Busco alguien para desahogarme\",\"nombre\":\"30\"},{\"orientacion\":\"Bisexual\",\"genero\":\"Hombre\",\"telefono\":1,\"mascota\":\"Reptiles\",\"signo\":\"Acuario\",\"entretenimiento\":\"Series\",\"pasatiempo\":\"Exterior(Parques, restaurantes, etc.)\",\"personalidad\":\"Introvertido\",\"peliculas\":\"Distopica juvenil(Juegos del hambre, maze runner, etc)\",\"comida\":\"Ambos juntos\",\"loteria\":\"Gastarlo en familia y en ti\",\"bebida\":\"Soda\",\"b_alcoholica\":\"(Ron, vodka, Tequila, singani) y sus cocteles\",\"viaje\":\"Europa\",\"musica\":\"Pop latino\\\\/reguet\\\\u00f3n\",\"prioridad_pareja\":\"Sentido del humor\",\"terapia\":\"Entretenimiento(Peliculas, series, musica)\",\"nombre\":\"31\"},{\"orientacion\":\"Homosexual\",\"genero\":\"Mujer\",\"telefono\":1,\"mascota\":\"Reptiles\",\"signo\":\"Aries\",\"entretenimiento\":\"Libros\",\"pasatiempo\":\"Interior(Cines, en casa, etc.)\",\"personalidad\":\"Introvertido\",\"peliculas\":\"Distopica juvenil(Juegos del hambre, maze runner, etc)\",\"comida\":\"No tengo preferencia\",\"loteria\":\"Viajar por el mundo\",\"bebida\":\"Soda\",\"b_alcoholica\":\"Guarapo\",\"viaje\":\"Europa\",\"musica\":\"Alternativa\\\\/Indie\",\"prioridad_pareja\":\"Limpieza\",\"terapia\":\"Busco alguien para desahogarme\",\"nombre\":\"32\"},{\"orientacion\":\"Heterosexual\",\"genero\":\"Hombre\",\"telefono\":1,\"mascota\":\"Perros\",\"signo\":\"Piscis\",\"entretenimiento\":\"Peliculas\",\"pasatiempo\":\"Exterior(Parques, restaurantes, etc.)\",\"personalidad\":\"Introvertido\",\"peliculas\":\"Harry potter\",\"comida\":\"Salado\",\"loteria\":\"Gastarlo en familia y en ti\",\"bebida\":\"Te\",\"b_alcoholica\":\"(Ron, vodka, Tequila, singani) y sus cocteles\",\"viaje\":\"Africa\",\"musica\":\"Pop latino\\\\/reguet\\\\u00f3n\",\"prioridad_pareja\":\"Sentido del humor\",\"terapia\":\"Ejercicio\",\"nombre\":\"33\"},{\"orientacion\":\"Heterosexual\",\"genero\":\"Mujer\",\"telefono\":1,\"mascota\":\"Aves\",\"signo\":\"Capricornio\",\"entretenimiento\":\"Peliculas\",\"pasatiempo\":\"Interior(Cines, en casa, etc.)\",\"personalidad\":\"Introvertido pero abierto a nuevas experiencias\",\"peliculas\":\"MCU(Marvel)\",\"comida\":\"Salado\",\"loteria\":\"Hacer caridad\",\"bebida\":\"Agua\",\"b_alcoholica\":\"No tomo\",\"viaje\":\"Estados unidos\",\"musica\":\"Pop en ingles\",\"prioridad_pareja\":\"Madurez\",\"terapia\":\"Vivo con el dolor\",\"nombre\":\"34\"},{\"orientacion\":\"Heterosexual\",\"genero\":\"Hombre\",\"telefono\":1,\"mascota\":\"Perros\",\"signo\":\"Cancer\",\"entretenimiento\":\"Videojuegos\",\"pasatiempo\":\"Exterior(Parques, restaurantes, etc.)\",\"personalidad\":\"Extrovertido\",\"peliculas\":\"Harry potter\",\"comida\":\"Salado\",\"loteria\":\"Hacer fiestas grandes\",\"bebida\":\"Te\",\"b_alcoholica\":\"Vino\",\"viaje\":\"Estados unidos\",\"musica\":\"Rock espa\\\\u00f1ol\\\\/ingles\",\"prioridad_pareja\":\"Fisico\",\"terapia\":\"Como mis penas\",\"nombre\":\"35\"},{\"orientacion\":\"Homosexual\",\"genero\":\"Mujer\",\"telefono\":1,\"mascota\":\"Reptiles\",\"signo\":\"Virgo\",\"entretenimiento\":\"Libros\",\"pasatiempo\":\"Interior(Cines, en casa, etc.)\",\"personalidad\":\"Extrovertido pero timido\",\"peliculas\":\"Distopica juvenil(Juegos del hambre, maze runner, etc)\",\"comida\":\"No tengo preferencia\",\"loteria\":\"Invertirlo\",\"bebida\":\"Soda\",\"b_alcoholica\":\"Cerveza\",\"viaje\":\"Africa\",\"musica\":\"Cumbiones\\\\/Nacional\",\"prioridad_pareja\":\"Dinero\\\\/estatus social\",\"terapia\":\"Entretenimiento(Peliculas, series, musica)\",\"nombre\":\"36\"},{\"orientacion\":\"Heterosexual\",\"genero\":\"Mujer\",\"telefono\":1,\"mascota\":\"Perros\",\"signo\":\"Leo\",\"entretenimiento\":\"Series\",\"pasatiempo\":\"Interior(Cines, en casa, etc.)\",\"personalidad\":\"Extrovertido pero timido\",\"peliculas\":\"Harry potter\",\"comida\":\"Dulces\",\"loteria\":\"Hacer fiestas grandes\",\"bebida\":\"Te\",\"b_alcoholica\":\"Cerveza\",\"viaje\":\"Africa\",\"musica\":\"Alternativa\\\\/Indie\",\"prioridad_pareja\":\"Fisico\",\"terapia\":\"Como mis penas\",\"nombre\":\"37\"},{\"orientacion\":\"Homosexual\",\"genero\":\"Mujer\",\"telefono\":1,\"mascota\":\"Mucha responsabilidad\",\"signo\":\"Cancer\",\"entretenimiento\":\"Peliculas\",\"pasatiempo\":\"Interior(Cines, en casa, etc.)\",\"personalidad\":\"Extrovertido\",\"peliculas\":\"Star wars\",\"comida\":\"No tengo preferencia\",\"loteria\":\"Hacer fiestas grandes\",\"bebida\":\"Jugos de fruta\",\"b_alcoholica\":\"Vino\",\"viaje\":\"El caribe\",\"musica\":\"Cumbiones\\\\/Nacional\",\"prioridad_pareja\":\"Fisico\",\"terapia\":\"Entretenimiento(Peliculas, series, musica)\",\"nombre\":\"38\"},{\"orientacion\":\"Homosexual\",\"genero\":\"Mujer\",\"telefono\":1,\"mascota\":\"Mucha responsabilidad\",\"signo\":\"Geminis\",\"entretenimiento\":\"Videojuegos\",\"pasatiempo\":\"Interior(Cines, en casa, etc.)\",\"personalidad\":\"Extrovertido\",\"peliculas\":\"Star wars\",\"comida\":\"No tengo preferencia\",\"loteria\":\"Viajar por el mundo\",\"bebida\":\"Jugos de fruta\",\"b_alcoholica\":\"Vino\",\"viaje\":\"Estados unidos\",\"musica\":\"Alternativa\\\\/Indie\",\"prioridad_pareja\":\"Limpieza\",\"terapia\":\"Vivo con el dolor\",\"nombre\":\"39\"},{\"orientacion\":\"Heterosexual\",\"genero\":\"Hombre\",\"telefono\":1,\"mascota\":\"Aves\",\"signo\":\"Geminis\",\"entretenimiento\":\"Videojuegos\",\"pasatiempo\":\"Exterior(Parques, restaurantes, etc.)\",\"personalidad\":\"Extrovertido\",\"peliculas\":\"MCU(Marvel)\",\"comida\":\"Salado\",\"loteria\":\"Viajar por el mundo\",\"bebida\":\"Agua\",\"b_alcoholica\":\"Vino\",\"viaje\":\"Asia\",\"musica\":\"Rock espa\\\\u00f1ol\\\\/ingles\",\"prioridad_pareja\":\"Limpieza\",\"terapia\":\"Como mis penas\",\"nombre\":\"40\"},{\"orientacion\":\"Heterosexual\",\"genero\":\"Mujer\",\"telefono\":1,\"mascota\":\"Perros\",\"signo\":\"Libra\",\"entretenimiento\":\"Videojuegos\",\"pasatiempo\":\"Interior(Cines, en casa, etc.)\",\"personalidad\":\"Extrovertido pero timido\",\"peliculas\":\"Harry potter\",\"comida\":\"Dulces\",\"loteria\":\"Invertirlo\",\"bebida\":\"Te\",\"b_alcoholica\":\"Licores dulces(Jagger, 3 plumas, goss cake, etc)\",\"viaje\":\"Africa\",\"musica\":\"Cumbiones\\\\/Nacional\",\"prioridad_pareja\":\"Dinero\\\\/estatus social\",\"terapia\":\"Entretenimiento(Peliculas, series, musica)\",\"nombre\":\"41\"},{\"orientacion\":\"Heterosexual\",\"genero\":\"Mujer\",\"telefono\":1,\"mascota\":\"Perros\",\"signo\":\"Tauro\",\"entretenimiento\":\"Libros\",\"pasatiempo\":\"Interior(Cines, en casa, etc.)\",\"personalidad\":\"Extrovertido\",\"peliculas\":\"Harry potter\",\"comida\":\"Salado\",\"loteria\":\"Viajar por el mundo\",\"bebida\":\"Te\",\"b_alcoholica\":\"Guarapo\",\"viaje\":\"Asia\",\"musica\":\"Alternativa\\\\/Indie\",\"prioridad_pareja\":\"Limpieza\",\"terapia\":\"Como mis penas\",\"nombre\":\"42\"},{\"orientacion\":\"Homosexual\",\"genero\":\"Mujer\",\"telefono\":1,\"mascota\":\"Reptiles\",\"signo\":\"Aries\",\"entretenimiento\":\"Videojuegos\",\"pasatiempo\":\"Interior(Cines, en casa, etc.)\",\"personalidad\":\"Introvertido\",\"peliculas\":\"Distopica juvenil(Juegos del hambre, maze runner, etc)\",\"comida\":\"No tengo preferencia\",\"loteria\":\"Viajar por el mundo\",\"bebida\":\"Soda\",\"b_alcoholica\":\"Guarapo\",\"viaje\":\"Africa\",\"musica\":\"Cumbiones\\\\/Nacional\",\"prioridad_pareja\":\"Limpieza\",\"terapia\":\"Vivo con el dolor\",\"nombre\":\"43\"},{\"orientacion\":\"Heterosexual\",\"genero\":\"Hombre\",\"telefono\":1,\"mascota\":\"Aves\",\"signo\":\"Cancer\",\"entretenimiento\":\"Libros\",\"pasatiempo\":\"Exterior(Parques, restaurantes, etc.)\",\"personalidad\":\"Extrovertido\",\"peliculas\":\"MCU(Marvel)\",\"comida\":\"Salado\",\"loteria\":\"Hacer fiestas grandes\",\"bebida\":\"Agua\",\"b_alcoholica\":\"Vino\",\"viaje\":\"Asia\",\"musica\":\"Rock espa\\\\u00f1ol\\\\/ingles\",\"prioridad_pareja\":\"Fisico\",\"terapia\":\"Vivo con el dolor\",\"nombre\":\"44\"},{\"orientacion\":\"Heterosexual\",\"genero\":\"Hombre\",\"telefono\":1,\"mascota\":\"Perros\",\"signo\":\"Capricornio\",\"entretenimiento\":\"Peliculas\",\"pasatiempo\":\"Exterior(Parques, restaurantes, etc.)\",\"personalidad\":\"Introvertido pero abierto a nuevas experiencias\",\"peliculas\":\"Harry potter\",\"comida\":\"Salado\",\"loteria\":\"Hacer caridad\",\"bebida\":\"Te\",\"b_alcoholica\":\"No tomo\",\"viaje\":\"Africa\",\"musica\":\"Rock espa\\\\u00f1ol\\\\/ingles\",\"prioridad_pareja\":\"Madurez\",\"terapia\":\"Busco alguien para desahogarme\",\"nombre\":\"45\"},{\"orientacion\":\"Heterosexual\",\"genero\":\"Hombre\",\"telefono\":1,\"mascota\":\"Gatos\",\"signo\":\"Escorpio\",\"entretenimiento\":\"Peliculas\",\"pasatiempo\":\"Exterior(Parques, restaurantes, etc.)\",\"personalidad\":\"Introvertido pero abierto a nuevas experiencias\",\"peliculas\":\"Piratas del caribe\",\"comida\":\"Dulces\",\"loteria\":\"Invertirlo\",\"bebida\":\"Cafe\",\"b_alcoholica\":\"Licores dulces(Jagger, 3 plumas, goss cake, etc)\",\"viaje\":\"Estados unidos\",\"musica\":\"Pop latino\\\\/reguet\\\\u00f3n\",\"prioridad_pareja\":\"Dinero\\\\/estatus social\",\"terapia\":\"Entretenimiento(Peliculas, series, musica)\",\"nombre\":\"46\"},{\"orientacion\":\"Heterosexual\",\"genero\":\"Mujer\",\"telefono\":1,\"mascota\":\"Aves\",\"signo\":\"Leo\",\"entretenimiento\":\"Peliculas\",\"pasatiempo\":\"Interior(Cines, en casa, etc.)\",\"personalidad\":\"Extrovertido pero timido\",\"peliculas\":\"MCU(Marvel)\",\"comida\":\"Ambos juntos\",\"loteria\":\"Hacer fiestas grandes\",\"bebida\":\"Agua\",\"b_alcoholica\":\"Cerveza\",\"viaje\":\"Estados unidos\",\"musica\":\"Alternativa\\\\/Indie\",\"prioridad_pareja\":\"Fisico\",\"terapia\":\"Ejercicio\",\"nombre\":\"47\"},{\"orientacion\":\"Heterosexual\",\"genero\":\"Mujer\",\"telefono\":1,\"mascota\":\"Gatos\",\"signo\":\"Escorpio\",\"entretenimiento\":\"Series\",\"pasatiempo\":\"Interior(Cines, en casa, etc.)\",\"personalidad\":\"Introvertido pero abierto a nuevas experiencias\",\"peliculas\":\"Piratas del caribe\",\"comida\":\"Dulces\",\"loteria\":\"Invertirlo\",\"bebida\":\"Cafe\",\"b_alcoholica\":\"Licores dulces(Jagger, 3 plumas, goss cake, etc)\",\"viaje\":\"Estados unidos\",\"musica\":\"Pop en ingles\",\"prioridad_pareja\":\"Dinero\\\\/estatus social\",\"terapia\":\"Entretenimiento(Peliculas, series, musica)\",\"nombre\":\"48\"},{\"orientacion\":\"Heterosexual\",\"genero\":\"Mujer\",\"telefono\":1,\"mascota\":\"Aves\",\"signo\":\"Acuario\",\"entretenimiento\":\"Series\",\"pasatiempo\":\"Interior(Cines, en casa, etc.)\",\"personalidad\":\"Introvertido\",\"peliculas\":\"MCU(Marvel)\",\"comida\":\"Salado\",\"loteria\":\"Gastarlo en familia y en ti\",\"bebida\":\"Agua\",\"b_alcoholica\":\"(Ron, vodka, Tequila, singani) y sus cocteles\",\"viaje\":\"Europa\",\"musica\":\"Alternativa\\\\/Indie\",\"prioridad_pareja\":\"Sentido del humor\",\"terapia\":\"Entretenimiento(Peliculas, series, musica)\",\"nombre\":\"49\"},{\"orientacion\":\"Heterosexual\",\"genero\":\"Mujer\",\"telefono\":1,\"mascota\":\"Aves\",\"signo\":\"Capricornio\",\"entretenimiento\":\"Peliculas\",\"pasatiempo\":\"Interior(Cines, en casa, etc.)\",\"personalidad\":\"Introvertido pero abierto a nuevas experiencias\",\"peliculas\":\"MCU(Marvel)\",\"comida\":\"Ambos juntos\",\"loteria\":\"Hacer caridad\",\"bebida\":\"Agua\",\"b_alcoholica\":\"No tomo\",\"viaje\":\"Europa\",\"musica\":\"Alternativa\\\\/Indie\",\"prioridad_pareja\":\"Madurez\",\"terapia\":\"Busco alguien para desahogarme\",\"nombre\":\"50\"},{\"orientacion\":\"Heterosexual\",\"genero\":\"Hombre\",\"telefono\":1,\"mascota\":\"Gatos\",\"signo\":\"Leo\",\"entretenimiento\":\"Libros\",\"pasatiempo\":\"Exterior(Parques, restaurantes, etc.)\",\"personalidad\":\"Extrovertido pero timido\",\"peliculas\":\"Piratas del caribe\",\"comida\":\"Dulces\",\"loteria\":\"Hacer fiestas grandes\",\"bebida\":\"Cafe\",\"b_alcoholica\":\"Cerveza\",\"viaje\":\"Estados unidos\",\"musica\":\"Pop latino\\\\/reguet\\\\u00f3n\",\"prioridad_pareja\":\"Fisico\",\"terapia\":\"Ejercicio\",\"nombre\":\"51\"},{\"orientacion\":\"Homosexual\",\"genero\":\"Mujer\",\"telefono\":1,\"mascota\":\"Mucha responsabilidad\",\"signo\":\"Libra\",\"entretenimiento\":\"Peliculas\",\"pasatiempo\":\"Interior(Cines, en casa, etc.)\",\"personalidad\":\"Extrovertido pero timido\",\"peliculas\":\"Star wars\",\"comida\":\"No tengo preferencia\",\"loteria\":\"Invertirlo\",\"bebida\":\"Jugos de fruta\",\"b_alcoholica\":\"Licores dulces(Jagger, 3 plumas, goss cake, etc)\",\"viaje\":\"Africa\",\"musica\":\"Pop en ingles\",\"prioridad_pareja\":\"Dinero\\\\/estatus social\",\"terapia\":\"Busco alguien para desahogarme\",\"nombre\":\"52\"},{\"orientacion\":\"Bisexual\",\"genero\":\"Hombre\",\"telefono\":1,\"mascota\":\"Reptiles\",\"signo\":\"Piscis\",\"entretenimiento\":\"Videojuegos\",\"pasatiempo\":\"Exterior(Parques, restaurantes, etc.)\",\"personalidad\":\"Introvertido\",\"peliculas\":\"Distopica juvenil(Juegos del hambre, maze runner, etc)\",\"comida\":\"Ambos juntos\",\"loteria\":\"Gastarlo en familia y en ti\",\"bebida\":\"Soda\",\"b_alcoholica\":\"(Ron, vodka, Tequila, singani) y sus cocteles\",\"viaje\":\"Estados unidos\",\"musica\":\"Pop latino\\\\/reguet\\\\u00f3n\",\"prioridad_pareja\":\"Sentido del humor\",\"terapia\":\"Entretenimiento(Peliculas, series, musica)\",\"nombre\":\"53\"},{\"orientacion\":\"Bisexual\",\"genero\":\"Mujer\",\"telefono\":1,\"mascota\":\"Reptiles\",\"signo\":\"Leo\",\"entretenimiento\":\"Libros\",\"pasatiempo\":\"Interior(Cines, en casa, etc.)\",\"personalidad\":\"Extrovertido pero timido\",\"peliculas\":\"Distopica juvenil(Juegos del hambre, maze runner, etc)\",\"comida\":\"Ambos juntos\",\"loteria\":\"Hacer fiestas grandes\",\"bebida\":\"Soda\",\"b_alcoholica\":\"Cerveza\",\"viaje\":\"Asia\",\"musica\":\"Alternativa\\\\/Indie\",\"prioridad_pareja\":\"Fisico\",\"terapia\":\"Ejercicio\",\"nombre\":\"54\"},{\"orientacion\":\"Heterosexual\",\"genero\":\"Hombre\",\"telefono\":1,\"mascota\":\"Perros\",\"signo\":\"Virgo\",\"entretenimiento\":\"Series\",\"pasatiempo\":\"Exterior(Parques, restaurantes, etc.)\",\"personalidad\":\"Extrovertido pero timido\",\"peliculas\":\"Harry potter\",\"comida\":\"Salado\",\"loteria\":\"Hacer fiestas grandes\",\"bebida\":\"Te\",\"b_alcoholica\":\"Cerveza\",\"viaje\":\"Africa\",\"musica\":\"Pop en ingles\",\"prioridad_pareja\":\"Fisico\",\"terapia\":\"Vivo con el dolor\",\"nombre\":\"55\"},{\"orientacion\":\"Homosexual\",\"genero\":\"Hombre\",\"telefono\":1,\"mascota\":\"Mucha responsabilidad\",\"signo\":\"Capricornio\",\"entretenimiento\":\"Videojuegos\",\"pasatiempo\":\"Exterior(Parques, restaurantes, etc.)\",\"personalidad\":\"Introvertido pero abierto a nuevas experiencias\",\"peliculas\":\"Star wars\",\"comida\":\"No tengo preferencia\",\"loteria\":\"Hacer caridad\",\"bebida\":\"Jugos de fruta\",\"b_alcoholica\":\"No tomo\",\"viaje\":\"El caribe\",\"musica\":\"Rock espa\\\\u00f1ol\\\\/ingles\",\"prioridad_pareja\":\"Madurez\",\"terapia\":\"Vivo con el dolor\",\"nombre\":\"56\"},{\"orientacion\":\"Heterosexual\",\"genero\":\"Hombre\",\"telefono\":1,\"mascota\":\"Gatos\",\"signo\":\"Leo\",\"entretenimiento\":\"Libros\",\"pasatiempo\":\"Exterior(Parques, restaurantes, etc.)\",\"personalidad\":\"Extrovertido pero timido\",\"peliculas\":\"Piratas del caribe\",\"comida\":\"Dulces\",\"loteria\":\"Hacer fiestas grandes\",\"bebida\":\"Cafe\",\"b_alcoholica\":\"Cerveza\",\"viaje\":\"Asia\",\"musica\":\"Rock espa\\\\u00f1ol\\\\/ingles\",\"prioridad_pareja\":\"Fisico\",\"terapia\":\"Como mis penas\",\"nombre\":\"57\"},{\"orientacion\":\"Heterosexual\",\"genero\":\"Mujer\",\"telefono\":1,\"mascota\":\"Perros\",\"signo\":\"Virgo\",\"entretenimiento\":\"Series\",\"pasatiempo\":\"Interior(Cines, en casa, etc.)\",\"personalidad\":\"Extrovertido pero timido\",\"peliculas\":\"Harry potter\",\"comida\":\"Dulces\",\"loteria\":\"Invertirlo\",\"bebida\":\"Te\",\"b_alcoholica\":\"Cerveza\",\"viaje\":\"Europa\",\"musica\":\"Cumbiones\\\\/Nacional\",\"prioridad_pareja\":\"Dinero\\\\/estatus social\",\"terapia\":\"Como mis penas\",\"nombre\":\"58\"},{\"orientacion\":\"Homosexual\",\"genero\":\"Mujer\",\"telefono\":1,\"mascota\":\"Mucha responsabilidad\",\"signo\":\"Escorpio\",\"entretenimiento\":\"Videojuegos\",\"pasatiempo\":\"Interior(Cines, en casa, etc.)\",\"personalidad\":\"Introvertido pero abierto a nuevas experiencias\",\"peliculas\":\"Star wars\",\"comida\":\"No tengo preferencia\",\"loteria\":\"Invertirlo\",\"bebida\":\"Jugos de fruta\",\"b_alcoholica\":\"Licores dulces(Jagger, 3 plumas, goss cake, etc)\",\"viaje\":\"El caribe\",\"musica\":\"Cumbiones\\\\/Nacional\",\"prioridad_pareja\":\"Dinero\\\\/estatus social\",\"terapia\":\"Como mis penas\",\"nombre\":\"59\"},{\"orientacion\":\"Homosexual\",\"genero\":\"Mujer\",\"telefono\":1,\"mascota\":\"Reptiles\",\"signo\":\"Piscis\",\"entretenimiento\":\"Series\",\"pasatiempo\":\"Interior(Cines, en casa, etc.)\",\"personalidad\":\"Introvertido\",\"peliculas\":\"Distopica juvenil(Juegos del hambre, maze runner, etc)\",\"comida\":\"No tengo preferencia\",\"loteria\":\"Gastarlo en familia y en ti\",\"bebida\":\"Soda\",\"b_alcoholica\":\"(Ron, vodka, Tequila, singani) y sus cocteles\",\"viaje\":\"Asia\",\"musica\":\"Cumbiones\\\\/Nacional\",\"prioridad_pareja\":\"Sentido del humor\",\"terapia\":\"Vivo con el dolor\",\"nombre\":\"60\"},{\"orientacion\":\"Heterosexual\",\"genero\":\"Hombre\",\"telefono\":1,\"mascota\":\"Aves\",\"signo\":\"Sagitario\",\"entretenimiento\":\"Videojuegos\",\"pasatiempo\":\"Exterior(Parques, restaurantes, etc.)\",\"personalidad\":\"Introvertido pero abierto a nuevas experiencias\",\"peliculas\":\"MCU(Marvel)\",\"comida\":\"Ambos juntos\",\"loteria\":\"Hacer caridad\",\"bebida\":\"Agua\",\"b_alcoholica\":\"No tomo\",\"viaje\":\"El caribe\",\"musica\":\"Rock espa\\\\u00f1ol\\\\/ingles\",\"prioridad_pareja\":\"Madurez\",\"terapia\":\"Ejercicio\",\"nombre\":\"61\"},{\"orientacion\":\"Heterosexual\",\"genero\":\"Hombre\",\"telefono\":1,\"mascota\":\"Gatos\",\"signo\":\"Piscis\",\"entretenimiento\":\"Series\",\"pasatiempo\":\"Exterior(Parques, restaurantes, etc.)\",\"personalidad\":\"Introvertido\",\"peliculas\":\"Piratas del caribe\",\"comida\":\"Dulces\",\"loteria\":\"Gastarlo en familia y en ti\",\"bebida\":\"Cafe\",\"b_alcoholica\":\"(Ron, vodka, Tequila, singani) y sus cocteles\",\"viaje\":\"Asia\",\"musica\":\"Pop en ingles\",\"prioridad_pareja\":\"Sentido del humor\",\"terapia\":\"Busco alguien para desahogarme\",\"nombre\":\"62\"},{\"orientacion\":\"Bisexual\",\"genero\":\"Hombre\",\"telefono\":1,\"mascota\":\"Reptiles\",\"signo\":\"Sagitario\",\"entretenimiento\":\"Series\",\"pasatiempo\":\"Exterior(Parques, restaurantes, etc.)\",\"personalidad\":\"Introvertido pero abierto a nuevas experiencias\",\"peliculas\":\"Distopica juvenil(Juegos del hambre, maze runner, etc)\",\"comida\":\"Ambos juntos\",\"loteria\":\"Hacer caridad\",\"bebida\":\"Soda\",\"b_alcoholica\":\"No tomo\",\"viaje\":\"El caribe\",\"musica\":\"Pop latino\\\\/reguet\\\\u00f3n\",\"prioridad_pareja\":\"Madurez\",\"terapia\":\"Vivo con el dolor\",\"nombre\":\"63\"},{\"orientacion\":\"Heterosexual\",\"genero\":\"Hombre\",\"telefono\":1,\"mascota\":\"Perros\",\"signo\":\"Aries\",\"entretenimiento\":\"Libros\",\"pasatiempo\":\"Exterior(Parques, restaurantes, etc.)\",\"personalidad\":\"Introvertido\",\"peliculas\":\"Harry potter\",\"comida\":\"Salado\",\"loteria\":\"Gastarlo en familia y en ti\",\"bebida\":\"Te\",\"b_alcoholica\":\"Guarapo\",\"viaje\":\"El caribe\",\"musica\":\"Rock espa\\\\u00f1ol\\\\/ingles\",\"prioridad_pareja\":\"Sentido del humor\",\"terapia\":\"Vivo con el dolor\",\"nombre\":\"64\"},{\"orientacion\":\"Bisexual\",\"genero\":\"Hombre\",\"telefono\":1,\"mascota\":\"Reptiles\",\"signo\":\"Aries\",\"entretenimiento\":\"Libros\",\"pasatiempo\":\"Exterior(Parques, restaurantes, etc.)\",\"personalidad\":\"Introvertido\",\"peliculas\":\"Distopica juvenil(Juegos del hambre, maze runner, etc)\",\"comida\":\"Ambos juntos\",\"loteria\":\"Viajar por el mundo\",\"bebida\":\"Soda\",\"b_alcoholica\":\"Guarapo\",\"viaje\":\"Africa\",\"musica\":\"Rock espa\\\\u00f1ol\\\\/ingles\",\"prioridad_pareja\":\"Limpieza\",\"terapia\":\"Como mis penas\",\"nombre\":\"65\"},{\"orientacion\":\"Heterosexual\",\"genero\":\"Mujer\",\"telefono\":1,\"mascota\":\"Aves\",\"signo\":\"Tauro\",\"entretenimiento\":\"Libros\",\"pasatiempo\":\"Interior(Cines, en casa, etc.)\",\"personalidad\":\"Extrovertido\",\"peliculas\":\"MCU(Marvel)\",\"comida\":\"Ambos juntos\",\"loteria\":\"Viajar por el mundo\",\"bebida\":\"Agua\",\"b_alcoholica\":\"Guarapo\",\"viaje\":\"Europa\",\"musica\":\"Cumbiones\\\\/Nacional\",\"prioridad_pareja\":\"Limpieza\",\"terapia\":\"Como mis penas\",\"nombre\":\"66\"},{\"orientacion\":\"Heterosexual\",\"genero\":\"Mujer\",\"telefono\":1,\"mascota\":\"Aves\",\"signo\":\"Cancer\",\"entretenimiento\":\"Peliculas\",\"pasatiempo\":\"Interior(Cines, en casa, etc.)\",\"personalidad\":\"Extrovertido\",\"peliculas\":\"MCU(Marvel)\",\"comida\":\"Ambos juntos\",\"loteria\":\"Hacer fiestas grandes\",\"bebida\":\"Agua\",\"b_alcoholica\":\"Vino\",\"viaje\":\"Africa\",\"musica\":\"Cumbiones\\\\/Nacional\",\"prioridad_pareja\":\"Fisico\",\"terapia\":\"Como mis penas\",\"nombre\":\"67\"},{\"orientacion\":\"Heterosexual\",\"genero\":\"Mujer\",\"telefono\":1,\"mascota\":\"Aves\",\"signo\":\"Escorpio\",\"entretenimiento\":\"Videojuegos\",\"pasatiempo\":\"Interior(Cines, en casa, etc.)\",\"personalidad\":\"Introvertido pero abierto a nuevas experiencias\",\"peliculas\":\"MCU(Marvel)\",\"comida\":\"Ambos juntos\",\"loteria\":\"Hacer caridad\",\"bebida\":\"Agua\",\"b_alcoholica\":\"Licores dulces(Jagger, 3 plumas, goss cake, etc)\",\"viaje\":\"Estados unidos\",\"musica\":\"Cumbiones\\\\/Nacional\",\"prioridad_pareja\":\"Madurez\",\"terapia\":\"Vivo con el dolor\",\"nombre\":\"68\"},{\"orientacion\":\"Heterosexual\",\"genero\":\"Hombre\",\"telefono\":1,\"mascota\":\"Gatos\",\"signo\":\"Aries\",\"entretenimiento\":\"Videojuegos\",\"pasatiempo\":\"Exterior(Parques, restaurantes, etc.)\",\"personalidad\":\"Introvertido\",\"peliculas\":\"Piratas del caribe\",\"comida\":\"Dulces\",\"loteria\":\"Gastarlo en familia y en ti\",\"bebida\":\"Cafe\",\"b_alcoholica\":\"Guarapo\",\"viaje\":\"Asia\",\"musica\":\"Rock espa\\\\u00f1ol\\\\/ingles\",\"prioridad_pareja\":\"Sentido del humor\",\"terapia\":\"Vivo con el dolor\",\"nombre\":\"69\"},{\"orientacion\":\"Bisexual\",\"genero\":\"Hombre\",\"telefono\":1,\"mascota\":\"Reptiles\",\"signo\":\"Sagitario\",\"entretenimiento\":\"Libros\",\"pasatiempo\":\"Exterior(Parques, restaurantes, etc.)\",\"personalidad\":\"Introvertido pero abierto a nuevas experiencias\",\"peliculas\":\"Distopica juvenil(Juegos del hambre, maze runner, etc)\",\"comida\":\"Ambos juntos\",\"loteria\":\"Hacer caridad\",\"bebida\":\"Soda\",\"b_alcoholica\":\"No tomo\",\"viaje\":\"Asia\",\"musica\":\"Rock espa\\\\u00f1ol\\\\/ingles\",\"prioridad_pareja\":\"Madurez\",\"terapia\":\"Busco alguien para desahogarme\",\"nombre\":\"70\"},{\"orientacion\":\"Homosexual\",\"genero\":\"Hombre\",\"telefono\":1,\"mascota\":\"Mucha responsabilidad\",\"signo\":\"Tauro\",\"entretenimiento\":\"Series\",\"pasatiempo\":\"Exterior(Parques, restaurantes, etc.)\",\"personalidad\":\"Extrovertido\",\"peliculas\":\"Star wars\",\"comida\":\"No tengo preferencia\",\"loteria\":\"Viajar por el mundo\",\"bebida\":\"Jugos de fruta\",\"b_alcoholica\":\"Guarapo\",\"viaje\":\"Africa\",\"musica\":\"Pop latino\\\\/reguet\\\\u00f3n\",\"prioridad_pareja\":\"Limpieza\",\"terapia\":\"Como mis penas\",\"nombre\":\"71\"},{\"orientacion\":\"Heterosexual\",\"genero\":\"Mujer\",\"telefono\":1,\"mascota\":\"Gatos\",\"signo\":\"Acuario\",\"entretenimiento\":\"Series\",\"pasatiempo\":\"Interior(Cines, en casa, etc.)\",\"personalidad\":\"Introvertido\",\"peliculas\":\"Piratas del caribe\",\"comida\":\"Dulces\",\"loteria\":\"Gastarlo en familia y en ti\",\"bebida\":\"Cafe\",\"b_alcoholica\":\"(Ron, vodka, Tequila, singani) y sus cocteles\",\"viaje\":\"El caribe\",\"musica\":\"Cumbiones\\\\/Nacional\",\"prioridad_pareja\":\"Sentido del humor\",\"terapia\":\"Entretenimiento(Peliculas, series, musica)\",\"nombre\":\"72\"},{\"orientacion\":\"Heterosexual\",\"genero\":\"Mujer\",\"telefono\":1,\"mascota\":\"Aves\",\"signo\":\"Sagitario\",\"entretenimiento\":\"Peliculas\",\"pasatiempo\":\"Interior(Cines, en casa, etc.)\",\"personalidad\":\"Introvertido pero abierto a nuevas experiencias\",\"peliculas\":\"MCU(Marvel)\",\"comida\":\"Salado\",\"loteria\":\"Hacer caridad\",\"bebida\":\"Agua\",\"b_alcoholica\":\"No tomo\",\"viaje\":\"El caribe\",\"musica\":\"Alternativa\\\\/Indie\",\"prioridad_pareja\":\"Madurez\",\"terapia\":\"Busco alguien para desahogarme\",\"nombre\":\"73\"},{\"orientacion\":\"Heterosexual\",\"genero\":\"Hombre\",\"telefono\":1,\"mascota\":\"Perros\",\"signo\":\"Leo\",\"entretenimiento\":\"Libros\",\"pasatiempo\":\"Exterior(Parques, restaurantes, etc.)\",\"personalidad\":\"Extrovertido pero timido\",\"peliculas\":\"Harry potter\",\"comida\":\"Salado\",\"loteria\":\"Hacer fiestas grandes\",\"bebida\":\"Te\",\"b_alcoholica\":\"Cerveza\",\"viaje\":\"Estados unidos\",\"musica\":\"Pop latino\\\\/reguet\\\\u00f3n\",\"prioridad_pareja\":\"Fisico\",\"terapia\":\"Busco alguien para desahogarme\",\"nombre\":\"74\"},{\"orientacion\":\"Heterosexual\",\"genero\":\"Hombre\",\"telefono\":1,\"mascota\":\"Perros\",\"signo\":\"Aries\",\"entretenimiento\":\"Libros\",\"pasatiempo\":\"Exterior(Parques, restaurantes, etc.)\",\"personalidad\":\"Introvertido\",\"peliculas\":\"Harry potter\",\"comida\":\"Dulces\",\"loteria\":\"Gastarlo en familia y en ti\",\"bebida\":\"Te\",\"b_alcoholica\":\"Guarapo\",\"viaje\":\"Africa\",\"musica\":\"Pop latino\\\\/reguet\\\\u00f3n\",\"prioridad_pareja\":\"Sentido del humor\",\"terapia\":\"Como mis penas\",\"nombre\":\"75\"},{\"orientacion\":\"Heterosexual\",\"genero\":\"Mujer\",\"telefono\":1,\"mascota\":\"Gatos\",\"signo\":\"Leo\",\"entretenimiento\":\"Videojuegos\",\"pasatiempo\":\"Interior(Cines, en casa, etc.)\",\"personalidad\":\"Extrovertido pero timido\",\"peliculas\":\"Piratas del caribe\",\"comida\":\"Dulces\",\"loteria\":\"Hacer fiestas grandes\",\"bebida\":\"Cafe\",\"b_alcoholica\":\"Cerveza\",\"viaje\":\"Africa\",\"musica\":\"Cumbiones\\\\/Nacional\",\"prioridad_pareja\":\"Fisico\",\"terapia\":\"Busco alguien para desahogarme\",\"nombre\":\"76\"},{\"orientacion\":\"Heterosexual\",\"genero\":\"Hombre\",\"telefono\":1,\"mascota\":\"Perros\",\"signo\":\"Virgo\",\"entretenimiento\":\"Videojuegos\",\"pasatiempo\":\"Exterior(Parques, restaurantes, etc.)\",\"personalidad\":\"Extrovertido pero timido\",\"peliculas\":\"Harry potter\",\"comida\":\"Salado\",\"loteria\":\"Invertirlo\",\"bebida\":\"Te\",\"b_alcoholica\":\"Cerveza\",\"viaje\":\"Asia\",\"musica\":\"Pop latino\\\\/reguet\\\\u00f3n\",\"prioridad_pareja\":\"Dinero\\\\/estatus social\",\"terapia\":\"Vivo con el dolor\",\"nombre\":\"77\"},{\"orientacion\":\"Homosexual\",\"genero\":\"Hombre\",\"telefono\":1,\"mascota\":\"Mucha responsabilidad\",\"signo\":\"Sagitario\",\"entretenimiento\":\"Series\",\"pasatiempo\":\"Exterior(Parques, restaurantes, etc.)\",\"personalidad\":\"Introvertido pero abierto a nuevas experiencias\",\"peliculas\":\"Star wars\",\"comida\":\"No tengo preferencia\",\"loteria\":\"Hacer caridad\",\"bebida\":\"Jugos de fruta\",\"b_alcoholica\":\"No tomo\",\"viaje\":\"Asia\",\"musica\":\"Rock espa\\\\u00f1ol\\\\/ingles\",\"prioridad_pareja\":\"Madurez\",\"terapia\":\"Como mis penas\",\"nombre\":\"78\"},{\"orientacion\":\"Heterosexual\",\"genero\":\"Mujer\",\"telefono\":1,\"mascota\":\"Perros\",\"signo\":\"Sagitario\",\"entretenimiento\":\"Series\",\"pasatiempo\":\"Interior(Cines, en casa, etc.)\",\"personalidad\":\"Introvertido pero abierto a nuevas experiencias\",\"peliculas\":\"Harry potter\",\"comida\":\"Salado\",\"loteria\":\"Hacer caridad\",\"bebida\":\"Te\",\"b_alcoholica\":\"No tomo\",\"viaje\":\"Europa\",\"musica\":\"Cumbiones\\\\/Nacional\",\"prioridad_pareja\":\"Madurez\",\"terapia\":\"Como mis penas\",\"nombre\":\"79\"},{\"orientacion\":\"Heterosexual\",\"genero\":\"Mujer\",\"telefono\":1,\"mascota\":\"Aves\",\"signo\":\"Capricornio\",\"entretenimiento\":\"Series\",\"pasatiempo\":\"Interior(Cines, en casa, etc.)\",\"personalidad\":\"Introvertido pero abierto a nuevas experiencias\",\"peliculas\":\"MCU(Marvel)\",\"comida\":\"Salado\",\"loteria\":\"Hacer caridad\",\"bebida\":\"Agua\",\"b_alcoholica\":\"No tomo\",\"viaje\":\"El caribe\",\"musica\":\"Cumbiones\\\\/Nacional\",\"prioridad_pareja\":\"Madurez\",\"terapia\":\"Busco alguien para desahogarme\",\"nombre\":\"80\"},{\"orientacion\":\"Homosexual\",\"genero\":\"Hombre\",\"telefono\":1,\"mascota\":\"Mucha responsabilidad\",\"signo\":\"Cancer\",\"entretenimiento\":\"Peliculas\",\"pasatiempo\":\"Exterior(Parques, restaurantes, etc.)\",\"personalidad\":\"Extrovertido\",\"peliculas\":\"Star wars\",\"comida\":\"No tengo preferencia\",\"loteria\":\"Hacer fiestas grandes\",\"bebida\":\"Jugos de fruta\",\"b_alcoholica\":\"Vino\",\"viaje\":\"El caribe\",\"musica\":\"Pop latino\\\\/reguet\\\\u00f3n\",\"prioridad_pareja\":\"Fisico\",\"terapia\":\"Ejercicio\",\"nombre\":\"81\"},{\"orientacion\":\"Heterosexual\",\"genero\":\"Mujer\",\"telefono\":1,\"mascota\":\"Gatos\",\"signo\":\"Leo\",\"entretenimiento\":\"Libros\",\"pasatiempo\":\"Interior(Cines, en casa, etc.)\",\"personalidad\":\"Extrovertido pero timido\",\"peliculas\":\"Piratas del caribe\",\"comida\":\"Dulces\",\"loteria\":\"Hacer fiestas grandes\",\"bebida\":\"Cafe\",\"b_alcoholica\":\"Cerveza\",\"viaje\":\"Estados unidos\",\"musica\":\"Pop en ingles\",\"prioridad_pareja\":\"Fisico\",\"terapia\":\"Como mis penas\",\"nombre\":\"82\"},{\"orientacion\":\"Bisexual\",\"genero\":\"Mujer\",\"telefono\":1,\"mascota\":\"Reptiles\",\"signo\":\"Tauro\",\"entretenimiento\":\"Peliculas\",\"pasatiempo\":\"Interior(Cines, en casa, etc.)\",\"personalidad\":\"Extrovertido\",\"peliculas\":\"Distopica juvenil(Juegos del hambre, maze runner, etc)\",\"comida\":\"Ambos juntos\",\"loteria\":\"Viajar por el mundo\",\"bebida\":\"Soda\",\"b_alcoholica\":\"Guarapo\",\"viaje\":\"Europa\",\"musica\":\"Cumbiones\\\\/Nacional\",\"prioridad_pareja\":\"Limpieza\",\"terapia\":\"Como mis penas\",\"nombre\":\"83\"},{\"orientacion\":\"Homosexual\",\"genero\":\"Mujer\",\"telefono\":1,\"mascota\":\"Reptiles\",\"signo\":\"Tauro\",\"entretenimiento\":\"Peliculas\",\"pasatiempo\":\"Interior(Cines, en casa, etc.)\",\"personalidad\":\"Extrovertido\",\"peliculas\":\"Distopica juvenil(Juegos del hambre, maze runner, etc)\",\"comida\":\"No tengo preferencia\",\"loteria\":\"Viajar por el mundo\",\"bebida\":\"Soda\",\"b_alcoholica\":\"Guarapo\",\"viaje\":\"Estados unidos\",\"musica\":\"Cumbiones\\\\/Nacional\",\"prioridad_pareja\":\"Limpieza\",\"terapia\":\"Busco alguien para desahogarme\",\"nombre\":\"84\"},{\"orientacion\":\"Bisexual\",\"genero\":\"Hombre\",\"telefono\":1,\"mascota\":\"Reptiles\",\"signo\":\"Tauro\",\"entretenimiento\":\"Series\",\"pasatiempo\":\"Exterior(Parques, restaurantes, etc.)\",\"personalidad\":\"Extrovertido\",\"peliculas\":\"Distopica juvenil(Juegos del hambre, maze runner, etc)\",\"comida\":\"Ambos juntos\",\"loteria\":\"Viajar por el mundo\",\"bebida\":\"Soda\",\"b_alcoholica\":\"Guarapo\",\"viaje\":\"Estados unidos\",\"musica\":\"Pop latino\\\\/reguet\\\\u00f3n\",\"prioridad_pareja\":\"Limpieza\",\"terapia\":\"Vivo con el dolor\",\"nombre\":\"85\"},{\"orientacion\":\"Heterosexual\",\"genero\":\"Hombre\",\"telefono\":1,\"mascota\":\"Aves\",\"signo\":\"Tauro\",\"entretenimiento\":\"Series\",\"pasatiempo\":\"Exterior(Parques, restaurantes, etc.)\",\"personalidad\":\"Extrovertido\",\"peliculas\":\"MCU(Marvel)\",\"comida\":\"Ambos juntos\",\"loteria\":\"Viajar por el mundo\",\"bebida\":\"Agua\",\"b_alcoholica\":\"Guarapo\",\"viaje\":\"Europa\",\"musica\":\"Rock espa\\\\u00f1ol\\\\/ingles\",\"prioridad_pareja\":\"Limpieza\",\"terapia\":\"Entretenimiento(Peliculas, series, musica)\",\"nombre\":\"86\"},{\"orientacion\":\"Homosexual\",\"genero\":\"Mujer\",\"telefono\":1,\"mascota\":\"Mucha responsabilidad\",\"signo\":\"Libra\",\"entretenimiento\":\"Videojuegos\",\"pasatiempo\":\"Interior(Cines, en casa, etc.)\",\"personalidad\":\"Extrovertido pero timido\",\"peliculas\":\"Star wars\",\"comida\":\"No tengo preferencia\",\"loteria\":\"Invertirlo\",\"bebida\":\"Jugos de fruta\",\"b_alcoholica\":\"Licores dulces(Jagger, 3 plumas, goss cake, etc)\",\"viaje\":\"El caribe\",\"musica\":\"Alternativa\\\\/Indie\",\"prioridad_pareja\":\"Dinero\\\\/estatus social\",\"terapia\":\"Busco alguien para desahogarme\",\"nombre\":\"87\"},{\"orientacion\":\"Heterosexual\",\"genero\":\"Hombre\",\"telefono\":1,\"mascota\":\"Perros\",\"signo\":\"Cancer\",\"entretenimiento\":\"Videojuegos\",\"pasatiempo\":\"Exterior(Parques, restaurantes, etc.)\",\"personalidad\":\"Extrovertido\",\"peliculas\":\"Harry potter\",\"comida\":\"Salado\",\"loteria\":\"Hacer fiestas grandes\",\"bebida\":\"Te\",\"b_alcoholica\":\"Vino\",\"viaje\":\"Asia\",\"musica\":\"Pop latino\\\\/reguet\\\\u00f3n\",\"prioridad_pareja\":\"Fisico\",\"terapia\":\"Entretenimiento(Peliculas, series, musica)\",\"nombre\":\"88\"},{\"orientacion\":\"Heterosexual\",\"genero\":\"Mujer\",\"telefono\":1,\"mascota\":\"Aves\",\"signo\":\"Geminis\",\"entretenimiento\":\"Videojuegos\",\"pasatiempo\":\"Interior(Cines, en casa, etc.)\",\"personalidad\":\"Extrovertido\",\"peliculas\":\"MCU(Marvel)\",\"comida\":\"Ambos juntos\",\"loteria\":\"Viajar por el mundo\",\"bebida\":\"Agua\",\"b_alcoholica\":\"Vino\",\"viaje\":\"Asia\",\"musica\":\"Alternativa\\\\/Indie\",\"prioridad_pareja\":\"Limpieza\",\"terapia\":\"Como mis penas\",\"nombre\":\"89\"},{\"orientacion\":\"Heterosexual\",\"genero\":\"Mujer\",\"telefono\":1,\"mascota\":\"Perros\",\"signo\":\"Sagitario\",\"entretenimiento\":\"Series\",\"pasatiempo\":\"Interior(Cines, en casa, etc.)\",\"personalidad\":\"Introvertido pero abierto a nuevas experiencias\",\"peliculas\":\"Harry potter\",\"comida\":\"Salado\",\"loteria\":\"Hacer caridad\",\"bebida\":\"Te\",\"b_alcoholica\":\"No tomo\",\"viaje\":\"Asia\",\"musica\":\"Cumbiones\\\\/Nacional\",\"prioridad_pareja\":\"Madurez\",\"terapia\":\"Vivo con el dolor\",\"nombre\":\"90\"},{\"orientacion\":\"Heterosexual\",\"genero\":\"Hombre\",\"telefono\":1,\"mascota\":\"Perros\",\"signo\":\"Virgo\",\"entretenimiento\":\"Videojuegos\",\"pasatiempo\":\"Exterior(Parques, restaurantes, etc.)\",\"personalidad\":\"Extrovertido pero timido\",\"peliculas\":\"Harry potter\",\"comida\":\"Salado\",\"loteria\":\"Hacer fiestas grandes\",\"bebida\":\"Te\",\"b_alcoholica\":\"Cerveza\",\"viaje\":\"El caribe\",\"musica\":\"Rock espa\\\\u00f1ol\\\\/ingles\",\"prioridad_pareja\":\"Fisico\",\"terapia\":\"Como mis penas\",\"nombre\":\"91\"},{\"orientacion\":\"Heterosexual\",\"genero\":\"Mujer\",\"telefono\":1,\"mascota\":\"Aves\",\"signo\":\"Capricornio\",\"entretenimiento\":\"Peliculas\",\"pasatiempo\":\"Interior(Cines, en casa, etc.)\",\"personalidad\":\"Introvertido pero abierto a nuevas experiencias\",\"peliculas\":\"MCU(Marvel)\",\"comida\":\"Ambos juntos\",\"loteria\":\"Hacer caridad\",\"bebida\":\"Agua\",\"b_alcoholica\":\"No tomo\",\"viaje\":\"Asia\",\"musica\":\"Cumbiones\\\\/Nacional\",\"prioridad_pareja\":\"Madurez\",\"terapia\":\"Busco alguien para desahogarme\",\"nombre\":\"92\"},{\"orientacion\":\"Homosexual\",\"genero\":\"Hombre\",\"telefono\":1,\"mascota\":\"Mucha responsabilidad\",\"signo\":\"Virgo\",\"entretenimiento\":\"Peliculas\",\"pasatiempo\":\"Exterior(Parques, restaurantes, etc.)\",\"personalidad\":\"Extrovertido pero timido\",\"peliculas\":\"Star wars\",\"comida\":\"No tengo preferencia\",\"loteria\":\"Invertirlo\",\"bebida\":\"Jugos de fruta\",\"b_alcoholica\":\"Cerveza\",\"viaje\":\"Estados unidos\",\"musica\":\"Pop latino\\\\/reguet\\\\u00f3n\",\"prioridad_pareja\":\"Dinero\\\\/estatus social\",\"terapia\":\"Como mis penas\",\"nombre\":\"93\"},{\"orientacion\":\"Heterosexual\",\"genero\":\"Mujer\",\"telefono\":1,\"mascota\":\"Perros\",\"signo\":\"Escorpio\",\"entretenimiento\":\"Videojuegos\",\"pasatiempo\":\"Interior(Cines, en casa, etc.)\",\"personalidad\":\"Introvertido pero abierto a nuevas experiencias\",\"peliculas\":\"Harry potter\",\"comida\":\"Dulces\",\"loteria\":\"Hacer caridad\",\"bebida\":\"Te\",\"b_alcoholica\":\"Licores dulces(Jagger, 3 plumas, goss cake, etc)\",\"viaje\":\"El caribe\",\"musica\":\"Cumbiones\\\\/Nacional\",\"prioridad_pareja\":\"Madurez\",\"terapia\":\"Ejercicio\",\"nombre\":\"94\"},{\"orientacion\":\"Heterosexual\",\"genero\":\"Hombre\",\"telefono\":1,\"mascota\":\"Gatos\",\"signo\":\"Capricornio\",\"entretenimiento\":\"Videojuegos\",\"pasatiempo\":\"Exterior(Parques, restaurantes, etc.)\",\"personalidad\":\"Introvertido pero abierto a nuevas experiencias\",\"peliculas\":\"Piratas del caribe\",\"comida\":\"Dulces\",\"loteria\":\"Hacer caridad\",\"bebida\":\"Cafe\",\"b_alcoholica\":\"No tomo\",\"viaje\":\"Asia\",\"musica\":\"Pop en ingles\",\"prioridad_pareja\":\"Madurez\",\"terapia\":\"Vivo con el dolor\",\"nombre\":\"95\"},{\"orientacion\":\"Heterosexual\",\"genero\":\"Hombre\",\"telefono\":1,\"mascota\":\"Perros\",\"signo\":\"Tauro\",\"entretenimiento\":\"Peliculas\",\"pasatiempo\":\"Exterior(Parques, restaurantes, etc.)\",\"personalidad\":\"Extrovertido\",\"peliculas\":\"Harry potter\",\"comida\":\"Dulces\",\"loteria\":\"Viajar por el mundo\",\"bebida\":\"Te\",\"b_alcoholica\":\"Guarapo\",\"viaje\":\"Asia\",\"musica\":\"Rock espa\\\\u00f1ol\\\\/ingles\",\"prioridad_pareja\":\"Limpieza\",\"terapia\":\"Vivo con el dolor\",\"nombre\":\"96\"}]'"
            ],
            "application/vnd.google.colaboratory.intrinsic+json": {
              "type": "string"
            }
          },
          "metadata": {},
          "execution_count": 62
        }
      ],
      "source": [
        "myjson"
      ]
    },
    {
      "cell_type": "code",
      "execution_count": null,
      "metadata": {
        "id": "BOZnGhBs16YE"
      },
      "outputs": [],
      "source": [
        "#paid_users"
      ]
    },
    {
      "cell_type": "code",
      "execution_count": null,
      "metadata": {
        "id": "OWP5q-J448Sg"
      },
      "outputs": [],
      "source": [
        "#for index, row in paid_users.iterrows():\n",
        "  #print(row)"
      ]
    },
    {
      "cell_type": "code",
      "execution_count": null,
      "metadata": {
        "id": "YuztU7gE5_Oz"
      },
      "outputs": [],
      "source": [
        "json_data = [] # your list with json objects (dicts)\n",
        "\n",
        "with open('users.json') as json_file:\n",
        "   json_data = json.load(json_file)"
      ]
    },
    {
      "cell_type": "code",
      "execution_count": null,
      "metadata": {
        "colab": {
          "base_uri": "https://localhost:8080/"
        },
        "id": "vT6tb_8i6yF5",
        "outputId": "c231a3c8-a485-4f02-bd41-d03a186c2228"
      },
      "outputs": [
        {
          "output_type": "stream",
          "name": "stdout",
          "text": [
            "{'orientacion': 'Heterosexual', 'genero': 'Hombre', 'telefono': 314159265357278, 'mascota': 'Perros', 'signo': 'Virgo', 'entretenimiento': 'Videojuegos', 'pasatiempo': 'Interior(Cines, en casa, etc.)', 'personalidad': 'Introvertido', 'peliculas': 'MCU(Marvel)', 'comida': 'Dulces', 'loteria': 'Invertirlo', 'bebida': 'Soda', 'b_alcoholica': '(Ron, vodka, Tequila, singani) y sus cocteles', 'viaje': 'Asia', 'musica': 'Rock español/ingles', 'prioridad_pareja': 'Dinero/estatus social', 'terapia': 'Entretenimiento(Peliculas, series, musica)', 'nombre': 'gigachad'}\n",
            "{'orientacion': 'Heterosexual', 'genero': 'Hombre', 'telefono': 68969696, 'mascota': 'Perros', 'signo': 'Libra', 'entretenimiento': 'Videojuegos', 'pasatiempo': 'Interior(Cines, en casa, etc.)', 'personalidad': 'Extrovertido pero timido', 'peliculas': 'MCU(Marvel)', 'comida': 'Dulces', 'loteria': 'Gastarlo en familia y en ti', 'bebida': 'Soda', 'b_alcoholica': 'Cerveza', 'viaje': 'Asia', 'musica': 'Pop en ingles', 'prioridad_pareja': 'Sentido del humor', 'terapia': 'Entretenimiento(Peliculas, series, musica)', 'nombre': 'Nicolas Cari'}\n",
            "{'orientacion': 'Heterosexual', 'genero': 'Hombre', 'telefono': 72849649, 'mascota': 'Perros', 'signo': 'Geminis', 'entretenimiento': 'Peliculas', 'pasatiempo': 'Interior(Cines, en casa, etc.)', 'personalidad': 'Introvertido pero abierto a nuevas experiencias', 'peliculas': 'MCU(Marvel)', 'comida': 'Salado', 'loteria': 'Gastarlo en familia y en ti', 'bebida': 'Cafe', 'b_alcoholica': 'Licores dulces(Jagger, 3 plumas, goss cake, etc)', 'viaje': 'Asia', 'musica': 'Pop latino/reguetón', 'prioridad_pareja': 'Limpieza', 'terapia': 'Ejercicio', 'nombre': 'gabriel balderrama'}\n",
            "{'orientacion': 'Homosexual', 'genero': 'Hombre', 'telefono': 1, 'mascota': 'Reptiles', 'signo': 'Aries', 'entretenimiento': 'Series', 'pasatiempo': 'Exterior(Parques, restaurantes, etc.)', 'personalidad': 'Introvertido', 'peliculas': 'Distopica juvenil(Juegos del hambre, maze runner, etc)', 'comida': 'No tengo preferencia', 'loteria': 'Gastarlo en familia y en ti', 'bebida': 'Soda', 'b_alcoholica': 'Guarapo', 'viaje': 'Europa', 'musica': 'Rock español/ingles', 'prioridad_pareja': 'Sentido del humor', 'terapia': 'Busco alguien para desahogarme', 'nombre': '1'}\n",
            "{'orientacion': 'Heterosexual', 'genero': 'Hombre', 'telefono': 1, 'mascota': 'Gatos', 'signo': 'Aries', 'entretenimiento': 'Series', 'pasatiempo': 'Exterior(Parques, restaurantes, etc.)', 'personalidad': 'Introvertido', 'peliculas': 'Piratas del caribe', 'comida': 'Dulces', 'loteria': 'Viajar por el mundo', 'bebida': 'Cafe', 'b_alcoholica': 'Guarapo', 'viaje': 'Europa', 'musica': 'Pop latino/reguetón', 'prioridad_pareja': 'Limpieza', 'terapia': 'Entretenimiento(Peliculas, series, musica)', 'nombre': '2'}\n",
            "{'orientacion': 'Heterosexual', 'genero': 'Mujer', 'telefono': 1, 'mascota': 'Aves', 'signo': 'Libra', 'entretenimiento': 'Peliculas', 'pasatiempo': 'Interior(Cines, en casa, etc.)', 'personalidad': 'Extrovertido pero timido', 'peliculas': 'MCU(Marvel)', 'comida': 'Salado', 'loteria': 'Invertirlo', 'bebida': 'Agua', 'b_alcoholica': 'Licores dulces(Jagger, 3 plumas, goss cake, etc)', 'viaje': 'Europa', 'musica': 'Alternativa/Indie', 'prioridad_pareja': 'Dinero/estatus social', 'terapia': 'Entretenimiento(Peliculas, series, musica)', 'nombre': '3'}\n",
            "{'orientacion': 'Heterosexual', 'genero': 'Mujer', 'telefono': 1, 'mascota': 'Gatos', 'signo': 'Acuario', 'entretenimiento': 'Series', 'pasatiempo': 'Interior(Cines, en casa, etc.)', 'personalidad': 'Introvertido', 'peliculas': 'Piratas del caribe', 'comida': 'Dulces', 'loteria': 'Gastarlo en familia y en ti', 'bebida': 'Cafe', 'b_alcoholica': '(Ron, vodka, Tequila, singani) y sus cocteles', 'viaje': 'Estados unidos', 'musica': 'Alternativa/Indie', 'prioridad_pareja': 'Sentido del humor', 'terapia': 'Como mis penas', 'nombre': '4'}\n",
            "{'orientacion': 'Heterosexual', 'genero': 'Mujer', 'telefono': 1, 'mascota': 'Gatos', 'signo': 'Cancer', 'entretenimiento': 'Series', 'pasatiempo': 'Interior(Cines, en casa, etc.)', 'personalidad': 'Extrovertido', 'peliculas': 'Piratas del caribe', 'comida': 'Dulces', 'loteria': 'Hacer fiestas grandes', 'bebida': 'Cafe', 'b_alcoholica': 'Vino', 'viaje': 'Europa', 'musica': 'Cumbiones/Nacional', 'prioridad_pareja': 'Fisico', 'terapia': 'Busco alguien para desahogarme', 'nombre': '5'}\n",
            "{'orientacion': 'Homosexual', 'genero': 'Hombre', 'telefono': 1, 'mascota': 'Mucha responsabilidad', 'signo': 'Escorpio', 'entretenimiento': 'Series', 'pasatiempo': 'Exterior(Parques, restaurantes, etc.)', 'personalidad': 'Introvertido pero abierto a nuevas experiencias', 'peliculas': 'Star wars', 'comida': 'No tengo preferencia', 'loteria': 'Invertirlo', 'bebida': 'Jugos de fruta', 'b_alcoholica': 'Licores dulces(Jagger, 3 plumas, goss cake, etc)', 'viaje': 'Europa', 'musica': 'Pop latino/reguetón', 'prioridad_pareja': 'Dinero/estatus social', 'terapia': 'Busco alguien para desahogarme', 'nombre': '6'}\n",
            "{'orientacion': 'Heterosexual', 'genero': 'Hombre', 'telefono': 1, 'mascota': 'Aves', 'signo': 'Capricornio', 'entretenimiento': 'Videojuegos', 'pasatiempo': 'Exterior(Parques, restaurantes, etc.)', 'personalidad': 'Introvertido pero abierto a nuevas experiencias', 'peliculas': 'MCU(Marvel)', 'comida': 'Salado', 'loteria': 'Hacer caridad', 'bebida': 'Agua', 'b_alcoholica': 'No tomo', 'viaje': 'Europa', 'musica': 'Pop latino/reguetón', 'prioridad_pareja': 'Madurez', 'terapia': 'Vivo con el dolor', 'nombre': '7'}\n",
            "{'orientacion': 'Heterosexual', 'genero': 'Hombre', 'telefono': 1, 'mascota': 'Perros', 'signo': 'Virgo', 'entretenimiento': 'Series', 'pasatiempo': 'Exterior(Parques, restaurantes, etc.)', 'personalidad': 'Extrovertido pero timido', 'peliculas': 'Harry potter', 'comida': 'Salado', 'loteria': 'Hacer fiestas grandes', 'bebida': 'Te', 'b_alcoholica': 'Cerveza', 'viaje': 'Asia', 'musica': 'Rock español/ingles', 'prioridad_pareja': 'Fisico', 'terapia': 'Como mis penas', 'nombre': '8'}\n",
            "{'orientacion': 'Homosexual', 'genero': 'Mujer', 'telefono': 1, 'mascota': 'Mucha responsabilidad', 'signo': 'Escorpio', 'entretenimiento': 'Libros', 'pasatiempo': 'Interior(Cines, en casa, etc.)', 'personalidad': 'Introvertido pero abierto a nuevas experiencias', 'peliculas': 'Star wars', 'comida': 'No tengo preferencia', 'loteria': 'Invertirlo', 'bebida': 'Jugos de fruta', 'b_alcoholica': 'Licores dulces(Jagger, 3 plumas, goss cake, etc)', 'viaje': 'Europa', 'musica': 'Cumbiones/Nacional', 'prioridad_pareja': 'Dinero/estatus social', 'terapia': 'Como mis penas', 'nombre': '9'}\n",
            "{'orientacion': 'Homosexual', 'genero': 'Mujer', 'telefono': 1, 'mascota': 'Mucha responsabilidad', 'signo': 'Capricornio', 'entretenimiento': 'Series', 'pasatiempo': 'Interior(Cines, en casa, etc.)', 'personalidad': 'Introvertido pero abierto a nuevas experiencias', 'peliculas': 'Star wars', 'comida': 'No tengo preferencia', 'loteria': 'Hacer caridad', 'bebida': 'Jugos de fruta', 'b_alcoholica': 'No tomo', 'viaje': 'Africa', 'musica': 'Cumbiones/Nacional', 'prioridad_pareja': 'Madurez', 'terapia': 'Entretenimiento(Peliculas, series, musica)', 'nombre': '10'}\n",
            "{'orientacion': 'Heterosexual', 'genero': 'Mujer', 'telefono': 1, 'mascota': 'Gatos', 'signo': 'Leo', 'entretenimiento': 'Peliculas', 'pasatiempo': 'Interior(Cines, en casa, etc.)', 'personalidad': 'Extrovertido pero timido', 'peliculas': 'Piratas del caribe', 'comida': 'Dulces', 'loteria': 'Hacer fiestas grandes', 'bebida': 'Cafe', 'b_alcoholica': 'Cerveza', 'viaje': 'El caribe', 'musica': 'Alternativa/Indie', 'prioridad_pareja': 'Fisico', 'terapia': 'Entretenimiento(Peliculas, series, musica)', 'nombre': '11'}\n",
            "{'orientacion': 'Homosexual', 'genero': 'Mujer', 'telefono': 1, 'mascota': 'Mucha responsabilidad', 'signo': 'Acuario', 'entretenimiento': 'Libros', 'pasatiempo': 'Interior(Cines, en casa, etc.)', 'personalidad': 'Introvertido', 'peliculas': 'Star wars', 'comida': 'No tengo preferencia', 'loteria': 'Gastarlo en familia y en ti', 'bebida': 'Jugos de fruta', 'b_alcoholica': '(Ron, vodka, Tequila, singani) y sus cocteles', 'viaje': 'Estados unidos', 'musica': 'Alternativa/Indie', 'prioridad_pareja': 'Sentido del humor', 'terapia': 'Entretenimiento(Peliculas, series, musica)', 'nombre': '12'}\n",
            "{'orientacion': 'Heterosexual', 'genero': 'Mujer', 'telefono': 1, 'mascota': 'Perros', 'signo': 'Virgo', 'entretenimiento': 'Peliculas', 'pasatiempo': 'Interior(Cines, en casa, etc.)', 'personalidad': 'Extrovertido pero timido', 'peliculas': 'Harry potter', 'comida': 'Salado', 'loteria': 'Invertirlo', 'bebida': 'Te', 'b_alcoholica': 'Cerveza', 'viaje': 'Africa', 'musica': 'Alternativa/Indie', 'prioridad_pareja': 'Dinero/estatus social', 'terapia': 'Vivo con el dolor', 'nombre': '13'}\n",
            "{'orientacion': 'Heterosexual', 'genero': 'Hombre', 'telefono': 1, 'mascota': 'Gatos', 'signo': 'Geminis', 'entretenimiento': 'Videojuegos', 'pasatiempo': 'Exterior(Parques, restaurantes, etc.)', 'personalidad': 'Extrovertido', 'peliculas': 'Piratas del caribe', 'comida': 'Dulces', 'loteria': 'Viajar por el mundo', 'bebida': 'Cafe', 'b_alcoholica': 'Vino', 'viaje': 'Estados unidos', 'musica': 'Rock español/ingles', 'prioridad_pareja': 'Limpieza', 'terapia': 'Ejercicio', 'nombre': '14'}\n",
            "{'orientacion': 'Homosexual', 'genero': 'Mujer', 'telefono': 1, 'mascota': 'Mucha responsabilidad', 'signo': 'Geminis', 'entretenimiento': 'Peliculas', 'pasatiempo': 'Interior(Cines, en casa, etc.)', 'personalidad': 'Extrovertido', 'peliculas': 'Star wars', 'comida': 'No tengo preferencia', 'loteria': 'Viajar por el mundo', 'bebida': 'Jugos de fruta', 'b_alcoholica': 'Vino', 'viaje': 'Asia', 'musica': 'Pop en ingles', 'prioridad_pareja': 'Limpieza', 'terapia': 'Busco alguien para desahogarme', 'nombre': '15'}\n",
            "{'orientacion': 'Homosexual', 'genero': 'Hombre', 'telefono': 1, 'mascota': 'Mucha responsabilidad', 'signo': 'Piscis', 'entretenimiento': 'Series', 'pasatiempo': 'Exterior(Parques, restaurantes, etc.)', 'personalidad': 'Introvertido', 'peliculas': 'Star wars', 'comida': 'No tengo preferencia', 'loteria': 'Gastarlo en familia y en ti', 'bebida': 'Jugos de fruta', 'b_alcoholica': '(Ron, vodka, Tequila, singani) y sus cocteles', 'viaje': 'El caribe', 'musica': 'Pop latino/reguetón', 'prioridad_pareja': 'Sentido del humor', 'terapia': 'Vivo con el dolor', 'nombre': '16'}\n",
            "{'orientacion': 'Heterosexual', 'genero': 'Hombre', 'telefono': 1, 'mascota': 'Perros', 'signo': 'Piscis', 'entretenimiento': 'Peliculas', 'pasatiempo': 'Exterior(Parques, restaurantes, etc.)', 'personalidad': 'Introvertido', 'peliculas': 'Harry potter', 'comida': 'Salado', 'loteria': 'Gastarlo en familia y en ti', 'bebida': 'Te', 'b_alcoholica': '(Ron, vodka, Tequila, singani) y sus cocteles', 'viaje': 'El caribe', 'musica': 'Rock español/ingles', 'prioridad_pareja': 'Sentido del humor', 'terapia': 'Ejercicio', 'nombre': '17'}\n",
            "{'orientacion': 'Heterosexual', 'genero': 'Hombre', 'telefono': 1, 'mascota': 'Perros', 'signo': 'Tauro', 'entretenimiento': 'Libros', 'pasatiempo': 'Exterior(Parques, restaurantes, etc.)', 'personalidad': 'Extrovertido', 'peliculas': 'Harry potter', 'comida': 'Salado', 'loteria': 'Viajar por el mundo', 'bebida': 'Te', 'b_alcoholica': 'Guarapo', 'viaje': 'Estados unidos', 'musica': 'Pop en ingles', 'prioridad_pareja': 'Limpieza', 'terapia': 'Ejercicio', 'nombre': '18'}\n",
            "{'orientacion': 'Bisexual', 'genero': 'Hombre', 'telefono': 1, 'mascota': 'Reptiles', 'signo': 'Sagitario', 'entretenimiento': 'Series', 'pasatiempo': 'Exterior(Parques, restaurantes, etc.)', 'personalidad': 'Introvertido pero abierto a nuevas experiencias', 'peliculas': 'Distopica juvenil(Juegos del hambre, maze runner, etc)', 'comida': 'Ambos juntos', 'loteria': 'Hacer caridad', 'bebida': 'Soda', 'b_alcoholica': 'No tomo', 'viaje': 'Africa', 'musica': 'Pop en ingles', 'prioridad_pareja': 'Madurez', 'terapia': 'Vivo con el dolor', 'nombre': '19'}\n",
            "{'orientacion': 'Heterosexual', 'genero': 'Hombre', 'telefono': 1, 'mascota': 'Gatos', 'signo': 'Acuario', 'entretenimiento': 'Videojuegos', 'pasatiempo': 'Exterior(Parques, restaurantes, etc.)', 'personalidad': 'Introvertido', 'peliculas': 'Piratas del caribe', 'comida': 'Dulces', 'loteria': 'Gastarlo en familia y en ti', 'bebida': 'Cafe', 'b_alcoholica': '(Ron, vodka, Tequila, singani) y sus cocteles', 'viaje': 'Europa', 'musica': 'Rock español/ingles', 'prioridad_pareja': 'Sentido del humor', 'terapia': 'Ejercicio', 'nombre': '20'}\n",
            "{'orientacion': 'Homosexual', 'genero': 'Mujer', 'telefono': 1, 'mascota': 'Mucha responsabilidad', 'signo': 'Capricornio', 'entretenimiento': 'Libros', 'pasatiempo': 'Interior(Cines, en casa, etc.)', 'personalidad': 'Introvertido pero abierto a nuevas experiencias', 'peliculas': 'Star wars', 'comida': 'No tengo preferencia', 'loteria': 'Hacer caridad', 'bebida': 'Jugos de fruta', 'b_alcoholica': 'No tomo', 'viaje': 'Asia', 'musica': 'Pop en ingles', 'prioridad_pareja': 'Madurez', 'terapia': 'Ejercicio', 'nombre': '21'}\n",
            "{'orientacion': 'Heterosexual', 'genero': 'Mujer', 'telefono': 1, 'mascota': 'Perros', 'signo': 'Capricornio', 'entretenimiento': 'Series', 'pasatiempo': 'Interior(Cines, en casa, etc.)', 'personalidad': 'Introvertido pero abierto a nuevas experiencias', 'peliculas': 'Harry potter', 'comida': 'Salado', 'loteria': 'Hacer caridad', 'bebida': 'Te', 'b_alcoholica': 'No tomo', 'viaje': 'Africa', 'musica': 'Pop en ingles', 'prioridad_pareja': 'Madurez', 'terapia': 'Ejercicio', 'nombre': '22'}\n",
            "{'orientacion': 'Heterosexual', 'genero': 'Mujer', 'telefono': 1, 'mascota': 'Gatos', 'signo': 'Virgo', 'entretenimiento': 'Videojuegos', 'pasatiempo': 'Interior(Cines, en casa, etc.)', 'personalidad': 'Extrovertido pero timido', 'peliculas': 'Piratas del caribe', 'comida': 'Dulces', 'loteria': 'Invertirlo', 'bebida': 'Cafe', 'b_alcoholica': 'Cerveza', 'viaje': 'Europa', 'musica': 'Pop en ingles', 'prioridad_pareja': 'Dinero/estatus social', 'terapia': 'Ejercicio', 'nombre': '23'}\n",
            "{'orientacion': 'Heterosexual', 'genero': 'Hombre', 'telefono': 1, 'mascota': 'Perros', 'signo': 'Virgo', 'entretenimiento': 'Videojuegos', 'pasatiempo': 'Exterior(Parques, restaurantes, etc.)', 'personalidad': 'Extrovertido pero timido', 'peliculas': 'Harry potter', 'comida': 'Salado', 'loteria': 'Invertirlo', 'bebida': 'Te', 'b_alcoholica': 'Cerveza', 'viaje': 'Asia', 'musica': 'Pop en ingles', 'prioridad_pareja': 'Dinero/estatus social', 'terapia': 'Vivo con el dolor', 'nombre': '24'}\n",
            "{'orientacion': 'Homosexual', 'genero': 'Hombre', 'telefono': 1, 'mascota': 'Mucha responsabilidad', 'signo': 'Piscis', 'entretenimiento': 'Series', 'pasatiempo': 'Exterior(Parques, restaurantes, etc.)', 'personalidad': 'Introvertido', 'peliculas': 'Star wars', 'comida': 'No tengo preferencia', 'loteria': 'Gastarlo en familia y en ti', 'bebida': 'Jugos de fruta', 'b_alcoholica': '(Ron, vodka, Tequila, singani) y sus cocteles', 'viaje': 'Africa', 'musica': 'Rock español/ingles', 'prioridad_pareja': 'Sentido del humor', 'terapia': 'Vivo con el dolor', 'nombre': '25'}\n",
            "{'orientacion': 'Heterosexual', 'genero': 'Hombre', 'telefono': 1, 'mascota': 'Gatos', 'signo': 'Acuario', 'entretenimiento': 'Videojuegos', 'pasatiempo': 'Exterior(Parques, restaurantes, etc.)', 'personalidad': 'Introvertido', 'peliculas': 'Piratas del caribe', 'comida': 'Dulces', 'loteria': 'Gastarlo en familia y en ti', 'bebida': 'Cafe', 'b_alcoholica': '(Ron, vodka, Tequila, singani) y sus cocteles', 'viaje': 'El caribe', 'musica': 'Rock español/ingles', 'prioridad_pareja': 'Sentido del humor', 'terapia': 'Busco alguien para desahogarme', 'nombre': '26'}\n",
            "{'orientacion': 'Bisexual', 'genero': 'Hombre', 'telefono': 1, 'mascota': 'Reptiles', 'signo': 'Tauro', 'entretenimiento': 'Series', 'pasatiempo': 'Exterior(Parques, restaurantes, etc.)', 'personalidad': 'Extrovertido', 'peliculas': 'Distopica juvenil(Juegos del hambre, maze runner, etc)', 'comida': 'Ambos juntos', 'loteria': 'Viajar por el mundo', 'bebida': 'Soda', 'b_alcoholica': 'Guarapo', 'viaje': 'Africa', 'musica': 'Pop latino/reguetón', 'prioridad_pareja': 'Limpieza', 'terapia': 'Como mis penas', 'nombre': '27'}\n",
            "{'orientacion': 'Heterosexual', 'genero': 'Mujer', 'telefono': 1, 'mascota': 'Aves', 'signo': 'Aries', 'entretenimiento': 'Series', 'pasatiempo': 'Interior(Cines, en casa, etc.)', 'personalidad': 'Introvertido', 'peliculas': 'MCU(Marvel)', 'comida': 'Salado', 'loteria': 'Viajar por el mundo', 'bebida': 'Agua', 'b_alcoholica': 'Guarapo', 'viaje': 'Europa', 'musica': 'Cumbiones/Nacional', 'prioridad_pareja': 'Limpieza', 'terapia': 'Busco alguien para desahogarme', 'nombre': '28'}\n",
            "{'orientacion': 'Homosexual', 'genero': 'Hombre', 'telefono': 1, 'mascota': 'Mucha responsabilidad', 'signo': 'Cancer', 'entretenimiento': 'Peliculas', 'pasatiempo': 'Exterior(Parques, restaurantes, etc.)', 'personalidad': 'Extrovertido', 'peliculas': 'Star wars', 'comida': 'No tengo preferencia', 'loteria': 'Hacer fiestas grandes', 'bebida': 'Jugos de fruta', 'b_alcoholica': 'Vino', 'viaje': 'El caribe', 'musica': 'Pop latino/reguetón', 'prioridad_pareja': 'Fisico', 'terapia': 'Ejercicio', 'nombre': '29'}\n",
            "{'orientacion': 'Heterosexual', 'genero': 'Mujer', 'telefono': 1, 'mascota': 'Aves', 'signo': 'Escorpio', 'entretenimiento': 'Libros', 'pasatiempo': 'Interior(Cines, en casa, etc.)', 'personalidad': 'Introvertido pero abierto a nuevas experiencias', 'peliculas': 'MCU(Marvel)', 'comida': 'Ambos juntos', 'loteria': 'Hacer caridad', 'bebida': 'Agua', 'b_alcoholica': 'Licores dulces(Jagger, 3 plumas, goss cake, etc)', 'viaje': 'Estados unidos', 'musica': 'Pop en ingles', 'prioridad_pareja': 'Madurez', 'terapia': 'Busco alguien para desahogarme', 'nombre': '30'}\n",
            "{'orientacion': 'Bisexual', 'genero': 'Hombre', 'telefono': 1, 'mascota': 'Reptiles', 'signo': 'Acuario', 'entretenimiento': 'Series', 'pasatiempo': 'Exterior(Parques, restaurantes, etc.)', 'personalidad': 'Introvertido', 'peliculas': 'Distopica juvenil(Juegos del hambre, maze runner, etc)', 'comida': 'Ambos juntos', 'loteria': 'Gastarlo en familia y en ti', 'bebida': 'Soda', 'b_alcoholica': '(Ron, vodka, Tequila, singani) y sus cocteles', 'viaje': 'Europa', 'musica': 'Pop latino/reguetón', 'prioridad_pareja': 'Sentido del humor', 'terapia': 'Entretenimiento(Peliculas, series, musica)', 'nombre': '31'}\n",
            "{'orientacion': 'Homosexual', 'genero': 'Mujer', 'telefono': 1, 'mascota': 'Reptiles', 'signo': 'Aries', 'entretenimiento': 'Libros', 'pasatiempo': 'Interior(Cines, en casa, etc.)', 'personalidad': 'Introvertido', 'peliculas': 'Distopica juvenil(Juegos del hambre, maze runner, etc)', 'comida': 'No tengo preferencia', 'loteria': 'Viajar por el mundo', 'bebida': 'Soda', 'b_alcoholica': 'Guarapo', 'viaje': 'Europa', 'musica': 'Alternativa/Indie', 'prioridad_pareja': 'Limpieza', 'terapia': 'Busco alguien para desahogarme', 'nombre': '32'}\n",
            "{'orientacion': 'Heterosexual', 'genero': 'Hombre', 'telefono': 1, 'mascota': 'Perros', 'signo': 'Piscis', 'entretenimiento': 'Peliculas', 'pasatiempo': 'Exterior(Parques, restaurantes, etc.)', 'personalidad': 'Introvertido', 'peliculas': 'Harry potter', 'comida': 'Salado', 'loteria': 'Gastarlo en familia y en ti', 'bebida': 'Te', 'b_alcoholica': '(Ron, vodka, Tequila, singani) y sus cocteles', 'viaje': 'Africa', 'musica': 'Pop latino/reguetón', 'prioridad_pareja': 'Sentido del humor', 'terapia': 'Ejercicio', 'nombre': '33'}\n",
            "{'orientacion': 'Heterosexual', 'genero': 'Mujer', 'telefono': 1, 'mascota': 'Aves', 'signo': 'Capricornio', 'entretenimiento': 'Peliculas', 'pasatiempo': 'Interior(Cines, en casa, etc.)', 'personalidad': 'Introvertido pero abierto a nuevas experiencias', 'peliculas': 'MCU(Marvel)', 'comida': 'Salado', 'loteria': 'Hacer caridad', 'bebida': 'Agua', 'b_alcoholica': 'No tomo', 'viaje': 'Estados unidos', 'musica': 'Pop en ingles', 'prioridad_pareja': 'Madurez', 'terapia': 'Vivo con el dolor', 'nombre': '34'}\n",
            "{'orientacion': 'Heterosexual', 'genero': 'Hombre', 'telefono': 1, 'mascota': 'Perros', 'signo': 'Cancer', 'entretenimiento': 'Videojuegos', 'pasatiempo': 'Exterior(Parques, restaurantes, etc.)', 'personalidad': 'Extrovertido', 'peliculas': 'Harry potter', 'comida': 'Salado', 'loteria': 'Hacer fiestas grandes', 'bebida': 'Te', 'b_alcoholica': 'Vino', 'viaje': 'Estados unidos', 'musica': 'Rock español/ingles', 'prioridad_pareja': 'Fisico', 'terapia': 'Como mis penas', 'nombre': '35'}\n",
            "{'orientacion': 'Homosexual', 'genero': 'Mujer', 'telefono': 1, 'mascota': 'Reptiles', 'signo': 'Virgo', 'entretenimiento': 'Libros', 'pasatiempo': 'Interior(Cines, en casa, etc.)', 'personalidad': 'Extrovertido pero timido', 'peliculas': 'Distopica juvenil(Juegos del hambre, maze runner, etc)', 'comida': 'No tengo preferencia', 'loteria': 'Invertirlo', 'bebida': 'Soda', 'b_alcoholica': 'Cerveza', 'viaje': 'Africa', 'musica': 'Cumbiones/Nacional', 'prioridad_pareja': 'Dinero/estatus social', 'terapia': 'Entretenimiento(Peliculas, series, musica)', 'nombre': '36'}\n",
            "{'orientacion': 'Heterosexual', 'genero': 'Mujer', 'telefono': 1, 'mascota': 'Perros', 'signo': 'Leo', 'entretenimiento': 'Series', 'pasatiempo': 'Interior(Cines, en casa, etc.)', 'personalidad': 'Extrovertido pero timido', 'peliculas': 'Harry potter', 'comida': 'Dulces', 'loteria': 'Hacer fiestas grandes', 'bebida': 'Te', 'b_alcoholica': 'Cerveza', 'viaje': 'Africa', 'musica': 'Alternativa/Indie', 'prioridad_pareja': 'Fisico', 'terapia': 'Como mis penas', 'nombre': '37'}\n",
            "{'orientacion': 'Homosexual', 'genero': 'Mujer', 'telefono': 1, 'mascota': 'Mucha responsabilidad', 'signo': 'Cancer', 'entretenimiento': 'Peliculas', 'pasatiempo': 'Interior(Cines, en casa, etc.)', 'personalidad': 'Extrovertido', 'peliculas': 'Star wars', 'comida': 'No tengo preferencia', 'loteria': 'Hacer fiestas grandes', 'bebida': 'Jugos de fruta', 'b_alcoholica': 'Vino', 'viaje': 'El caribe', 'musica': 'Cumbiones/Nacional', 'prioridad_pareja': 'Fisico', 'terapia': 'Entretenimiento(Peliculas, series, musica)', 'nombre': '38'}\n",
            "{'orientacion': 'Homosexual', 'genero': 'Mujer', 'telefono': 1, 'mascota': 'Mucha responsabilidad', 'signo': 'Geminis', 'entretenimiento': 'Videojuegos', 'pasatiempo': 'Interior(Cines, en casa, etc.)', 'personalidad': 'Extrovertido', 'peliculas': 'Star wars', 'comida': 'No tengo preferencia', 'loteria': 'Viajar por el mundo', 'bebida': 'Jugos de fruta', 'b_alcoholica': 'Vino', 'viaje': 'Estados unidos', 'musica': 'Alternativa/Indie', 'prioridad_pareja': 'Limpieza', 'terapia': 'Vivo con el dolor', 'nombre': '39'}\n",
            "{'orientacion': 'Heterosexual', 'genero': 'Hombre', 'telefono': 1, 'mascota': 'Aves', 'signo': 'Geminis', 'entretenimiento': 'Videojuegos', 'pasatiempo': 'Exterior(Parques, restaurantes, etc.)', 'personalidad': 'Extrovertido', 'peliculas': 'MCU(Marvel)', 'comida': 'Salado', 'loteria': 'Viajar por el mundo', 'bebida': 'Agua', 'b_alcoholica': 'Vino', 'viaje': 'Asia', 'musica': 'Rock español/ingles', 'prioridad_pareja': 'Limpieza', 'terapia': 'Como mis penas', 'nombre': '40'}\n",
            "{'orientacion': 'Heterosexual', 'genero': 'Mujer', 'telefono': 1, 'mascota': 'Perros', 'signo': 'Libra', 'entretenimiento': 'Videojuegos', 'pasatiempo': 'Interior(Cines, en casa, etc.)', 'personalidad': 'Extrovertido pero timido', 'peliculas': 'Harry potter', 'comida': 'Dulces', 'loteria': 'Invertirlo', 'bebida': 'Te', 'b_alcoholica': 'Licores dulces(Jagger, 3 plumas, goss cake, etc)', 'viaje': 'Africa', 'musica': 'Cumbiones/Nacional', 'prioridad_pareja': 'Dinero/estatus social', 'terapia': 'Entretenimiento(Peliculas, series, musica)', 'nombre': '41'}\n",
            "{'orientacion': 'Heterosexual', 'genero': 'Mujer', 'telefono': 1, 'mascota': 'Perros', 'signo': 'Tauro', 'entretenimiento': 'Libros', 'pasatiempo': 'Interior(Cines, en casa, etc.)', 'personalidad': 'Extrovertido', 'peliculas': 'Harry potter', 'comida': 'Salado', 'loteria': 'Viajar por el mundo', 'bebida': 'Te', 'b_alcoholica': 'Guarapo', 'viaje': 'Asia', 'musica': 'Alternativa/Indie', 'prioridad_pareja': 'Limpieza', 'terapia': 'Como mis penas', 'nombre': '42'}\n",
            "{'orientacion': 'Homosexual', 'genero': 'Mujer', 'telefono': 1, 'mascota': 'Reptiles', 'signo': 'Aries', 'entretenimiento': 'Videojuegos', 'pasatiempo': 'Interior(Cines, en casa, etc.)', 'personalidad': 'Introvertido', 'peliculas': 'Distopica juvenil(Juegos del hambre, maze runner, etc)', 'comida': 'No tengo preferencia', 'loteria': 'Viajar por el mundo', 'bebida': 'Soda', 'b_alcoholica': 'Guarapo', 'viaje': 'Africa', 'musica': 'Cumbiones/Nacional', 'prioridad_pareja': 'Limpieza', 'terapia': 'Vivo con el dolor', 'nombre': '43'}\n",
            "{'orientacion': 'Heterosexual', 'genero': 'Hombre', 'telefono': 1, 'mascota': 'Aves', 'signo': 'Cancer', 'entretenimiento': 'Libros', 'pasatiempo': 'Exterior(Parques, restaurantes, etc.)', 'personalidad': 'Extrovertido', 'peliculas': 'MCU(Marvel)', 'comida': 'Salado', 'loteria': 'Hacer fiestas grandes', 'bebida': 'Agua', 'b_alcoholica': 'Vino', 'viaje': 'Asia', 'musica': 'Rock español/ingles', 'prioridad_pareja': 'Fisico', 'terapia': 'Vivo con el dolor', 'nombre': '44'}\n",
            "{'orientacion': 'Heterosexual', 'genero': 'Hombre', 'telefono': 1, 'mascota': 'Perros', 'signo': 'Capricornio', 'entretenimiento': 'Peliculas', 'pasatiempo': 'Exterior(Parques, restaurantes, etc.)', 'personalidad': 'Introvertido pero abierto a nuevas experiencias', 'peliculas': 'Harry potter', 'comida': 'Salado', 'loteria': 'Hacer caridad', 'bebida': 'Te', 'b_alcoholica': 'No tomo', 'viaje': 'Africa', 'musica': 'Rock español/ingles', 'prioridad_pareja': 'Madurez', 'terapia': 'Busco alguien para desahogarme', 'nombre': '45'}\n",
            "{'orientacion': 'Heterosexual', 'genero': 'Hombre', 'telefono': 1, 'mascota': 'Gatos', 'signo': 'Escorpio', 'entretenimiento': 'Peliculas', 'pasatiempo': 'Exterior(Parques, restaurantes, etc.)', 'personalidad': 'Introvertido pero abierto a nuevas experiencias', 'peliculas': 'Piratas del caribe', 'comida': 'Dulces', 'loteria': 'Invertirlo', 'bebida': 'Cafe', 'b_alcoholica': 'Licores dulces(Jagger, 3 plumas, goss cake, etc)', 'viaje': 'Estados unidos', 'musica': 'Pop latino/reguetón', 'prioridad_pareja': 'Dinero/estatus social', 'terapia': 'Entretenimiento(Peliculas, series, musica)', 'nombre': '46'}\n",
            "{'orientacion': 'Heterosexual', 'genero': 'Mujer', 'telefono': 1, 'mascota': 'Aves', 'signo': 'Leo', 'entretenimiento': 'Peliculas', 'pasatiempo': 'Interior(Cines, en casa, etc.)', 'personalidad': 'Extrovertido pero timido', 'peliculas': 'MCU(Marvel)', 'comida': 'Ambos juntos', 'loteria': 'Hacer fiestas grandes', 'bebida': 'Agua', 'b_alcoholica': 'Cerveza', 'viaje': 'Estados unidos', 'musica': 'Alternativa/Indie', 'prioridad_pareja': 'Fisico', 'terapia': 'Ejercicio', 'nombre': '47'}\n",
            "{'orientacion': 'Heterosexual', 'genero': 'Mujer', 'telefono': 1, 'mascota': 'Gatos', 'signo': 'Escorpio', 'entretenimiento': 'Series', 'pasatiempo': 'Interior(Cines, en casa, etc.)', 'personalidad': 'Introvertido pero abierto a nuevas experiencias', 'peliculas': 'Piratas del caribe', 'comida': 'Dulces', 'loteria': 'Invertirlo', 'bebida': 'Cafe', 'b_alcoholica': 'Licores dulces(Jagger, 3 plumas, goss cake, etc)', 'viaje': 'Estados unidos', 'musica': 'Pop en ingles', 'prioridad_pareja': 'Dinero/estatus social', 'terapia': 'Entretenimiento(Peliculas, series, musica)', 'nombre': '48'}\n",
            "{'orientacion': 'Heterosexual', 'genero': 'Mujer', 'telefono': 1, 'mascota': 'Aves', 'signo': 'Acuario', 'entretenimiento': 'Series', 'pasatiempo': 'Interior(Cines, en casa, etc.)', 'personalidad': 'Introvertido', 'peliculas': 'MCU(Marvel)', 'comida': 'Salado', 'loteria': 'Gastarlo en familia y en ti', 'bebida': 'Agua', 'b_alcoholica': '(Ron, vodka, Tequila, singani) y sus cocteles', 'viaje': 'Europa', 'musica': 'Alternativa/Indie', 'prioridad_pareja': 'Sentido del humor', 'terapia': 'Entretenimiento(Peliculas, series, musica)', 'nombre': '49'}\n",
            "{'orientacion': 'Heterosexual', 'genero': 'Mujer', 'telefono': 1, 'mascota': 'Aves', 'signo': 'Capricornio', 'entretenimiento': 'Peliculas', 'pasatiempo': 'Interior(Cines, en casa, etc.)', 'personalidad': 'Introvertido pero abierto a nuevas experiencias', 'peliculas': 'MCU(Marvel)', 'comida': 'Ambos juntos', 'loteria': 'Hacer caridad', 'bebida': 'Agua', 'b_alcoholica': 'No tomo', 'viaje': 'Europa', 'musica': 'Alternativa/Indie', 'prioridad_pareja': 'Madurez', 'terapia': 'Busco alguien para desahogarme', 'nombre': '50'}\n",
            "{'orientacion': 'Heterosexual', 'genero': 'Hombre', 'telefono': 1, 'mascota': 'Gatos', 'signo': 'Leo', 'entretenimiento': 'Libros', 'pasatiempo': 'Exterior(Parques, restaurantes, etc.)', 'personalidad': 'Extrovertido pero timido', 'peliculas': 'Piratas del caribe', 'comida': 'Dulces', 'loteria': 'Hacer fiestas grandes', 'bebida': 'Cafe', 'b_alcoholica': 'Cerveza', 'viaje': 'Estados unidos', 'musica': 'Pop latino/reguetón', 'prioridad_pareja': 'Fisico', 'terapia': 'Ejercicio', 'nombre': '51'}\n",
            "{'orientacion': 'Homosexual', 'genero': 'Mujer', 'telefono': 1, 'mascota': 'Mucha responsabilidad', 'signo': 'Libra', 'entretenimiento': 'Peliculas', 'pasatiempo': 'Interior(Cines, en casa, etc.)', 'personalidad': 'Extrovertido pero timido', 'peliculas': 'Star wars', 'comida': 'No tengo preferencia', 'loteria': 'Invertirlo', 'bebida': 'Jugos de fruta', 'b_alcoholica': 'Licores dulces(Jagger, 3 plumas, goss cake, etc)', 'viaje': 'Africa', 'musica': 'Pop en ingles', 'prioridad_pareja': 'Dinero/estatus social', 'terapia': 'Busco alguien para desahogarme', 'nombre': '52'}\n",
            "{'orientacion': 'Bisexual', 'genero': 'Hombre', 'telefono': 1, 'mascota': 'Reptiles', 'signo': 'Piscis', 'entretenimiento': 'Videojuegos', 'pasatiempo': 'Exterior(Parques, restaurantes, etc.)', 'personalidad': 'Introvertido', 'peliculas': 'Distopica juvenil(Juegos del hambre, maze runner, etc)', 'comida': 'Ambos juntos', 'loteria': 'Gastarlo en familia y en ti', 'bebida': 'Soda', 'b_alcoholica': '(Ron, vodka, Tequila, singani) y sus cocteles', 'viaje': 'Estados unidos', 'musica': 'Pop latino/reguetón', 'prioridad_pareja': 'Sentido del humor', 'terapia': 'Entretenimiento(Peliculas, series, musica)', 'nombre': '53'}\n",
            "{'orientacion': 'Bisexual', 'genero': 'Mujer', 'telefono': 1, 'mascota': 'Reptiles', 'signo': 'Leo', 'entretenimiento': 'Libros', 'pasatiempo': 'Interior(Cines, en casa, etc.)', 'personalidad': 'Extrovertido pero timido', 'peliculas': 'Distopica juvenil(Juegos del hambre, maze runner, etc)', 'comida': 'Ambos juntos', 'loteria': 'Hacer fiestas grandes', 'bebida': 'Soda', 'b_alcoholica': 'Cerveza', 'viaje': 'Asia', 'musica': 'Alternativa/Indie', 'prioridad_pareja': 'Fisico', 'terapia': 'Ejercicio', 'nombre': '54'}\n",
            "{'orientacion': 'Heterosexual', 'genero': 'Hombre', 'telefono': 1, 'mascota': 'Perros', 'signo': 'Virgo', 'entretenimiento': 'Series', 'pasatiempo': 'Exterior(Parques, restaurantes, etc.)', 'personalidad': 'Extrovertido pero timido', 'peliculas': 'Harry potter', 'comida': 'Salado', 'loteria': 'Hacer fiestas grandes', 'bebida': 'Te', 'b_alcoholica': 'Cerveza', 'viaje': 'Africa', 'musica': 'Pop en ingles', 'prioridad_pareja': 'Fisico', 'terapia': 'Vivo con el dolor', 'nombre': '55'}\n",
            "{'orientacion': 'Homosexual', 'genero': 'Hombre', 'telefono': 1, 'mascota': 'Mucha responsabilidad', 'signo': 'Capricornio', 'entretenimiento': 'Videojuegos', 'pasatiempo': 'Exterior(Parques, restaurantes, etc.)', 'personalidad': 'Introvertido pero abierto a nuevas experiencias', 'peliculas': 'Star wars', 'comida': 'No tengo preferencia', 'loteria': 'Hacer caridad', 'bebida': 'Jugos de fruta', 'b_alcoholica': 'No tomo', 'viaje': 'El caribe', 'musica': 'Rock español/ingles', 'prioridad_pareja': 'Madurez', 'terapia': 'Vivo con el dolor', 'nombre': '56'}\n",
            "{'orientacion': 'Heterosexual', 'genero': 'Hombre', 'telefono': 1, 'mascota': 'Gatos', 'signo': 'Leo', 'entretenimiento': 'Libros', 'pasatiempo': 'Exterior(Parques, restaurantes, etc.)', 'personalidad': 'Extrovertido pero timido', 'peliculas': 'Piratas del caribe', 'comida': 'Dulces', 'loteria': 'Hacer fiestas grandes', 'bebida': 'Cafe', 'b_alcoholica': 'Cerveza', 'viaje': 'Asia', 'musica': 'Rock español/ingles', 'prioridad_pareja': 'Fisico', 'terapia': 'Como mis penas', 'nombre': '57'}\n",
            "{'orientacion': 'Heterosexual', 'genero': 'Mujer', 'telefono': 1, 'mascota': 'Perros', 'signo': 'Virgo', 'entretenimiento': 'Series', 'pasatiempo': 'Interior(Cines, en casa, etc.)', 'personalidad': 'Extrovertido pero timido', 'peliculas': 'Harry potter', 'comida': 'Dulces', 'loteria': 'Invertirlo', 'bebida': 'Te', 'b_alcoholica': 'Cerveza', 'viaje': 'Europa', 'musica': 'Cumbiones/Nacional', 'prioridad_pareja': 'Dinero/estatus social', 'terapia': 'Como mis penas', 'nombre': '58'}\n",
            "{'orientacion': 'Homosexual', 'genero': 'Mujer', 'telefono': 1, 'mascota': 'Mucha responsabilidad', 'signo': 'Escorpio', 'entretenimiento': 'Videojuegos', 'pasatiempo': 'Interior(Cines, en casa, etc.)', 'personalidad': 'Introvertido pero abierto a nuevas experiencias', 'peliculas': 'Star wars', 'comida': 'No tengo preferencia', 'loteria': 'Invertirlo', 'bebida': 'Jugos de fruta', 'b_alcoholica': 'Licores dulces(Jagger, 3 plumas, goss cake, etc)', 'viaje': 'El caribe', 'musica': 'Cumbiones/Nacional', 'prioridad_pareja': 'Dinero/estatus social', 'terapia': 'Como mis penas', 'nombre': '59'}\n",
            "{'orientacion': 'Homosexual', 'genero': 'Mujer', 'telefono': 1, 'mascota': 'Reptiles', 'signo': 'Piscis', 'entretenimiento': 'Series', 'pasatiempo': 'Interior(Cines, en casa, etc.)', 'personalidad': 'Introvertido', 'peliculas': 'Distopica juvenil(Juegos del hambre, maze runner, etc)', 'comida': 'No tengo preferencia', 'loteria': 'Gastarlo en familia y en ti', 'bebida': 'Soda', 'b_alcoholica': '(Ron, vodka, Tequila, singani) y sus cocteles', 'viaje': 'Asia', 'musica': 'Cumbiones/Nacional', 'prioridad_pareja': 'Sentido del humor', 'terapia': 'Vivo con el dolor', 'nombre': '60'}\n",
            "{'orientacion': 'Heterosexual', 'genero': 'Hombre', 'telefono': 1, 'mascota': 'Aves', 'signo': 'Sagitario', 'entretenimiento': 'Videojuegos', 'pasatiempo': 'Exterior(Parques, restaurantes, etc.)', 'personalidad': 'Introvertido pero abierto a nuevas experiencias', 'peliculas': 'MCU(Marvel)', 'comida': 'Ambos juntos', 'loteria': 'Hacer caridad', 'bebida': 'Agua', 'b_alcoholica': 'No tomo', 'viaje': 'El caribe', 'musica': 'Rock español/ingles', 'prioridad_pareja': 'Madurez', 'terapia': 'Ejercicio', 'nombre': '61'}\n",
            "{'orientacion': 'Heterosexual', 'genero': 'Hombre', 'telefono': 1, 'mascota': 'Gatos', 'signo': 'Piscis', 'entretenimiento': 'Series', 'pasatiempo': 'Exterior(Parques, restaurantes, etc.)', 'personalidad': 'Introvertido', 'peliculas': 'Piratas del caribe', 'comida': 'Dulces', 'loteria': 'Gastarlo en familia y en ti', 'bebida': 'Cafe', 'b_alcoholica': '(Ron, vodka, Tequila, singani) y sus cocteles', 'viaje': 'Asia', 'musica': 'Pop en ingles', 'prioridad_pareja': 'Sentido del humor', 'terapia': 'Busco alguien para desahogarme', 'nombre': '62'}\n",
            "{'orientacion': 'Bisexual', 'genero': 'Hombre', 'telefono': 1, 'mascota': 'Reptiles', 'signo': 'Sagitario', 'entretenimiento': 'Series', 'pasatiempo': 'Exterior(Parques, restaurantes, etc.)', 'personalidad': 'Introvertido pero abierto a nuevas experiencias', 'peliculas': 'Distopica juvenil(Juegos del hambre, maze runner, etc)', 'comida': 'Ambos juntos', 'loteria': 'Hacer caridad', 'bebida': 'Soda', 'b_alcoholica': 'No tomo', 'viaje': 'El caribe', 'musica': 'Pop latino/reguetón', 'prioridad_pareja': 'Madurez', 'terapia': 'Vivo con el dolor', 'nombre': '63'}\n",
            "{'orientacion': 'Heterosexual', 'genero': 'Hombre', 'telefono': 1, 'mascota': 'Perros', 'signo': 'Aries', 'entretenimiento': 'Libros', 'pasatiempo': 'Exterior(Parques, restaurantes, etc.)', 'personalidad': 'Introvertido', 'peliculas': 'Harry potter', 'comida': 'Salado', 'loteria': 'Gastarlo en familia y en ti', 'bebida': 'Te', 'b_alcoholica': 'Guarapo', 'viaje': 'El caribe', 'musica': 'Rock español/ingles', 'prioridad_pareja': 'Sentido del humor', 'terapia': 'Vivo con el dolor', 'nombre': '64'}\n",
            "{'orientacion': 'Bisexual', 'genero': 'Hombre', 'telefono': 1, 'mascota': 'Reptiles', 'signo': 'Aries', 'entretenimiento': 'Libros', 'pasatiempo': 'Exterior(Parques, restaurantes, etc.)', 'personalidad': 'Introvertido', 'peliculas': 'Distopica juvenil(Juegos del hambre, maze runner, etc)', 'comida': 'Ambos juntos', 'loteria': 'Viajar por el mundo', 'bebida': 'Soda', 'b_alcoholica': 'Guarapo', 'viaje': 'Africa', 'musica': 'Rock español/ingles', 'prioridad_pareja': 'Limpieza', 'terapia': 'Como mis penas', 'nombre': '65'}\n",
            "{'orientacion': 'Heterosexual', 'genero': 'Mujer', 'telefono': 1, 'mascota': 'Aves', 'signo': 'Tauro', 'entretenimiento': 'Libros', 'pasatiempo': 'Interior(Cines, en casa, etc.)', 'personalidad': 'Extrovertido', 'peliculas': 'MCU(Marvel)', 'comida': 'Ambos juntos', 'loteria': 'Viajar por el mundo', 'bebida': 'Agua', 'b_alcoholica': 'Guarapo', 'viaje': 'Europa', 'musica': 'Cumbiones/Nacional', 'prioridad_pareja': 'Limpieza', 'terapia': 'Como mis penas', 'nombre': '66'}\n",
            "{'orientacion': 'Heterosexual', 'genero': 'Mujer', 'telefono': 1, 'mascota': 'Aves', 'signo': 'Cancer', 'entretenimiento': 'Peliculas', 'pasatiempo': 'Interior(Cines, en casa, etc.)', 'personalidad': 'Extrovertido', 'peliculas': 'MCU(Marvel)', 'comida': 'Ambos juntos', 'loteria': 'Hacer fiestas grandes', 'bebida': 'Agua', 'b_alcoholica': 'Vino', 'viaje': 'Africa', 'musica': 'Cumbiones/Nacional', 'prioridad_pareja': 'Fisico', 'terapia': 'Como mis penas', 'nombre': '67'}\n",
            "{'orientacion': 'Heterosexual', 'genero': 'Mujer', 'telefono': 1, 'mascota': 'Aves', 'signo': 'Escorpio', 'entretenimiento': 'Videojuegos', 'pasatiempo': 'Interior(Cines, en casa, etc.)', 'personalidad': 'Introvertido pero abierto a nuevas experiencias', 'peliculas': 'MCU(Marvel)', 'comida': 'Ambos juntos', 'loteria': 'Hacer caridad', 'bebida': 'Agua', 'b_alcoholica': 'Licores dulces(Jagger, 3 plumas, goss cake, etc)', 'viaje': 'Estados unidos', 'musica': 'Cumbiones/Nacional', 'prioridad_pareja': 'Madurez', 'terapia': 'Vivo con el dolor', 'nombre': '68'}\n",
            "{'orientacion': 'Heterosexual', 'genero': 'Hombre', 'telefono': 1, 'mascota': 'Gatos', 'signo': 'Aries', 'entretenimiento': 'Videojuegos', 'pasatiempo': 'Exterior(Parques, restaurantes, etc.)', 'personalidad': 'Introvertido', 'peliculas': 'Piratas del caribe', 'comida': 'Dulces', 'loteria': 'Gastarlo en familia y en ti', 'bebida': 'Cafe', 'b_alcoholica': 'Guarapo', 'viaje': 'Asia', 'musica': 'Rock español/ingles', 'prioridad_pareja': 'Sentido del humor', 'terapia': 'Vivo con el dolor', 'nombre': '69'}\n",
            "{'orientacion': 'Bisexual', 'genero': 'Hombre', 'telefono': 1, 'mascota': 'Reptiles', 'signo': 'Sagitario', 'entretenimiento': 'Libros', 'pasatiempo': 'Exterior(Parques, restaurantes, etc.)', 'personalidad': 'Introvertido pero abierto a nuevas experiencias', 'peliculas': 'Distopica juvenil(Juegos del hambre, maze runner, etc)', 'comida': 'Ambos juntos', 'loteria': 'Hacer caridad', 'bebida': 'Soda', 'b_alcoholica': 'No tomo', 'viaje': 'Asia', 'musica': 'Rock español/ingles', 'prioridad_pareja': 'Madurez', 'terapia': 'Busco alguien para desahogarme', 'nombre': '70'}\n",
            "{'orientacion': 'Homosexual', 'genero': 'Hombre', 'telefono': 1, 'mascota': 'Mucha responsabilidad', 'signo': 'Tauro', 'entretenimiento': 'Series', 'pasatiempo': 'Exterior(Parques, restaurantes, etc.)', 'personalidad': 'Extrovertido', 'peliculas': 'Star wars', 'comida': 'No tengo preferencia', 'loteria': 'Viajar por el mundo', 'bebida': 'Jugos de fruta', 'b_alcoholica': 'Guarapo', 'viaje': 'Africa', 'musica': 'Pop latino/reguetón', 'prioridad_pareja': 'Limpieza', 'terapia': 'Como mis penas', 'nombre': '71'}\n",
            "{'orientacion': 'Heterosexual', 'genero': 'Mujer', 'telefono': 1, 'mascota': 'Gatos', 'signo': 'Acuario', 'entretenimiento': 'Series', 'pasatiempo': 'Interior(Cines, en casa, etc.)', 'personalidad': 'Introvertido', 'peliculas': 'Piratas del caribe', 'comida': 'Dulces', 'loteria': 'Gastarlo en familia y en ti', 'bebida': 'Cafe', 'b_alcoholica': '(Ron, vodka, Tequila, singani) y sus cocteles', 'viaje': 'El caribe', 'musica': 'Cumbiones/Nacional', 'prioridad_pareja': 'Sentido del humor', 'terapia': 'Entretenimiento(Peliculas, series, musica)', 'nombre': '72'}\n",
            "{'orientacion': 'Heterosexual', 'genero': 'Mujer', 'telefono': 1, 'mascota': 'Aves', 'signo': 'Sagitario', 'entretenimiento': 'Peliculas', 'pasatiempo': 'Interior(Cines, en casa, etc.)', 'personalidad': 'Introvertido pero abierto a nuevas experiencias', 'peliculas': 'MCU(Marvel)', 'comida': 'Salado', 'loteria': 'Hacer caridad', 'bebida': 'Agua', 'b_alcoholica': 'No tomo', 'viaje': 'El caribe', 'musica': 'Alternativa/Indie', 'prioridad_pareja': 'Madurez', 'terapia': 'Busco alguien para desahogarme', 'nombre': '73'}\n",
            "{'orientacion': 'Heterosexual', 'genero': 'Hombre', 'telefono': 1, 'mascota': 'Perros', 'signo': 'Leo', 'entretenimiento': 'Libros', 'pasatiempo': 'Exterior(Parques, restaurantes, etc.)', 'personalidad': 'Extrovertido pero timido', 'peliculas': 'Harry potter', 'comida': 'Salado', 'loteria': 'Hacer fiestas grandes', 'bebida': 'Te', 'b_alcoholica': 'Cerveza', 'viaje': 'Estados unidos', 'musica': 'Pop latino/reguetón', 'prioridad_pareja': 'Fisico', 'terapia': 'Busco alguien para desahogarme', 'nombre': '74'}\n",
            "{'orientacion': 'Heterosexual', 'genero': 'Hombre', 'telefono': 1, 'mascota': 'Perros', 'signo': 'Aries', 'entretenimiento': 'Libros', 'pasatiempo': 'Exterior(Parques, restaurantes, etc.)', 'personalidad': 'Introvertido', 'peliculas': 'Harry potter', 'comida': 'Dulces', 'loteria': 'Gastarlo en familia y en ti', 'bebida': 'Te', 'b_alcoholica': 'Guarapo', 'viaje': 'Africa', 'musica': 'Pop latino/reguetón', 'prioridad_pareja': 'Sentido del humor', 'terapia': 'Como mis penas', 'nombre': '75'}\n",
            "{'orientacion': 'Heterosexual', 'genero': 'Mujer', 'telefono': 1, 'mascota': 'Gatos', 'signo': 'Leo', 'entretenimiento': 'Videojuegos', 'pasatiempo': 'Interior(Cines, en casa, etc.)', 'personalidad': 'Extrovertido pero timido', 'peliculas': 'Piratas del caribe', 'comida': 'Dulces', 'loteria': 'Hacer fiestas grandes', 'bebida': 'Cafe', 'b_alcoholica': 'Cerveza', 'viaje': 'Africa', 'musica': 'Cumbiones/Nacional', 'prioridad_pareja': 'Fisico', 'terapia': 'Busco alguien para desahogarme', 'nombre': '76'}\n",
            "{'orientacion': 'Heterosexual', 'genero': 'Hombre', 'telefono': 1, 'mascota': 'Perros', 'signo': 'Virgo', 'entretenimiento': 'Videojuegos', 'pasatiempo': 'Exterior(Parques, restaurantes, etc.)', 'personalidad': 'Extrovertido pero timido', 'peliculas': 'Harry potter', 'comida': 'Salado', 'loteria': 'Invertirlo', 'bebida': 'Te', 'b_alcoholica': 'Cerveza', 'viaje': 'Asia', 'musica': 'Pop latino/reguetón', 'prioridad_pareja': 'Dinero/estatus social', 'terapia': 'Vivo con el dolor', 'nombre': '77'}\n",
            "{'orientacion': 'Homosexual', 'genero': 'Hombre', 'telefono': 1, 'mascota': 'Mucha responsabilidad', 'signo': 'Sagitario', 'entretenimiento': 'Series', 'pasatiempo': 'Exterior(Parques, restaurantes, etc.)', 'personalidad': 'Introvertido pero abierto a nuevas experiencias', 'peliculas': 'Star wars', 'comida': 'No tengo preferencia', 'loteria': 'Hacer caridad', 'bebida': 'Jugos de fruta', 'b_alcoholica': 'No tomo', 'viaje': 'Asia', 'musica': 'Rock español/ingles', 'prioridad_pareja': 'Madurez', 'terapia': 'Como mis penas', 'nombre': '78'}\n",
            "{'orientacion': 'Heterosexual', 'genero': 'Mujer', 'telefono': 1, 'mascota': 'Perros', 'signo': 'Sagitario', 'entretenimiento': 'Series', 'pasatiempo': 'Interior(Cines, en casa, etc.)', 'personalidad': 'Introvertido pero abierto a nuevas experiencias', 'peliculas': 'Harry potter', 'comida': 'Salado', 'loteria': 'Hacer caridad', 'bebida': 'Te', 'b_alcoholica': 'No tomo', 'viaje': 'Europa', 'musica': 'Cumbiones/Nacional', 'prioridad_pareja': 'Madurez', 'terapia': 'Como mis penas', 'nombre': '79'}\n",
            "{'orientacion': 'Heterosexual', 'genero': 'Mujer', 'telefono': 1, 'mascota': 'Aves', 'signo': 'Capricornio', 'entretenimiento': 'Series', 'pasatiempo': 'Interior(Cines, en casa, etc.)', 'personalidad': 'Introvertido pero abierto a nuevas experiencias', 'peliculas': 'MCU(Marvel)', 'comida': 'Salado', 'loteria': 'Hacer caridad', 'bebida': 'Agua', 'b_alcoholica': 'No tomo', 'viaje': 'El caribe', 'musica': 'Cumbiones/Nacional', 'prioridad_pareja': 'Madurez', 'terapia': 'Busco alguien para desahogarme', 'nombre': '80'}\n",
            "{'orientacion': 'Homosexual', 'genero': 'Hombre', 'telefono': 1, 'mascota': 'Mucha responsabilidad', 'signo': 'Cancer', 'entretenimiento': 'Peliculas', 'pasatiempo': 'Exterior(Parques, restaurantes, etc.)', 'personalidad': 'Extrovertido', 'peliculas': 'Star wars', 'comida': 'No tengo preferencia', 'loteria': 'Hacer fiestas grandes', 'bebida': 'Jugos de fruta', 'b_alcoholica': 'Vino', 'viaje': 'El caribe', 'musica': 'Pop latino/reguetón', 'prioridad_pareja': 'Fisico', 'terapia': 'Ejercicio', 'nombre': '81'}\n",
            "{'orientacion': 'Heterosexual', 'genero': 'Mujer', 'telefono': 1, 'mascota': 'Gatos', 'signo': 'Leo', 'entretenimiento': 'Libros', 'pasatiempo': 'Interior(Cines, en casa, etc.)', 'personalidad': 'Extrovertido pero timido', 'peliculas': 'Piratas del caribe', 'comida': 'Dulces', 'loteria': 'Hacer fiestas grandes', 'bebida': 'Cafe', 'b_alcoholica': 'Cerveza', 'viaje': 'Estados unidos', 'musica': 'Pop en ingles', 'prioridad_pareja': 'Fisico', 'terapia': 'Como mis penas', 'nombre': '82'}\n",
            "{'orientacion': 'Bisexual', 'genero': 'Mujer', 'telefono': 1, 'mascota': 'Reptiles', 'signo': 'Tauro', 'entretenimiento': 'Peliculas', 'pasatiempo': 'Interior(Cines, en casa, etc.)', 'personalidad': 'Extrovertido', 'peliculas': 'Distopica juvenil(Juegos del hambre, maze runner, etc)', 'comida': 'Ambos juntos', 'loteria': 'Viajar por el mundo', 'bebida': 'Soda', 'b_alcoholica': 'Guarapo', 'viaje': 'Europa', 'musica': 'Cumbiones/Nacional', 'prioridad_pareja': 'Limpieza', 'terapia': 'Como mis penas', 'nombre': '83'}\n",
            "{'orientacion': 'Homosexual', 'genero': 'Mujer', 'telefono': 1, 'mascota': 'Reptiles', 'signo': 'Tauro', 'entretenimiento': 'Peliculas', 'pasatiempo': 'Interior(Cines, en casa, etc.)', 'personalidad': 'Extrovertido', 'peliculas': 'Distopica juvenil(Juegos del hambre, maze runner, etc)', 'comida': 'No tengo preferencia', 'loteria': 'Viajar por el mundo', 'bebida': 'Soda', 'b_alcoholica': 'Guarapo', 'viaje': 'Estados unidos', 'musica': 'Cumbiones/Nacional', 'prioridad_pareja': 'Limpieza', 'terapia': 'Busco alguien para desahogarme', 'nombre': '84'}\n",
            "{'orientacion': 'Bisexual', 'genero': 'Hombre', 'telefono': 1, 'mascota': 'Reptiles', 'signo': 'Tauro', 'entretenimiento': 'Series', 'pasatiempo': 'Exterior(Parques, restaurantes, etc.)', 'personalidad': 'Extrovertido', 'peliculas': 'Distopica juvenil(Juegos del hambre, maze runner, etc)', 'comida': 'Ambos juntos', 'loteria': 'Viajar por el mundo', 'bebida': 'Soda', 'b_alcoholica': 'Guarapo', 'viaje': 'Estados unidos', 'musica': 'Pop latino/reguetón', 'prioridad_pareja': 'Limpieza', 'terapia': 'Vivo con el dolor', 'nombre': '85'}\n",
            "{'orientacion': 'Heterosexual', 'genero': 'Hombre', 'telefono': 1, 'mascota': 'Aves', 'signo': 'Tauro', 'entretenimiento': 'Series', 'pasatiempo': 'Exterior(Parques, restaurantes, etc.)', 'personalidad': 'Extrovertido', 'peliculas': 'MCU(Marvel)', 'comida': 'Ambos juntos', 'loteria': 'Viajar por el mundo', 'bebida': 'Agua', 'b_alcoholica': 'Guarapo', 'viaje': 'Europa', 'musica': 'Rock español/ingles', 'prioridad_pareja': 'Limpieza', 'terapia': 'Entretenimiento(Peliculas, series, musica)', 'nombre': '86'}\n",
            "{'orientacion': 'Homosexual', 'genero': 'Mujer', 'telefono': 1, 'mascota': 'Mucha responsabilidad', 'signo': 'Libra', 'entretenimiento': 'Videojuegos', 'pasatiempo': 'Interior(Cines, en casa, etc.)', 'personalidad': 'Extrovertido pero timido', 'peliculas': 'Star wars', 'comida': 'No tengo preferencia', 'loteria': 'Invertirlo', 'bebida': 'Jugos de fruta', 'b_alcoholica': 'Licores dulces(Jagger, 3 plumas, goss cake, etc)', 'viaje': 'El caribe', 'musica': 'Alternativa/Indie', 'prioridad_pareja': 'Dinero/estatus social', 'terapia': 'Busco alguien para desahogarme', 'nombre': '87'}\n",
            "{'orientacion': 'Heterosexual', 'genero': 'Hombre', 'telefono': 1, 'mascota': 'Perros', 'signo': 'Cancer', 'entretenimiento': 'Videojuegos', 'pasatiempo': 'Exterior(Parques, restaurantes, etc.)', 'personalidad': 'Extrovertido', 'peliculas': 'Harry potter', 'comida': 'Salado', 'loteria': 'Hacer fiestas grandes', 'bebida': 'Te', 'b_alcoholica': 'Vino', 'viaje': 'Asia', 'musica': 'Pop latino/reguetón', 'prioridad_pareja': 'Fisico', 'terapia': 'Entretenimiento(Peliculas, series, musica)', 'nombre': '88'}\n",
            "{'orientacion': 'Heterosexual', 'genero': 'Mujer', 'telefono': 1, 'mascota': 'Aves', 'signo': 'Geminis', 'entretenimiento': 'Videojuegos', 'pasatiempo': 'Interior(Cines, en casa, etc.)', 'personalidad': 'Extrovertido', 'peliculas': 'MCU(Marvel)', 'comida': 'Ambos juntos', 'loteria': 'Viajar por el mundo', 'bebida': 'Agua', 'b_alcoholica': 'Vino', 'viaje': 'Asia', 'musica': 'Alternativa/Indie', 'prioridad_pareja': 'Limpieza', 'terapia': 'Como mis penas', 'nombre': '89'}\n",
            "{'orientacion': 'Heterosexual', 'genero': 'Mujer', 'telefono': 1, 'mascota': 'Perros', 'signo': 'Sagitario', 'entretenimiento': 'Series', 'pasatiempo': 'Interior(Cines, en casa, etc.)', 'personalidad': 'Introvertido pero abierto a nuevas experiencias', 'peliculas': 'Harry potter', 'comida': 'Salado', 'loteria': 'Hacer caridad', 'bebida': 'Te', 'b_alcoholica': 'No tomo', 'viaje': 'Asia', 'musica': 'Cumbiones/Nacional', 'prioridad_pareja': 'Madurez', 'terapia': 'Vivo con el dolor', 'nombre': '90'}\n",
            "{'orientacion': 'Heterosexual', 'genero': 'Hombre', 'telefono': 1, 'mascota': 'Perros', 'signo': 'Virgo', 'entretenimiento': 'Videojuegos', 'pasatiempo': 'Exterior(Parques, restaurantes, etc.)', 'personalidad': 'Extrovertido pero timido', 'peliculas': 'Harry potter', 'comida': 'Salado', 'loteria': 'Hacer fiestas grandes', 'bebida': 'Te', 'b_alcoholica': 'Cerveza', 'viaje': 'El caribe', 'musica': 'Rock español/ingles', 'prioridad_pareja': 'Fisico', 'terapia': 'Como mis penas', 'nombre': '91'}\n",
            "{'orientacion': 'Heterosexual', 'genero': 'Mujer', 'telefono': 1, 'mascota': 'Aves', 'signo': 'Capricornio', 'entretenimiento': 'Peliculas', 'pasatiempo': 'Interior(Cines, en casa, etc.)', 'personalidad': 'Introvertido pero abierto a nuevas experiencias', 'peliculas': 'MCU(Marvel)', 'comida': 'Ambos juntos', 'loteria': 'Hacer caridad', 'bebida': 'Agua', 'b_alcoholica': 'No tomo', 'viaje': 'Asia', 'musica': 'Cumbiones/Nacional', 'prioridad_pareja': 'Madurez', 'terapia': 'Busco alguien para desahogarme', 'nombre': '92'}\n",
            "{'orientacion': 'Homosexual', 'genero': 'Hombre', 'telefono': 1, 'mascota': 'Mucha responsabilidad', 'signo': 'Virgo', 'entretenimiento': 'Peliculas', 'pasatiempo': 'Exterior(Parques, restaurantes, etc.)', 'personalidad': 'Extrovertido pero timido', 'peliculas': 'Star wars', 'comida': 'No tengo preferencia', 'loteria': 'Invertirlo', 'bebida': 'Jugos de fruta', 'b_alcoholica': 'Cerveza', 'viaje': 'Estados unidos', 'musica': 'Pop latino/reguetón', 'prioridad_pareja': 'Dinero/estatus social', 'terapia': 'Como mis penas', 'nombre': '93'}\n",
            "{'orientacion': 'Heterosexual', 'genero': 'Mujer', 'telefono': 1, 'mascota': 'Perros', 'signo': 'Escorpio', 'entretenimiento': 'Videojuegos', 'pasatiempo': 'Interior(Cines, en casa, etc.)', 'personalidad': 'Introvertido pero abierto a nuevas experiencias', 'peliculas': 'Harry potter', 'comida': 'Dulces', 'loteria': 'Hacer caridad', 'bebida': 'Te', 'b_alcoholica': 'Licores dulces(Jagger, 3 plumas, goss cake, etc)', 'viaje': 'El caribe', 'musica': 'Cumbiones/Nacional', 'prioridad_pareja': 'Madurez', 'terapia': 'Ejercicio', 'nombre': '94'}\n",
            "{'orientacion': 'Heterosexual', 'genero': 'Hombre', 'telefono': 1, 'mascota': 'Gatos', 'signo': 'Capricornio', 'entretenimiento': 'Videojuegos', 'pasatiempo': 'Exterior(Parques, restaurantes, etc.)', 'personalidad': 'Introvertido pero abierto a nuevas experiencias', 'peliculas': 'Piratas del caribe', 'comida': 'Dulces', 'loteria': 'Hacer caridad', 'bebida': 'Cafe', 'b_alcoholica': 'No tomo', 'viaje': 'Asia', 'musica': 'Pop en ingles', 'prioridad_pareja': 'Madurez', 'terapia': 'Vivo con el dolor', 'nombre': '95'}\n",
            "{'orientacion': 'Heterosexual', 'genero': 'Hombre', 'telefono': 1, 'mascota': 'Perros', 'signo': 'Tauro', 'entretenimiento': 'Peliculas', 'pasatiempo': 'Exterior(Parques, restaurantes, etc.)', 'personalidad': 'Extrovertido', 'peliculas': 'Harry potter', 'comida': 'Dulces', 'loteria': 'Viajar por el mundo', 'bebida': 'Te', 'b_alcoholica': 'Guarapo', 'viaje': 'Asia', 'musica': 'Rock español/ingles', 'prioridad_pareja': 'Limpieza', 'terapia': 'Vivo con el dolor', 'nombre': '96'}\n"
          ]
        }
      ],
      "source": [
        "for item in json_data:\n",
        "  print(item)\n",
        "    #for data_item in item['data']:"
      ]
    },
    {
      "cell_type": "code",
      "execution_count": null,
      "metadata": {
        "colab": {
          "base_uri": "https://localhost:8080/"
        },
        "id": "GsYXzZlRJU4X",
        "outputId": "a802607a-0033-461b-c18f-8b8c00aa7577"
      },
      "outputs": [
        {
          "output_type": "execute_result",
          "data": {
            "text/plain": [
              "{'orientacion': 'Heterosexual',\n",
              " 'genero': 'Hombre',\n",
              " 'telefono': 1,\n",
              " 'mascota': 'Perros',\n",
              " 'signo': 'Tauro',\n",
              " 'entretenimiento': 'Peliculas',\n",
              " 'pasatiempo': 'Exterior(Parques, restaurantes, etc.)',\n",
              " 'personalidad': 'Extrovertido',\n",
              " 'peliculas': 'Harry potter',\n",
              " 'comida': 'Dulces',\n",
              " 'loteria': 'Viajar por el mundo',\n",
              " 'bebida': 'Te',\n",
              " 'b_alcoholica': 'Guarapo',\n",
              " 'viaje': 'Asia',\n",
              " 'musica': 'Rock español/ingles',\n",
              " 'prioridad_pareja': 'Limpieza',\n",
              " 'terapia': 'Vivo con el dolor',\n",
              " 'nombre': '96'}"
            ]
          },
          "metadata": {},
          "execution_count": 67
        }
      ],
      "source": [
        "json_data[98]"
      ]
    },
    {
      "cell_type": "code",
      "execution_count": null,
      "metadata": {
        "id": "_EyG5Zva7mia"
      },
      "outputs": [],
      "source": [
        "def readDataframes():\n",
        "  concatenate_string = ''\n",
        "  numPregunta = 1\n",
        "  dfname = ''\n",
        "  while numPregunta <= 1:\n",
        "    concatenate_string  = 'Pregunta' + str(numPregunta) + '.csv'\n",
        "    dfname = 'df'+ str(numPregunta)\n",
        "    df1 = pd.read_csv('Pregunta1.csv', index_col='col_name')\n",
        "    numPregunta += 1"
      ]
    },
    {
      "cell_type": "code",
      "execution_count": null,
      "metadata": {
        "id": "I7ouD36R7m0k"
      },
      "outputs": [],
      "source": [
        "#tot = 0\n",
        "#tot = df.loc[[\"Gatos\"],[\"Gatos\"]].squeeze()\n",
        "#tot"
      ]
    },
    {
      "cell_type": "code",
      "execution_count": null,
      "metadata": {
        "id": "tnjfiqZ77nZ_"
      },
      "outputs": [],
      "source": [
        "def getRespuestaPorPregunta(p1,p2):\n",
        "  numPregunta = 0\n",
        "  tot = 0\n",
        "  concatenate_string = ''\n",
        "  df1 = pd.read_csv('Pregunta1.csv', index_col='col_name')\n",
        "  while numPregunta < 1:\n",
        "    concatenate_string  = 'df' + str(numPregunta+1)\n",
        "    print(concatenate_string)\n",
        "    tot += df1.loc[p1[nombrePregunta[numPregunta]]],[p2[nombrePregunta[numPregunta]]].squeeze()\n",
        "    numPregunta += 1\n",
        "  return tot"
      ]
    },
    {
      "cell_type": "code",
      "execution_count": null,
      "metadata": {
        "id": "ZwfxGEiEPr5i"
      },
      "outputs": [],
      "source": [
        "#tot = 0\n",
        "#numPregunta = 0 #el numero de pregunta sera menor a la pregunta por 1\n",
        "#concatenate_string  = 'df' + str(numPregunta+1)\n",
        "#df1 = pd.read_csv('Pregunta1.csv', index_col='col_name')\n",
        "#tot += df1.loc[[json_data[0][nombrePregunta[numPregunta]]],[json_data[1][nombrePregunta[numPregunta]]]].squeeze()\n",
        "#print(tot)"
      ]
    },
    {
      "cell_type": "code",
      "execution_count": null,
      "metadata": {
        "id": "91PHKFgB7ni-"
      },
      "outputs": [],
      "source": [
        "#readDataframes()\n",
        "#print(getRespuestaPorPregunta(json_data[0], json_data[1]))"
      ]
    },
    {
      "cell_type": "code",
      "execution_count": null,
      "metadata": {
        "id": "R-omtx9I7nsH"
      },
      "outputs": [],
      "source": [
        "def get_valor_pregunta(numPregunta,p1,p2,key):\n",
        "    total=0\n",
        "    concatenate_string  = 'Pregunta' + str(numPregunta) + '.tsv'\n",
        "    df = pd.read_csv(concatenate_string, index_col='col_name', sep=\"\\t\")\n",
        "    total=df.loc[[p1[key]],[p2[key]]].squeeze()\n",
        "    return total"
      ]
    },
    {
      "cell_type": "code",
      "execution_count": null,
      "metadata": {
        "id": "fHwvxlkz7n06",
        "colab": {
          "base_uri": "https://localhost:8080/"
        },
        "outputId": "4faf8ed5-8d7f-415b-878d-9c6360bff851"
      },
      "outputs": [
        {
          "output_type": "execute_result",
          "data": {
            "text/plain": [
              "dict_keys(['orientacion', 'genero', 'telefono', 'mascota', 'signo', 'entretenimiento', 'pasatiempo', 'personalidad', 'peliculas', 'comida', 'loteria', 'bebida', 'b_alcoholica', 'viaje', 'musica', 'prioridad_pareja', 'terapia', 'nombre'])"
            ]
          },
          "metadata": {},
          "execution_count": 74
        }
      ],
      "source": [
        "json_data[0].keys()"
      ]
    },
    {
      "cell_type": "code",
      "execution_count": null,
      "metadata": {
        "id": "8NtPl_kv7n9F"
      },
      "outputs": [],
      "source": [
        "lista_keys=list(json_data[0].keys())"
      ]
    },
    {
      "cell_type": "code",
      "execution_count": null,
      "metadata": {
        "id": "vHDB4rlk7oFX",
        "colab": {
          "base_uri": "https://localhost:8080/",
          "height": 35
        },
        "outputId": "b95972df-3bde-451c-b577-b8196470b805"
      },
      "outputs": [
        {
          "output_type": "execute_result",
          "data": {
            "text/plain": [
              "'mascota'"
            ],
            "application/vnd.google.colaboratory.intrinsic+json": {
              "type": "string"
            }
          },
          "metadata": {},
          "execution_count": 76
        }
      ],
      "source": [
        "lista_keys[3]"
      ]
    },
    {
      "cell_type": "code",
      "execution_count": null,
      "metadata": {
        "colab": {
          "base_uri": "https://localhost:8080/",
          "height": 35
        },
        "id": "iyjunt-09fHE",
        "outputId": "2edde323-014e-4d6a-a2ed-eaa55b6d8f4d"
      },
      "outputs": [
        {
          "output_type": "execute_result",
          "data": {
            "text/plain": [
              "'Perros'"
            ],
            "application/vnd.google.colaboratory.intrinsic+json": {
              "type": "string"
            }
          },
          "metadata": {},
          "execution_count": 77
        }
      ],
      "source": [
        "json_data[1][\"mascota\"]"
      ]
    },
    {
      "cell_type": "code",
      "execution_count": null,
      "metadata": {
        "colab": {
          "base_uri": "https://localhost:8080/",
          "height": 35
        },
        "id": "OBwa3yJt9fHF",
        "outputId": "7402b1ee-d470-4a7f-86b6-aceaa1264a70"
      },
      "outputs": [
        {
          "output_type": "execute_result",
          "data": {
            "text/plain": [
              "'Perros'"
            ],
            "application/vnd.google.colaboratory.intrinsic+json": {
              "type": "string"
            }
          },
          "metadata": {},
          "execution_count": 78
        }
      ],
      "source": [
        "json_data[2][\"mascota\"]"
      ]
    },
    {
      "cell_type": "code",
      "execution_count": null,
      "metadata": {
        "colab": {
          "base_uri": "https://localhost:8080/"
        },
        "id": "kqOkCg1u9fHF",
        "outputId": "1680615d-e343-4230-9a88-a01cfaa7d1fb"
      },
      "outputs": [
        {
          "output_type": "execute_result",
          "data": {
            "text/plain": [
              "10"
            ]
          },
          "metadata": {},
          "execution_count": 79
        }
      ],
      "source": [
        "resultado=get_valor_pregunta(1,json_data[0],json_data[0],lista_keys[3])\n",
        "resultado"
      ]
    },
    {
      "cell_type": "code",
      "source": [
        "#esta funcion revisa si las 2 personas estan interesadas entre si\n",
        "#para evitar que gente homosexual salga con gente Heterosexual y \n",
        "#casos que no serian correcto enparejarlos\n",
        "#retorna verdadero en caso que las parejas funcionen y falso si no deberian de juntarse\n",
        "def relacion_entre_interesados(p1,p2):\n",
        "  op1 = p1[\"orientacion\"] #op = orientacion persona\n",
        "  gp1 = p1[\"genero\"]      #gp = genero persona\n",
        "  op2 = p2[\"orientacion\"]\n",
        "  gp2 = p2[\"genero\"]\n",
        "  if(op1 == \"Homosexual\" or op1 == \"Bisexual\"):\n",
        "    if(gp1 == gp2 and (op2 == \"Homosexual\" or op2 == \"Bisexual\")):\n",
        "      return True\n",
        "  \n",
        "  if(op1 == \"Heterosexual\" or op1 == \"Bisexual\"):\n",
        "     if(gp1 != gp2 and (op2 == \"Heterosexual\" or op2 == \"Bisexual\")):\n",
        "      return True\n",
        "\n",
        "  return False"
      ],
      "metadata": {
        "id": "1DBktU9ICufU"
      },
      "execution_count": null,
      "outputs": []
    },
    {
      "cell_type": "code",
      "execution_count": null,
      "metadata": {
        "id": "J08mXQek9fHF"
      },
      "outputs": [],
      "source": [
        "def calcular_indice(p1,p2):\n",
        "    indice=0\n",
        "    counter=1\n",
        "    if relacion_entre_interesados(p1,p2) == True:\n",
        "      for i in range(3,16):\n",
        "          #print(get_valor_pregunta(counter,p1,p2,lista_keys[i]))\n",
        "          indice += get_valor_pregunta(counter,p1,p2,lista_keys[i])\n",
        "          counter+=1\n",
        "    return indice"
      ]
    },
    {
      "cell_type": "code",
      "execution_count": null,
      "metadata": {
        "colab": {
          "base_uri": "https://localhost:8080/"
        },
        "id": "IpanUFL-9fHG",
        "outputId": "1c90a804-fec3-4249-a7e4-04fe3785db9c"
      },
      "outputs": [
        {
          "output_type": "execute_result",
          "data": {
            "text/plain": [
              "74"
            ]
          },
          "metadata": {},
          "execution_count": 82
        }
      ],
      "source": [
        "res=calcular_indice(json_data[4],json_data[5])\n",
        "res"
      ]
    },
    {
      "cell_type": "code",
      "source": [
        "#el algoritmo recorre la lista con una misma persona y luego se consigue sus mejores matches\n",
        "#guarda los resultados en un diccionario con nombre y score y luego los devuelve sorted\n",
        "def usar_algoritmo_con_una_persona(p1):\n",
        "  dictionary = {}\n",
        "  res=0\n",
        "  for persona in json_data:\n",
        "    if(persona[\"nombre\"] != p1[\"nombre\"]):\n",
        "      res=calcular_indice(p1,persona)\n",
        "      #print(persona[\"nombre\"], \"/\", p1[\"nombre\"])\n",
        "    \n",
        "    dictionary[persona[\"nombre\"]] = []\n",
        "    dictionary[persona[\"nombre\"]] = res\n",
        "    res=0\n",
        "\n",
        "  return dict(dictionary.items())"
      ],
      "metadata": {
        "id": "xLQmgptXGPTD"
      },
      "execution_count": null,
      "outputs": []
    },
    {
      "cell_type": "code",
      "source": [
        "print(\"la lista para\",json_data[91][\"nombre\"], \"es:\" )\n",
        "lista = usar_algoritmo_con_una_persona(json_data[91])\n",
        "print(lista)"
      ],
      "metadata": {
        "colab": {
          "base_uri": "https://localhost:8080/"
        },
        "id": "vMsKABEvNU_o",
        "outputId": "89a0af05-dbe5-4b06-b96d-20f59cef264e"
      },
      "execution_count": null,
      "outputs": [
        {
          "output_type": "stream",
          "name": "stdout",
          "text": [
            "la lista para 89 es:\n",
            "{'gigachad': 95, 'Nicolas Cari': 85, 'gabriel balderrama': 79, '1': 0, '2': 70, '3': 0, '4': 0, '5': 0, '6': 0, '7': 86, '8': 74, '9': 0, '10': 0, '11': 0, '12': 0, '13': 0, '14': 85, '15': 0, '16': 0, '17': 67, '18': 76, '19': 86, '20': 78, '21': 0, '22': 0, '23': 0, '24': 73, '25': 0, '26': 74, '27': 85, '28': 0, '29': 0, '30': 0, '31': 74, '32': 0, '33': 66, '34': 0, '35': 75, '36': 0, '37': 0, '38': 0, '39': 0, '40': 98, '41': 0, '42': 0, '43': 0, '44': 82, '45': 80, '46': 62, '47': 0, '48': 0, '49': 0, '50': 0, '51': 70, '52': 0, '53': 76, '54': 0, '55': 69, '56': 0, '57': 80, '58': 0, '59': 0, '60': 0, '61': 95, '62': 69, '63': 78, '64': 57, '65': 84, '66': 0, '67': 0, '68': 0, '69': 72, '70': 90, '71': 0, '72': 0, '73': 0, '74': 69, '75': 60, '76': 0, '77': 70, '78': 0, '79': 0, '80': 0, '81': 0, '82': 0, '83': 0, '84': 0, '85': 83, '86': 95, '87': 0, '88': 73, '89': 0, '90': 0, '91': 73, '92': 0, '93': 0, '94': 0, '95': 83, '96': 91}\n"
          ]
        }
      ]
    },
    {
      "cell_type": "code",
      "source": [
        "def lista_maximos_scores(json_data):\n",
        "    dictionary={}\n",
        "    for persona in json_data:\n",
        "        print(persona[\"nombre\"])\n",
        "        dictionary[persona[\"nombre\"]] = []\n",
        "        dictionary[persona[\"nombre\"]] = usar_algoritmo_con_una_persona(persona)\n",
        "    return dictionary"
      ],
      "metadata": {
        "id": "ifzMfpojb9N5"
      },
      "execution_count": null,
      "outputs": []
    },
    {
      "cell_type": "code",
      "source": [
        "lista_completa = lista_maximos_scores(json_data)"
      ],
      "metadata": {
        "colab": {
          "base_uri": "https://localhost:8080/"
        },
        "id": "wteiJoarjvDf",
        "outputId": "4eca35a3-feb9-445f-a19b-8b65978e513c"
      },
      "execution_count": null,
      "outputs": [
        {
          "output_type": "stream",
          "name": "stdout",
          "text": [
            "gigachad\n",
            "Nicolas Cari\n",
            "gabriel balderrama\n",
            "1\n",
            "2\n",
            "3\n",
            "4\n",
            "5\n",
            "6\n",
            "7\n",
            "8\n",
            "9\n",
            "10\n",
            "11\n",
            "12\n",
            "13\n",
            "14\n",
            "15\n",
            "16\n",
            "17\n",
            "18\n",
            "19\n",
            "20\n",
            "21\n",
            "22\n",
            "23\n",
            "24\n",
            "25\n",
            "26\n",
            "27\n",
            "28\n",
            "29\n",
            "30\n",
            "31\n",
            "32\n",
            "33\n",
            "34\n",
            "35\n",
            "36\n",
            "37\n",
            "38\n",
            "39\n",
            "40\n",
            "41\n",
            "42\n",
            "43\n",
            "44\n",
            "45\n",
            "46\n",
            "47\n",
            "48\n",
            "49\n",
            "50\n",
            "51\n",
            "52\n",
            "53\n",
            "54\n",
            "55\n",
            "56\n",
            "57\n",
            "58\n",
            "59\n",
            "60\n",
            "61\n",
            "62\n",
            "63\n",
            "64\n",
            "65\n",
            "66\n",
            "67\n",
            "68\n",
            "69\n",
            "70\n",
            "71\n",
            "72\n",
            "73\n",
            "74\n",
            "75\n",
            "76\n",
            "77\n",
            "78\n",
            "79\n",
            "80\n",
            "81\n",
            "82\n",
            "83\n",
            "84\n",
            "85\n",
            "86\n",
            "87\n",
            "88\n",
            "89\n",
            "90\n",
            "91\n",
            "92\n",
            "93\n",
            "94\n",
            "95\n",
            "96\n"
          ]
        }
      ]
    },
    {
      "cell_type": "code",
      "source": [
        "print(lista_completa)"
      ],
      "metadata": {
        "colab": {
          "base_uri": "https://localhost:8080/"
        },
        "id": "ap6mNVUtk-3Q",
        "outputId": "61e71d48-25b5-4f1b-d1f2-20e00d501956"
      },
      "execution_count": null,
      "outputs": [
        {
          "output_type": "stream",
          "name": "stdout",
          "text": [
            "{'gigachad': {'89': 95, '42': 83, '49': 81, '66': 81, '67': 81, '50': 80, '83': 79, '47': 77, '73': 77, '3': 76, '34': 76, '13': 75, '92': 75, '23': 74, '30': 74, '68': 74, '37': 72, '4': 71, '28': 71, '54': 71, '41': 70, '22': 68, '58': 68, '48': 67, '94': 67, '5': 66, '90': 66, '11': 63, '76': 63, '79': 63, '80': 63, '82': 61, '72': 60}, 'Nicolas Cari': {'49': 92, '50': 86, '34': 85, '89': 85, '92': 84, '73': 83, '4': 82, '47': 82, '3': 81, '23': 78, '41': 78, '22': 77, '28': 77, '30': 77, '37': 77, '68': 77, '13': 76, '54': 76, '90': 75, '67': 74, '72': 74, '66': 73, '42': 72, '58': 72, '79': 72, '80': 72, '76': 71, '83': 71, '94': 70, '82': 69, '11': 68, '5': 59, '48': 59}, 'gabriel balderrama': {'42': 93, '90': 91, '34': 90, '66': 90, '83': 90, '79': 88, '92': 88, '28': 87, '73': 87, '22': 85, '80': 84, '68': 82, '3': 81, '50': 81, '89': 79, '49': 78, '94': 78, '13': 77, '30': 77, '41': 75, '48': 75, '76': 75, '67': 74, '23': 72, '47': 72, '58': 71, '72': 71, '4': 70, '5': 69, '11': 69, '37': 69, '82': 68, '54': 62}, '1': {'70': 95, '31': 94, '19': 89, '85': 88, '63': 87, '65': 86, '27': 85, '53': 83, '78': 77, '6': 69, '25': 69, '71': 66, '93': 66, '16': 65, '56': 64, '29': 53, '81': 53}, '2': {'5': 96, '82': 96, '23': 95, '76': 92, '11': 91, '66': 91, '48': 90, '28': 87, '83': 83, '42': 81, '72': 80, '58': 79, '4': 78, '3': 74, '79': 73, '41': 72, '30': 71, '37': 71, '47': 71, '68': 70, '89': 70, '90': 70, '94': 70, '92': 66, '50': 65, '54': 65, '67': 65, '73': 62, '13': 61, '34': 61, '80': 61, '49': 59, '22': 58}, '3': {'86': 86, '40': 83, 'Nicolas Cari': 81, 'gabriel balderrama': 81, '96': 79, '64': 78, '69': 78, 'gigachad': 76, '44': 75, '65': 75, '2': 74, '7': 73, '24': 73, '18': 72, '8': 70, '20': 70, '77': 70, '85': 70, '31': 69, '17': 68, '61': 68, '27': 67, '35': 67, '91': 67, '75': 66, '45': 64, '14': 63, '26': 63, '70': 63, '88': 63, '55': 62, '57': 62, '74': 62, '33': 61, '53': 59, '19': 58, '46': 57, '62': 57, '63': 56, '95': 55, '51': 54}, '4': {'26': 106, '20': 104, '62': 99, '14': 97, '69': 97, '95': 94, '57': 93, '51': 91, '46': 83, 'Nicolas Cari': 82, '2': 78, '17': 77, '61': 76, '64': 75, 'gigachad': 71, '31': 71, 'gabriel balderrama': 70, '96': 70, '40': 69, '45': 69, '70': 69, '35': 68, '75': 68, '86': 68, '44': 67, '53': 67, '7': 66, '18': 66, '74': 66, '33': 65, '63': 65, '8': 63, '19': 62, '24': 61, '91': 61, '85': 59, '77': 58, '88': 58, '55': 55, '27': 50, '65': 49}, '5': {'51': 101, '57': 97, '2': 96, '20': 85, '95': 84, '14': 83, '46': 82, '62': 82, '26': 78, '88': 78, '69': 76, '74': 76, '44': 75, '86': 71, '8': 70, '35': 70, 'gabriel balderrama': 69, '7': 69, '96': 69, 'gigachad': 66, '55': 65, '31': 64, '85': 64, '91': 63, '18': 62, '77': 62, '27': 61, '40': 61, 'Nicolas Cari': 59, '75': 59, '33': 57, '24': 56, '45': 56, '53': 53, '17': 52, '65': 51, '63': 50, '61': 49, '64': 49, '70': 47, '19': 43}, '6': {'71': 89, '85': 83, '27': 80, '93': 76, '16': 75, '78': 74, '25': 71, '29': 71, '81': 71, '31': 70, '56': 70, '1': 69, '65': 66, '53': 65, '63': 64, '70': 64, '19': 61}, '7': {'34': 95, '68': 91, '80': 91, '92': 91, '50': 90, '49': 89, '73': 87, '89': 86, '79': 85, '28': 83, '30': 83, '66': 82, '90': 82, '83': 81, '94': 81, '22': 79, '67': 75, '3': 73, '42': 72, '5': 69, '23': 69, '72': 68, '58': 67, '4': 66, '13': 63, '47': 62, '48': 59, '41': 57, '54': 55, '76': 55, '82': 50, '11': 49, '37': 48}, '8': {'42': 108, '37': 98, '13': 91, '22': 86, '90': 84, '54': 81, '79': 81, '28': 78, '58': 78, '47': 77, '66': 74, '82': 74, '83': 74, '89': 74, '49': 73, '11': 72, '41': 72, '67': 72, '3': 70, '5': 70, '73': 68, '34': 67, '76': 67, '4': 63, '94': 63, '23': 62, '50': 62, '48': 58, '80': 58, '30': 57, '92': 57, '72': 52, '68': 48}, '9': {'83': 86, '10': 76, '21': 75, '59': 75, '84': 75, '12': 70, '38': 70, '15': 69, '32': 68, '39': 68, '60': 65, '36': 63, '43': 62, '54': 61, '87': 61, '52': 59}, '10': {'21': 88, '38': 85, '15': 84, '59': 79, '60': 78, '12': 77, '9': 76, '39': 76, '83': 74, '36': 68, '43': 67, '84': 67, '52': 66, '87': 62, '54': 57, '32': 53}, '11': {'14': 103, '57': 103, '51': 101, '26': 98, '2': 91, '20': 91, '69': 90, '62': 84, '46': 82, '35': 81, '91': 80, '96': 79, '74': 76, '95': 76, '40': 75, '44': 74, '17': 73, '55': 73, '86': 73, '8': 72, '88': 71, 'gabriel balderrama': 69, 'Nicolas Cari': 68, '18': 68, '64': 68, '65': 68, '33': 64, '75': 64, 'gigachad': 63, '27': 63, '85': 63, '45': 61, '61': 61, '24': 59, '53': 56, '77': 56, '31': 54, '7': 49, '19': 46, '63': 46, '70': 42}, '12': {'21': 89, '39': 87, '15': 79, '54': 78, '87': 78, '10': 77, '38': 72, '9': 70, '60': 69, '52': 68, '59': 66, '32': 62, '83': 60, '84': 59, '36': 57, '43': 44}, '13': {'96': 101, '17': 96, '45': 96, '24': 94, '64': 94, '33': 93, '8': 91, '77': 91, '91': 91, '55': 90, '18': 89, '88': 87, '35': 86, '75': 86, '40': 78, 'gabriel balderrama': 77, 'Nicolas Cari': 76, 'gigachad': 75, '27': 75, '74': 75, '65': 74, '69': 74, '44': 73, '86': 73, '61': 70, '19': 69, '26': 68, '70': 67, '85': 66, '62': 65, '7': 63, '20': 63, '57': 63, '63': 63, '95': 63, '14': 62, '2': 61, '31': 58, '53': 58, '46': 56, '51': 50}, '14': {'11': 103, '82': 101, '4': 97, '23': 93, '76': 92, '48': 90, '72': 86, '89': 85, '47': 84, '5': 83, '73': 81, '34': 80, '50': 78, '42': 77, '37': 74, '30': 71, '66': 71, '68': 71, '92': 71, '94': 70, '49': 68, '54': 68, '90': 68, '22': 67, '79': 67, '80': 67, '83': 67, '28': 64, '3': 63, '13': 62, '58': 60, '67': 60, '41': 58}, '15': {'39': 91, '21': 90, '10': 84, '83': 83, '52': 82, '54': 80, '12': 79, '38': 77, '84': 76, '87': 72, '9': 69, '32': 69, '43': 69, '59': 69, '60': 63, '36': 57}, '16': {'25': 98, '53': 89, '56': 87, '71': 87, '29': 81, '81': 81, '93': 81, '31': 79, '27': 78, '63': 78, '85': 78, '78': 77, '6': 75, '19': 73, '70': 67, '1': 65, '65': 59}, '17': {'22': 99, '13': 96, '42': 90, '94': 88, '34': 87, '37': 86, '73': 85, '49': 82, '79': 82, '90': 82, '80': 79, '4': 77, '50': 77, '58': 75, '11': 73, '41': 72, '47': 72, '72': 72, '30': 70, '92': 69, '3': 68, '68': 67, '89': 67, '83': 66, '23': 63, '48': 63, '67': 62, '82': 62, '54': 61, '66': 59, '76': 59, '28': 54, '5': 52}, '18': {'42': 102, '94': 92, '22': 90, '30': 90, '13': 89, '28': 86, '58': 86, '37': 85, '90': 82, '48': 81, '79': 81, '34': 80, '82': 79, '68': 77, '89': 76, '54': 75, '41': 74, '47': 73, '66': 73, '80': 73, '3': 72, '23': 70, '49': 70, '73': 69, '11': 68, '83': 67, '4': 66, '50': 66, '5': 62, '92': 62, '72': 58, '67': 57, '76': 57}, '19': {'70': 104, '63': 102, '78': 93, '65': 91, '73': 90, '1': 89, '31': 86, '89': 86, '27': 85, '22': 82, '90': 82, '92': 81, '30': 80, '50': 80, '56': 80, '25': 78, '34': 77, '80': 77, '53': 76, '79': 76, '85': 76, '49': 75, '16': 73, '71': 73, '94': 72, '68': 71, '13': 69, '28': 66, '42': 66, '67': 66, '83': 66, '54': 65, '66': 64, '93': 64, '29': 63, '72': 63, '81': 63, '4': 62, '6': 61, '37': 61, '58': 61, '3': 58, '41': 58, '47': 56, '23': 54, '48': 51, '11': 46, '5': 43, '76': 42, '82': 42}, '20': {'4': 104, '23': 98, '72': 94, '11': 91, '82': 88, '5': 85, '49': 85, '76': 85, '50': 82, '48': 81, '89': 78, '34': 74, '73': 73, '47': 71, '92': 71, '3': 70, '79': 68, '22': 67, '37': 67, '30': 66, '68': 66, '94': 66, '58': 65, '90': 65, '13': 63, '42': 63, '80': 62, '41': 61, '54': 61, '66': 61, '67': 58, '83': 57, '28': 54}, '21': {'15': 90, '12': 89, '10': 88, '39': 84, '9': 75, '60': 70, '38': 69, '52': 68, '83': 67, '54': 66, '32': 65, '59': 65, '87': 61, '36': 60, '84': 60, '43': 55}, '22': {'45': 107, '33': 100, '17': 99, '64': 93, '96': 92, '18': 90, '88': 90, '75': 89, '55': 88, '24': 87, '8': 86, 'gabriel balderrama': 85, '35': 85, '77': 85, '40': 83, '19': 82, '91': 82, '7': 79, '70': 79, '44': 78, '95': 78, 'Nicolas Cari': 77, '63': 77, '61': 76, '62': 76, '27': 75, '74': 73, '26': 72, '31': 70, '65': 69, '86': 69, 'gigachad': 68, '14': 67, '20': 67, '69': 67, '53': 66, '85': 66, '2': 58, '57': 57, '46': 56, '51': 48}, '23': {'69': 100, '20': 98, '2': 95, '14': 93, '95': 92, '26': 91, '62': 89, '57': 86, '46': 85, '51': 82, '96': 81, '86': 79, 'Nicolas Cari': 78, 'gigachad': 74, '24': 73, 'gabriel balderrama': 72, '40': 71, '77': 71, '18': 70, '7': 69, '61': 69, '35': 67, '88': 67, '75': 66, '64': 64, '85': 64, '91': 64, '17': 63, '44': 63, '8': 62, '27': 61, '53': 61, '31': 60, '33': 60, '45': 59, '65': 58, '70': 58, '55': 57, '74': 57, '19': 54, '63': 53}, '24': {'42': 98, '13': 94, '22': 87, '90': 85, '41': 83, '79': 82, '37': 81, '58': 80, '3': 73, '23': 73, '89': 73, '94': 73, '34': 72, '28': 71, '49': 71, '83': 71, '73': 70, '66': 67, '47': 64, '50': 64, '54': 64, '67': 62, '76': 62, '92': 62, '4': 61, '48': 60, '82': 60, '11': 59, '80': 59, '30': 58, '68': 58, '5': 56, '72': 53}, '25': {'16': 98, '56': 89, '71': 87, '78': 87, '53': 80, '19': 78, '27': 78, '70': 77, '29': 75, '31': 75, '81': 75, '63': 72, '93': 72, '6': 71, '1': 69, '85': 69, '65': 67}, '26': {'4': 106, '72': 101, '11': 98, '23': 91, '76': 90, '82': 90, '48': 83, '73': 80, '5': 78, '49': 78, '34': 76, '50': 75, '89': 74, '47': 73, '94': 73, '22': 72, '37': 72, '80': 69, '13': 68, '30': 68, '68': 68, '92': 67, '41': 66, '3': 63, '67': 63, '79': 61, '90': 61, '42': 59, '58': 58, '54': 57, '66': 54, '83': 50, '28': 47}, '27': {'65': 104, '85': 90, '28': 88, '71': 87, '1': 85, '19': 85, '30': 85, '89': 85, '94': 85, '63': 84, '67': 84, '68': 84, '83': 84, '54': 82, '66': 82, '92': 82, '53': 81, '70': 81, '6': 80, '31': 79, '16': 78, '25': 78, '37': 78, '80': 78, '29': 77, '81': 77, '41': 76, '58': 76, '13': 75, '22': 75, '42': 75, '93': 75, '47': 73, '50': 72, '56': 72, '34': 70, '78': 70, '76': 68, '90': 68, '3': 67, '73': 67, '48': 66, '11': 63, '49': 63, '79': 62, '5': 61, '23': 61, '72': 60, '82': 60, '4': 50}, '28': {'86': 95, '85': 91, '27': 88, 'gabriel balderrama': 87, '2': 87, '18': 86, '40': 84, '7': 83, '96': 83, '74': 81, '44': 80, '8': 78, '65': 78, 'Nicolas Cari': 77, '77': 77, '88': 74, '51': 73, '55': 73, '63': 73, 'gigachad': 71, '24': 71, '91': 71, '70': 70, '31': 69, '57': 69, '61': 69, '64': 68, '75': 68, '19': 66, '35': 66, '46': 66, '14': 64, '69': 62, '45': 61, '33': 59, '53': 58, '95': 56, '17': 54, '20': 54, '62': 51, '26': 47}, '29': {'81': 103, '71': 86, '56': 84, '93': 84, '16': 81, '27': 77, '85': 77, '25': 75, '6': 71, '53': 70, '31': 68, '63': 68, '65': 68, '78': 67, '19': 63, '70': 55, '1': 53}, '30': {'86': 96, '85': 94, '18': 90, '61': 88, '70': 88, '27': 85, '63': 84, '96': 84, '7': 83, '64': 81, '19': 80, '53': 80, '65': 80, 'Nicolas Cari': 77, 'gabriel balderrama': 77, '75': 77, '95': 77, '40': 76, '31': 75, '69': 75, 'gigachad': 74, '62': 73, '44': 72, '2': 71, '14': 71, '45': 71, '17': 70, '26': 68, '20': 66, '46': 63, '51': 63, '33': 62, '74': 62, '57': 61, '35': 60, '24': 58, '8': 57, '77': 56, '91': 55, '88': 54, '55': 52}, '31': {'1': 94, '53': 90, '63': 89, '70': 89, '49': 88, '19': 86, '92': 84, '50': 83, '85': 82, '83': 80, '16': 79, '27': 79, '79': 79, '66': 78, '78': 78, '34': 77, '80': 77, '54': 76, '90': 76, '25': 75, '30': 75, '58': 75, '68': 74, '89': 74, '72': 73, '47': 72, '73': 72, '4': 71, '56': 71, '67': 71, '6': 70, '22': 70, '93': 70, '3': 69, '28': 69, '65': 69, '29': 68, '81': 68, '71': 67, '94': 67, '37': 65, '5': 64, '41': 62, '42': 62, '23': 60, '82': 59, '13': 58, '76': 55, '11': 54, '48': 52}, '32': {'54': 99, '83': 99, '84': 88, '43': 82, '36': 76, '39': 71, '87': 70, '15': 69, '9': 68, '21': 65, '52': 65, '60': 63, '12': 62, '38': 55, '59': 55, '10': 53}, '33': {'22': 100, '13': 93, '90': 93, '94': 91, '42': 89, '79': 87, '37': 83, '80': 82, '41': 81, '58': 80, '92': 80, '34': 79, '73': 76, '49': 75, '72': 75, '67': 71, '83': 71, '50': 70, '76': 68, '68': 67, '89': 66, '4': 65, '11': 64, '66': 64, '30': 62, '3': 61, '23': 60, '47': 60, '54': 60, '28': 59, '5': 57, '48': 55, '82': 54}, '34': {'7': 95, '40': 94, 'gabriel balderrama': 90, '61': 89, '17': 87, '45': 86, 'Nicolas Cari': 85, '44': 83, '53': 83, '35': 81, '63': 81, '86': 81, '14': 80, '18': 80, '95': 80, '33': 79, '70': 79, '85': 79, '96': 78, '19': 77, '31': 77, 'gigachad': 76, '26': 76, '88': 75, '20': 74, '62': 74, '64': 74, '24': 72, '27': 70, '46': 70, '77': 70, '69': 69, '91': 69, '8': 67, '74': 63, '55': 62, '65': 62, '2': 61, '75': 61, '51': 55, '57': 53}, '35': {'42': 93, '37': 92, '13': 86, '47': 86, '22': 85, '11': 81, '34': 81, '82': 79, '54': 78, '89': 75, '94': 75, '58': 74, '90': 74, '79': 73, '49': 72, '67': 71, '5': 70, '50': 70, '73': 70, '76': 70, '41': 69, '4': 68, '80': 68, '3': 67, '23': 67, '28': 66, '83': 65, '92': 63, '48': 61, '66': 61, '30': 60, '68': 60, '72': 57}, '36': {'83': 88, '43': 86, '60': 82, '54': 81, '84': 81, '32': 76, '10': 68, '38': 64, '9': 63, '59': 62, '21': 60, '52': 58, '12': 57, '15': 57, '87': 56, '39': 51}, '37': {'96': 100, '8': 98, '55': 97, '91': 94, '74': 93, '88': 93, '35': 92, '57': 91, '75': 90, '64': 88, '17': 86, '18': 85, '44': 85, '65': 85, '33': 83, '24': 81, '40': 80, '45': 80, '27': 78, '51': 78, '77': 78, 'Nicolas Cari': 77, '86': 76, '14': 74, 'gigachad': 72, '26': 72, '69': 72, '2': 71, '62': 70, 'gabriel balderrama': 69, '85': 69, '20': 67, '31': 65, '19': 61, '70': 61, '53': 58, '61': 58, '95': 58, '63': 55, '46': 52, '7': 48}, '38': {'10': 85, '59': 81, '39': 79, '83': 79, '15': 77, '84': 77, '12': 72, '54': 72, '43': 71, '87': 71, '9': 70, '52': 70, '21': 69, '36': 64, '60': 61, '32': 55}, '39': {'15': 91, '12': 87, '21': 84, '87': 83, '54': 80, '38': 79, '83': 79, '84': 78, '59': 77, '10': 76, '32': 71, '52': 70, '9': 68, '43': 66, '60': 58, '36': 51}, '40': {'89': 98, '73': 95, '34': 94, '42': 90, '47': 89, '50': 89, '49': 88, '28': 84, '54': 84, '92': 84, '3': 83, '22': 83, '66': 82, '80': 81, '83': 81, '90': 81, '37': 80, '13': 78, '79': 78, '30': 76, '67': 76, '68': 76, '11': 75, '76': 75, '82': 73, '23': 71, '4': 69, '94': 65, '41': 64, '48': 62, '5': 61, '58': 61, '72': 58}, '41': {'75': 99, '96': 90, '77': 89, '64': 85, '24': 83, '88': 82, '33': 81, 'Nicolas Cari': 78, '69': 78, '91': 77, '27': 76, 'gabriel balderrama': 75, '18': 74, '55': 74, '65': 74, '74': 73, '2': 72, '8': 72, '17': 72, '45': 72, 'gigachad': 70, '35': 69, '85': 67, '26': 66, '40': 64, '31': 62, '86': 62, '20': 61, '53': 61, '61': 61, '63': 61, '57': 59, '14': 58, '19': 58, '46': 58, '51': 58, '95': 58, '7': 57, '62': 55, '70': 55, '44': 53}, '42': {'8': 108, '55': 103, '18': 102, '24': 98, '64': 98, '91': 98, '96': 98, '45': 95, '74': 95, '77': 95, 'gabriel balderrama': 93, '35': 93, '65': 93, '75': 92, '88': 91, '17': 90, '40': 90, '33': 89, '44': 87, 'gigachad': 83, '2': 81, '57': 80, '86': 80, '14': 77, '27': 75, '69': 74, '70': 74, '85': 73, 'Nicolas Cari': 72, '7': 72, '62': 72, '51': 70, '46': 69, '95': 69, '19': 66, '53': 64, '20': 63, '31': 62, '61': 61, '26': 59, '63': 58}, '43': {'83': 103, '84': 96, '36': 86, '54': 86, '32': 82, '59': 74, '87': 73, '52': 72, '38': 71, '60': 70, '15': 69, '10': 67, '39': 66, '9': 62, '21': 55, '12': 44}, '44': {'54': 93, '47': 88, '42': 87, '49': 86, '37': 85, '67': 84, '34': 83, '82': 82, '89': 82, '28': 80, '66': 79, '22': 78, '50': 78, '80': 76, '3': 75, '5': 75, '11': 74, '13': 73, '92': 73, '30': 72, '73': 72, '76': 71, '83': 68, '4': 67, '90': 64, '23': 63, '58': 62, '79': 61, '48': 60, '68': 59, '72': 56, '41': 53, '94': 48}, '45': {'22': 107, '13': 96, '42': 95, '90': 95, '94': 92, '73': 90, '79': 89, '34': 86, '50': 81, '80': 81, '37': 80, '89': 80, '49': 79, '92': 79, '41': 72, '30': 71, '58': 71, '67': 70, '4': 69, '68': 68, '72': 67, '83': 65, '3': 64, '11': 61, '28': 61, '23': 59, '48': 58, '66': 58, '47': 57, '54': 57, '5': 56, '76': 53, '82': 47}, '46': {'48': 91, '23': 85, '72': 84, '4': 83, '5': 82, '11': 82, '82': 81, '76': 77, '66': 75, '83': 74, '34': 70, '42': 69, '92': 69, '68': 68, '94': 67, '28': 66, '58': 65, '50': 64, '80': 64, '30': 63, '47': 63, '89': 62, '73': 61, '67': 60, '90': 59, '41': 58, '79': 58, '3': 57, '13': 56, '22': 56, '49': 54, '37': 52, '54': 44}, '47': {'40': 89, '44': 88, '86': 88, '35': 86, '14': 84, '57': 84, '96': 83, 'Nicolas Cari': 82, '51': 82, '85': 82, '74': 81, '91': 79, '65': 78, 'gigachad': 77, '8': 77, '88': 76, '53': 75, '18': 73, '26': 73, '27': 73, 'gabriel balderrama': 72, '17': 72, '31': 72, '2': 71, '20': 71, '61': 71, '69': 71, '55': 69, '64': 67, '62': 65, '24': 64, '46': 63, '7': 62, '70': 61, '77': 61, '33': 60, '63': 59, '75': 59, '45': 57, '95': 57, '19': 56}, '48': {'46': 91, '2': 90, '14': 90, '69': 90, '62': 88, '95': 86, '51': 84, '26': 83, '57': 82, '96': 82, '18': 81, '20': 81, '86': 80, 'gabriel balderrama': 75, '85': 75, '64': 68, 'gigachad': 67, '27': 66, '75': 65, '17': 63, '40': 62, '61': 62, '35': 61, '24': 60, '44': 60, 'Nicolas Cari': 59, '7': 59, '74': 59, '8': 58, '45': 58, '77': 58, '53': 57, '65': 57, '91': 56, '33': 55, '63': 55, '70': 55, '88': 55, '55': 53, '31': 52, '19': 51}, '49': {'Nicolas Cari': 92, '7': 89, '31': 88, '40': 88, '44': 86, '20': 85, '17': 82, '70': 82, '86': 82, 'gigachad': 81, '61': 81, '64': 80, '45': 79, 'gabriel balderrama': 78, '26': 78, '62': 76, '19': 75, '33': 75, '53': 74, '69': 74, '8': 73, '63': 73, '35': 72, '24': 71, '95': 71, '18': 70, '57': 70, '74': 70, '96': 70, '14': 68, '75': 68, '77': 68, '88': 68, '85': 66, '91': 66, '55': 65, '27': 63, '51': 62, '65': 62, '2': 59, '46': 54}, '50': {'86': 91, '7': 90, '61': 90, '40': 89, 'Nicolas Cari': 86, '70': 85, '31': 83, '20': 82, '96': 82, 'gabriel balderrama': 81, '45': 81, '95': 81, 'gigachad': 80, '19': 80, '53': 79, '14': 78, '44': 78, '63': 78, '17': 77, '26': 75, '62': 75, '85': 75, '69': 73, '27': 72, '33': 70, '35': 70, '65': 68, '18': 66, '88': 66, '2': 65, '24': 64, '46': 64, '64': 64, '8': 62, '75': 61, '77': 61, '91': 59, '57': 57, '55': 54, '51': 49, '74': 48}, '51': {'82': 113, '5': 101, '11': 101, '76': 99, '72': 92, '4': 91, '48': 84, '23': 82, '47': 82, '37': 78, '54': 76, '66': 76, '28': 73, '67': 72, '42': 70, '89': 70, '58': 66, '30': 63, '49': 62, '83': 62, '41': 58, '68': 58, '94': 57, '80': 56, '34': 55, '3': 54, '92': 54, '90': 51, '13': 50, '79': 50, '50': 49, '22': 48, '73': 46}, '52': {'87': 84, '15': 82, '43': 72, '38': 70, '39': 70, '12': 68, '21': 68, '59': 68, '83': 68, '10': 66, '32': 65, '54': 65, '84': 61, '9': 59, '36': 58, '60': 52}, '53': {'31': 90, '85': 90, '16': 89, '68': 88, '63': 84, '92': 84, '1': 83, '34': 83, '83': 82, '27': 81, '56': 81, '25': 80, '30': 80, '94': 80, '50': 79, '70': 79, '80': 78, '19': 76, '66': 76, '89': 76, '93': 76, '47': 75, '49': 74, '73': 71, '29': 70, '81': 70, '54': 69, '71': 69, '67': 68, '72': 68, '78': 68, '4': 67, '58': 67, '22': 66, '90': 66, '6': 65, '79': 65, '42': 64, '65': 62, '23': 61, '41': 61, '3': 59, '13': 58, '28': 58, '37': 58, '82': 58, '48': 57, '76': 57, '11': 56, '5': 53}, '54': {'32': 99, '44': 93, '65': 93, '43': 86, '57': 86, '86': 85, '40': 84, '74': 83, '27': 82, '83': 82, '84': 82, '8': 81, '36': 81, '60': 81, '15': 80, '39': 80, '85': 80, '96': 80, '12': 78, '35': 78, 'Nicolas Cari': 76, '31': 76, '51': 76, '55': 76, '88': 76, '18': 75, '70': 73, '38': 72, '75': 72, 'gigachad': 71, '91': 71, '53': 69, '64': 69, '14': 68, '21': 66, '2': 65, '19': 65, '52': 65, '24': 64, '87': 64, '69': 63, 'gabriel balderrama': 62, '9': 61, '17': 61, '20': 61, '62': 61, '77': 61, '33': 60, '61': 58, '10': 57, '26': 57, '45': 57, '63': 57, '7': 55, '59': 51, '95': 49, '46': 44}, '55': {'42': 103, '37': 97, '13': 90, '22': 88, '90': 82, '54': 76, '79': 76, '41': 74, '67': 74, '11': 73, '28': 73, '58': 73, '47': 69, '66': 69, '73': 69, '76': 69, '82': 69, '83': 69, '89': 69, '94': 67, '5': 65, '49': 65, '3': 62, '34': 62, '80': 62, '23': 57, '72': 56, '4': 55, '92': 55, '50': 54, '48': 53, '30': 52, '68': 43}, '56': {'25': 89, '16': 87, '78': 87, '29': 84, '81': 84, '53': 81, '71': 81, '19': 80, '63': 80, '70': 77, '93': 76, '27': 72, '85': 72, '31': 71, '6': 70, '65': 69, '1': 64}, '57': {'82': 111, '11': 103, '76': 100, '5': 97, '4': 93, '37': 91, '23': 86, '54': 86, '47': 84, '48': 82, '72': 82, '42': 80, '89': 80, '67': 73, '66': 72, '49': 70, '28': 69, '13': 63, '3': 62, '58': 62, '30': 61, '41': 59, '83': 58, '22': 57, '50': 57, '34': 53, '92': 52, '90': 49, '68': 48, '73': 48, '94': 47, '79': 46, '80': 46}, '58': {'96': 93, '75': 90, '18': 86, '77': 86, '88': 82, '74': 81, '24': 80, '33': 80, '64': 80, '2': 79, '85': 79, '8': 78, '86': 78, '27': 76, '17': 75, '31': 75, '35': 74, '55': 73, 'Nicolas Cari': 72, 'gabriel balderrama': 71, '45': 71, '91': 71, 'gigachad': 68, '63': 68, '7': 67, '53': 67, '69': 67, '51': 66, '20': 65, '46': 65, '62': 65, '65': 65, '70': 65, '44': 62, '57': 62, '19': 61, '40': 61, '14': 60, '61': 59, '95': 59, '26': 58}, '59': {'83': 83, '38': 81, '84': 81, '10': 79, '39': 77, '9': 75, '87': 75, '43': 74, '15': 69, '52': 68, '12': 66, '21': 65, '36': 62, '60': 59, '32': 55, '54': 51}, '60': {'83': 92, '84': 85, '36': 82, '54': 81, '10': 78, '21': 70, '43': 70, '12': 69, '9': 65, '15': 63, '32': 63, '38': 61, '59': 59, '39': 58, '52': 52, '87': 46}, '61': {'73': 102, '89': 95, '50': 90, '34': 89, '30': 88, '68': 88, '80': 82, '92': 82, '49': 81, '94': 81, '4': 76, '22': 76, '79': 74, '90': 74, '47': 71, '72': 71, '13': 70, '23': 69, '28': 69, '67': 69, '3': 68, '66': 67, '83': 66, '48': 62, '11': 61, '41': 61, '42': 61, '58': 59, '37': 58, '54': 58, '76': 53, '82': 53, '5': 49}, '62': {'4': 99, '72': 91, '23': 89, '82': 89, '48': 88, '11': 84, '5': 82, '76': 82, '22': 76, '49': 76, '50': 75, '34': 74, '30': 73, '92': 73, '42': 72, '37': 70, '89': 69, '66': 67, '13': 65, '47': 65, '58': 65, '80': 65, '90': 65, '68': 64, '73': 63, '94': 63, '79': 62, '54': 61, '67': 60, '83': 59, '3': 57, '41': 55, '28': 51}, '63': {'19': 102, '70': 96, '73': 90, '31': 89, '1': 87, '80': 86, '65': 85, '78': 85, '27': 84, '30': 84, '53': 84, '85': 84, '68': 83, '79': 83, '90': 83, '92': 82, '34': 81, '94': 81, '56': 80, '16': 78, '50': 78, '89': 78, '22': 77, '28': 73, '49': 73, '83': 73, '25': 72, '71': 72, '72': 72, '93': 72, '66': 71, '67': 69, '29': 68, '58': 68, '81': 68, '4': 65, '6': 64, '13': 63, '41': 61, '47': 59, '42': 58, '54': 57, '3': 56, '37': 55, '48': 55, '23': 53, '5': 50, '11': 46, '82': 46, '76': 45}, '64': {'42': 98, '13': 94, '22': 93, '94': 89, '37': 88, '79': 88, '90': 88, '41': 85, '73': 84, '30': 81, '49': 80, '58': 80, '3': 78, '4': 75, '34': 74, '80': 73, '72': 70, '82': 70, '54': 69, '11': 68, '28': 68, '48': 68, '68': 68, '47': 67, '66': 67, '23': 64, '50': 64, '83': 61, '76': 57, '89': 57, '92': 56, '67': 52, '5': 49}, '65': {'27': 104, '85': 95, '70': 94, '42': 93, '54': 93, '71': 92, '19': 91, '66': 88, '1': 86, '37': 85, '63': 85, '83': 84, '89': 84, '30': 80, '78': 79, '28': 78, '47': 78, '3': 75, '73': 75, '13': 74, '41': 74, '67': 72, '22': 69, '31': 69, '56': 69, '11': 68, '29': 68, '50': 68, '81': 68, '94': 68, '25': 67, '68': 67, '82': 67, '6': 66, '90': 66, '92': 66, '58': 65, '93': 65, '80': 64, '76': 63, '34': 62, '49': 62, '53': 62, '79': 60, '16': 59, '23': 58, '48': 57, '5': 51, '4': 49, '72': 47}, '66': {'2': 91, 'gabriel balderrama': 90, '86': 89, '65': 88, '85': 85, '7': 82, '27': 82, '40': 82, 'gigachad': 81, '44': 79, '31': 78, '51': 76, '53': 76, '75': 76, '46': 75, '74': 75, '8': 74, 'Nicolas Cari': 73, '18': 73, '77': 73, '96': 73, '57': 72, '70': 72, '14': 71, '63': 71, '55': 69, '88': 69, '24': 67, '61': 67, '62': 67, '64': 67, '91': 67, '69': 66, '19': 64, '33': 64, '95': 64, '20': 61, '35': 61, '17': 59, '45': 58, '26': 54}, '67': {'27': 84, '44': 84, '88': 84, 'gigachad': 81, '40': 76, '7': 75, '85': 75, '86': 75, '96': 75, 'Nicolas Cari': 74, 'gabriel balderrama': 74, '55': 74, '57': 73, '8': 72, '51': 72, '65': 72, '91': 72, '31': 71, '33': 71, '35': 71, '74': 71, '45': 70, '61': 69, '63': 69, '53': 68, '77': 68, '19': 66, '95': 66, '2': 65, '75': 65, '26': 63, '17': 62, '24': 62, '70': 61, '14': 60, '46': 60, '62': 60, '20': 58, '69': 58, '18': 57, '64': 52}, '68': {'85': 93, '7': 91, '53': 88, '61': 88, '86': 87, '27': 84, '63': 83, 'gabriel balderrama': 82, '96': 81, 'Nicolas Cari': 77, '18': 77, '95': 77, '40': 76, '69': 75, '70': 75, 'gigachad': 74, '31': 74, '75': 72, '14': 71, '19': 71, '2': 70, '26': 68, '45': 68, '46': 68, '64': 68, '17': 67, '33': 67, '65': 67, '20': 66, '62': 64, '77': 64, '88': 62, '35': 60, '44': 59, '24': 58, '51': 58, '74': 57, '91': 55, '8': 48, '57': 48, '55': 43}, '69': {'23': 100, '4': 97, '11': 90, '48': 90, '76': 90, '82': 88, '72': 86, '3': 78, '41': 78, '5': 76, '30': 75, '68': 75, '13': 74, '42': 74, '49': 74, '94': 74, '50': 73, '73': 73, '37': 72, '89': 72, '47': 71, '34': 69, '90': 68, '92': 68, '22': 67, '58': 67, '66': 66, '79': 65, '54': 63, '28': 62, '83': 62, '67': 58, '80': 56}, '70': {'19': 104, '63': 96, '78': 96, '1': 95, '65': 94, '89': 90, '31': 89, '30': 88, '73': 86, '50': 85, '90': 83, '49': 82, '27': 81, '79': 80, '92': 80, '22': 79, '34': 79, '53': 79, '85': 79, '25': 77, '56': 77, '68': 75, '42': 74, '54': 73, '66': 72, '80': 72, '28': 70, '4': 69, '71': 69, '83': 68, '13': 67, '16': 67, '94': 67, '58': 65, '93': 65, '6': 64, '3': 63, '37': 61, '47': 61, '67': 61, '23': 58, '72': 58, '29': 55, '41': 55, '48': 55, '81': 55, '82': 50, '5': 47, '11': 42, '76': 39}, '71': {'65': 92, '6': 89, '16': 87, '25': 87, '27': 87, '29': 86, '81': 86, '93': 84, '56': 81, '78': 79, '85': 78, '19': 73, '63': 72, '53': 69, '70': 69, '31': 67, '1': 66}, '72': {'26': 101, '20': 94, '51': 92, '62': 91, '14': 86, '69': 86, '95': 86, '46': 84, '57': 82, '2': 80, '75': 78, '33': 75, 'Nicolas Cari': 74, '31': 73, '17': 72, '63': 72, 'gabriel balderrama': 71, '61': 71, '64': 70, '7': 68, '53': 68, '45': 67, '74': 67, '19': 63, 'gigachad': 60, '27': 60, '85': 60, '77': 59, '88': 59, '96': 59, '18': 58, '40': 58, '70': 58, '86': 58, '35': 57, '44': 56, '55': 56, '91': 56, '24': 53, '8': 52, '65': 47}, '73': {'61': 102, '40': 95, '19': 90, '45': 90, '63': 90, 'gabriel balderrama': 87, '7': 87, '70': 86, '17': 85, '64': 84, 'Nicolas Cari': 83, '14': 81, '26': 80, 'gigachad': 77, '33': 76, '91': 76, '65': 75, '86': 74, '20': 73, '69': 73, '31': 72, '44': 72, '95': 72, '53': 71, '24': 70, '35': 70, '75': 70, '96': 70, '18': 69, '55': 69, '8': 68, '27': 67, '77': 67, '85': 67, '62': 63, '2': 62, '46': 61, '88': 60, '74': 54, '57': 48, '51': 46}, '74': {'42': 95, '37': 93, '82': 88, '54': 83, '28': 81, '47': 81, '58': 81, '5': 76, '11': 76, '90': 76, '13': 75, '66': 75, '79': 75, '76': 74, '22': 73, '41': 73, '94': 72, '67': 71, '49': 70, '83': 69, '89': 69, '72': 67, '4': 66, '80': 64, '34': 63, '3': 62, '30': 62, '48': 59, '23': 57, '68': 57, '73': 54, '92': 53, '50': 48}, '75': {'41': 99, '94': 97, '90': 94, '42': 92, '37': 90, '58': 90, '22': 89, '79': 88, '13': 86, '72': 78, '30': 77, '66': 76, '54': 72, '68': 72, '76': 71, '80': 71, '92': 71, '73': 70, '83': 70, '4': 68, '28': 68, '49': 68, '82': 67, '3': 66, '23': 66, '48': 65, '67': 65, '11': 64, '34': 61, '50': 61, '89': 60, '5': 59, '47': 59}, '76': {'57': 100, '51': 99, '2': 92, '14': 92, '26': 90, '69': 90, '20': 85, '88': 83, '62': 82, '95': 79, '46': 77, 'gabriel balderrama': 75, '40': 75, '74': 74, '96': 73, '91': 72, 'Nicolas Cari': 71, '44': 71, '75': 71, '35': 70, '55': 69, '27': 68, '33': 68, '77': 68, '8': 67, 'gigachad': 63, '65': 63, '24': 62, '86': 62, '17': 59, '85': 59, '18': 57, '53': 57, '64': 57, '7': 55, '31': 55, '45': 53, '61': 53, '63': 45, '19': 42, '70': 39}, '77': {'42': 95, '13': 91, '90': 91, '41': 89, '79': 88, '58': 86, '22': 85, '94': 79, '37': 78, '28': 77, '83': 77, '66': 73, '23': 71, '3': 70, '34': 70, '89': 70, '49': 68, '67': 68, '76': 68, '92': 68, '73': 67, '80': 65, '68': 64, '5': 62, '47': 61, '50': 61, '54': 61, '72': 59, '4': 58, '48': 58, '82': 58, '11': 56, '30': 56}, '78': {'70': 96, '19': 93, '25': 87, '56': 87, '63': 85, '65': 79, '71': 79, '31': 78, '1': 77, '16': 77, '93': 77, '6': 74, '27': 70, '53': 68, '85': 68, '29': 67, '81': 67}, '79': {'45': 89, 'gabriel balderrama': 88, '64': 88, '75': 88, '77': 88, '33': 87, '7': 85, '63': 83, '17': 82, '24': 82, '8': 81, '18': 81, '88': 81, '70': 80, '31': 79, '40': 78, '96': 78, '19': 76, '55': 76, '74': 75, '61': 74, '91': 74, '2': 73, '35': 73, 'Nicolas Cari': 72, '20': 68, '14': 67, '95': 67, '53': 65, '69': 65, '85': 65, '86': 64, 'gigachad': 63, '27': 62, '62': 62, '26': 61, '44': 61, '65': 60, '46': 58, '51': 50, '57': 46}, '80': {'7': 91, '63': 86, 'gabriel balderrama': 84, '33': 82, '61': 82, '40': 81, '45': 81, '17': 79, '27': 78, '53': 78, '85': 78, '19': 77, '31': 77, '44': 76, '18': 73, '64': 73, '86': 73, 'Nicolas Cari': 72, '70': 72, '75': 71, '88': 70, '26': 69, '35': 68, '14': 67, '95': 67, '62': 65, '77': 65, '46': 64, '65': 64, '74': 64, '96': 64, 'gigachad': 63, '20': 62, '55': 62, '91': 62, '2': 61, '24': 59, '8': 58, '51': 56, '69': 56, '57': 46}, '81': {'29': 103, '71': 86, '56': 84, '93': 84, '16': 81, '27': 77, '85': 77, '25': 75, '6': 71, '53': 70, '31': 68, '63': 68, '65': 68, '78': 67, '19': 63, '70': 55, '1': 53}, '82': {'51': 113, '57': 111, '14': 101, '2': 96, '26': 90, '62': 89, '20': 88, '69': 88, '74': 88, '44': 82, '46': 81, '18': 79, '35': 79, '95': 77, '8': 74, '86': 74, '96': 74, '40': 73, '88': 73, '91': 72, '64': 70, 'Nicolas Cari': 69, '55': 69, '85': 69, 'gabriel balderrama': 68, '65': 67, '75': 67, '17': 62, 'gigachad': 61, '24': 60, '27': 60, '31': 59, '53': 58, '77': 58, '33': 54, '61': 53, '7': 50, '70': 50, '45': 47, '63': 46, '19': 42}, '83': {'43': 103, '84': 100, '32': 99, '60': 92, 'gabriel balderrama': 90, '36': 88, '85': 87, '9': 86, '27': 84, '65': 84, '86': 84, '2': 83, '15': 83, '59': 83, '53': 82, '54': 82, '7': 81, '40': 81, '31': 80, '96': 80, 'gigachad': 79, '38': 79, '39': 79, '77': 77, '8': 74, '10': 74, '46': 74, '63': 73, '88': 73, 'Nicolas Cari': 71, '24': 71, '33': 71, '91': 71, '75': 70, '55': 69, '74': 69, '44': 68, '52': 68, '70': 68, '14': 67, '18': 67, '21': 67, '87': 67, '17': 66, '19': 66, '61': 66, '35': 65, '45': 65, '51': 62, '69': 62, '64': 61, '12': 60, '95': 60, '62': 59, '57': 58, '20': 57, '26': 50}, '84': {'83': 100, '43': 96, '32': 88, '60': 85, '54': 82, '36': 81, '59': 81, '39': 78, '38': 77, '15': 76, '9': 75, '10': 67, '87': 65, '52': 61, '21': 60, '12': 59}, '85': {'65': 95, '30': 94, '68': 93, '28': 91, '27': 90, '53': 90, '1': 88, '83': 87, '66': 85, '94': 85, '63': 84, '93': 84, '6': 83, '89': 83, '31': 82, '47': 82, '54': 80, '92': 80, '34': 79, '58': 79, '70': 79, '16': 78, '71': 78, '80': 78, '29': 77, '81': 77, '19': 76, '48': 75, '50': 75, '67': 75, '42': 73, '56': 72, '3': 70, '25': 69, '37': 69, '82': 69, '78': 68, '41': 67, '73': 67, '13': 66, '22': 66, '49': 66, '90': 66, '79': 65, '5': 64, '23': 64, '11': 63, '72': 60, '4': 59, '76': 59}, '86': {'30': 96, '28': 95, '89': 95, '50': 91, '66': 89, '47': 88, '68': 87, '3': 86, '54': 85, '83': 84, '49': 82, '34': 81, '42': 80, '48': 80, '92': 80, '23': 79, '58': 78, '37': 76, '67': 75, '94': 75, '73': 74, '82': 74, '11': 73, '13': 73, '80': 73, '5': 71, '22': 69, '4': 68, '79': 64, '41': 62, '76': 62, '90': 61, '72': 58}, '87': {'52': 84, '39': 83, '12': 78, '59': 75, '43': 73, '15': 72, '38': 71, '32': 70, '83': 67, '84': 65, '54': 64, '10': 62, '9': 61, '21': 61, '36': 56, '60': 46}, '88': {'37': 93, '42': 91, '22': 90, '13': 87, '67': 84, '90': 84, '76': 83, '41': 82, '58': 82, '79': 81, '5': 78, '94': 77, '47': 76, '54': 76, '34': 75, '28': 74, '82': 73, '83': 73, '89': 73, '92': 73, '11': 71, '80': 70, '66': 69, '49': 68, '23': 67, '50': 66, '3': 63, '68': 62, '73': 60, '72': 59, '4': 58, '48': 55, '30': 54}, '89': {'40': 98, 'gigachad': 95, '61': 95, '86': 95, '96': 91, '70': 90, '7': 86, '19': 86, 'Nicolas Cari': 85, '14': 85, '27': 85, '65': 84, '85': 83, '95': 83, '44': 82, '45': 80, '57': 80, 'gabriel balderrama': 79, '20': 78, '63': 78, '18': 76, '53': 76, '35': 75, '8': 74, '26': 74, '31': 74, '24': 73, '88': 73, '91': 73, '69': 72, '2': 70, '51': 70, '77': 70, '55': 69, '62': 69, '74': 69, '17': 67, '33': 66, '46': 62, '75': 60, '64': 57}, '90': {'45': 95, '75': 94, '33': 93, 'gabriel balderrama': 91, '77': 91, '64': 88, '24': 85, '8': 84, '88': 84, '63': 83, '70': 83, '7': 82, '17': 82, '18': 82, '19': 82, '55': 82, '40': 81, '96': 81, '31': 76, '74': 76, 'Nicolas Cari': 75, '35': 74, '61': 74, '91': 74, '2': 70, '95': 70, '14': 68, '27': 68, '69': 68, 'gigachad': 66, '53': 66, '65': 66, '85': 66, '20': 65, '62': 65, '44': 64, '26': 61, '86': 61, '46': 59, '51': 51, '57': 49}, '91': {'42': 98, '37': 94, '13': 91, '22': 82, '11': 80, '47': 79, '41': 77, '73': 76, '94': 76, '79': 74, '90': 74, '89': 73, '67': 72, '76': 72, '82': 72, '28': 71, '54': 71, '58': 71, '83': 71, '34': 69, '3': 67, '66': 67, '49': 66, '23': 64, '5': 63, '80': 62, '4': 61, '50': 59, '48': 56, '72': 56, '30': 55, '68': 55, '92': 51}, '92': {'7': 91, 'gabriel balderrama': 88, 'Nicolas Cari': 84, '31': 84, '40': 84, '53': 84, '27': 82, '61': 82, '63': 82, '19': 81, '33': 80, '70': 80, '85': 80, '86': 80, '45': 79, '95': 79, '96': 77, 'gigachad': 75, '44': 73, '62': 73, '88': 73, '14': 71, '20': 71, '75': 71, '17': 69, '46': 69, '69': 68, '77': 68, '26': 67, '2': 66, '65': 66, '35': 63, '18': 62, '24': 62, '8': 57, '64': 56, '55': 55, '51': 54, '74': 53, '57': 52, '91': 51}, '93': {'29': 84, '71': 84, '81': 84, '85': 84, '16': 81, '78': 77, '6': 76, '53': 76, '56': 76, '27': 75, '25': 72, '63': 72, '31': 70, '1': 66, '65': 65, '70': 65, '19': 64}, '94': {'75': 97, '96': 97, '18': 92, '45': 92, '33': 91, '64': 89, '17': 88, '27': 85, '85': 85, '7': 81, '61': 81, '63': 81, '53': 80, '77': 79, 'gabriel balderrama': 78, '88': 77, '91': 76, '95': 76, '35': 75, '86': 75, '69': 74, '24': 73, '26': 73, '19': 72, '74': 72, 'Nicolas Cari': 70, '2': 70, '14': 70, '65': 68, 'gigachad': 67, '31': 67, '46': 67, '55': 67, '70': 67, '20': 66, '40': 65, '8': 63, '62': 63, '51': 57, '44': 48, '57': 47}, '95': {'4': 94, '23': 92, '48': 86, '72': 86, '5': 84, '89': 83, '50': 81, '34': 80, '76': 79, '92': 79, '22': 78, '30': 77, '68': 77, '82': 77, '11': 76, '94': 76, '73': 72, '49': 71, '90': 70, '42': 69, '79': 67, '80': 67, '67': 66, '66': 64, '13': 63, '83': 60, '58': 59, '37': 58, '41': 58, '47': 57, '28': 56, '3': 55, '54': 49}, '96': {'13': 101, '37': 100, '42': 98, '94': 97, '58': 93, '22': 92, '89': 91, '41': 90, '30': 84, '28': 83, '47': 83, '48': 82, '50': 82, '23': 81, '68': 81, '90': 81, '54': 80, '83': 80, '3': 79, '11': 79, '34': 78, '79': 78, '92': 77, '67': 75, '82': 74, '66': 73, '76': 73, '4': 70, '49': 70, '73': 70, '5': 69, '80': 64, '72': 59}}\n"
          ]
        }
      ]
    },
    {
      "cell_type": "code",
      "source": [
        "df = pd.DataFrame.from_dict(lista_completa, orient='index')\n",
        "df"
      ],
      "metadata": {
        "colab": {
          "base_uri": "https://localhost:8080/",
          "height": 502
        },
        "id": "Ddy14REpnHlk",
        "outputId": "79c1808e-03cb-4f4c-b6c4-247f3fa1f821"
      },
      "execution_count": null,
      "outputs": [
        {
          "output_type": "execute_result",
          "data": {
            "text/plain": [
              "                    gigachad  Nicolas Cari  gabriel balderrama   1   2   3  \\\n",
              "gigachad                   0             0                   0   0   0  76   \n",
              "Nicolas Cari               0             0                   0   0   0  81   \n",
              "gabriel balderrama         0             0                   0   0   0  81   \n",
              "1                          0             0                   0   0   0   0   \n",
              "2                          0             0                   0   0   0  74   \n",
              "...                      ...           ...                 ...  ..  ..  ..   \n",
              "92                        75            84                  88   0  66   0   \n",
              "93                         0             0                   0  66   0   0   \n",
              "94                        67            70                  78   0  70   0   \n",
              "95                         0             0                   0   0   0  55   \n",
              "96                         0             0                   0   0   0  79   \n",
              "\n",
              "                     4   5   6   7  ...  87  88  89  90  91  92  93  94  95  \\\n",
              "gigachad            71  66   0   0  ...   0   0  95  66   0  75   0  67   0   \n",
              "Nicolas Cari        82  59   0   0  ...   0   0  85  75   0  84   0  70   0   \n",
              "gabriel balderrama  70  69   0   0  ...   0   0  79  91   0  88   0  78   0   \n",
              "1                    0   0  69   0  ...   0   0   0   0   0   0  66   0   0   \n",
              "2                   78  96   0   0  ...   0   0  70  70   0  66   0  70   0   \n",
              "...                 ..  ..  ..  ..  ...  ..  ..  ..  ..  ..  ..  ..  ..  ..   \n",
              "92                   0   0   0  91  ...   0  73   0   0  51   0   0   0  79   \n",
              "93                   0   0  76   0  ...   0   0   0   0   0   0   0   0   0   \n",
              "94                   0   0   0  81  ...   0  77   0   0  76   0   0   0  76   \n",
              "95                  94  84   0   0  ...   0   0  83  70   0  79   0  76   0   \n",
              "96                  70  69   0   0  ...   0   0  91  81   0  77   0  97   0   \n",
              "\n",
              "                    96  \n",
              "gigachad             0  \n",
              "Nicolas Cari         0  \n",
              "gabriel balderrama   0  \n",
              "1                    0  \n",
              "2                    0  \n",
              "...                 ..  \n",
              "92                  77  \n",
              "93                   0  \n",
              "94                  97  \n",
              "95                   0  \n",
              "96                   0  \n",
              "\n",
              "[99 rows x 99 columns]"
            ],
            "text/html": [
              "\n",
              "  <div id=\"df-e565cf97-3d54-402c-b582-fb8c7866747a\">\n",
              "    <div class=\"colab-df-container\">\n",
              "      <div>\n",
              "<style scoped>\n",
              "    .dataframe tbody tr th:only-of-type {\n",
              "        vertical-align: middle;\n",
              "    }\n",
              "\n",
              "    .dataframe tbody tr th {\n",
              "        vertical-align: top;\n",
              "    }\n",
              "\n",
              "    .dataframe thead th {\n",
              "        text-align: right;\n",
              "    }\n",
              "</style>\n",
              "<table border=\"1\" class=\"dataframe\">\n",
              "  <thead>\n",
              "    <tr style=\"text-align: right;\">\n",
              "      <th></th>\n",
              "      <th>gigachad</th>\n",
              "      <th>Nicolas Cari</th>\n",
              "      <th>gabriel balderrama</th>\n",
              "      <th>1</th>\n",
              "      <th>2</th>\n",
              "      <th>3</th>\n",
              "      <th>4</th>\n",
              "      <th>5</th>\n",
              "      <th>6</th>\n",
              "      <th>7</th>\n",
              "      <th>...</th>\n",
              "      <th>87</th>\n",
              "      <th>88</th>\n",
              "      <th>89</th>\n",
              "      <th>90</th>\n",
              "      <th>91</th>\n",
              "      <th>92</th>\n",
              "      <th>93</th>\n",
              "      <th>94</th>\n",
              "      <th>95</th>\n",
              "      <th>96</th>\n",
              "    </tr>\n",
              "  </thead>\n",
              "  <tbody>\n",
              "    <tr>\n",
              "      <th>gigachad</th>\n",
              "      <td>0</td>\n",
              "      <td>0</td>\n",
              "      <td>0</td>\n",
              "      <td>0</td>\n",
              "      <td>0</td>\n",
              "      <td>76</td>\n",
              "      <td>71</td>\n",
              "      <td>66</td>\n",
              "      <td>0</td>\n",
              "      <td>0</td>\n",
              "      <td>...</td>\n",
              "      <td>0</td>\n",
              "      <td>0</td>\n",
              "      <td>95</td>\n",
              "      <td>66</td>\n",
              "      <td>0</td>\n",
              "      <td>75</td>\n",
              "      <td>0</td>\n",
              "      <td>67</td>\n",
              "      <td>0</td>\n",
              "      <td>0</td>\n",
              "    </tr>\n",
              "    <tr>\n",
              "      <th>Nicolas Cari</th>\n",
              "      <td>0</td>\n",
              "      <td>0</td>\n",
              "      <td>0</td>\n",
              "      <td>0</td>\n",
              "      <td>0</td>\n",
              "      <td>81</td>\n",
              "      <td>82</td>\n",
              "      <td>59</td>\n",
              "      <td>0</td>\n",
              "      <td>0</td>\n",
              "      <td>...</td>\n",
              "      <td>0</td>\n",
              "      <td>0</td>\n",
              "      <td>85</td>\n",
              "      <td>75</td>\n",
              "      <td>0</td>\n",
              "      <td>84</td>\n",
              "      <td>0</td>\n",
              "      <td>70</td>\n",
              "      <td>0</td>\n",
              "      <td>0</td>\n",
              "    </tr>\n",
              "    <tr>\n",
              "      <th>gabriel balderrama</th>\n",
              "      <td>0</td>\n",
              "      <td>0</td>\n",
              "      <td>0</td>\n",
              "      <td>0</td>\n",
              "      <td>0</td>\n",
              "      <td>81</td>\n",
              "      <td>70</td>\n",
              "      <td>69</td>\n",
              "      <td>0</td>\n",
              "      <td>0</td>\n",
              "      <td>...</td>\n",
              "      <td>0</td>\n",
              "      <td>0</td>\n",
              "      <td>79</td>\n",
              "      <td>91</td>\n",
              "      <td>0</td>\n",
              "      <td>88</td>\n",
              "      <td>0</td>\n",
              "      <td>78</td>\n",
              "      <td>0</td>\n",
              "      <td>0</td>\n",
              "    </tr>\n",
              "    <tr>\n",
              "      <th>1</th>\n",
              "      <td>0</td>\n",
              "      <td>0</td>\n",
              "      <td>0</td>\n",
              "      <td>0</td>\n",
              "      <td>0</td>\n",
              "      <td>0</td>\n",
              "      <td>0</td>\n",
              "      <td>0</td>\n",
              "      <td>69</td>\n",
              "      <td>0</td>\n",
              "      <td>...</td>\n",
              "      <td>0</td>\n",
              "      <td>0</td>\n",
              "      <td>0</td>\n",
              "      <td>0</td>\n",
              "      <td>0</td>\n",
              "      <td>0</td>\n",
              "      <td>66</td>\n",
              "      <td>0</td>\n",
              "      <td>0</td>\n",
              "      <td>0</td>\n",
              "    </tr>\n",
              "    <tr>\n",
              "      <th>2</th>\n",
              "      <td>0</td>\n",
              "      <td>0</td>\n",
              "      <td>0</td>\n",
              "      <td>0</td>\n",
              "      <td>0</td>\n",
              "      <td>74</td>\n",
              "      <td>78</td>\n",
              "      <td>96</td>\n",
              "      <td>0</td>\n",
              "      <td>0</td>\n",
              "      <td>...</td>\n",
              "      <td>0</td>\n",
              "      <td>0</td>\n",
              "      <td>70</td>\n",
              "      <td>70</td>\n",
              "      <td>0</td>\n",
              "      <td>66</td>\n",
              "      <td>0</td>\n",
              "      <td>70</td>\n",
              "      <td>0</td>\n",
              "      <td>0</td>\n",
              "    </tr>\n",
              "    <tr>\n",
              "      <th>...</th>\n",
              "      <td>...</td>\n",
              "      <td>...</td>\n",
              "      <td>...</td>\n",
              "      <td>...</td>\n",
              "      <td>...</td>\n",
              "      <td>...</td>\n",
              "      <td>...</td>\n",
              "      <td>...</td>\n",
              "      <td>...</td>\n",
              "      <td>...</td>\n",
              "      <td>...</td>\n",
              "      <td>...</td>\n",
              "      <td>...</td>\n",
              "      <td>...</td>\n",
              "      <td>...</td>\n",
              "      <td>...</td>\n",
              "      <td>...</td>\n",
              "      <td>...</td>\n",
              "      <td>...</td>\n",
              "      <td>...</td>\n",
              "      <td>...</td>\n",
              "    </tr>\n",
              "    <tr>\n",
              "      <th>92</th>\n",
              "      <td>75</td>\n",
              "      <td>84</td>\n",
              "      <td>88</td>\n",
              "      <td>0</td>\n",
              "      <td>66</td>\n",
              "      <td>0</td>\n",
              "      <td>0</td>\n",
              "      <td>0</td>\n",
              "      <td>0</td>\n",
              "      <td>91</td>\n",
              "      <td>...</td>\n",
              "      <td>0</td>\n",
              "      <td>73</td>\n",
              "      <td>0</td>\n",
              "      <td>0</td>\n",
              "      <td>51</td>\n",
              "      <td>0</td>\n",
              "      <td>0</td>\n",
              "      <td>0</td>\n",
              "      <td>79</td>\n",
              "      <td>77</td>\n",
              "    </tr>\n",
              "    <tr>\n",
              "      <th>93</th>\n",
              "      <td>0</td>\n",
              "      <td>0</td>\n",
              "      <td>0</td>\n",
              "      <td>66</td>\n",
              "      <td>0</td>\n",
              "      <td>0</td>\n",
              "      <td>0</td>\n",
              "      <td>0</td>\n",
              "      <td>76</td>\n",
              "      <td>0</td>\n",
              "      <td>...</td>\n",
              "      <td>0</td>\n",
              "      <td>0</td>\n",
              "      <td>0</td>\n",
              "      <td>0</td>\n",
              "      <td>0</td>\n",
              "      <td>0</td>\n",
              "      <td>0</td>\n",
              "      <td>0</td>\n",
              "      <td>0</td>\n",
              "      <td>0</td>\n",
              "    </tr>\n",
              "    <tr>\n",
              "      <th>94</th>\n",
              "      <td>67</td>\n",
              "      <td>70</td>\n",
              "      <td>78</td>\n",
              "      <td>0</td>\n",
              "      <td>70</td>\n",
              "      <td>0</td>\n",
              "      <td>0</td>\n",
              "      <td>0</td>\n",
              "      <td>0</td>\n",
              "      <td>81</td>\n",
              "      <td>...</td>\n",
              "      <td>0</td>\n",
              "      <td>77</td>\n",
              "      <td>0</td>\n",
              "      <td>0</td>\n",
              "      <td>76</td>\n",
              "      <td>0</td>\n",
              "      <td>0</td>\n",
              "      <td>0</td>\n",
              "      <td>76</td>\n",
              "      <td>97</td>\n",
              "    </tr>\n",
              "    <tr>\n",
              "      <th>95</th>\n",
              "      <td>0</td>\n",
              "      <td>0</td>\n",
              "      <td>0</td>\n",
              "      <td>0</td>\n",
              "      <td>0</td>\n",
              "      <td>55</td>\n",
              "      <td>94</td>\n",
              "      <td>84</td>\n",
              "      <td>0</td>\n",
              "      <td>0</td>\n",
              "      <td>...</td>\n",
              "      <td>0</td>\n",
              "      <td>0</td>\n",
              "      <td>83</td>\n",
              "      <td>70</td>\n",
              "      <td>0</td>\n",
              "      <td>79</td>\n",
              "      <td>0</td>\n",
              "      <td>76</td>\n",
              "      <td>0</td>\n",
              "      <td>0</td>\n",
              "    </tr>\n",
              "    <tr>\n",
              "      <th>96</th>\n",
              "      <td>0</td>\n",
              "      <td>0</td>\n",
              "      <td>0</td>\n",
              "      <td>0</td>\n",
              "      <td>0</td>\n",
              "      <td>79</td>\n",
              "      <td>70</td>\n",
              "      <td>69</td>\n",
              "      <td>0</td>\n",
              "      <td>0</td>\n",
              "      <td>...</td>\n",
              "      <td>0</td>\n",
              "      <td>0</td>\n",
              "      <td>91</td>\n",
              "      <td>81</td>\n",
              "      <td>0</td>\n",
              "      <td>77</td>\n",
              "      <td>0</td>\n",
              "      <td>97</td>\n",
              "      <td>0</td>\n",
              "      <td>0</td>\n",
              "    </tr>\n",
              "  </tbody>\n",
              "</table>\n",
              "<p>99 rows × 99 columns</p>\n",
              "</div>\n",
              "      <button class=\"colab-df-convert\" onclick=\"convertToInteractive('df-e565cf97-3d54-402c-b582-fb8c7866747a')\"\n",
              "              title=\"Convert this dataframe to an interactive table.\"\n",
              "              style=\"display:none;\">\n",
              "        \n",
              "  <svg xmlns=\"http://www.w3.org/2000/svg\" height=\"24px\"viewBox=\"0 0 24 24\"\n",
              "       width=\"24px\">\n",
              "    <path d=\"M0 0h24v24H0V0z\" fill=\"none\"/>\n",
              "    <path d=\"M18.56 5.44l.94 2.06.94-2.06 2.06-.94-2.06-.94-.94-2.06-.94 2.06-2.06.94zm-11 1L8.5 8.5l.94-2.06 2.06-.94-2.06-.94L8.5 2.5l-.94 2.06-2.06.94zm10 10l.94 2.06.94-2.06 2.06-.94-2.06-.94-.94-2.06-.94 2.06-2.06.94z\"/><path d=\"M17.41 7.96l-1.37-1.37c-.4-.4-.92-.59-1.43-.59-.52 0-1.04.2-1.43.59L10.3 9.45l-7.72 7.72c-.78.78-.78 2.05 0 2.83L4 21.41c.39.39.9.59 1.41.59.51 0 1.02-.2 1.41-.59l7.78-7.78 2.81-2.81c.8-.78.8-2.07 0-2.86zM5.41 20L4 18.59l7.72-7.72 1.47 1.35L5.41 20z\"/>\n",
              "  </svg>\n",
              "      </button>\n",
              "      \n",
              "  <style>\n",
              "    .colab-df-container {\n",
              "      display:flex;\n",
              "      flex-wrap:wrap;\n",
              "      gap: 12px;\n",
              "    }\n",
              "\n",
              "    .colab-df-convert {\n",
              "      background-color: #E8F0FE;\n",
              "      border: none;\n",
              "      border-radius: 50%;\n",
              "      cursor: pointer;\n",
              "      display: none;\n",
              "      fill: #1967D2;\n",
              "      height: 32px;\n",
              "      padding: 0 0 0 0;\n",
              "      width: 32px;\n",
              "    }\n",
              "\n",
              "    .colab-df-convert:hover {\n",
              "      background-color: #E2EBFA;\n",
              "      box-shadow: 0px 1px 2px rgba(60, 64, 67, 0.3), 0px 1px 3px 1px rgba(60, 64, 67, 0.15);\n",
              "      fill: #174EA6;\n",
              "    }\n",
              "\n",
              "    [theme=dark] .colab-df-convert {\n",
              "      background-color: #3B4455;\n",
              "      fill: #D2E3FC;\n",
              "    }\n",
              "\n",
              "    [theme=dark] .colab-df-convert:hover {\n",
              "      background-color: #434B5C;\n",
              "      box-shadow: 0px 1px 3px 1px rgba(0, 0, 0, 0.15);\n",
              "      filter: drop-shadow(0px 1px 2px rgba(0, 0, 0, 0.3));\n",
              "      fill: #FFFFFF;\n",
              "    }\n",
              "  </style>\n",
              "\n",
              "      <script>\n",
              "        const buttonEl =\n",
              "          document.querySelector('#df-e565cf97-3d54-402c-b582-fb8c7866747a button.colab-df-convert');\n",
              "        buttonEl.style.display =\n",
              "          google.colab.kernel.accessAllowed ? 'block' : 'none';\n",
              "\n",
              "        async function convertToInteractive(key) {\n",
              "          const element = document.querySelector('#df-e565cf97-3d54-402c-b582-fb8c7866747a');\n",
              "          const dataTable =\n",
              "            await google.colab.kernel.invokeFunction('convertToInteractive',\n",
              "                                                     [key], {});\n",
              "          if (!dataTable) return;\n",
              "\n",
              "          const docLinkHtml = 'Like what you see? Visit the ' +\n",
              "            '<a target=\"_blank\" href=https://colab.research.google.com/notebooks/data_table.ipynb>data table notebook</a>'\n",
              "            + ' to learn more about interactive tables.';\n",
              "          element.innerHTML = '';\n",
              "          dataTable['output_type'] = 'display_data';\n",
              "          await google.colab.output.renderOutput(dataTable, element);\n",
              "          const docLink = document.createElement('div');\n",
              "          docLink.innerHTML = docLinkHtml;\n",
              "          element.appendChild(docLink);\n",
              "        }\n",
              "      </script>\n",
              "    </div>\n",
              "  </div>\n",
              "  "
            ]
          },
          "metadata": {},
          "execution_count": 130
        }
      ]
    },
    {
      "cell_type": "code",
      "source": [
        "df.to_csv('prueba.csv')"
      ],
      "metadata": {
        "id": "cVl4r4t9neou"
      },
      "execution_count": null,
      "outputs": []
    },
    {
      "cell_type": "code",
      "source": [
        "maxClm = df['gigachad'].max()\n",
        "maxClm\n",
        "df.loc[df['gigachad'] == maxClm].value"
      ],
      "metadata": {
        "colab": {
          "base_uri": "https://localhost:8080/",
          "height": 322
        },
        "id": "KybFDeJttrDl",
        "outputId": "8ddc6de3-e5f2-4547-92a0-5a25963c45d1"
      },
      "execution_count": null,
      "outputs": [
        {
          "output_type": "error",
          "ename": "AttributeError",
          "evalue": "ignored",
          "traceback": [
            "\u001b[0;31m---------------------------------------------------------------------------\u001b[0m",
            "\u001b[0;31mAttributeError\u001b[0m                            Traceback (most recent call last)",
            "\u001b[0;32m<ipython-input-149-9469c518ae4e>\u001b[0m in \u001b[0;36m<module>\u001b[0;34m\u001b[0m\n\u001b[1;32m      1\u001b[0m \u001b[0mmaxClm\u001b[0m \u001b[0;34m=\u001b[0m \u001b[0mdf\u001b[0m\u001b[0;34m[\u001b[0m\u001b[0;34m'gigachad'\u001b[0m\u001b[0;34m]\u001b[0m\u001b[0;34m.\u001b[0m\u001b[0mmax\u001b[0m\u001b[0;34m(\u001b[0m\u001b[0;34m)\u001b[0m\u001b[0;34m\u001b[0m\u001b[0;34m\u001b[0m\u001b[0m\n\u001b[1;32m      2\u001b[0m \u001b[0mmaxClm\u001b[0m\u001b[0;34m\u001b[0m\u001b[0;34m\u001b[0m\u001b[0m\n\u001b[0;32m----> 3\u001b[0;31m \u001b[0mdf\u001b[0m\u001b[0;34m.\u001b[0m\u001b[0mloc\u001b[0m\u001b[0;34m[\u001b[0m\u001b[0mdf\u001b[0m\u001b[0;34m[\u001b[0m\u001b[0;34m'gigachad'\u001b[0m\u001b[0;34m]\u001b[0m \u001b[0;34m==\u001b[0m \u001b[0mmaxClm\u001b[0m\u001b[0;34m]\u001b[0m\u001b[0;34m.\u001b[0m\u001b[0mvalue\u001b[0m\u001b[0;34m\u001b[0m\u001b[0;34m\u001b[0m\u001b[0m\n\u001b[0m",
            "\u001b[0;32m/usr/local/lib/python3.8/dist-packages/pandas/core/generic.py\u001b[0m in \u001b[0;36m__getattr__\u001b[0;34m(self, name)\u001b[0m\n\u001b[1;32m   5485\u001b[0m         ):\n\u001b[1;32m   5486\u001b[0m             \u001b[0;32mreturn\u001b[0m \u001b[0mself\u001b[0m\u001b[0;34m[\u001b[0m\u001b[0mname\u001b[0m\u001b[0;34m]\u001b[0m\u001b[0;34m\u001b[0m\u001b[0;34m\u001b[0m\u001b[0m\n\u001b[0;32m-> 5487\u001b[0;31m         \u001b[0;32mreturn\u001b[0m \u001b[0mobject\u001b[0m\u001b[0;34m.\u001b[0m\u001b[0m__getattribute__\u001b[0m\u001b[0;34m(\u001b[0m\u001b[0mself\u001b[0m\u001b[0;34m,\u001b[0m \u001b[0mname\u001b[0m\u001b[0;34m)\u001b[0m\u001b[0;34m\u001b[0m\u001b[0;34m\u001b[0m\u001b[0m\n\u001b[0m\u001b[1;32m   5488\u001b[0m \u001b[0;34m\u001b[0m\u001b[0m\n\u001b[1;32m   5489\u001b[0m     \u001b[0;32mdef\u001b[0m \u001b[0m__setattr__\u001b[0m\u001b[0;34m(\u001b[0m\u001b[0mself\u001b[0m\u001b[0;34m,\u001b[0m \u001b[0mname\u001b[0m\u001b[0;34m:\u001b[0m \u001b[0mstr\u001b[0m\u001b[0;34m,\u001b[0m \u001b[0mvalue\u001b[0m\u001b[0;34m)\u001b[0m \u001b[0;34m->\u001b[0m \u001b[0;32mNone\u001b[0m\u001b[0;34m:\u001b[0m\u001b[0;34m\u001b[0m\u001b[0;34m\u001b[0m\u001b[0m\n",
            "\u001b[0;31mAttributeError\u001b[0m: 'DataFrame' object has no attribute 'value'"
          ]
        }
      ]
    },
    {
      "cell_type": "code",
      "source": [
        "maxClm = df['89'].max()\n",
        "df.loc[df['89'] == maxClm]"
      ],
      "metadata": {
        "colab": {
          "base_uri": "https://localhost:8080/",
          "height": 110
        },
        "id": "twOWV8jOyKFe",
        "outputId": "e51b417b-e0e4-43cb-c655-65e7c78f2044"
      },
      "execution_count": null,
      "outputs": [
        {
          "output_type": "execute_result",
          "data": {
            "text/plain": [
              "    gigachad  Nicolas Cari  gabriel balderrama  1  2   3   4   5  6  7  ...  \\\n",
              "40         0             0                   0  0  0  83  69  61  0  0  ...   \n",
              "\n",
              "    87  88  89  90  91  92  93  94  95  96  \n",
              "40   0   0  98  81   0  84   0  65   0   0  \n",
              "\n",
              "[1 rows x 99 columns]"
            ],
            "text/html": [
              "\n",
              "  <div id=\"df-f4a5cfbb-62a4-41b8-8972-dd571b65aa4e\">\n",
              "    <div class=\"colab-df-container\">\n",
              "      <div>\n",
              "<style scoped>\n",
              "    .dataframe tbody tr th:only-of-type {\n",
              "        vertical-align: middle;\n",
              "    }\n",
              "\n",
              "    .dataframe tbody tr th {\n",
              "        vertical-align: top;\n",
              "    }\n",
              "\n",
              "    .dataframe thead th {\n",
              "        text-align: right;\n",
              "    }\n",
              "</style>\n",
              "<table border=\"1\" class=\"dataframe\">\n",
              "  <thead>\n",
              "    <tr style=\"text-align: right;\">\n",
              "      <th></th>\n",
              "      <th>gigachad</th>\n",
              "      <th>Nicolas Cari</th>\n",
              "      <th>gabriel balderrama</th>\n",
              "      <th>1</th>\n",
              "      <th>2</th>\n",
              "      <th>3</th>\n",
              "      <th>4</th>\n",
              "      <th>5</th>\n",
              "      <th>6</th>\n",
              "      <th>7</th>\n",
              "      <th>...</th>\n",
              "      <th>87</th>\n",
              "      <th>88</th>\n",
              "      <th>89</th>\n",
              "      <th>90</th>\n",
              "      <th>91</th>\n",
              "      <th>92</th>\n",
              "      <th>93</th>\n",
              "      <th>94</th>\n",
              "      <th>95</th>\n",
              "      <th>96</th>\n",
              "    </tr>\n",
              "  </thead>\n",
              "  <tbody>\n",
              "    <tr>\n",
              "      <th>40</th>\n",
              "      <td>0</td>\n",
              "      <td>0</td>\n",
              "      <td>0</td>\n",
              "      <td>0</td>\n",
              "      <td>0</td>\n",
              "      <td>83</td>\n",
              "      <td>69</td>\n",
              "      <td>61</td>\n",
              "      <td>0</td>\n",
              "      <td>0</td>\n",
              "      <td>...</td>\n",
              "      <td>0</td>\n",
              "      <td>0</td>\n",
              "      <td>98</td>\n",
              "      <td>81</td>\n",
              "      <td>0</td>\n",
              "      <td>84</td>\n",
              "      <td>0</td>\n",
              "      <td>65</td>\n",
              "      <td>0</td>\n",
              "      <td>0</td>\n",
              "    </tr>\n",
              "  </tbody>\n",
              "</table>\n",
              "<p>1 rows × 99 columns</p>\n",
              "</div>\n",
              "      <button class=\"colab-df-convert\" onclick=\"convertToInteractive('df-f4a5cfbb-62a4-41b8-8972-dd571b65aa4e')\"\n",
              "              title=\"Convert this dataframe to an interactive table.\"\n",
              "              style=\"display:none;\">\n",
              "        \n",
              "  <svg xmlns=\"http://www.w3.org/2000/svg\" height=\"24px\"viewBox=\"0 0 24 24\"\n",
              "       width=\"24px\">\n",
              "    <path d=\"M0 0h24v24H0V0z\" fill=\"none\"/>\n",
              "    <path d=\"M18.56 5.44l.94 2.06.94-2.06 2.06-.94-2.06-.94-.94-2.06-.94 2.06-2.06.94zm-11 1L8.5 8.5l.94-2.06 2.06-.94-2.06-.94L8.5 2.5l-.94 2.06-2.06.94zm10 10l.94 2.06.94-2.06 2.06-.94-2.06-.94-.94-2.06-.94 2.06-2.06.94z\"/><path d=\"M17.41 7.96l-1.37-1.37c-.4-.4-.92-.59-1.43-.59-.52 0-1.04.2-1.43.59L10.3 9.45l-7.72 7.72c-.78.78-.78 2.05 0 2.83L4 21.41c.39.39.9.59 1.41.59.51 0 1.02-.2 1.41-.59l7.78-7.78 2.81-2.81c.8-.78.8-2.07 0-2.86zM5.41 20L4 18.59l7.72-7.72 1.47 1.35L5.41 20z\"/>\n",
              "  </svg>\n",
              "      </button>\n",
              "      \n",
              "  <style>\n",
              "    .colab-df-container {\n",
              "      display:flex;\n",
              "      flex-wrap:wrap;\n",
              "      gap: 12px;\n",
              "    }\n",
              "\n",
              "    .colab-df-convert {\n",
              "      background-color: #E8F0FE;\n",
              "      border: none;\n",
              "      border-radius: 50%;\n",
              "      cursor: pointer;\n",
              "      display: none;\n",
              "      fill: #1967D2;\n",
              "      height: 32px;\n",
              "      padding: 0 0 0 0;\n",
              "      width: 32px;\n",
              "    }\n",
              "\n",
              "    .colab-df-convert:hover {\n",
              "      background-color: #E2EBFA;\n",
              "      box-shadow: 0px 1px 2px rgba(60, 64, 67, 0.3), 0px 1px 3px 1px rgba(60, 64, 67, 0.15);\n",
              "      fill: #174EA6;\n",
              "    }\n",
              "\n",
              "    [theme=dark] .colab-df-convert {\n",
              "      background-color: #3B4455;\n",
              "      fill: #D2E3FC;\n",
              "    }\n",
              "\n",
              "    [theme=dark] .colab-df-convert:hover {\n",
              "      background-color: #434B5C;\n",
              "      box-shadow: 0px 1px 3px 1px rgba(0, 0, 0, 0.15);\n",
              "      filter: drop-shadow(0px 1px 2px rgba(0, 0, 0, 0.3));\n",
              "      fill: #FFFFFF;\n",
              "    }\n",
              "  </style>\n",
              "\n",
              "      <script>\n",
              "        const buttonEl =\n",
              "          document.querySelector('#df-f4a5cfbb-62a4-41b8-8972-dd571b65aa4e button.colab-df-convert');\n",
              "        buttonEl.style.display =\n",
              "          google.colab.kernel.accessAllowed ? 'block' : 'none';\n",
              "\n",
              "        async function convertToInteractive(key) {\n",
              "          const element = document.querySelector('#df-f4a5cfbb-62a4-41b8-8972-dd571b65aa4e');\n",
              "          const dataTable =\n",
              "            await google.colab.kernel.invokeFunction('convertToInteractive',\n",
              "                                                     [key], {});\n",
              "          if (!dataTable) return;\n",
              "\n",
              "          const docLinkHtml = 'Like what you see? Visit the ' +\n",
              "            '<a target=\"_blank\" href=https://colab.research.google.com/notebooks/data_table.ipynb>data table notebook</a>'\n",
              "            + ' to learn more about interactive tables.';\n",
              "          element.innerHTML = '';\n",
              "          dataTable['output_type'] = 'display_data';\n",
              "          await google.colab.output.renderOutput(dataTable, element);\n",
              "          const docLink = document.createElement('div');\n",
              "          docLink.innerHTML = docLinkHtml;\n",
              "          element.appendChild(docLink);\n",
              "        }\n",
              "      </script>\n",
              "    </div>\n",
              "  </div>\n",
              "  "
            ]
          },
          "metadata": {},
          "execution_count": 140
        }
      ]
    },
    {
      "cell_type": "code",
      "source": [],
      "metadata": {
        "id": "GlsOEKGGuBRM"
      },
      "execution_count": null,
      "outputs": []
    },
    {
      "cell_type": "code",
      "source": [
        "def sacar_pareja(nombre_persona1,df):\n",
        "  maximo=df[nombre_persona1].max()\n",
        "  indice=df.\n",
        "  while(maximo!=indice_max)\n"
      ],
      "metadata": {
        "id": "6ZS_n6ggrpAD",
        "colab": {
          "base_uri": "https://localhost:8080/",
          "height": 131
        },
        "outputId": "20c7f663-83da-4528-925d-9d386dacb33a"
      },
      "execution_count": null,
      "outputs": [
        {
          "output_type": "error",
          "ename": "SyntaxError",
          "evalue": "ignored",
          "traceback": [
            "\u001b[0;36m  File \u001b[0;32m\"<ipython-input-114-d3cbb7fa29b5>\"\u001b[0;36m, line \u001b[0;32m4\u001b[0m\n\u001b[0;31m    while(score_maximo)\u001b[0m\n\u001b[0m                       ^\u001b[0m\n\u001b[0;31mSyntaxError\u001b[0m\u001b[0;31m:\u001b[0m invalid syntax\n"
          ]
        }
      ]
    }
  ],
  "metadata": {
    "colab": {
      "provenance": []
    },
    "kernelspec": {
      "display_name": "Python 3",
      "language": "python",
      "name": "python3"
    },
    "language_info": {
      "codemirror_mode": {
        "name": "ipython",
        "version": 3
      },
      "file_extension": ".py",
      "mimetype": "text/x-python",
      "name": "python",
      "nbconvert_exporter": "python",
      "pygments_lexer": "ipython3",
      "version": "3.8.8"
    }
  },
  "nbformat": 4,
  "nbformat_minor": 0
}