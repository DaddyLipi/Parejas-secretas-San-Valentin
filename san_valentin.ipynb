{
  "nbformat": 4,
  "nbformat_minor": 0,
  "metadata": {
    "colab": {
      "provenance": []
    },
    "kernelspec": {
      "name": "python3",
      "display_name": "Python 3"
    },
    "language_info": {
      "name": "python"
    }
  },
  "cells": [
    {
      "cell_type": "code",
      "execution_count": 70,
      "metadata": {
        "id": "ytI9n-CGyytL"
      },
      "outputs": [],
      "source": [
        "import pandas as pd\n",
        "import json\n",
        "from pandas.compat import numpy"
      ]
    },
    {
      "cell_type": "code",
      "source": [
        "out_colnames = [\n",
        "    \"orientacion\",\n",
        "    \"genero\",\n",
        "    \"telefono\",\n",
        "    \"mascota\",\n",
        "    \"signo\",\n",
        "    \"entretenimiento\",\n",
        "    \"pasatiempo\",\n",
        "    \"personalidad\",\n",
        "    \"peliculas\",\n",
        "    \"comida\",\n",
        "    \"loteria\",\n",
        "    \"bebida\",\n",
        "    \"b_alcoholica\",\n",
        "    \"viaje\",\n",
        "    \"musica\",\n",
        "    \"prioridad_pareja\",\n",
        "    \"terapia\",\n",
        "    \"nombre\",\n",
        "]"
      ],
      "metadata": {
        "id": "U6hxUcA0y5Hj"
      },
      "execution_count": 71,
      "outputs": []
    },
    {
      "cell_type": "code",
      "source": [
        "print(len(out_colnames))"
      ],
      "metadata": {
        "colab": {
          "base_uri": "https://localhost:8080/"
        },
        "id": "_tO8QfSRzEVU",
        "outputId": "dc9c93bc-b9a9-431e-d3ba-5710c6ae489e"
      },
      "execution_count": 72,
      "outputs": [
        {
          "output_type": "stream",
          "name": "stdout",
          "text": [
            "18\n"
          ]
        }
      ]
    },
    {
      "cell_type": "code",
      "source": [
        "# extract pais users\n",
        "def extract_tokens(df):\n",
        "    out = df.dropna()\n",
        "    return out"
      ],
      "metadata": {
        "id": "ciNvPENZzFlL"
      },
      "execution_count": 73,
      "outputs": []
    },
    {
      "cell_type": "code",
      "source": [
        "# remove unused columns\n",
        "\n",
        "\n",
        "def clean_df(df):\n",
        "    del df[\"Marca temporal\"]\n",
        "    del df[\"Token\"]\n",
        "    return df\n"
      ],
      "metadata": {
        "id": "OTrWuyu1zFtX"
      },
      "execution_count": 74,
      "outputs": []
    },
    {
      "cell_type": "code",
      "source": [
        "# rename columns\n",
        "def rename_columns(df, in_colnames, out_colnames):\n",
        "    n = len(in_colnames)\n",
        "    for i in range(n):\n",
        "        df.rename(columns={in_colnames[i]: out_colnames[i]}, inplace=True)"
      ],
      "metadata": {
        "id": "2sQNLwPozFxf"
      },
      "execution_count": 75,
      "outputs": []
    },
    {
      "cell_type": "code",
      "source": [
        "df = pd.read_csv(\"respuestas_token_random.tsv\", sep=\"\\t\")\n",
        "paid_users = extract_tokens(df)\n",
        "clean_df(paid_users)"
      ],
      "metadata": {
        "colab": {
          "base_uri": "https://localhost:8080/",
          "height": 1000
        },
        "id": "LUDqoGElzFz1",
        "outputId": "49eda91f-4483-4f87-8893-f9734f8919e6"
      },
      "execution_count": 76,
      "outputs": [
        {
          "output_type": "execute_result",
          "data": {
            "text/plain": [
              "   Orientación Sexual  Genero  Teléfono para contacto  \\\n",
              "0        Heterosexual  Hombre         314159265357278   \n",
              "1        Heterosexual  Hombre                68969696   \n",
              "2        Heterosexual  Hombre                72849649   \n",
              "3          Homosexual  Hombre                       1   \n",
              "4        Heterosexual  Hombre                       1   \n",
              "..                ...     ...                     ...   \n",
              "94       Heterosexual   Mujer                       1   \n",
              "95         Homosexual  Hombre                       1   \n",
              "96       Heterosexual   Mujer                       1   \n",
              "97       Heterosexual  Hombre                       1   \n",
              "98       Heterosexual  Hombre                       1   \n",
              "\n",
              "   ¿Qué mascota prefieres?  ¿Qué signo del horóscopo eres?  \\\n",
              "0                    Perros                          Virgo   \n",
              "1                    Perros                          Libra   \n",
              "2                    Perros                        Geminis   \n",
              "3                  Reptiles                          Aries   \n",
              "4                     Gatos                          Aries   \n",
              "..                      ...                            ...   \n",
              "94                     Aves                    Capricornio   \n",
              "95    Mucha responsabilidad                          Virgo   \n",
              "96                   Perros                       Escorpio   \n",
              "97                    Gatos                    Capricornio   \n",
              "98                   Perros                          Tauro   \n",
              "\n",
              "   ¿Mejor forma de entretenimiento?      ¿Dónde prefieres pasar el tiempo?  \\\n",
              "0                       Videojuegos         Interior(Cines, en casa, etc.)   \n",
              "1                       Videojuegos         Interior(Cines, en casa, etc.)   \n",
              "2                         Peliculas         Interior(Cines, en casa, etc.)   \n",
              "3                            Series  Exterior(Parques, restaurantes, etc.)   \n",
              "4                            Series  Exterior(Parques, restaurantes, etc.)   \n",
              "..                              ...                                    ...   \n",
              "94                        Peliculas         Interior(Cines, en casa, etc.)   \n",
              "95                        Peliculas  Exterior(Parques, restaurantes, etc.)   \n",
              "96                      Videojuegos         Interior(Cines, en casa, etc.)   \n",
              "97                      Videojuegos  Exterior(Parques, restaurantes, etc.)   \n",
              "98                        Peliculas  Exterior(Parques, restaurantes, etc.)   \n",
              "\n",
              "                     ¿Cómo defines tu personalidad?  \\\n",
              "0                                      Introvertido   \n",
              "1                          Extrovertido pero timido   \n",
              "2   Introvertido pero abierto a nuevas experiencias   \n",
              "3                                      Introvertido   \n",
              "4                                      Introvertido   \n",
              "..                                              ...   \n",
              "94  Introvertido pero abierto a nuevas experiencias   \n",
              "95                         Extrovertido pero timido   \n",
              "96  Introvertido pero abierto a nuevas experiencias   \n",
              "97  Introvertido pero abierto a nuevas experiencias   \n",
              "98                                     Extrovertido   \n",
              "\n",
              "                                  ¿Mejor franquicia?  ¿Preferencia de comida?  \\\n",
              "0                                         MCU(Marvel)                  Dulces   \n",
              "1                                         MCU(Marvel)                  Dulces   \n",
              "2                                         MCU(Marvel)                  Salado   \n",
              "3   Distopica juvenil(Juegos del hambre, maze runn...    No tengo preferencia   \n",
              "4                                  Piratas del caribe                  Dulces   \n",
              "..                                                ...                     ...   \n",
              "94                                        MCU(Marvel)            Ambos juntos   \n",
              "95                                          Star wars    No tengo preferencia   \n",
              "96                                       Harry potter                  Dulces   \n",
              "97                                 Piratas del caribe                  Dulces   \n",
              "98                                       Harry potter                  Dulces   \n",
              "\n",
              "   ¿Qué harías si ganas la lotería? Bebida preferida  \\\n",
              "0                        Invertirlo             Soda   \n",
              "1       Gastarlo en familia y en ti             Soda   \n",
              "2       Gastarlo en familia y en ti             Cafe   \n",
              "3       Gastarlo en familia y en ti             Soda   \n",
              "4               Viajar por el mundo             Cafe   \n",
              "..                              ...              ...   \n",
              "94                    Hacer caridad             Agua   \n",
              "95                       Invertirlo   Jugos de fruta   \n",
              "96                    Hacer caridad               Te   \n",
              "97                    Hacer caridad             Cafe   \n",
              "98              Viajar por el mundo               Te   \n",
              "\n",
              "                         Bebida alcohólica preferida ¿Dónde prefieres viajar?  \\\n",
              "0      (Ron, vodka, Tequila, singani) y sus cocteles                     Asia   \n",
              "1                                            Cerveza                     Asia   \n",
              "2   Licores dulces(Jagger, 3 plumas, goss cake, etc)                     Asia   \n",
              "3                                            Guarapo                   Europa   \n",
              "4                                            Guarapo                   Europa   \n",
              "..                                               ...                      ...   \n",
              "94                                           No tomo                     Asia   \n",
              "95                                           Cerveza           Estados unidos   \n",
              "96  Licores dulces(Jagger, 3 plumas, goss cake, etc)                El caribe   \n",
              "97                                           No tomo                     Asia   \n",
              "98                                           Guarapo                     Asia   \n",
              "\n",
              "   ¿Qué estilo de musical escuchas? ¿Qué es lo mas importante en una persona?  \\\n",
              "0               Rock español/ingles                     Dinero/estatus social   \n",
              "1                     Pop en ingles                         Sentido del humor   \n",
              "2               Pop latino/reguetón                                  Limpieza   \n",
              "3               Rock español/ingles                         Sentido del humor   \n",
              "4               Pop latino/reguetón                                  Limpieza   \n",
              "..                              ...                                       ...   \n",
              "94               Cumbiones/Nacional                                   Madurez   \n",
              "95              Pop latino/reguetón                     Dinero/estatus social   \n",
              "96               Cumbiones/Nacional                                   Madurez   \n",
              "97                    Pop en ingles                                   Madurez   \n",
              "98              Rock español/ingles                                  Limpieza   \n",
              "\n",
              "                   ¿Qué haces si estas triste? Nombre y apellido completo  \n",
              "0   Entretenimiento(Peliculas, series, musica)                   gigachad  \n",
              "1   Entretenimiento(Peliculas, series, musica)               Nicolas Cari  \n",
              "2                                    Ejercicio         gabriel balderrama  \n",
              "3               Busco alguien para desahogarme                          1  \n",
              "4   Entretenimiento(Peliculas, series, musica)                          2  \n",
              "..                                         ...                        ...  \n",
              "94              Busco alguien para desahogarme                         92  \n",
              "95                              Como mis penas                         93  \n",
              "96                                   Ejercicio                         94  \n",
              "97                           Vivo con el dolor                         95  \n",
              "98                           Vivo con el dolor                         96  \n",
              "\n",
              "[99 rows x 18 columns]"
            ],
            "text/html": [
              "\n",
              "  <div id=\"df-f63606ac-ea6e-42a3-9223-0003aa3d1af0\">\n",
              "    <div class=\"colab-df-container\">\n",
              "      <div>\n",
              "<style scoped>\n",
              "    .dataframe tbody tr th:only-of-type {\n",
              "        vertical-align: middle;\n",
              "    }\n",
              "\n",
              "    .dataframe tbody tr th {\n",
              "        vertical-align: top;\n",
              "    }\n",
              "\n",
              "    .dataframe thead th {\n",
              "        text-align: right;\n",
              "    }\n",
              "</style>\n",
              "<table border=\"1\" class=\"dataframe\">\n",
              "  <thead>\n",
              "    <tr style=\"text-align: right;\">\n",
              "      <th></th>\n",
              "      <th>Orientación Sexual</th>\n",
              "      <th>Genero</th>\n",
              "      <th>Teléfono para contacto</th>\n",
              "      <th>¿Qué mascota prefieres?</th>\n",
              "      <th>¿Qué signo del horóscopo eres?</th>\n",
              "      <th>¿Mejor forma de entretenimiento?</th>\n",
              "      <th>¿Dónde prefieres pasar el tiempo?</th>\n",
              "      <th>¿Cómo defines tu personalidad?</th>\n",
              "      <th>¿Mejor franquicia?</th>\n",
              "      <th>¿Preferencia de comida?</th>\n",
              "      <th>¿Qué harías si ganas la lotería?</th>\n",
              "      <th>Bebida preferida</th>\n",
              "      <th>Bebida alcohólica preferida</th>\n",
              "      <th>¿Dónde prefieres viajar?</th>\n",
              "      <th>¿Qué estilo de musical escuchas?</th>\n",
              "      <th>¿Qué es lo mas importante en una persona?</th>\n",
              "      <th>¿Qué haces si estas triste?</th>\n",
              "      <th>Nombre y apellido completo</th>\n",
              "    </tr>\n",
              "  </thead>\n",
              "  <tbody>\n",
              "    <tr>\n",
              "      <th>0</th>\n",
              "      <td>Heterosexual</td>\n",
              "      <td>Hombre</td>\n",
              "      <td>314159265357278</td>\n",
              "      <td>Perros</td>\n",
              "      <td>Virgo</td>\n",
              "      <td>Videojuegos</td>\n",
              "      <td>Interior(Cines, en casa, etc.)</td>\n",
              "      <td>Introvertido</td>\n",
              "      <td>MCU(Marvel)</td>\n",
              "      <td>Dulces</td>\n",
              "      <td>Invertirlo</td>\n",
              "      <td>Soda</td>\n",
              "      <td>(Ron, vodka, Tequila, singani) y sus cocteles</td>\n",
              "      <td>Asia</td>\n",
              "      <td>Rock español/ingles</td>\n",
              "      <td>Dinero/estatus social</td>\n",
              "      <td>Entretenimiento(Peliculas, series, musica)</td>\n",
              "      <td>gigachad</td>\n",
              "    </tr>\n",
              "    <tr>\n",
              "      <th>1</th>\n",
              "      <td>Heterosexual</td>\n",
              "      <td>Hombre</td>\n",
              "      <td>68969696</td>\n",
              "      <td>Perros</td>\n",
              "      <td>Libra</td>\n",
              "      <td>Videojuegos</td>\n",
              "      <td>Interior(Cines, en casa, etc.)</td>\n",
              "      <td>Extrovertido pero timido</td>\n",
              "      <td>MCU(Marvel)</td>\n",
              "      <td>Dulces</td>\n",
              "      <td>Gastarlo en familia y en ti</td>\n",
              "      <td>Soda</td>\n",
              "      <td>Cerveza</td>\n",
              "      <td>Asia</td>\n",
              "      <td>Pop en ingles</td>\n",
              "      <td>Sentido del humor</td>\n",
              "      <td>Entretenimiento(Peliculas, series, musica)</td>\n",
              "      <td>Nicolas Cari</td>\n",
              "    </tr>\n",
              "    <tr>\n",
              "      <th>2</th>\n",
              "      <td>Heterosexual</td>\n",
              "      <td>Hombre</td>\n",
              "      <td>72849649</td>\n",
              "      <td>Perros</td>\n",
              "      <td>Geminis</td>\n",
              "      <td>Peliculas</td>\n",
              "      <td>Interior(Cines, en casa, etc.)</td>\n",
              "      <td>Introvertido pero abierto a nuevas experiencias</td>\n",
              "      <td>MCU(Marvel)</td>\n",
              "      <td>Salado</td>\n",
              "      <td>Gastarlo en familia y en ti</td>\n",
              "      <td>Cafe</td>\n",
              "      <td>Licores dulces(Jagger, 3 plumas, goss cake, etc)</td>\n",
              "      <td>Asia</td>\n",
              "      <td>Pop latino/reguetón</td>\n",
              "      <td>Limpieza</td>\n",
              "      <td>Ejercicio</td>\n",
              "      <td>gabriel balderrama</td>\n",
              "    </tr>\n",
              "    <tr>\n",
              "      <th>3</th>\n",
              "      <td>Homosexual</td>\n",
              "      <td>Hombre</td>\n",
              "      <td>1</td>\n",
              "      <td>Reptiles</td>\n",
              "      <td>Aries</td>\n",
              "      <td>Series</td>\n",
              "      <td>Exterior(Parques, restaurantes, etc.)</td>\n",
              "      <td>Introvertido</td>\n",
              "      <td>Distopica juvenil(Juegos del hambre, maze runn...</td>\n",
              "      <td>No tengo preferencia</td>\n",
              "      <td>Gastarlo en familia y en ti</td>\n",
              "      <td>Soda</td>\n",
              "      <td>Guarapo</td>\n",
              "      <td>Europa</td>\n",
              "      <td>Rock español/ingles</td>\n",
              "      <td>Sentido del humor</td>\n",
              "      <td>Busco alguien para desahogarme</td>\n",
              "      <td>1</td>\n",
              "    </tr>\n",
              "    <tr>\n",
              "      <th>4</th>\n",
              "      <td>Heterosexual</td>\n",
              "      <td>Hombre</td>\n",
              "      <td>1</td>\n",
              "      <td>Gatos</td>\n",
              "      <td>Aries</td>\n",
              "      <td>Series</td>\n",
              "      <td>Exterior(Parques, restaurantes, etc.)</td>\n",
              "      <td>Introvertido</td>\n",
              "      <td>Piratas del caribe</td>\n",
              "      <td>Dulces</td>\n",
              "      <td>Viajar por el mundo</td>\n",
              "      <td>Cafe</td>\n",
              "      <td>Guarapo</td>\n",
              "      <td>Europa</td>\n",
              "      <td>Pop latino/reguetón</td>\n",
              "      <td>Limpieza</td>\n",
              "      <td>Entretenimiento(Peliculas, series, musica)</td>\n",
              "      <td>2</td>\n",
              "    </tr>\n",
              "    <tr>\n",
              "      <th>...</th>\n",
              "      <td>...</td>\n",
              "      <td>...</td>\n",
              "      <td>...</td>\n",
              "      <td>...</td>\n",
              "      <td>...</td>\n",
              "      <td>...</td>\n",
              "      <td>...</td>\n",
              "      <td>...</td>\n",
              "      <td>...</td>\n",
              "      <td>...</td>\n",
              "      <td>...</td>\n",
              "      <td>...</td>\n",
              "      <td>...</td>\n",
              "      <td>...</td>\n",
              "      <td>...</td>\n",
              "      <td>...</td>\n",
              "      <td>...</td>\n",
              "      <td>...</td>\n",
              "    </tr>\n",
              "    <tr>\n",
              "      <th>94</th>\n",
              "      <td>Heterosexual</td>\n",
              "      <td>Mujer</td>\n",
              "      <td>1</td>\n",
              "      <td>Aves</td>\n",
              "      <td>Capricornio</td>\n",
              "      <td>Peliculas</td>\n",
              "      <td>Interior(Cines, en casa, etc.)</td>\n",
              "      <td>Introvertido pero abierto a nuevas experiencias</td>\n",
              "      <td>MCU(Marvel)</td>\n",
              "      <td>Ambos juntos</td>\n",
              "      <td>Hacer caridad</td>\n",
              "      <td>Agua</td>\n",
              "      <td>No tomo</td>\n",
              "      <td>Asia</td>\n",
              "      <td>Cumbiones/Nacional</td>\n",
              "      <td>Madurez</td>\n",
              "      <td>Busco alguien para desahogarme</td>\n",
              "      <td>92</td>\n",
              "    </tr>\n",
              "    <tr>\n",
              "      <th>95</th>\n",
              "      <td>Homosexual</td>\n",
              "      <td>Hombre</td>\n",
              "      <td>1</td>\n",
              "      <td>Mucha responsabilidad</td>\n",
              "      <td>Virgo</td>\n",
              "      <td>Peliculas</td>\n",
              "      <td>Exterior(Parques, restaurantes, etc.)</td>\n",
              "      <td>Extrovertido pero timido</td>\n",
              "      <td>Star wars</td>\n",
              "      <td>No tengo preferencia</td>\n",
              "      <td>Invertirlo</td>\n",
              "      <td>Jugos de fruta</td>\n",
              "      <td>Cerveza</td>\n",
              "      <td>Estados unidos</td>\n",
              "      <td>Pop latino/reguetón</td>\n",
              "      <td>Dinero/estatus social</td>\n",
              "      <td>Como mis penas</td>\n",
              "      <td>93</td>\n",
              "    </tr>\n",
              "    <tr>\n",
              "      <th>96</th>\n",
              "      <td>Heterosexual</td>\n",
              "      <td>Mujer</td>\n",
              "      <td>1</td>\n",
              "      <td>Perros</td>\n",
              "      <td>Escorpio</td>\n",
              "      <td>Videojuegos</td>\n",
              "      <td>Interior(Cines, en casa, etc.)</td>\n",
              "      <td>Introvertido pero abierto a nuevas experiencias</td>\n",
              "      <td>Harry potter</td>\n",
              "      <td>Dulces</td>\n",
              "      <td>Hacer caridad</td>\n",
              "      <td>Te</td>\n",
              "      <td>Licores dulces(Jagger, 3 plumas, goss cake, etc)</td>\n",
              "      <td>El caribe</td>\n",
              "      <td>Cumbiones/Nacional</td>\n",
              "      <td>Madurez</td>\n",
              "      <td>Ejercicio</td>\n",
              "      <td>94</td>\n",
              "    </tr>\n",
              "    <tr>\n",
              "      <th>97</th>\n",
              "      <td>Heterosexual</td>\n",
              "      <td>Hombre</td>\n",
              "      <td>1</td>\n",
              "      <td>Gatos</td>\n",
              "      <td>Capricornio</td>\n",
              "      <td>Videojuegos</td>\n",
              "      <td>Exterior(Parques, restaurantes, etc.)</td>\n",
              "      <td>Introvertido pero abierto a nuevas experiencias</td>\n",
              "      <td>Piratas del caribe</td>\n",
              "      <td>Dulces</td>\n",
              "      <td>Hacer caridad</td>\n",
              "      <td>Cafe</td>\n",
              "      <td>No tomo</td>\n",
              "      <td>Asia</td>\n",
              "      <td>Pop en ingles</td>\n",
              "      <td>Madurez</td>\n",
              "      <td>Vivo con el dolor</td>\n",
              "      <td>95</td>\n",
              "    </tr>\n",
              "    <tr>\n",
              "      <th>98</th>\n",
              "      <td>Heterosexual</td>\n",
              "      <td>Hombre</td>\n",
              "      <td>1</td>\n",
              "      <td>Perros</td>\n",
              "      <td>Tauro</td>\n",
              "      <td>Peliculas</td>\n",
              "      <td>Exterior(Parques, restaurantes, etc.)</td>\n",
              "      <td>Extrovertido</td>\n",
              "      <td>Harry potter</td>\n",
              "      <td>Dulces</td>\n",
              "      <td>Viajar por el mundo</td>\n",
              "      <td>Te</td>\n",
              "      <td>Guarapo</td>\n",
              "      <td>Asia</td>\n",
              "      <td>Rock español/ingles</td>\n",
              "      <td>Limpieza</td>\n",
              "      <td>Vivo con el dolor</td>\n",
              "      <td>96</td>\n",
              "    </tr>\n",
              "  </tbody>\n",
              "</table>\n",
              "<p>99 rows × 18 columns</p>\n",
              "</div>\n",
              "      <button class=\"colab-df-convert\" onclick=\"convertToInteractive('df-f63606ac-ea6e-42a3-9223-0003aa3d1af0')\"\n",
              "              title=\"Convert this dataframe to an interactive table.\"\n",
              "              style=\"display:none;\">\n",
              "        \n",
              "  <svg xmlns=\"http://www.w3.org/2000/svg\" height=\"24px\"viewBox=\"0 0 24 24\"\n",
              "       width=\"24px\">\n",
              "    <path d=\"M0 0h24v24H0V0z\" fill=\"none\"/>\n",
              "    <path d=\"M18.56 5.44l.94 2.06.94-2.06 2.06-.94-2.06-.94-.94-2.06-.94 2.06-2.06.94zm-11 1L8.5 8.5l.94-2.06 2.06-.94-2.06-.94L8.5 2.5l-.94 2.06-2.06.94zm10 10l.94 2.06.94-2.06 2.06-.94-2.06-.94-.94-2.06-.94 2.06-2.06.94z\"/><path d=\"M17.41 7.96l-1.37-1.37c-.4-.4-.92-.59-1.43-.59-.52 0-1.04.2-1.43.59L10.3 9.45l-7.72 7.72c-.78.78-.78 2.05 0 2.83L4 21.41c.39.39.9.59 1.41.59.51 0 1.02-.2 1.41-.59l7.78-7.78 2.81-2.81c.8-.78.8-2.07 0-2.86zM5.41 20L4 18.59l7.72-7.72 1.47 1.35L5.41 20z\"/>\n",
              "  </svg>\n",
              "      </button>\n",
              "      \n",
              "  <style>\n",
              "    .colab-df-container {\n",
              "      display:flex;\n",
              "      flex-wrap:wrap;\n",
              "      gap: 12px;\n",
              "    }\n",
              "\n",
              "    .colab-df-convert {\n",
              "      background-color: #E8F0FE;\n",
              "      border: none;\n",
              "      border-radius: 50%;\n",
              "      cursor: pointer;\n",
              "      display: none;\n",
              "      fill: #1967D2;\n",
              "      height: 32px;\n",
              "      padding: 0 0 0 0;\n",
              "      width: 32px;\n",
              "    }\n",
              "\n",
              "    .colab-df-convert:hover {\n",
              "      background-color: #E2EBFA;\n",
              "      box-shadow: 0px 1px 2px rgba(60, 64, 67, 0.3), 0px 1px 3px 1px rgba(60, 64, 67, 0.15);\n",
              "      fill: #174EA6;\n",
              "    }\n",
              "\n",
              "    [theme=dark] .colab-df-convert {\n",
              "      background-color: #3B4455;\n",
              "      fill: #D2E3FC;\n",
              "    }\n",
              "\n",
              "    [theme=dark] .colab-df-convert:hover {\n",
              "      background-color: #434B5C;\n",
              "      box-shadow: 0px 1px 3px 1px rgba(0, 0, 0, 0.15);\n",
              "      filter: drop-shadow(0px 1px 2px rgba(0, 0, 0, 0.3));\n",
              "      fill: #FFFFFF;\n",
              "    }\n",
              "  </style>\n",
              "\n",
              "      <script>\n",
              "        const buttonEl =\n",
              "          document.querySelector('#df-f63606ac-ea6e-42a3-9223-0003aa3d1af0 button.colab-df-convert');\n",
              "        buttonEl.style.display =\n",
              "          google.colab.kernel.accessAllowed ? 'block' : 'none';\n",
              "\n",
              "        async function convertToInteractive(key) {\n",
              "          const element = document.querySelector('#df-f63606ac-ea6e-42a3-9223-0003aa3d1af0');\n",
              "          const dataTable =\n",
              "            await google.colab.kernel.invokeFunction('convertToInteractive',\n",
              "                                                     [key], {});\n",
              "          if (!dataTable) return;\n",
              "\n",
              "          const docLinkHtml = 'Like what you see? Visit the ' +\n",
              "            '<a target=\"_blank\" href=https://colab.research.google.com/notebooks/data_table.ipynb>data table notebook</a>'\n",
              "            + ' to learn more about interactive tables.';\n",
              "          element.innerHTML = '';\n",
              "          dataTable['output_type'] = 'display_data';\n",
              "          await google.colab.output.renderOutput(dataTable, element);\n",
              "          const docLink = document.createElement('div');\n",
              "          docLink.innerHTML = docLinkHtml;\n",
              "          element.appendChild(docLink);\n",
              "        }\n",
              "      </script>\n",
              "    </div>\n",
              "  </div>\n",
              "  "
            ]
          },
          "metadata": {},
          "execution_count": 76
        }
      ]
    },
    {
      "cell_type": "code",
      "source": [
        "in_colnames = list(paid_users.columns)\n",
        "print(len(in_colnames))"
      ],
      "metadata": {
        "colab": {
          "base_uri": "https://localhost:8080/"
        },
        "id": "KWBH6VROzF12",
        "outputId": "97902859-250a-466f-f516-1602f4a859b6"
      },
      "execution_count": 77,
      "outputs": [
        {
          "output_type": "stream",
          "name": "stdout",
          "text": [
            "18\n"
          ]
        }
      ]
    },
    {
      "cell_type": "code",
      "source": [
        "rename_columns(paid_users, in_colnames, out_colnames)"
      ],
      "metadata": {
        "id": "RWNT9dbszXGf"
      },
      "execution_count": 78,
      "outputs": []
    },
    {
      "cell_type": "code",
      "source": [
        "myjson = paid_users.to_json(orient=\"records\")"
      ],
      "metadata": {
        "id": "gXVkLCEMzX_6"
      },
      "execution_count": 79,
      "outputs": []
    },
    {
      "cell_type": "code",
      "source": [
        "#with open(\"users.json\", \"w\", encoding=\"utf-8\") as output_file:\n",
        "  #  output_file.write(myjson)"
      ],
      "metadata": {
        "id": "8H-rFUnPzZYo"
      },
      "execution_count": 80,
      "outputs": []
    },
    {
      "cell_type": "code",
      "source": [
        "myjson"
      ],
      "metadata": {
        "colab": {
          "base_uri": "https://localhost:8080/",
          "height": 157
        },
        "id": "hIKsFD8M1iXL",
        "outputId": "d0f8c836-7837-4579-9c55-cc7b17e4f78c"
      },
      "execution_count": 81,
      "outputs": [
        {
          "output_type": "execute_result",
          "data": {
            "text/plain": [
              "'[{\"orientacion\":\"Heterosexual\",\"genero\":\"Hombre\",\"telefono\":314159265357278,\"mascota\":\"Perros\",\"signo\":\"Virgo\",\"entretenimiento\":\"Videojuegos\",\"pasatiempo\":\"Interior(Cines, en casa, etc.)\",\"personalidad\":\"Introvertido\",\"peliculas\":\"MCU(Marvel)\",\"comida\":\"Dulces\",\"loteria\":\"Invertirlo\",\"bebida\":\"Soda\",\"b_alcoholica\":\"(Ron, vodka, Tequila, singani) y sus cocteles\",\"viaje\":\"Asia\",\"musica\":\"Rock espa\\\\u00f1ol\\\\/ingles\",\"prioridad_pareja\":\"Dinero\\\\/estatus social\",\"terapia\":\"Entretenimiento(Peliculas, series, musica)\",\"nombre\":\"gigachad\"},{\"orientacion\":\"Heterosexual\",\"genero\":\"Hombre\",\"telefono\":68969696,\"mascota\":\"Perros\",\"signo\":\"Libra\",\"entretenimiento\":\"Videojuegos\",\"pasatiempo\":\"Interior(Cines, en casa, etc.)\",\"personalidad\":\"Extrovertido pero timido\",\"peliculas\":\"MCU(Marvel)\",\"comida\":\"Dulces\",\"loteria\":\"Gastarlo en familia y en ti\",\"bebida\":\"Soda\",\"b_alcoholica\":\"Cerveza\",\"viaje\":\"Asia\",\"musica\":\"Pop en ingles\",\"prioridad_pareja\":\"Sentido del humor\",\"terapia\":\"Entretenimiento(Peliculas, series, musica)\",\"nombre\":\"Nicolas Cari\"},{\"orientacion\":\"Heterosexual\",\"genero\":\"Hombre\",\"telefono\":72849649,\"mascota\":\"Perros\",\"signo\":\"Geminis\",\"entretenimiento\":\"Peliculas\",\"pasatiempo\":\"Interior(Cines, en casa, etc.)\",\"personalidad\":\"Introvertido pero abierto a nuevas experiencias\",\"peliculas\":\"MCU(Marvel)\",\"comida\":\"Salado\",\"loteria\":\"Gastarlo en familia y en ti\",\"bebida\":\"Cafe\",\"b_alcoholica\":\"Licores dulces(Jagger, 3 plumas, goss cake, etc)\",\"viaje\":\"Asia\",\"musica\":\"Pop latino\\\\/reguet\\\\u00f3n\",\"prioridad_pareja\":\"Limpieza\",\"terapia\":\"Ejercicio\",\"nombre\":\"gabriel balderrama\"},{\"orientacion\":\"Homosexual\",\"genero\":\"Hombre\",\"telefono\":1,\"mascota\":\"Reptiles\",\"signo\":\"Aries\",\"entretenimiento\":\"Series\",\"pasatiempo\":\"Exterior(Parques, restaurantes, etc.)\",\"personalidad\":\"Introvertido\",\"peliculas\":\"Distopica juvenil(Juegos del hambre, maze runner, etc)\",\"comida\":\"No tengo preferencia\",\"loteria\":\"Gastarlo en familia y en ti\",\"bebida\":\"Soda\",\"b_alcoholica\":\"Guarapo\",\"viaje\":\"Europa\",\"musica\":\"Rock espa\\\\u00f1ol\\\\/ingles\",\"prioridad_pareja\":\"Sentido del humor\",\"terapia\":\"Busco alguien para desahogarme\",\"nombre\":\"1\"},{\"orientacion\":\"Heterosexual\",\"genero\":\"Hombre\",\"telefono\":1,\"mascota\":\"Gatos\",\"signo\":\"Aries\",\"entretenimiento\":\"Series\",\"pasatiempo\":\"Exterior(Parques, restaurantes, etc.)\",\"personalidad\":\"Introvertido\",\"peliculas\":\"Piratas del caribe\",\"comida\":\"Dulces\",\"loteria\":\"Viajar por el mundo\",\"bebida\":\"Cafe\",\"b_alcoholica\":\"Guarapo\",\"viaje\":\"Europa\",\"musica\":\"Pop latino\\\\/reguet\\\\u00f3n\",\"prioridad_pareja\":\"Limpieza\",\"terapia\":\"Entretenimiento(Peliculas, series, musica)\",\"nombre\":\"2\"},{\"orientacion\":\"Heterosexual\",\"genero\":\"Mujer\",\"telefono\":1,\"mascota\":\"Aves\",\"signo\":\"Libra\",\"entretenimiento\":\"Peliculas\",\"pasatiempo\":\"Interior(Cines, en casa, etc.)\",\"personalidad\":\"Extrovertido pero timido\",\"peliculas\":\"MCU(Marvel)\",\"comida\":\"Salado\",\"loteria\":\"Invertirlo\",\"bebida\":\"Agua\",\"b_alcoholica\":\"Licores dulces(Jagger, 3 plumas, goss cake, etc)\",\"viaje\":\"Europa\",\"musica\":\"Alternativa\\\\/Indie\",\"prioridad_pareja\":\"Dinero\\\\/estatus social\",\"terapia\":\"Entretenimiento(Peliculas, series, musica)\",\"nombre\":\"3\"},{\"orientacion\":\"Heterosexual\",\"genero\":\"Mujer\",\"telefono\":1,\"mascota\":\"Gatos\",\"signo\":\"Acuario\",\"entretenimiento\":\"Series\",\"pasatiempo\":\"Interior(Cines, en casa, etc.)\",\"personalidad\":\"Introvertido\",\"peliculas\":\"Piratas del caribe\",\"comida\":\"Dulces\",\"loteria\":\"Gastarlo en familia y en ti\",\"bebida\":\"Cafe\",\"b_alcoholica\":\"(Ron, vodka, Tequila, singani) y sus cocteles\",\"viaje\":\"Estados unidos\",\"musica\":\"Alternativa\\\\/Indie\",\"prioridad_pareja\":\"Sentido del humor\",\"terapia\":\"Como mis penas\",\"nombre\":\"4\"},{\"orientacion\":\"Heterosexual\",\"genero\":\"Mujer\",\"telefono\":1,\"mascota\":\"Gatos\",\"signo\":\"Cancer\",\"entretenimiento\":\"Series\",\"pasatiempo\":\"Interior(Cines, en casa, etc.)\",\"personalidad\":\"Extrovertido\",\"peliculas\":\"Piratas del caribe\",\"comida\":\"Dulces\",\"loteria\":\"Hacer fiestas grandes\",\"bebida\":\"Cafe\",\"b_alcoholica\":\"Vino\",\"viaje\":\"Europa\",\"musica\":\"Cumbiones\\\\/Nacional\",\"prioridad_pareja\":\"Fisico\",\"terapia\":\"Busco alguien para desahogarme\",\"nombre\":\"5\"},{\"orientacion\":\"Homosexual\",\"genero\":\"Hombre\",\"telefono\":1,\"mascota\":\"Mucha responsabilidad\",\"signo\":\"Escorpio\",\"entretenimiento\":\"Series\",\"pasatiempo\":\"Exterior(Parques, restaurantes, etc.)\",\"personalidad\":\"Introvertido pero abierto a nuevas experiencias\",\"peliculas\":\"Star wars\",\"comida\":\"No tengo preferencia\",\"loteria\":\"Invertirlo\",\"bebida\":\"Jugos de fruta\",\"b_alcoholica\":\"Licores dulces(Jagger, 3 plumas, goss cake, etc)\",\"viaje\":\"Europa\",\"musica\":\"Pop latino\\\\/reguet\\\\u00f3n\",\"prioridad_pareja\":\"Dinero\\\\/estatus social\",\"terapia\":\"Busco alguien para desahogarme\",\"nombre\":\"6\"},{\"orientacion\":\"Heterosexual\",\"genero\":\"Hombre\",\"telefono\":1,\"mascota\":\"Aves\",\"signo\":\"Capricornio\",\"entretenimiento\":\"Videojuegos\",\"pasatiempo\":\"Exterior(Parques, restaurantes, etc.)\",\"personalidad\":\"Introvertido pero abierto a nuevas experiencias\",\"peliculas\":\"MCU(Marvel)\",\"comida\":\"Salado\",\"loteria\":\"Hacer caridad\",\"bebida\":\"Agua\",\"b_alcoholica\":\"No tomo\",\"viaje\":\"Europa\",\"musica\":\"Pop latino\\\\/reguet\\\\u00f3n\",\"prioridad_pareja\":\"Madurez\",\"terapia\":\"Vivo con el dolor\",\"nombre\":\"7\"},{\"orientacion\":\"Heterosexual\",\"genero\":\"Hombre\",\"telefono\":1,\"mascota\":\"Perros\",\"signo\":\"Virgo\",\"entretenimiento\":\"Series\",\"pasatiempo\":\"Exterior(Parques, restaurantes, etc.)\",\"personalidad\":\"Extrovertido pero timido\",\"peliculas\":\"Harry potter\",\"comida\":\"Salado\",\"loteria\":\"Hacer fiestas grandes\",\"bebida\":\"Te\",\"b_alcoholica\":\"Cerveza\",\"viaje\":\"Asia\",\"musica\":\"Rock espa\\\\u00f1ol\\\\/ingles\",\"prioridad_pareja\":\"Fisico\",\"terapia\":\"Como mis penas\",\"nombre\":\"8\"},{\"orientacion\":\"Homosexual\",\"genero\":\"Mujer\",\"telefono\":1,\"mascota\":\"Mucha responsabilidad\",\"signo\":\"Escorpio\",\"entretenimiento\":\"Libros\",\"pasatiempo\":\"Interior(Cines, en casa, etc.)\",\"personalidad\":\"Introvertido pero abierto a nuevas experiencias\",\"peliculas\":\"Star wars\",\"comida\":\"No tengo preferencia\",\"loteria\":\"Invertirlo\",\"bebida\":\"Jugos de fruta\",\"b_alcoholica\":\"Licores dulces(Jagger, 3 plumas, goss cake, etc)\",\"viaje\":\"Europa\",\"musica\":\"Cumbiones\\\\/Nacional\",\"prioridad_pareja\":\"Dinero\\\\/estatus social\",\"terapia\":\"Como mis penas\",\"nombre\":\"9\"},{\"orientacion\":\"Homosexual\",\"genero\":\"Mujer\",\"telefono\":1,\"mascota\":\"Mucha responsabilidad\",\"signo\":\"Capricornio\",\"entretenimiento\":\"Series\",\"pasatiempo\":\"Interior(Cines, en casa, etc.)\",\"personalidad\":\"Introvertido pero abierto a nuevas experiencias\",\"peliculas\":\"Star wars\",\"comida\":\"No tengo preferencia\",\"loteria\":\"Hacer caridad\",\"bebida\":\"Jugos de fruta\",\"b_alcoholica\":\"No tomo\",\"viaje\":\"Africa\",\"musica\":\"Cumbiones\\\\/Nacional\",\"prioridad_pareja\":\"Madurez\",\"terapia\":\"Entretenimiento(Peliculas, series, musica)\",\"nombre\":\"10\"},{\"orientacion\":\"Heterosexual\",\"genero\":\"Mujer\",\"telefono\":1,\"mascota\":\"Gatos\",\"signo\":\"Leo\",\"entretenimiento\":\"Peliculas\",\"pasatiempo\":\"Interior(Cines, en casa, etc.)\",\"personalidad\":\"Extrovertido pero timido\",\"peliculas\":\"Piratas del caribe\",\"comida\":\"Dulces\",\"loteria\":\"Hacer fiestas grandes\",\"bebida\":\"Cafe\",\"b_alcoholica\":\"Cerveza\",\"viaje\":\"El caribe\",\"musica\":\"Alternativa\\\\/Indie\",\"prioridad_pareja\":\"Fisico\",\"terapia\":\"Entretenimiento(Peliculas, series, musica)\",\"nombre\":\"11\"},{\"orientacion\":\"Homosexual\",\"genero\":\"Mujer\",\"telefono\":1,\"mascota\":\"Mucha responsabilidad\",\"signo\":\"Acuario\",\"entretenimiento\":\"Libros\",\"pasatiempo\":\"Interior(Cines, en casa, etc.)\",\"personalidad\":\"Introvertido\",\"peliculas\":\"Star wars\",\"comida\":\"No tengo preferencia\",\"loteria\":\"Gastarlo en familia y en ti\",\"bebida\":\"Jugos de fruta\",\"b_alcoholica\":\"(Ron, vodka, Tequila, singani) y sus cocteles\",\"viaje\":\"Estados unidos\",\"musica\":\"Alternativa\\\\/Indie\",\"prioridad_pareja\":\"Sentido del humor\",\"terapia\":\"Entretenimiento(Peliculas, series, musica)\",\"nombre\":\"12\"},{\"orientacion\":\"Heterosexual\",\"genero\":\"Mujer\",\"telefono\":1,\"mascota\":\"Perros\",\"signo\":\"Virgo\",\"entretenimiento\":\"Peliculas\",\"pasatiempo\":\"Interior(Cines, en casa, etc.)\",\"personalidad\":\"Extrovertido pero timido\",\"peliculas\":\"Harry potter\",\"comida\":\"Salado\",\"loteria\":\"Invertirlo\",\"bebida\":\"Te\",\"b_alcoholica\":\"Cerveza\",\"viaje\":\"Africa\",\"musica\":\"Alternativa\\\\/Indie\",\"prioridad_pareja\":\"Dinero\\\\/estatus social\",\"terapia\":\"Vivo con el dolor\",\"nombre\":\"13\"},{\"orientacion\":\"Heterosexual\",\"genero\":\"Hombre\",\"telefono\":1,\"mascota\":\"Gatos\",\"signo\":\"Geminis\",\"entretenimiento\":\"Videojuegos\",\"pasatiempo\":\"Exterior(Parques, restaurantes, etc.)\",\"personalidad\":\"Extrovertido\",\"peliculas\":\"Piratas del caribe\",\"comida\":\"Dulces\",\"loteria\":\"Viajar por el mundo\",\"bebida\":\"Cafe\",\"b_alcoholica\":\"Vino\",\"viaje\":\"Estados unidos\",\"musica\":\"Rock espa\\\\u00f1ol\\\\/ingles\",\"prioridad_pareja\":\"Limpieza\",\"terapia\":\"Ejercicio\",\"nombre\":\"14\"},{\"orientacion\":\"Homosexual\",\"genero\":\"Mujer\",\"telefono\":1,\"mascota\":\"Mucha responsabilidad\",\"signo\":\"Geminis\",\"entretenimiento\":\"Peliculas\",\"pasatiempo\":\"Interior(Cines, en casa, etc.)\",\"personalidad\":\"Extrovertido\",\"peliculas\":\"Star wars\",\"comida\":\"No tengo preferencia\",\"loteria\":\"Viajar por el mundo\",\"bebida\":\"Jugos de fruta\",\"b_alcoholica\":\"Vino\",\"viaje\":\"Asia\",\"musica\":\"Pop en ingles\",\"prioridad_pareja\":\"Limpieza\",\"terapia\":\"Busco alguien para desahogarme\",\"nombre\":\"15\"},{\"orientacion\":\"Homosexual\",\"genero\":\"Hombre\",\"telefono\":1,\"mascota\":\"Mucha responsabilidad\",\"signo\":\"Piscis\",\"entretenimiento\":\"Series\",\"pasatiempo\":\"Exterior(Parques, restaurantes, etc.)\",\"personalidad\":\"Introvertido\",\"peliculas\":\"Star wars\",\"comida\":\"No tengo preferencia\",\"loteria\":\"Gastarlo en familia y en ti\",\"bebida\":\"Jugos de fruta\",\"b_alcoholica\":\"(Ron, vodka, Tequila, singani) y sus cocteles\",\"viaje\":\"El caribe\",\"musica\":\"Pop latino\\\\/reguet\\\\u00f3n\",\"prioridad_pareja\":\"Sentido del humor\",\"terapia\":\"Vivo con el dolor\",\"nombre\":\"16\"},{\"orientacion\":\"Heterosexual\",\"genero\":\"Hombre\",\"telefono\":1,\"mascota\":\"Perros\",\"signo\":\"Piscis\",\"entretenimiento\":\"Peliculas\",\"pasatiempo\":\"Exterior(Parques, restaurantes, etc.)\",\"personalidad\":\"Introvertido\",\"peliculas\":\"Harry potter\",\"comida\":\"Salado\",\"loteria\":\"Gastarlo en familia y en ti\",\"bebida\":\"Te\",\"b_alcoholica\":\"(Ron, vodka, Tequila, singani) y sus cocteles\",\"viaje\":\"El caribe\",\"musica\":\"Rock espa\\\\u00f1ol\\\\/ingles\",\"prioridad_pareja\":\"Sentido del humor\",\"terapia\":\"Ejercicio\",\"nombre\":\"17\"},{\"orientacion\":\"Heterosexual\",\"genero\":\"Hombre\",\"telefono\":1,\"mascota\":\"Perros\",\"signo\":\"Tauro\",\"entretenimiento\":\"Libros\",\"pasatiempo\":\"Exterior(Parques, restaurantes, etc.)\",\"personalidad\":\"Extrovertido\",\"peliculas\":\"Harry potter\",\"comida\":\"Salado\",\"loteria\":\"Viajar por el mundo\",\"bebida\":\"Te\",\"b_alcoholica\":\"Guarapo\",\"viaje\":\"Estados unidos\",\"musica\":\"Pop en ingles\",\"prioridad_pareja\":\"Limpieza\",\"terapia\":\"Ejercicio\",\"nombre\":\"18\"},{\"orientacion\":\"Bisexual\",\"genero\":\"Hombre\",\"telefono\":1,\"mascota\":\"Reptiles\",\"signo\":\"Sagitario\",\"entretenimiento\":\"Series\",\"pasatiempo\":\"Exterior(Parques, restaurantes, etc.)\",\"personalidad\":\"Introvertido pero abierto a nuevas experiencias\",\"peliculas\":\"Distopica juvenil(Juegos del hambre, maze runner, etc)\",\"comida\":\"Ambos juntos\",\"loteria\":\"Hacer caridad\",\"bebida\":\"Soda\",\"b_alcoholica\":\"No tomo\",\"viaje\":\"Africa\",\"musica\":\"Pop en ingles\",\"prioridad_pareja\":\"Madurez\",\"terapia\":\"Vivo con el dolor\",\"nombre\":\"19\"},{\"orientacion\":\"Heterosexual\",\"genero\":\"Hombre\",\"telefono\":1,\"mascota\":\"Gatos\",\"signo\":\"Acuario\",\"entretenimiento\":\"Videojuegos\",\"pasatiempo\":\"Exterior(Parques, restaurantes, etc.)\",\"personalidad\":\"Introvertido\",\"peliculas\":\"Piratas del caribe\",\"comida\":\"Dulces\",\"loteria\":\"Gastarlo en familia y en ti\",\"bebida\":\"Cafe\",\"b_alcoholica\":\"(Ron, vodka, Tequila, singani) y sus cocteles\",\"viaje\":\"Europa\",\"musica\":\"Rock espa\\\\u00f1ol\\\\/ingles\",\"prioridad_pareja\":\"Sentido del humor\",\"terapia\":\"Ejercicio\",\"nombre\":\"20\"},{\"orientacion\":\"Homosexual\",\"genero\":\"Mujer\",\"telefono\":1,\"mascota\":\"Mucha responsabilidad\",\"signo\":\"Capricornio\",\"entretenimiento\":\"Libros\",\"pasatiempo\":\"Interior(Cines, en casa, etc.)\",\"personalidad\":\"Introvertido pero abierto a nuevas experiencias\",\"peliculas\":\"Star wars\",\"comida\":\"No tengo preferencia\",\"loteria\":\"Hacer caridad\",\"bebida\":\"Jugos de fruta\",\"b_alcoholica\":\"No tomo\",\"viaje\":\"Asia\",\"musica\":\"Pop en ingles\",\"prioridad_pareja\":\"Madurez\",\"terapia\":\"Ejercicio\",\"nombre\":\"21\"},{\"orientacion\":\"Heterosexual\",\"genero\":\"Mujer\",\"telefono\":1,\"mascota\":\"Perros\",\"signo\":\"Capricornio\",\"entretenimiento\":\"Series\",\"pasatiempo\":\"Interior(Cines, en casa, etc.)\",\"personalidad\":\"Introvertido pero abierto a nuevas experiencias\",\"peliculas\":\"Harry potter\",\"comida\":\"Salado\",\"loteria\":\"Hacer caridad\",\"bebida\":\"Te\",\"b_alcoholica\":\"No tomo\",\"viaje\":\"Africa\",\"musica\":\"Pop en ingles\",\"prioridad_pareja\":\"Madurez\",\"terapia\":\"Ejercicio\",\"nombre\":\"22\"},{\"orientacion\":\"Heterosexual\",\"genero\":\"Mujer\",\"telefono\":1,\"mascota\":\"Gatos\",\"signo\":\"Virgo\",\"entretenimiento\":\"Videojuegos\",\"pasatiempo\":\"Interior(Cines, en casa, etc.)\",\"personalidad\":\"Extrovertido pero timido\",\"peliculas\":\"Piratas del caribe\",\"comida\":\"Dulces\",\"loteria\":\"Invertirlo\",\"bebida\":\"Cafe\",\"b_alcoholica\":\"Cerveza\",\"viaje\":\"Europa\",\"musica\":\"Pop en ingles\",\"prioridad_pareja\":\"Dinero\\\\/estatus social\",\"terapia\":\"Ejercicio\",\"nombre\":\"23\"},{\"orientacion\":\"Heterosexual\",\"genero\":\"Hombre\",\"telefono\":1,\"mascota\":\"Perros\",\"signo\":\"Virgo\",\"entretenimiento\":\"Videojuegos\",\"pasatiempo\":\"Exterior(Parques, restaurantes, etc.)\",\"personalidad\":\"Extrovertido pero timido\",\"peliculas\":\"Harry potter\",\"comida\":\"Salado\",\"loteria\":\"Invertirlo\",\"bebida\":\"Te\",\"b_alcoholica\":\"Cerveza\",\"viaje\":\"Asia\",\"musica\":\"Pop en ingles\",\"prioridad_pareja\":\"Dinero\\\\/estatus social\",\"terapia\":\"Vivo con el dolor\",\"nombre\":\"24\"},{\"orientacion\":\"Homosexual\",\"genero\":\"Hombre\",\"telefono\":1,\"mascota\":\"Mucha responsabilidad\",\"signo\":\"Piscis\",\"entretenimiento\":\"Series\",\"pasatiempo\":\"Exterior(Parques, restaurantes, etc.)\",\"personalidad\":\"Introvertido\",\"peliculas\":\"Star wars\",\"comida\":\"No tengo preferencia\",\"loteria\":\"Gastarlo en familia y en ti\",\"bebida\":\"Jugos de fruta\",\"b_alcoholica\":\"(Ron, vodka, Tequila, singani) y sus cocteles\",\"viaje\":\"Africa\",\"musica\":\"Rock espa\\\\u00f1ol\\\\/ingles\",\"prioridad_pareja\":\"Sentido del humor\",\"terapia\":\"Vivo con el dolor\",\"nombre\":\"25\"},{\"orientacion\":\"Heterosexual\",\"genero\":\"Hombre\",\"telefono\":1,\"mascota\":\"Gatos\",\"signo\":\"Acuario\",\"entretenimiento\":\"Videojuegos\",\"pasatiempo\":\"Exterior(Parques, restaurantes, etc.)\",\"personalidad\":\"Introvertido\",\"peliculas\":\"Piratas del caribe\",\"comida\":\"Dulces\",\"loteria\":\"Gastarlo en familia y en ti\",\"bebida\":\"Cafe\",\"b_alcoholica\":\"(Ron, vodka, Tequila, singani) y sus cocteles\",\"viaje\":\"El caribe\",\"musica\":\"Rock espa\\\\u00f1ol\\\\/ingles\",\"prioridad_pareja\":\"Sentido del humor\",\"terapia\":\"Busco alguien para desahogarme\",\"nombre\":\"26\"},{\"orientacion\":\"Bisexual\",\"genero\":\"Hombre\",\"telefono\":1,\"mascota\":\"Reptiles\",\"signo\":\"Tauro\",\"entretenimiento\":\"Series\",\"pasatiempo\":\"Exterior(Parques, restaurantes, etc.)\",\"personalidad\":\"Extrovertido\",\"peliculas\":\"Distopica juvenil(Juegos del hambre, maze runner, etc)\",\"comida\":\"Ambos juntos\",\"loteria\":\"Viajar por el mundo\",\"bebida\":\"Soda\",\"b_alcoholica\":\"Guarapo\",\"viaje\":\"Africa\",\"musica\":\"Pop latino\\\\/reguet\\\\u00f3n\",\"prioridad_pareja\":\"Limpieza\",\"terapia\":\"Como mis penas\",\"nombre\":\"27\"},{\"orientacion\":\"Heterosexual\",\"genero\":\"Mujer\",\"telefono\":1,\"mascota\":\"Aves\",\"signo\":\"Aries\",\"entretenimiento\":\"Series\",\"pasatiempo\":\"Interior(Cines, en casa, etc.)\",\"personalidad\":\"Introvertido\",\"peliculas\":\"MCU(Marvel)\",\"comida\":\"Salado\",\"loteria\":\"Viajar por el mundo\",\"bebida\":\"Agua\",\"b_alcoholica\":\"Guarapo\",\"viaje\":\"Europa\",\"musica\":\"Cumbiones\\\\/Nacional\",\"prioridad_pareja\":\"Limpieza\",\"terapia\":\"Busco alguien para desahogarme\",\"nombre\":\"28\"},{\"orientacion\":\"Homosexual\",\"genero\":\"Hombre\",\"telefono\":1,\"mascota\":\"Mucha responsabilidad\",\"signo\":\"Cancer\",\"entretenimiento\":\"Peliculas\",\"pasatiempo\":\"Exterior(Parques, restaurantes, etc.)\",\"personalidad\":\"Extrovertido\",\"peliculas\":\"Star wars\",\"comida\":\"No tengo preferencia\",\"loteria\":\"Hacer fiestas grandes\",\"bebida\":\"Jugos de fruta\",\"b_alcoholica\":\"Vino\",\"viaje\":\"El caribe\",\"musica\":\"Pop latino\\\\/reguet\\\\u00f3n\",\"prioridad_pareja\":\"Fisico\",\"terapia\":\"Ejercicio\",\"nombre\":\"29\"},{\"orientacion\":\"Heterosexual\",\"genero\":\"Mujer\",\"telefono\":1,\"mascota\":\"Aves\",\"signo\":\"Escorpio\",\"entretenimiento\":\"Libros\",\"pasatiempo\":\"Interior(Cines, en casa, etc.)\",\"personalidad\":\"Introvertido pero abierto a nuevas experiencias\",\"peliculas\":\"MCU(Marvel)\",\"comida\":\"Ambos juntos\",\"loteria\":\"Hacer caridad\",\"bebida\":\"Agua\",\"b_alcoholica\":\"Licores dulces(Jagger, 3 plumas, goss cake, etc)\",\"viaje\":\"Estados unidos\",\"musica\":\"Pop en ingles\",\"prioridad_pareja\":\"Madurez\",\"terapia\":\"Busco alguien para desahogarme\",\"nombre\":\"30\"},{\"orientacion\":\"Bisexual\",\"genero\":\"Hombre\",\"telefono\":1,\"mascota\":\"Reptiles\",\"signo\":\"Acuario\",\"entretenimiento\":\"Series\",\"pasatiempo\":\"Exterior(Parques, restaurantes, etc.)\",\"personalidad\":\"Introvertido\",\"peliculas\":\"Distopica juvenil(Juegos del hambre, maze runner, etc)\",\"comida\":\"Ambos juntos\",\"loteria\":\"Gastarlo en familia y en ti\",\"bebida\":\"Soda\",\"b_alcoholica\":\"(Ron, vodka, Tequila, singani) y sus cocteles\",\"viaje\":\"Europa\",\"musica\":\"Pop latino\\\\/reguet\\\\u00f3n\",\"prioridad_pareja\":\"Sentido del humor\",\"terapia\":\"Entretenimiento(Peliculas, series, musica)\",\"nombre\":\"31\"},{\"orientacion\":\"Homosexual\",\"genero\":\"Mujer\",\"telefono\":1,\"mascota\":\"Reptiles\",\"signo\":\"Aries\",\"entretenimiento\":\"Libros\",\"pasatiempo\":\"Interior(Cines, en casa, etc.)\",\"personalidad\":\"Introvertido\",\"peliculas\":\"Distopica juvenil(Juegos del hambre, maze runner, etc)\",\"comida\":\"No tengo preferencia\",\"loteria\":\"Viajar por el mundo\",\"bebida\":\"Soda\",\"b_alcoholica\":\"Guarapo\",\"viaje\":\"Europa\",\"musica\":\"Alternativa\\\\/Indie\",\"prioridad_pareja\":\"Limpieza\",\"terapia\":\"Busco alguien para desahogarme\",\"nombre\":\"32\"},{\"orientacion\":\"Heterosexual\",\"genero\":\"Hombre\",\"telefono\":1,\"mascota\":\"Perros\",\"signo\":\"Piscis\",\"entretenimiento\":\"Peliculas\",\"pasatiempo\":\"Exterior(Parques, restaurantes, etc.)\",\"personalidad\":\"Introvertido\",\"peliculas\":\"Harry potter\",\"comida\":\"Salado\",\"loteria\":\"Gastarlo en familia y en ti\",\"bebida\":\"Te\",\"b_alcoholica\":\"(Ron, vodka, Tequila, singani) y sus cocteles\",\"viaje\":\"Africa\",\"musica\":\"Pop latino\\\\/reguet\\\\u00f3n\",\"prioridad_pareja\":\"Sentido del humor\",\"terapia\":\"Ejercicio\",\"nombre\":\"33\"},{\"orientacion\":\"Heterosexual\",\"genero\":\"Mujer\",\"telefono\":1,\"mascota\":\"Aves\",\"signo\":\"Capricornio\",\"entretenimiento\":\"Peliculas\",\"pasatiempo\":\"Interior(Cines, en casa, etc.)\",\"personalidad\":\"Introvertido pero abierto a nuevas experiencias\",\"peliculas\":\"MCU(Marvel)\",\"comida\":\"Salado\",\"loteria\":\"Hacer caridad\",\"bebida\":\"Agua\",\"b_alcoholica\":\"No tomo\",\"viaje\":\"Estados unidos\",\"musica\":\"Pop en ingles\",\"prioridad_pareja\":\"Madurez\",\"terapia\":\"Vivo con el dolor\",\"nombre\":\"34\"},{\"orientacion\":\"Heterosexual\",\"genero\":\"Hombre\",\"telefono\":1,\"mascota\":\"Perros\",\"signo\":\"Cancer\",\"entretenimiento\":\"Videojuegos\",\"pasatiempo\":\"Exterior(Parques, restaurantes, etc.)\",\"personalidad\":\"Extrovertido\",\"peliculas\":\"Harry potter\",\"comida\":\"Salado\",\"loteria\":\"Hacer fiestas grandes\",\"bebida\":\"Te\",\"b_alcoholica\":\"Vino\",\"viaje\":\"Estados unidos\",\"musica\":\"Rock espa\\\\u00f1ol\\\\/ingles\",\"prioridad_pareja\":\"Fisico\",\"terapia\":\"Como mis penas\",\"nombre\":\"35\"},{\"orientacion\":\"Homosexual\",\"genero\":\"Mujer\",\"telefono\":1,\"mascota\":\"Reptiles\",\"signo\":\"Virgo\",\"entretenimiento\":\"Libros\",\"pasatiempo\":\"Interior(Cines, en casa, etc.)\",\"personalidad\":\"Extrovertido pero timido\",\"peliculas\":\"Distopica juvenil(Juegos del hambre, maze runner, etc)\",\"comida\":\"No tengo preferencia\",\"loteria\":\"Invertirlo\",\"bebida\":\"Soda\",\"b_alcoholica\":\"Cerveza\",\"viaje\":\"Africa\",\"musica\":\"Cumbiones\\\\/Nacional\",\"prioridad_pareja\":\"Dinero\\\\/estatus social\",\"terapia\":\"Entretenimiento(Peliculas, series, musica)\",\"nombre\":\"36\"},{\"orientacion\":\"Heterosexual\",\"genero\":\"Mujer\",\"telefono\":1,\"mascota\":\"Perros\",\"signo\":\"Leo\",\"entretenimiento\":\"Series\",\"pasatiempo\":\"Interior(Cines, en casa, etc.)\",\"personalidad\":\"Extrovertido pero timido\",\"peliculas\":\"Harry potter\",\"comida\":\"Dulces\",\"loteria\":\"Hacer fiestas grandes\",\"bebida\":\"Te\",\"b_alcoholica\":\"Cerveza\",\"viaje\":\"Africa\",\"musica\":\"Alternativa\\\\/Indie\",\"prioridad_pareja\":\"Fisico\",\"terapia\":\"Como mis penas\",\"nombre\":\"37\"},{\"orientacion\":\"Homosexual\",\"genero\":\"Mujer\",\"telefono\":1,\"mascota\":\"Mucha responsabilidad\",\"signo\":\"Cancer\",\"entretenimiento\":\"Peliculas\",\"pasatiempo\":\"Interior(Cines, en casa, etc.)\",\"personalidad\":\"Extrovertido\",\"peliculas\":\"Star wars\",\"comida\":\"No tengo preferencia\",\"loteria\":\"Hacer fiestas grandes\",\"bebida\":\"Jugos de fruta\",\"b_alcoholica\":\"Vino\",\"viaje\":\"El caribe\",\"musica\":\"Cumbiones\\\\/Nacional\",\"prioridad_pareja\":\"Fisico\",\"terapia\":\"Entretenimiento(Peliculas, series, musica)\",\"nombre\":\"38\"},{\"orientacion\":\"Homosexual\",\"genero\":\"Mujer\",\"telefono\":1,\"mascota\":\"Mucha responsabilidad\",\"signo\":\"Geminis\",\"entretenimiento\":\"Videojuegos\",\"pasatiempo\":\"Interior(Cines, en casa, etc.)\",\"personalidad\":\"Extrovertido\",\"peliculas\":\"Star wars\",\"comida\":\"No tengo preferencia\",\"loteria\":\"Viajar por el mundo\",\"bebida\":\"Jugos de fruta\",\"b_alcoholica\":\"Vino\",\"viaje\":\"Estados unidos\",\"musica\":\"Alternativa\\\\/Indie\",\"prioridad_pareja\":\"Limpieza\",\"terapia\":\"Vivo con el dolor\",\"nombre\":\"39\"},{\"orientacion\":\"Heterosexual\",\"genero\":\"Hombre\",\"telefono\":1,\"mascota\":\"Aves\",\"signo\":\"Geminis\",\"entretenimiento\":\"Videojuegos\",\"pasatiempo\":\"Exterior(Parques, restaurantes, etc.)\",\"personalidad\":\"Extrovertido\",\"peliculas\":\"MCU(Marvel)\",\"comida\":\"Salado\",\"loteria\":\"Viajar por el mundo\",\"bebida\":\"Agua\",\"b_alcoholica\":\"Vino\",\"viaje\":\"Asia\",\"musica\":\"Rock espa\\\\u00f1ol\\\\/ingles\",\"prioridad_pareja\":\"Limpieza\",\"terapia\":\"Como mis penas\",\"nombre\":\"40\"},{\"orientacion\":\"Heterosexual\",\"genero\":\"Mujer\",\"telefono\":1,\"mascota\":\"Perros\",\"signo\":\"Libra\",\"entretenimiento\":\"Videojuegos\",\"pasatiempo\":\"Interior(Cines, en casa, etc.)\",\"personalidad\":\"Extrovertido pero timido\",\"peliculas\":\"Harry potter\",\"comida\":\"Dulces\",\"loteria\":\"Invertirlo\",\"bebida\":\"Te\",\"b_alcoholica\":\"Licores dulces(Jagger, 3 plumas, goss cake, etc)\",\"viaje\":\"Africa\",\"musica\":\"Cumbiones\\\\/Nacional\",\"prioridad_pareja\":\"Dinero\\\\/estatus social\",\"terapia\":\"Entretenimiento(Peliculas, series, musica)\",\"nombre\":\"41\"},{\"orientacion\":\"Heterosexual\",\"genero\":\"Mujer\",\"telefono\":1,\"mascota\":\"Perros\",\"signo\":\"Tauro\",\"entretenimiento\":\"Libros\",\"pasatiempo\":\"Interior(Cines, en casa, etc.)\",\"personalidad\":\"Extrovertido\",\"peliculas\":\"Harry potter\",\"comida\":\"Salado\",\"loteria\":\"Viajar por el mundo\",\"bebida\":\"Te\",\"b_alcoholica\":\"Guarapo\",\"viaje\":\"Asia\",\"musica\":\"Alternativa\\\\/Indie\",\"prioridad_pareja\":\"Limpieza\",\"terapia\":\"Como mis penas\",\"nombre\":\"42\"},{\"orientacion\":\"Homosexual\",\"genero\":\"Mujer\",\"telefono\":1,\"mascota\":\"Reptiles\",\"signo\":\"Aries\",\"entretenimiento\":\"Videojuegos\",\"pasatiempo\":\"Interior(Cines, en casa, etc.)\",\"personalidad\":\"Introvertido\",\"peliculas\":\"Distopica juvenil(Juegos del hambre, maze runner, etc)\",\"comida\":\"No tengo preferencia\",\"loteria\":\"Viajar por el mundo\",\"bebida\":\"Soda\",\"b_alcoholica\":\"Guarapo\",\"viaje\":\"Africa\",\"musica\":\"Cumbiones\\\\/Nacional\",\"prioridad_pareja\":\"Limpieza\",\"terapia\":\"Vivo con el dolor\",\"nombre\":\"43\"},{\"orientacion\":\"Heterosexual\",\"genero\":\"Hombre\",\"telefono\":1,\"mascota\":\"Aves\",\"signo\":\"Cancer\",\"entretenimiento\":\"Libros\",\"pasatiempo\":\"Exterior(Parques, restaurantes, etc.)\",\"personalidad\":\"Extrovertido\",\"peliculas\":\"MCU(Marvel)\",\"comida\":\"Salado\",\"loteria\":\"Hacer fiestas grandes\",\"bebida\":\"Agua\",\"b_alcoholica\":\"Vino\",\"viaje\":\"Asia\",\"musica\":\"Rock espa\\\\u00f1ol\\\\/ingles\",\"prioridad_pareja\":\"Fisico\",\"terapia\":\"Vivo con el dolor\",\"nombre\":\"44\"},{\"orientacion\":\"Heterosexual\",\"genero\":\"Hombre\",\"telefono\":1,\"mascota\":\"Perros\",\"signo\":\"Capricornio\",\"entretenimiento\":\"Peliculas\",\"pasatiempo\":\"Exterior(Parques, restaurantes, etc.)\",\"personalidad\":\"Introvertido pero abierto a nuevas experiencias\",\"peliculas\":\"Harry potter\",\"comida\":\"Salado\",\"loteria\":\"Hacer caridad\",\"bebida\":\"Te\",\"b_alcoholica\":\"No tomo\",\"viaje\":\"Africa\",\"musica\":\"Rock espa\\\\u00f1ol\\\\/ingles\",\"prioridad_pareja\":\"Madurez\",\"terapia\":\"Busco alguien para desahogarme\",\"nombre\":\"45\"},{\"orientacion\":\"Heterosexual\",\"genero\":\"Hombre\",\"telefono\":1,\"mascota\":\"Gatos\",\"signo\":\"Escorpio\",\"entretenimiento\":\"Peliculas\",\"pasatiempo\":\"Exterior(Parques, restaurantes, etc.)\",\"personalidad\":\"Introvertido pero abierto a nuevas experiencias\",\"peliculas\":\"Piratas del caribe\",\"comida\":\"Dulces\",\"loteria\":\"Invertirlo\",\"bebida\":\"Cafe\",\"b_alcoholica\":\"Licores dulces(Jagger, 3 plumas, goss cake, etc)\",\"viaje\":\"Estados unidos\",\"musica\":\"Pop latino\\\\/reguet\\\\u00f3n\",\"prioridad_pareja\":\"Dinero\\\\/estatus social\",\"terapia\":\"Entretenimiento(Peliculas, series, musica)\",\"nombre\":\"46\"},{\"orientacion\":\"Heterosexual\",\"genero\":\"Mujer\",\"telefono\":1,\"mascota\":\"Aves\",\"signo\":\"Leo\",\"entretenimiento\":\"Peliculas\",\"pasatiempo\":\"Interior(Cines, en casa, etc.)\",\"personalidad\":\"Extrovertido pero timido\",\"peliculas\":\"MCU(Marvel)\",\"comida\":\"Ambos juntos\",\"loteria\":\"Hacer fiestas grandes\",\"bebida\":\"Agua\",\"b_alcoholica\":\"Cerveza\",\"viaje\":\"Estados unidos\",\"musica\":\"Alternativa\\\\/Indie\",\"prioridad_pareja\":\"Fisico\",\"terapia\":\"Ejercicio\",\"nombre\":\"47\"},{\"orientacion\":\"Heterosexual\",\"genero\":\"Mujer\",\"telefono\":1,\"mascota\":\"Gatos\",\"signo\":\"Escorpio\",\"entretenimiento\":\"Series\",\"pasatiempo\":\"Interior(Cines, en casa, etc.)\",\"personalidad\":\"Introvertido pero abierto a nuevas experiencias\",\"peliculas\":\"Piratas del caribe\",\"comida\":\"Dulces\",\"loteria\":\"Invertirlo\",\"bebida\":\"Cafe\",\"b_alcoholica\":\"Licores dulces(Jagger, 3 plumas, goss cake, etc)\",\"viaje\":\"Estados unidos\",\"musica\":\"Pop en ingles\",\"prioridad_pareja\":\"Dinero\\\\/estatus social\",\"terapia\":\"Entretenimiento(Peliculas, series, musica)\",\"nombre\":\"48\"},{\"orientacion\":\"Heterosexual\",\"genero\":\"Mujer\",\"telefono\":1,\"mascota\":\"Aves\",\"signo\":\"Acuario\",\"entretenimiento\":\"Series\",\"pasatiempo\":\"Interior(Cines, en casa, etc.)\",\"personalidad\":\"Introvertido\",\"peliculas\":\"MCU(Marvel)\",\"comida\":\"Salado\",\"loteria\":\"Gastarlo en familia y en ti\",\"bebida\":\"Agua\",\"b_alcoholica\":\"(Ron, vodka, Tequila, singani) y sus cocteles\",\"viaje\":\"Europa\",\"musica\":\"Alternativa\\\\/Indie\",\"prioridad_pareja\":\"Sentido del humor\",\"terapia\":\"Entretenimiento(Peliculas, series, musica)\",\"nombre\":\"49\"},{\"orientacion\":\"Heterosexual\",\"genero\":\"Mujer\",\"telefono\":1,\"mascota\":\"Aves\",\"signo\":\"Capricornio\",\"entretenimiento\":\"Peliculas\",\"pasatiempo\":\"Interior(Cines, en casa, etc.)\",\"personalidad\":\"Introvertido pero abierto a nuevas experiencias\",\"peliculas\":\"MCU(Marvel)\",\"comida\":\"Ambos juntos\",\"loteria\":\"Hacer caridad\",\"bebida\":\"Agua\",\"b_alcoholica\":\"No tomo\",\"viaje\":\"Europa\",\"musica\":\"Alternativa\\\\/Indie\",\"prioridad_pareja\":\"Madurez\",\"terapia\":\"Busco alguien para desahogarme\",\"nombre\":\"50\"},{\"orientacion\":\"Heterosexual\",\"genero\":\"Hombre\",\"telefono\":1,\"mascota\":\"Gatos\",\"signo\":\"Leo\",\"entretenimiento\":\"Libros\",\"pasatiempo\":\"Exterior(Parques, restaurantes, etc.)\",\"personalidad\":\"Extrovertido pero timido\",\"peliculas\":\"Piratas del caribe\",\"comida\":\"Dulces\",\"loteria\":\"Hacer fiestas grandes\",\"bebida\":\"Cafe\",\"b_alcoholica\":\"Cerveza\",\"viaje\":\"Estados unidos\",\"musica\":\"Pop latino\\\\/reguet\\\\u00f3n\",\"prioridad_pareja\":\"Fisico\",\"terapia\":\"Ejercicio\",\"nombre\":\"51\"},{\"orientacion\":\"Homosexual\",\"genero\":\"Mujer\",\"telefono\":1,\"mascota\":\"Mucha responsabilidad\",\"signo\":\"Libra\",\"entretenimiento\":\"Peliculas\",\"pasatiempo\":\"Interior(Cines, en casa, etc.)\",\"personalidad\":\"Extrovertido pero timido\",\"peliculas\":\"Star wars\",\"comida\":\"No tengo preferencia\",\"loteria\":\"Invertirlo\",\"bebida\":\"Jugos de fruta\",\"b_alcoholica\":\"Licores dulces(Jagger, 3 plumas, goss cake, etc)\",\"viaje\":\"Africa\",\"musica\":\"Pop en ingles\",\"prioridad_pareja\":\"Dinero\\\\/estatus social\",\"terapia\":\"Busco alguien para desahogarme\",\"nombre\":\"52\"},{\"orientacion\":\"Bisexual\",\"genero\":\"Hombre\",\"telefono\":1,\"mascota\":\"Reptiles\",\"signo\":\"Piscis\",\"entretenimiento\":\"Videojuegos\",\"pasatiempo\":\"Exterior(Parques, restaurantes, etc.)\",\"personalidad\":\"Introvertido\",\"peliculas\":\"Distopica juvenil(Juegos del hambre, maze runner, etc)\",\"comida\":\"Ambos juntos\",\"loteria\":\"Gastarlo en familia y en ti\",\"bebida\":\"Soda\",\"b_alcoholica\":\"(Ron, vodka, Tequila, singani) y sus cocteles\",\"viaje\":\"Estados unidos\",\"musica\":\"Pop latino\\\\/reguet\\\\u00f3n\",\"prioridad_pareja\":\"Sentido del humor\",\"terapia\":\"Entretenimiento(Peliculas, series, musica)\",\"nombre\":\"53\"},{\"orientacion\":\"Bisexual\",\"genero\":\"Mujer\",\"telefono\":1,\"mascota\":\"Reptiles\",\"signo\":\"Leo\",\"entretenimiento\":\"Libros\",\"pasatiempo\":\"Interior(Cines, en casa, etc.)\",\"personalidad\":\"Extrovertido pero timido\",\"peliculas\":\"Distopica juvenil(Juegos del hambre, maze runner, etc)\",\"comida\":\"Ambos juntos\",\"loteria\":\"Hacer fiestas grandes\",\"bebida\":\"Soda\",\"b_alcoholica\":\"Cerveza\",\"viaje\":\"Asia\",\"musica\":\"Alternativa\\\\/Indie\",\"prioridad_pareja\":\"Fisico\",\"terapia\":\"Ejercicio\",\"nombre\":\"54\"},{\"orientacion\":\"Heterosexual\",\"genero\":\"Hombre\",\"telefono\":1,\"mascota\":\"Perros\",\"signo\":\"Virgo\",\"entretenimiento\":\"Series\",\"pasatiempo\":\"Exterior(Parques, restaurantes, etc.)\",\"personalidad\":\"Extrovertido pero timido\",\"peliculas\":\"Harry potter\",\"comida\":\"Salado\",\"loteria\":\"Hacer fiestas grandes\",\"bebida\":\"Te\",\"b_alcoholica\":\"Cerveza\",\"viaje\":\"Africa\",\"musica\":\"Pop en ingles\",\"prioridad_pareja\":\"Fisico\",\"terapia\":\"Vivo con el dolor\",\"nombre\":\"55\"},{\"orientacion\":\"Homosexual\",\"genero\":\"Hombre\",\"telefono\":1,\"mascota\":\"Mucha responsabilidad\",\"signo\":\"Capricornio\",\"entretenimiento\":\"Videojuegos\",\"pasatiempo\":\"Exterior(Parques, restaurantes, etc.)\",\"personalidad\":\"Introvertido pero abierto a nuevas experiencias\",\"peliculas\":\"Star wars\",\"comida\":\"No tengo preferencia\",\"loteria\":\"Hacer caridad\",\"bebida\":\"Jugos de fruta\",\"b_alcoholica\":\"No tomo\",\"viaje\":\"El caribe\",\"musica\":\"Rock espa\\\\u00f1ol\\\\/ingles\",\"prioridad_pareja\":\"Madurez\",\"terapia\":\"Vivo con el dolor\",\"nombre\":\"56\"},{\"orientacion\":\"Heterosexual\",\"genero\":\"Hombre\",\"telefono\":1,\"mascota\":\"Gatos\",\"signo\":\"Leo\",\"entretenimiento\":\"Libros\",\"pasatiempo\":\"Exterior(Parques, restaurantes, etc.)\",\"personalidad\":\"Extrovertido pero timido\",\"peliculas\":\"Piratas del caribe\",\"comida\":\"Dulces\",\"loteria\":\"Hacer fiestas grandes\",\"bebida\":\"Cafe\",\"b_alcoholica\":\"Cerveza\",\"viaje\":\"Asia\",\"musica\":\"Rock espa\\\\u00f1ol\\\\/ingles\",\"prioridad_pareja\":\"Fisico\",\"terapia\":\"Como mis penas\",\"nombre\":\"57\"},{\"orientacion\":\"Heterosexual\",\"genero\":\"Mujer\",\"telefono\":1,\"mascota\":\"Perros\",\"signo\":\"Virgo\",\"entretenimiento\":\"Series\",\"pasatiempo\":\"Interior(Cines, en casa, etc.)\",\"personalidad\":\"Extrovertido pero timido\",\"peliculas\":\"Harry potter\",\"comida\":\"Dulces\",\"loteria\":\"Invertirlo\",\"bebida\":\"Te\",\"b_alcoholica\":\"Cerveza\",\"viaje\":\"Europa\",\"musica\":\"Cumbiones\\\\/Nacional\",\"prioridad_pareja\":\"Dinero\\\\/estatus social\",\"terapia\":\"Como mis penas\",\"nombre\":\"58\"},{\"orientacion\":\"Homosexual\",\"genero\":\"Mujer\",\"telefono\":1,\"mascota\":\"Mucha responsabilidad\",\"signo\":\"Escorpio\",\"entretenimiento\":\"Videojuegos\",\"pasatiempo\":\"Interior(Cines, en casa, etc.)\",\"personalidad\":\"Introvertido pero abierto a nuevas experiencias\",\"peliculas\":\"Star wars\",\"comida\":\"No tengo preferencia\",\"loteria\":\"Invertirlo\",\"bebida\":\"Jugos de fruta\",\"b_alcoholica\":\"Licores dulces(Jagger, 3 plumas, goss cake, etc)\",\"viaje\":\"El caribe\",\"musica\":\"Cumbiones\\\\/Nacional\",\"prioridad_pareja\":\"Dinero\\\\/estatus social\",\"terapia\":\"Como mis penas\",\"nombre\":\"59\"},{\"orientacion\":\"Homosexual\",\"genero\":\"Mujer\",\"telefono\":1,\"mascota\":\"Reptiles\",\"signo\":\"Piscis\",\"entretenimiento\":\"Series\",\"pasatiempo\":\"Interior(Cines, en casa, etc.)\",\"personalidad\":\"Introvertido\",\"peliculas\":\"Distopica juvenil(Juegos del hambre, maze runner, etc)\",\"comida\":\"No tengo preferencia\",\"loteria\":\"Gastarlo en familia y en ti\",\"bebida\":\"Soda\",\"b_alcoholica\":\"(Ron, vodka, Tequila, singani) y sus cocteles\",\"viaje\":\"Asia\",\"musica\":\"Cumbiones\\\\/Nacional\",\"prioridad_pareja\":\"Sentido del humor\",\"terapia\":\"Vivo con el dolor\",\"nombre\":\"60\"},{\"orientacion\":\"Heterosexual\",\"genero\":\"Hombre\",\"telefono\":1,\"mascota\":\"Aves\",\"signo\":\"Sagitario\",\"entretenimiento\":\"Videojuegos\",\"pasatiempo\":\"Exterior(Parques, restaurantes, etc.)\",\"personalidad\":\"Introvertido pero abierto a nuevas experiencias\",\"peliculas\":\"MCU(Marvel)\",\"comida\":\"Ambos juntos\",\"loteria\":\"Hacer caridad\",\"bebida\":\"Agua\",\"b_alcoholica\":\"No tomo\",\"viaje\":\"El caribe\",\"musica\":\"Rock espa\\\\u00f1ol\\\\/ingles\",\"prioridad_pareja\":\"Madurez\",\"terapia\":\"Ejercicio\",\"nombre\":\"61\"},{\"orientacion\":\"Heterosexual\",\"genero\":\"Hombre\",\"telefono\":1,\"mascota\":\"Gatos\",\"signo\":\"Piscis\",\"entretenimiento\":\"Series\",\"pasatiempo\":\"Exterior(Parques, restaurantes, etc.)\",\"personalidad\":\"Introvertido\",\"peliculas\":\"Piratas del caribe\",\"comida\":\"Dulces\",\"loteria\":\"Gastarlo en familia y en ti\",\"bebida\":\"Cafe\",\"b_alcoholica\":\"(Ron, vodka, Tequila, singani) y sus cocteles\",\"viaje\":\"Asia\",\"musica\":\"Pop en ingles\",\"prioridad_pareja\":\"Sentido del humor\",\"terapia\":\"Busco alguien para desahogarme\",\"nombre\":\"62\"},{\"orientacion\":\"Bisexual\",\"genero\":\"Hombre\",\"telefono\":1,\"mascota\":\"Reptiles\",\"signo\":\"Sagitario\",\"entretenimiento\":\"Series\",\"pasatiempo\":\"Exterior(Parques, restaurantes, etc.)\",\"personalidad\":\"Introvertido pero abierto a nuevas experiencias\",\"peliculas\":\"Distopica juvenil(Juegos del hambre, maze runner, etc)\",\"comida\":\"Ambos juntos\",\"loteria\":\"Hacer caridad\",\"bebida\":\"Soda\",\"b_alcoholica\":\"No tomo\",\"viaje\":\"El caribe\",\"musica\":\"Pop latino\\\\/reguet\\\\u00f3n\",\"prioridad_pareja\":\"Madurez\",\"terapia\":\"Vivo con el dolor\",\"nombre\":\"63\"},{\"orientacion\":\"Heterosexual\",\"genero\":\"Hombre\",\"telefono\":1,\"mascota\":\"Perros\",\"signo\":\"Aries\",\"entretenimiento\":\"Libros\",\"pasatiempo\":\"Exterior(Parques, restaurantes, etc.)\",\"personalidad\":\"Introvertido\",\"peliculas\":\"Harry potter\",\"comida\":\"Salado\",\"loteria\":\"Gastarlo en familia y en ti\",\"bebida\":\"Te\",\"b_alcoholica\":\"Guarapo\",\"viaje\":\"El caribe\",\"musica\":\"Rock espa\\\\u00f1ol\\\\/ingles\",\"prioridad_pareja\":\"Sentido del humor\",\"terapia\":\"Vivo con el dolor\",\"nombre\":\"64\"},{\"orientacion\":\"Bisexual\",\"genero\":\"Hombre\",\"telefono\":1,\"mascota\":\"Reptiles\",\"signo\":\"Aries\",\"entretenimiento\":\"Libros\",\"pasatiempo\":\"Exterior(Parques, restaurantes, etc.)\",\"personalidad\":\"Introvertido\",\"peliculas\":\"Distopica juvenil(Juegos del hambre, maze runner, etc)\",\"comida\":\"Ambos juntos\",\"loteria\":\"Viajar por el mundo\",\"bebida\":\"Soda\",\"b_alcoholica\":\"Guarapo\",\"viaje\":\"Africa\",\"musica\":\"Rock espa\\\\u00f1ol\\\\/ingles\",\"prioridad_pareja\":\"Limpieza\",\"terapia\":\"Como mis penas\",\"nombre\":\"65\"},{\"orientacion\":\"Heterosexual\",\"genero\":\"Mujer\",\"telefono\":1,\"mascota\":\"Aves\",\"signo\":\"Tauro\",\"entretenimiento\":\"Libros\",\"pasatiempo\":\"Interior(Cines, en casa, etc.)\",\"personalidad\":\"Extrovertido\",\"peliculas\":\"MCU(Marvel)\",\"comida\":\"Ambos juntos\",\"loteria\":\"Viajar por el mundo\",\"bebida\":\"Agua\",\"b_alcoholica\":\"Guarapo\",\"viaje\":\"Europa\",\"musica\":\"Cumbiones\\\\/Nacional\",\"prioridad_pareja\":\"Limpieza\",\"terapia\":\"Como mis penas\",\"nombre\":\"66\"},{\"orientacion\":\"Heterosexual\",\"genero\":\"Mujer\",\"telefono\":1,\"mascota\":\"Aves\",\"signo\":\"Cancer\",\"entretenimiento\":\"Peliculas\",\"pasatiempo\":\"Interior(Cines, en casa, etc.)\",\"personalidad\":\"Extrovertido\",\"peliculas\":\"MCU(Marvel)\",\"comida\":\"Ambos juntos\",\"loteria\":\"Hacer fiestas grandes\",\"bebida\":\"Agua\",\"b_alcoholica\":\"Vino\",\"viaje\":\"Africa\",\"musica\":\"Cumbiones\\\\/Nacional\",\"prioridad_pareja\":\"Fisico\",\"terapia\":\"Como mis penas\",\"nombre\":\"67\"},{\"orientacion\":\"Heterosexual\",\"genero\":\"Mujer\",\"telefono\":1,\"mascota\":\"Aves\",\"signo\":\"Escorpio\",\"entretenimiento\":\"Videojuegos\",\"pasatiempo\":\"Interior(Cines, en casa, etc.)\",\"personalidad\":\"Introvertido pero abierto a nuevas experiencias\",\"peliculas\":\"MCU(Marvel)\",\"comida\":\"Ambos juntos\",\"loteria\":\"Hacer caridad\",\"bebida\":\"Agua\",\"b_alcoholica\":\"Licores dulces(Jagger, 3 plumas, goss cake, etc)\",\"viaje\":\"Estados unidos\",\"musica\":\"Cumbiones\\\\/Nacional\",\"prioridad_pareja\":\"Madurez\",\"terapia\":\"Vivo con el dolor\",\"nombre\":\"68\"},{\"orientacion\":\"Heterosexual\",\"genero\":\"Hombre\",\"telefono\":1,\"mascota\":\"Gatos\",\"signo\":\"Aries\",\"entretenimiento\":\"Videojuegos\",\"pasatiempo\":\"Exterior(Parques, restaurantes, etc.)\",\"personalidad\":\"Introvertido\",\"peliculas\":\"Piratas del caribe\",\"comida\":\"Dulces\",\"loteria\":\"Gastarlo en familia y en ti\",\"bebida\":\"Cafe\",\"b_alcoholica\":\"Guarapo\",\"viaje\":\"Asia\",\"musica\":\"Rock espa\\\\u00f1ol\\\\/ingles\",\"prioridad_pareja\":\"Sentido del humor\",\"terapia\":\"Vivo con el dolor\",\"nombre\":\"69\"},{\"orientacion\":\"Bisexual\",\"genero\":\"Hombre\",\"telefono\":1,\"mascota\":\"Reptiles\",\"signo\":\"Sagitario\",\"entretenimiento\":\"Libros\",\"pasatiempo\":\"Exterior(Parques, restaurantes, etc.)\",\"personalidad\":\"Introvertido pero abierto a nuevas experiencias\",\"peliculas\":\"Distopica juvenil(Juegos del hambre, maze runner, etc)\",\"comida\":\"Ambos juntos\",\"loteria\":\"Hacer caridad\",\"bebida\":\"Soda\",\"b_alcoholica\":\"No tomo\",\"viaje\":\"Asia\",\"musica\":\"Rock espa\\\\u00f1ol\\\\/ingles\",\"prioridad_pareja\":\"Madurez\",\"terapia\":\"Busco alguien para desahogarme\",\"nombre\":\"70\"},{\"orientacion\":\"Homosexual\",\"genero\":\"Hombre\",\"telefono\":1,\"mascota\":\"Mucha responsabilidad\",\"signo\":\"Tauro\",\"entretenimiento\":\"Series\",\"pasatiempo\":\"Exterior(Parques, restaurantes, etc.)\",\"personalidad\":\"Extrovertido\",\"peliculas\":\"Star wars\",\"comida\":\"No tengo preferencia\",\"loteria\":\"Viajar por el mundo\",\"bebida\":\"Jugos de fruta\",\"b_alcoholica\":\"Guarapo\",\"viaje\":\"Africa\",\"musica\":\"Pop latino\\\\/reguet\\\\u00f3n\",\"prioridad_pareja\":\"Limpieza\",\"terapia\":\"Como mis penas\",\"nombre\":\"71\"},{\"orientacion\":\"Heterosexual\",\"genero\":\"Mujer\",\"telefono\":1,\"mascota\":\"Gatos\",\"signo\":\"Acuario\",\"entretenimiento\":\"Series\",\"pasatiempo\":\"Interior(Cines, en casa, etc.)\",\"personalidad\":\"Introvertido\",\"peliculas\":\"Piratas del caribe\",\"comida\":\"Dulces\",\"loteria\":\"Gastarlo en familia y en ti\",\"bebida\":\"Cafe\",\"b_alcoholica\":\"(Ron, vodka, Tequila, singani) y sus cocteles\",\"viaje\":\"El caribe\",\"musica\":\"Cumbiones\\\\/Nacional\",\"prioridad_pareja\":\"Sentido del humor\",\"terapia\":\"Entretenimiento(Peliculas, series, musica)\",\"nombre\":\"72\"},{\"orientacion\":\"Heterosexual\",\"genero\":\"Mujer\",\"telefono\":1,\"mascota\":\"Aves\",\"signo\":\"Sagitario\",\"entretenimiento\":\"Peliculas\",\"pasatiempo\":\"Interior(Cines, en casa, etc.)\",\"personalidad\":\"Introvertido pero abierto a nuevas experiencias\",\"peliculas\":\"MCU(Marvel)\",\"comida\":\"Salado\",\"loteria\":\"Hacer caridad\",\"bebida\":\"Agua\",\"b_alcoholica\":\"No tomo\",\"viaje\":\"El caribe\",\"musica\":\"Alternativa\\\\/Indie\",\"prioridad_pareja\":\"Madurez\",\"terapia\":\"Busco alguien para desahogarme\",\"nombre\":\"73\"},{\"orientacion\":\"Heterosexual\",\"genero\":\"Hombre\",\"telefono\":1,\"mascota\":\"Perros\",\"signo\":\"Leo\",\"entretenimiento\":\"Libros\",\"pasatiempo\":\"Exterior(Parques, restaurantes, etc.)\",\"personalidad\":\"Extrovertido pero timido\",\"peliculas\":\"Harry potter\",\"comida\":\"Salado\",\"loteria\":\"Hacer fiestas grandes\",\"bebida\":\"Te\",\"b_alcoholica\":\"Cerveza\",\"viaje\":\"Estados unidos\",\"musica\":\"Pop latino\\\\/reguet\\\\u00f3n\",\"prioridad_pareja\":\"Fisico\",\"terapia\":\"Busco alguien para desahogarme\",\"nombre\":\"74\"},{\"orientacion\":\"Heterosexual\",\"genero\":\"Hombre\",\"telefono\":1,\"mascota\":\"Perros\",\"signo\":\"Aries\",\"entretenimiento\":\"Libros\",\"pasatiempo\":\"Exterior(Parques, restaurantes, etc.)\",\"personalidad\":\"Introvertido\",\"peliculas\":\"Harry potter\",\"comida\":\"Dulces\",\"loteria\":\"Gastarlo en familia y en ti\",\"bebida\":\"Te\",\"b_alcoholica\":\"Guarapo\",\"viaje\":\"Africa\",\"musica\":\"Pop latino\\\\/reguet\\\\u00f3n\",\"prioridad_pareja\":\"Sentido del humor\",\"terapia\":\"Como mis penas\",\"nombre\":\"75\"},{\"orientacion\":\"Heterosexual\",\"genero\":\"Mujer\",\"telefono\":1,\"mascota\":\"Gatos\",\"signo\":\"Leo\",\"entretenimiento\":\"Videojuegos\",\"pasatiempo\":\"Interior(Cines, en casa, etc.)\",\"personalidad\":\"Extrovertido pero timido\",\"peliculas\":\"Piratas del caribe\",\"comida\":\"Dulces\",\"loteria\":\"Hacer fiestas grandes\",\"bebida\":\"Cafe\",\"b_alcoholica\":\"Cerveza\",\"viaje\":\"Africa\",\"musica\":\"Cumbiones\\\\/Nacional\",\"prioridad_pareja\":\"Fisico\",\"terapia\":\"Busco alguien para desahogarme\",\"nombre\":\"76\"},{\"orientacion\":\"Heterosexual\",\"genero\":\"Hombre\",\"telefono\":1,\"mascota\":\"Perros\",\"signo\":\"Virgo\",\"entretenimiento\":\"Videojuegos\",\"pasatiempo\":\"Exterior(Parques, restaurantes, etc.)\",\"personalidad\":\"Extrovertido pero timido\",\"peliculas\":\"Harry potter\",\"comida\":\"Salado\",\"loteria\":\"Invertirlo\",\"bebida\":\"Te\",\"b_alcoholica\":\"Cerveza\",\"viaje\":\"Asia\",\"musica\":\"Pop latino\\\\/reguet\\\\u00f3n\",\"prioridad_pareja\":\"Dinero\\\\/estatus social\",\"terapia\":\"Vivo con el dolor\",\"nombre\":\"77\"},{\"orientacion\":\"Homosexual\",\"genero\":\"Hombre\",\"telefono\":1,\"mascota\":\"Mucha responsabilidad\",\"signo\":\"Sagitario\",\"entretenimiento\":\"Series\",\"pasatiempo\":\"Exterior(Parques, restaurantes, etc.)\",\"personalidad\":\"Introvertido pero abierto a nuevas experiencias\",\"peliculas\":\"Star wars\",\"comida\":\"No tengo preferencia\",\"loteria\":\"Hacer caridad\",\"bebida\":\"Jugos de fruta\",\"b_alcoholica\":\"No tomo\",\"viaje\":\"Asia\",\"musica\":\"Rock espa\\\\u00f1ol\\\\/ingles\",\"prioridad_pareja\":\"Madurez\",\"terapia\":\"Como mis penas\",\"nombre\":\"78\"},{\"orientacion\":\"Heterosexual\",\"genero\":\"Mujer\",\"telefono\":1,\"mascota\":\"Perros\",\"signo\":\"Sagitario\",\"entretenimiento\":\"Series\",\"pasatiempo\":\"Interior(Cines, en casa, etc.)\",\"personalidad\":\"Introvertido pero abierto a nuevas experiencias\",\"peliculas\":\"Harry potter\",\"comida\":\"Salado\",\"loteria\":\"Hacer caridad\",\"bebida\":\"Te\",\"b_alcoholica\":\"No tomo\",\"viaje\":\"Europa\",\"musica\":\"Cumbiones\\\\/Nacional\",\"prioridad_pareja\":\"Madurez\",\"terapia\":\"Como mis penas\",\"nombre\":\"79\"},{\"orientacion\":\"Heterosexual\",\"genero\":\"Mujer\",\"telefono\":1,\"mascota\":\"Aves\",\"signo\":\"Capricornio\",\"entretenimiento\":\"Series\",\"pasatiempo\":\"Interior(Cines, en casa, etc.)\",\"personalidad\":\"Introvertido pero abierto a nuevas experiencias\",\"peliculas\":\"MCU(Marvel)\",\"comida\":\"Salado\",\"loteria\":\"Hacer caridad\",\"bebida\":\"Agua\",\"b_alcoholica\":\"No tomo\",\"viaje\":\"El caribe\",\"musica\":\"Cumbiones\\\\/Nacional\",\"prioridad_pareja\":\"Madurez\",\"terapia\":\"Busco alguien para desahogarme\",\"nombre\":\"80\"},{\"orientacion\":\"Homosexual\",\"genero\":\"Hombre\",\"telefono\":1,\"mascota\":\"Mucha responsabilidad\",\"signo\":\"Cancer\",\"entretenimiento\":\"Peliculas\",\"pasatiempo\":\"Exterior(Parques, restaurantes, etc.)\",\"personalidad\":\"Extrovertido\",\"peliculas\":\"Star wars\",\"comida\":\"No tengo preferencia\",\"loteria\":\"Hacer fiestas grandes\",\"bebida\":\"Jugos de fruta\",\"b_alcoholica\":\"Vino\",\"viaje\":\"El caribe\",\"musica\":\"Pop latino\\\\/reguet\\\\u00f3n\",\"prioridad_pareja\":\"Fisico\",\"terapia\":\"Ejercicio\",\"nombre\":\"81\"},{\"orientacion\":\"Heterosexual\",\"genero\":\"Mujer\",\"telefono\":1,\"mascota\":\"Gatos\",\"signo\":\"Leo\",\"entretenimiento\":\"Libros\",\"pasatiempo\":\"Interior(Cines, en casa, etc.)\",\"personalidad\":\"Extrovertido pero timido\",\"peliculas\":\"Piratas del caribe\",\"comida\":\"Dulces\",\"loteria\":\"Hacer fiestas grandes\",\"bebida\":\"Cafe\",\"b_alcoholica\":\"Cerveza\",\"viaje\":\"Estados unidos\",\"musica\":\"Pop en ingles\",\"prioridad_pareja\":\"Fisico\",\"terapia\":\"Como mis penas\",\"nombre\":\"82\"},{\"orientacion\":\"Bisexual\",\"genero\":\"Mujer\",\"telefono\":1,\"mascota\":\"Reptiles\",\"signo\":\"Tauro\",\"entretenimiento\":\"Peliculas\",\"pasatiempo\":\"Interior(Cines, en casa, etc.)\",\"personalidad\":\"Extrovertido\",\"peliculas\":\"Distopica juvenil(Juegos del hambre, maze runner, etc)\",\"comida\":\"Ambos juntos\",\"loteria\":\"Viajar por el mundo\",\"bebida\":\"Soda\",\"b_alcoholica\":\"Guarapo\",\"viaje\":\"Europa\",\"musica\":\"Cumbiones\\\\/Nacional\",\"prioridad_pareja\":\"Limpieza\",\"terapia\":\"Como mis penas\",\"nombre\":\"83\"},{\"orientacion\":\"Homosexual\",\"genero\":\"Mujer\",\"telefono\":1,\"mascota\":\"Reptiles\",\"signo\":\"Tauro\",\"entretenimiento\":\"Peliculas\",\"pasatiempo\":\"Interior(Cines, en casa, etc.)\",\"personalidad\":\"Extrovertido\",\"peliculas\":\"Distopica juvenil(Juegos del hambre, maze runner, etc)\",\"comida\":\"No tengo preferencia\",\"loteria\":\"Viajar por el mundo\",\"bebida\":\"Soda\",\"b_alcoholica\":\"Guarapo\",\"viaje\":\"Estados unidos\",\"musica\":\"Cumbiones\\\\/Nacional\",\"prioridad_pareja\":\"Limpieza\",\"terapia\":\"Busco alguien para desahogarme\",\"nombre\":\"84\"},{\"orientacion\":\"Bisexual\",\"genero\":\"Hombre\",\"telefono\":1,\"mascota\":\"Reptiles\",\"signo\":\"Tauro\",\"entretenimiento\":\"Series\",\"pasatiempo\":\"Exterior(Parques, restaurantes, etc.)\",\"personalidad\":\"Extrovertido\",\"peliculas\":\"Distopica juvenil(Juegos del hambre, maze runner, etc)\",\"comida\":\"Ambos juntos\",\"loteria\":\"Viajar por el mundo\",\"bebida\":\"Soda\",\"b_alcoholica\":\"Guarapo\",\"viaje\":\"Estados unidos\",\"musica\":\"Pop latino\\\\/reguet\\\\u00f3n\",\"prioridad_pareja\":\"Limpieza\",\"terapia\":\"Vivo con el dolor\",\"nombre\":\"85\"},{\"orientacion\":\"Heterosexual\",\"genero\":\"Hombre\",\"telefono\":1,\"mascota\":\"Aves\",\"signo\":\"Tauro\",\"entretenimiento\":\"Series\",\"pasatiempo\":\"Exterior(Parques, restaurantes, etc.)\",\"personalidad\":\"Extrovertido\",\"peliculas\":\"MCU(Marvel)\",\"comida\":\"Ambos juntos\",\"loteria\":\"Viajar por el mundo\",\"bebida\":\"Agua\",\"b_alcoholica\":\"Guarapo\",\"viaje\":\"Europa\",\"musica\":\"Rock espa\\\\u00f1ol\\\\/ingles\",\"prioridad_pareja\":\"Limpieza\",\"terapia\":\"Entretenimiento(Peliculas, series, musica)\",\"nombre\":\"86\"},{\"orientacion\":\"Homosexual\",\"genero\":\"Mujer\",\"telefono\":1,\"mascota\":\"Mucha responsabilidad\",\"signo\":\"Libra\",\"entretenimiento\":\"Videojuegos\",\"pasatiempo\":\"Interior(Cines, en casa, etc.)\",\"personalidad\":\"Extrovertido pero timido\",\"peliculas\":\"Star wars\",\"comida\":\"No tengo preferencia\",\"loteria\":\"Invertirlo\",\"bebida\":\"Jugos de fruta\",\"b_alcoholica\":\"Licores dulces(Jagger, 3 plumas, goss cake, etc)\",\"viaje\":\"El caribe\",\"musica\":\"Alternativa\\\\/Indie\",\"prioridad_pareja\":\"Dinero\\\\/estatus social\",\"terapia\":\"Busco alguien para desahogarme\",\"nombre\":\"87\"},{\"orientacion\":\"Heterosexual\",\"genero\":\"Hombre\",\"telefono\":1,\"mascota\":\"Perros\",\"signo\":\"Cancer\",\"entretenimiento\":\"Videojuegos\",\"pasatiempo\":\"Exterior(Parques, restaurantes, etc.)\",\"personalidad\":\"Extrovertido\",\"peliculas\":\"Harry potter\",\"comida\":\"Salado\",\"loteria\":\"Hacer fiestas grandes\",\"bebida\":\"Te\",\"b_alcoholica\":\"Vino\",\"viaje\":\"Asia\",\"musica\":\"Pop latino\\\\/reguet\\\\u00f3n\",\"prioridad_pareja\":\"Fisico\",\"terapia\":\"Entretenimiento(Peliculas, series, musica)\",\"nombre\":\"88\"},{\"orientacion\":\"Heterosexual\",\"genero\":\"Mujer\",\"telefono\":1,\"mascota\":\"Aves\",\"signo\":\"Geminis\",\"entretenimiento\":\"Videojuegos\",\"pasatiempo\":\"Interior(Cines, en casa, etc.)\",\"personalidad\":\"Extrovertido\",\"peliculas\":\"MCU(Marvel)\",\"comida\":\"Ambos juntos\",\"loteria\":\"Viajar por el mundo\",\"bebida\":\"Agua\",\"b_alcoholica\":\"Vino\",\"viaje\":\"Asia\",\"musica\":\"Alternativa\\\\/Indie\",\"prioridad_pareja\":\"Limpieza\",\"terapia\":\"Como mis penas\",\"nombre\":\"89\"},{\"orientacion\":\"Heterosexual\",\"genero\":\"Mujer\",\"telefono\":1,\"mascota\":\"Perros\",\"signo\":\"Sagitario\",\"entretenimiento\":\"Series\",\"pasatiempo\":\"Interior(Cines, en casa, etc.)\",\"personalidad\":\"Introvertido pero abierto a nuevas experiencias\",\"peliculas\":\"Harry potter\",\"comida\":\"Salado\",\"loteria\":\"Hacer caridad\",\"bebida\":\"Te\",\"b_alcoholica\":\"No tomo\",\"viaje\":\"Asia\",\"musica\":\"Cumbiones\\\\/Nacional\",\"prioridad_pareja\":\"Madurez\",\"terapia\":\"Vivo con el dolor\",\"nombre\":\"90\"},{\"orientacion\":\"Heterosexual\",\"genero\":\"Hombre\",\"telefono\":1,\"mascota\":\"Perros\",\"signo\":\"Virgo\",\"entretenimiento\":\"Videojuegos\",\"pasatiempo\":\"Exterior(Parques, restaurantes, etc.)\",\"personalidad\":\"Extrovertido pero timido\",\"peliculas\":\"Harry potter\",\"comida\":\"Salado\",\"loteria\":\"Hacer fiestas grandes\",\"bebida\":\"Te\",\"b_alcoholica\":\"Cerveza\",\"viaje\":\"El caribe\",\"musica\":\"Rock espa\\\\u00f1ol\\\\/ingles\",\"prioridad_pareja\":\"Fisico\",\"terapia\":\"Como mis penas\",\"nombre\":\"91\"},{\"orientacion\":\"Heterosexual\",\"genero\":\"Mujer\",\"telefono\":1,\"mascota\":\"Aves\",\"signo\":\"Capricornio\",\"entretenimiento\":\"Peliculas\",\"pasatiempo\":\"Interior(Cines, en casa, etc.)\",\"personalidad\":\"Introvertido pero abierto a nuevas experiencias\",\"peliculas\":\"MCU(Marvel)\",\"comida\":\"Ambos juntos\",\"loteria\":\"Hacer caridad\",\"bebida\":\"Agua\",\"b_alcoholica\":\"No tomo\",\"viaje\":\"Asia\",\"musica\":\"Cumbiones\\\\/Nacional\",\"prioridad_pareja\":\"Madurez\",\"terapia\":\"Busco alguien para desahogarme\",\"nombre\":\"92\"},{\"orientacion\":\"Homosexual\",\"genero\":\"Hombre\",\"telefono\":1,\"mascota\":\"Mucha responsabilidad\",\"signo\":\"Virgo\",\"entretenimiento\":\"Peliculas\",\"pasatiempo\":\"Exterior(Parques, restaurantes, etc.)\",\"personalidad\":\"Extrovertido pero timido\",\"peliculas\":\"Star wars\",\"comida\":\"No tengo preferencia\",\"loteria\":\"Invertirlo\",\"bebida\":\"Jugos de fruta\",\"b_alcoholica\":\"Cerveza\",\"viaje\":\"Estados unidos\",\"musica\":\"Pop latino\\\\/reguet\\\\u00f3n\",\"prioridad_pareja\":\"Dinero\\\\/estatus social\",\"terapia\":\"Como mis penas\",\"nombre\":\"93\"},{\"orientacion\":\"Heterosexual\",\"genero\":\"Mujer\",\"telefono\":1,\"mascota\":\"Perros\",\"signo\":\"Escorpio\",\"entretenimiento\":\"Videojuegos\",\"pasatiempo\":\"Interior(Cines, en casa, etc.)\",\"personalidad\":\"Introvertido pero abierto a nuevas experiencias\",\"peliculas\":\"Harry potter\",\"comida\":\"Dulces\",\"loteria\":\"Hacer caridad\",\"bebida\":\"Te\",\"b_alcoholica\":\"Licores dulces(Jagger, 3 plumas, goss cake, etc)\",\"viaje\":\"El caribe\",\"musica\":\"Cumbiones\\\\/Nacional\",\"prioridad_pareja\":\"Madurez\",\"terapia\":\"Ejercicio\",\"nombre\":\"94\"},{\"orientacion\":\"Heterosexual\",\"genero\":\"Hombre\",\"telefono\":1,\"mascota\":\"Gatos\",\"signo\":\"Capricornio\",\"entretenimiento\":\"Videojuegos\",\"pasatiempo\":\"Exterior(Parques, restaurantes, etc.)\",\"personalidad\":\"Introvertido pero abierto a nuevas experiencias\",\"peliculas\":\"Piratas del caribe\",\"comida\":\"Dulces\",\"loteria\":\"Hacer caridad\",\"bebida\":\"Cafe\",\"b_alcoholica\":\"No tomo\",\"viaje\":\"Asia\",\"musica\":\"Pop en ingles\",\"prioridad_pareja\":\"Madurez\",\"terapia\":\"Vivo con el dolor\",\"nombre\":\"95\"},{\"orientacion\":\"Heterosexual\",\"genero\":\"Hombre\",\"telefono\":1,\"mascota\":\"Perros\",\"signo\":\"Tauro\",\"entretenimiento\":\"Peliculas\",\"pasatiempo\":\"Exterior(Parques, restaurantes, etc.)\",\"personalidad\":\"Extrovertido\",\"peliculas\":\"Harry potter\",\"comida\":\"Dulces\",\"loteria\":\"Viajar por el mundo\",\"bebida\":\"Te\",\"b_alcoholica\":\"Guarapo\",\"viaje\":\"Asia\",\"musica\":\"Rock espa\\\\u00f1ol\\\\/ingles\",\"prioridad_pareja\":\"Limpieza\",\"terapia\":\"Vivo con el dolor\",\"nombre\":\"96\"}]'"
            ],
            "application/vnd.google.colaboratory.intrinsic+json": {
              "type": "string"
            }
          },
          "metadata": {},
          "execution_count": 81
        }
      ]
    },
    {
      "cell_type": "code",
      "source": [
        "#paid_users"
      ],
      "metadata": {
        "id": "BOZnGhBs16YE"
      },
      "execution_count": 82,
      "outputs": []
    },
    {
      "cell_type": "code",
      "source": [
        "#for index, row in paid_users.iterrows():\n",
        "  #print(row)"
      ],
      "metadata": {
        "id": "OWP5q-J448Sg"
      },
      "execution_count": 83,
      "outputs": []
    },
    {
      "cell_type": "code",
      "source": [
        "json_data = [] # your list with json objects (dicts)\n",
        "\n",
        "with open('users.json') as json_file:\n",
        "   json_data = json.load(json_file)"
      ],
      "metadata": {
        "id": "YuztU7gE5_Oz"
      },
      "execution_count": 84,
      "outputs": []
    },
    {
      "cell_type": "code",
      "source": [
        "for item in json_data:\n",
        "  print(item)\n",
        "    #for data_item in item['data']:"
      ],
      "metadata": {
        "colab": {
          "base_uri": "https://localhost:8080/"
        },
        "id": "vT6tb_8i6yF5",
        "outputId": "4ea64f4e-dba4-42e4-f335-978f6970061d"
      },
      "execution_count": 85,
      "outputs": [
        {
          "output_type": "stream",
          "name": "stdout",
          "text": [
            "{'orientacion': 'Heterosexual', 'genero': 'Hombre', 'telefono': 314159265357278, 'mascota': 'Perros', 'signo': 'Virgo', 'entretenimiento': 'Videojuegos', 'pasatiempo': 'Interior(Cines, en casa, etc.)', 'personalidad': 'Introvertido', 'peliculas': 'MCU(Marvel)', 'comida': 'Dulces', 'loteria': 'Invertirlo', 'bebida': 'Soda', 'b_alcoholica': '(Ron, vodka, Tequila, singani) y sus cocteles', 'viaje': 'Asia', 'musica': 'Rock español/ingles', 'prioridad_pareja': 'Dinero/estatus social', 'terapia': 'Entretenimiento(Peliculas, series, musica)', 'nombre': 'gigachad'}\n",
            "{'orientacion': 'Heterosexual', 'genero': 'Hombre', 'telefono': 68969696, 'mascota': 'Perros', 'signo': 'Libra', 'entretenimiento': 'Videojuegos', 'pasatiempo': 'Interior(Cines, en casa, etc.)', 'personalidad': 'Extrovertido pero timido', 'peliculas': 'MCU(Marvel)', 'comida': 'Dulces', 'loteria': 'Gastarlo en familia y en ti', 'bebida': 'Soda', 'b_alcoholica': 'Cerveza', 'viaje': 'Asia', 'musica': 'Pop en ingles', 'prioridad_pareja': 'Sentido del humor', 'terapia': 'Entretenimiento(Peliculas, series, musica)', 'nombre': 'Nicolas Cari'}\n",
            "{'orientacion': 'Heterosexual', 'genero': 'Hombre', 'telefono': 72849649, 'mascota': 'Perros', 'signo': 'Geminis', 'entretenimiento': 'Peliculas', 'pasatiempo': 'Interior(Cines, en casa, etc.)', 'personalidad': 'Introvertido pero abierto a nuevas experiencias', 'peliculas': 'MCU(Marvel)', 'comida': 'Salado', 'loteria': 'Gastarlo en familia y en ti', 'bebida': 'Cafe', 'b_alcoholica': 'Licores dulces(Jagger, 3 plumas, goss cake, etc)', 'viaje': 'Asia', 'musica': 'Pop latino/reguetón', 'prioridad_pareja': 'Limpieza', 'terapia': 'Ejercicio', 'nombre': 'gabriel balderrama'}\n"
          ]
        }
      ]
    },
    {
      "cell_type": "code",
      "source": [
        "json_data[0]\n",
        "nombrePregunta = [\"mascota\",\"signo\",\"entretenimiento\",\"pasatiempo\",\"personalidad\",\"peliculas\",\"comida\",\"loteria\",\"bebida\",\"b_alcoholica\",\"viaje\", \"musica\",\"prioridad_pareja\",\"terapia\"]\n",
        "json_data[0][nombrePregunta[0]]"
      ],
      "metadata": {
        "colab": {
          "base_uri": "https://localhost:8080/",
          "height": 36
        },
        "id": "GsYXzZlRJU4X",
        "outputId": "71a27f8e-d593-41ac-df3d-13f7bf52ec03"
      },
      "execution_count": 112,
      "outputs": [
        {
          "output_type": "execute_result",
          "data": {
            "text/plain": [
              "'Perros'"
            ],
            "application/vnd.google.colaboratory.intrinsic+json": {
              "type": "string"
            }
          },
          "metadata": {},
          "execution_count": 112
        }
      ]
    },
    {
      "cell_type": "code",
      "source": [
        "def readDataframes():\n",
        "  concatenate_string = ''\n",
        "  numPregunta = 1\n",
        "  dfname = ''\n",
        "  while numPregunta <= 1:\n",
        "    concatenate_string  = 'Pregunta' + str(numPregunta) + '.csv'\n",
        "    dfname = 'df'+ str(numPregunta)\n",
        "    df1 = pd.read_csv('Pregunta1.csv', index_col='col_name')\n",
        "    numPregunta += 1"
      ],
      "metadata": {
        "id": "_EyG5Zva7mia"
      },
      "execution_count": 151,
      "outputs": []
    },
    {
      "cell_type": "code",
      "source": [
        "tot = 0\n",
        "tot = df.loc[[\"Gatos\"],[\"Gatos\"]].squeeze()\n",
        "tot"
      ],
      "metadata": {
        "colab": {
          "base_uri": "https://localhost:8080/"
        },
        "id": "I7ouD36R7m0k",
        "outputId": "18405bbc-9d17-4309-cf4d-bc1725e2bd61"
      },
      "execution_count": 156,
      "outputs": [
        {
          "output_type": "execute_result",
          "data": {
            "text/plain": [
              "10.0"
            ]
          },
          "metadata": {},
          "execution_count": 156
        }
      ]
    },
    {
      "cell_type": "code",
      "source": [
        "def getRespuestaPorPregunta(p1,p2):\n",
        "  numPregunta = 0\n",
        "  tot = 0\n",
        "  concatenate_string = ''\n",
        "  df1 = pd.read_csv('Pregunta1.csv', index_col='col_name')\n",
        "  while numPregunta < 1:\n",
        "    concatenate_string  = 'df' + str(numPregunta+1)\n",
        "    print(concatenate_string)\n",
        "    tot += df1.loc[p1[nombrePregunta[numPregunta]]],[p2[nombrePregunta[numPregunta]]].squeeze()\n",
        "    numPregunta += 1\n",
        "  return tot"
      ],
      "metadata": {
        "id": "tnjfiqZ77nZ_"
      },
      "execution_count": 154,
      "outputs": []
    },
    {
      "cell_type": "code",
      "source": [
        "tot = 0\n",
        "numPregunta = 0 #el numero de pregunta sera menor a la pregunta por 1\n",
        "concatenate_string  = 'df' + str(numPregunta+1)\n",
        "df1 = pd.read_csv('Pregunta1.csv', index_col='col_name')\n",
        "tot += df1.loc[[json_data[0][nombrePregunta[numPregunta]]],[json_data[1][nombrePregunta[numPregunta]]]].squeeze()\n",
        "print(tot)"
      ],
      "metadata": {
        "colab": {
          "base_uri": "https://localhost:8080/"
        },
        "id": "ZwfxGEiEPr5i",
        "outputId": "0b9c4f6a-1cfd-4430-d7a1-631447299e47"
      },
      "execution_count": 169,
      "outputs": [
        {
          "output_type": "stream",
          "name": "stdout",
          "text": [
            "10\n"
          ]
        }
      ]
    },
    {
      "cell_type": "code",
      "source": [
        "readDataframes()\n",
        "print(getRespuestaPorPregunta(json_data[0], json_data[1]))"
      ],
      "metadata": {
        "colab": {
          "base_uri": "https://localhost:8080/",
          "height": 321
        },
        "id": "91PHKFgB7ni-",
        "outputId": "a79e8abf-fb2e-4e83-a047-bb347b5b5e9c"
      },
      "execution_count": 155,
      "outputs": [
        {
          "output_type": "stream",
          "name": "stdout",
          "text": [
            "df1\n"
          ]
        },
        {
          "output_type": "error",
          "ename": "AttributeError",
          "evalue": "ignored",
          "traceback": [
            "\u001b[0;31m---------------------------------------------------------------------------\u001b[0m",
            "\u001b[0;31mAttributeError\u001b[0m                            Traceback (most recent call last)",
            "\u001b[0;32m<ipython-input-155-282a32751d08>\u001b[0m in \u001b[0;36m<module>\u001b[0;34m\u001b[0m\n\u001b[1;32m      1\u001b[0m \u001b[0mreadDataframes\u001b[0m\u001b[0;34m(\u001b[0m\u001b[0;34m)\u001b[0m\u001b[0;34m\u001b[0m\u001b[0;34m\u001b[0m\u001b[0m\n\u001b[0;32m----> 2\u001b[0;31m \u001b[0mprint\u001b[0m\u001b[0;34m(\u001b[0m\u001b[0mgetRespuestaPorPregunta\u001b[0m\u001b[0;34m(\u001b[0m\u001b[0mjson_data\u001b[0m\u001b[0;34m[\u001b[0m\u001b[0;36m0\u001b[0m\u001b[0;34m]\u001b[0m\u001b[0;34m,\u001b[0m \u001b[0mjson_data\u001b[0m\u001b[0;34m[\u001b[0m\u001b[0;36m1\u001b[0m\u001b[0;34m]\u001b[0m\u001b[0;34m)\u001b[0m\u001b[0;34m)\u001b[0m\u001b[0;34m\u001b[0m\u001b[0;34m\u001b[0m\u001b[0m\n\u001b[0m",
            "\u001b[0;32m<ipython-input-154-e8c99e9a7633>\u001b[0m in \u001b[0;36mgetRespuestaPorPregunta\u001b[0;34m(p1, p2)\u001b[0m\n\u001b[1;32m      7\u001b[0m     \u001b[0mconcatenate_string\u001b[0m  \u001b[0;34m=\u001b[0m \u001b[0;34m'df'\u001b[0m \u001b[0;34m+\u001b[0m \u001b[0mstr\u001b[0m\u001b[0;34m(\u001b[0m\u001b[0mnumPregunta\u001b[0m\u001b[0;34m+\u001b[0m\u001b[0;36m1\u001b[0m\u001b[0;34m)\u001b[0m\u001b[0;34m\u001b[0m\u001b[0;34m\u001b[0m\u001b[0m\n\u001b[1;32m      8\u001b[0m     \u001b[0mprint\u001b[0m\u001b[0;34m(\u001b[0m\u001b[0mconcatenate_string\u001b[0m\u001b[0;34m)\u001b[0m\u001b[0;34m\u001b[0m\u001b[0;34m\u001b[0m\u001b[0m\n\u001b[0;32m----> 9\u001b[0;31m     \u001b[0mtot\u001b[0m \u001b[0;34m+=\u001b[0m \u001b[0mdf1\u001b[0m\u001b[0;34m.\u001b[0m\u001b[0mloc\u001b[0m\u001b[0;34m[\u001b[0m\u001b[0mp1\u001b[0m\u001b[0;34m[\u001b[0m\u001b[0mnombrePregunta\u001b[0m\u001b[0;34m[\u001b[0m\u001b[0mnumPregunta\u001b[0m\u001b[0;34m]\u001b[0m\u001b[0;34m]\u001b[0m\u001b[0;34m]\u001b[0m\u001b[0;34m,\u001b[0m\u001b[0;34m[\u001b[0m\u001b[0mp2\u001b[0m\u001b[0;34m[\u001b[0m\u001b[0mnombrePregunta\u001b[0m\u001b[0;34m[\u001b[0m\u001b[0mnumPregunta\u001b[0m\u001b[0;34m]\u001b[0m\u001b[0;34m]\u001b[0m\u001b[0;34m]\u001b[0m\u001b[0;34m.\u001b[0m\u001b[0msqueeze\u001b[0m\u001b[0;34m(\u001b[0m\u001b[0;34m)\u001b[0m\u001b[0;34m\u001b[0m\u001b[0;34m\u001b[0m\u001b[0m\n\u001b[0m\u001b[1;32m     10\u001b[0m     \u001b[0mnumPregunta\u001b[0m \u001b[0;34m+=\u001b[0m \u001b[0;36m1\u001b[0m\u001b[0;34m\u001b[0m\u001b[0;34m\u001b[0m\u001b[0m\n\u001b[1;32m     11\u001b[0m   \u001b[0;32mreturn\u001b[0m \u001b[0mtot\u001b[0m\u001b[0;34m\u001b[0m\u001b[0;34m\u001b[0m\u001b[0m\n",
            "\u001b[0;31mAttributeError\u001b[0m: 'list' object has no attribute 'squeeze'"
          ]
        }
      ]
    },
    {
      "cell_type": "code",
      "source": [],
      "metadata": {
        "id": "R-omtx9I7nsH"
      },
      "execution_count": 88,
      "outputs": []
    },
    {
      "cell_type": "code",
      "source": [],
      "metadata": {
        "id": "fHwvxlkz7n06"
      },
      "execution_count": 88,
      "outputs": []
    },
    {
      "cell_type": "code",
      "source": [],
      "metadata": {
        "id": "8NtPl_kv7n9F"
      },
      "execution_count": 88,
      "outputs": []
    },
    {
      "cell_type": "code",
      "source": [],
      "metadata": {
        "id": "vHDB4rlk7oFX"
      },
      "execution_count": 88,
      "outputs": []
    }
  ]
}